{
 "cells": [
  {
   "cell_type": "markdown",
   "metadata": {},
   "source": [
    "# Attention Walmart Shoppers\n",
    "### A Walmart retail analysis"
   ]
  },
  {
   "cell_type": "markdown",
   "metadata": {},
   "source": [
    "The data was originally retrieved from:\n",
    " -   https://www.kaggle.com/rutuspatel/retail-analysis-with-walmart-sales-data\n",
    " - https://www.kaggle.com/c/walmart-recruiting-store-sales-forecasting/data"
   ]
  },
  {
   "cell_type": "markdown",
   "metadata": {},
   "source": [
    "### Data Dictionary\n",
    "\n",
    "| Target                  |  Data Type       | Description                     |\n",
    "|-------------------------|------------------|---------------------------------|\n",
    "| next_week_sales_target  |   float64        | Sales in USD per week by store  |\n",
    "\n",
    "\n",
    "| Column Name             |  Data Type        | Description                                                     |  \n",
    "|:------------------------|:------------------|:----------------------------------------------------------------|\n",
    "| store_id                |   int64           | unique identifier for store  (1-45)                             |\n",
    "| Temperature             |   float64         | temperature in Farenheight                                      |\n",
    "| Fuel_Price              |   float64         | cost of fuel(in USD) in region                                  | \n",
    "| CPI                     |   float64         | Prevailing consumer price index, cost of goods                  |\n",
    "| this_week_date          |   datetime64[ns]  | date for current week                                           |\n",
    "| this_week_sales         |   float64         | sales in USD for current week                                   |     \n",
    "| this_week_holiday_flag  |   int64           | indicator of a Holiday for current week (boolean)               |\n",
    "| this_week_unemployment  |   float64         | unemployment rate for current week                              |     \n",
    "| store_type              |   object          | A: SuperStore, B: Walmart, C: neighborhood Walmart              |\n",
    "| store_size              |   int64           | size of specific location in sqft                               |\n",
    "| next_week_1_year_ago    |   float64         | sales for following week of previous year (51 weeks ago)        |\n",
    "| next_week_date          |   datetime64[ns]  | the date of the following week                                  |\n",
    "| next_week_holiday_flag  |   float64         | indicator of a Holiday for following week (boolean)             |\n",
    "| next_week_holiday_name  |   object          | name of holiday for following week                              |  \n",
    "| christmas               |   uint8           | indicator of Christmas (boolean)                                |     \n",
    "| labor_day               |   uint8           | indicator of labor day (boolean)                                |    \n",
    "| pre_christmas           |   uint8           | indicator of pre-christmas: 2 weeks prior to christmas (boolean)|     \n",
    "| super_bowl              |   uint8           | indicator of super bowl (boolean)                               |     \n",
    "| thanksgiving            |   uint8           | indicator of Thanksgiving (boolean)                             |"
   ]
  },
  {
   "cell_type": "markdown",
   "metadata": {},
   "source": [
    "## Goal:\n",
    "- to predict weekly sales price for a store"
   ]
  },
  {
   "cell_type": "markdown",
   "metadata": {},
   "source": [
    "## Think about...\n",
    "- What is your goal?\n",
    "- what is your TARGET? drivers for that target?\n",
    "- what is one oberservation? what does one row from your dataset represent?"
   ]
  },
  {
   "cell_type": "markdown",
   "metadata": {},
   "source": [
    "## Daily meetings\n",
    "- standup doc\n",
    "- shared knowledge doc\n",
    "\n",
    "### Three important Questions\n",
    "- what did you work on since we last talked?\n",
    "- what are you planning on working on next?\n",
    "- what are your blockers?"
   ]
  },
  {
   "cell_type": "code",
   "execution_count": 1,
   "metadata": {},
   "outputs": [],
   "source": [
    "import pandas as pd\n",
    "import numpy as np\n",
    "\n",
    "#visualization\n",
    "import matplotlib.pyplot as plt\n",
    "import seaborn as sns\n",
    "\n",
    "#math\n",
    "from scipy import stats\n",
    "import math\n",
    "\n",
    "#sklearn\n",
    "from sklearn.model_selection import train_test_split\n",
    "from sklearn.impute import SimpleImputer\n",
    "from sklearn.preprocessing import MinMaxScaler, StandardScaler, RobustScaler\n",
    "from sklearn.feature_selection import RFE, SelectKBest, f_regression\n",
    "from sklearn.linear_model import LinearRegression, LassoLars, TweedieRegressor\n",
    "from sklearn.preprocessing import PolynomialFeatures\n",
    "from sklearn.cluster import KMeans\n",
    "from sklearn.metrics import mean_squared_error, explained_variance_score\n",
    "\n",
    "#custom modules\n",
    "import new_wrangle as w\n",
    "\n",
    "#remove warnings\n",
    "import warnings\n",
    "warnings.filterwarnings(\"ignore\")"
   ]
  },
  {
   "cell_type": "markdown",
   "metadata": {},
   "source": [
    "<hr style=\"border:2px solid black\"> </hr>"
   ]
  },
  {
   "cell_type": "markdown",
   "metadata": {},
   "source": [
    "# Acquire"
   ]
  },
  {
   "cell_type": "code",
   "execution_count": 2,
   "metadata": {},
   "outputs": [],
   "source": [
    "#bring in walmart data using new_wrangle.py\n",
    "df= w.acquire_data()"
   ]
  },
  {
   "cell_type": "code",
   "execution_count": 3,
   "metadata": {},
   "outputs": [
    {
     "data": {
      "text/html": [
       "<div>\n",
       "<style scoped>\n",
       "    .dataframe tbody tr th:only-of-type {\n",
       "        vertical-align: middle;\n",
       "    }\n",
       "\n",
       "    .dataframe tbody tr th {\n",
       "        vertical-align: top;\n",
       "    }\n",
       "\n",
       "    .dataframe thead th {\n",
       "        text-align: right;\n",
       "    }\n",
       "</style>\n",
       "<table border=\"1\" class=\"dataframe\">\n",
       "  <thead>\n",
       "    <tr style=\"text-align: right;\">\n",
       "      <th></th>\n",
       "      <th>Store</th>\n",
       "      <th>Date</th>\n",
       "      <th>Weekly_Sales</th>\n",
       "      <th>Holiday_Flag</th>\n",
       "      <th>Temperature</th>\n",
       "      <th>Fuel_Price</th>\n",
       "      <th>CPI</th>\n",
       "      <th>Unemployment</th>\n",
       "      <th>Type</th>\n",
       "      <th>Size</th>\n",
       "    </tr>\n",
       "  </thead>\n",
       "  <tbody>\n",
       "    <tr>\n",
       "      <th>0</th>\n",
       "      <td>1</td>\n",
       "      <td>05-02-2010</td>\n",
       "      <td>1643690.90</td>\n",
       "      <td>0</td>\n",
       "      <td>42.31</td>\n",
       "      <td>2.572</td>\n",
       "      <td>211.096358</td>\n",
       "      <td>8.106</td>\n",
       "      <td>A</td>\n",
       "      <td>151315</td>\n",
       "    </tr>\n",
       "    <tr>\n",
       "      <th>1</th>\n",
       "      <td>1</td>\n",
       "      <td>12-02-2010</td>\n",
       "      <td>1641957.44</td>\n",
       "      <td>1</td>\n",
       "      <td>38.51</td>\n",
       "      <td>2.548</td>\n",
       "      <td>211.242170</td>\n",
       "      <td>8.106</td>\n",
       "      <td>A</td>\n",
       "      <td>151315</td>\n",
       "    </tr>\n",
       "    <tr>\n",
       "      <th>2</th>\n",
       "      <td>1</td>\n",
       "      <td>19-02-2010</td>\n",
       "      <td>1611968.17</td>\n",
       "      <td>0</td>\n",
       "      <td>39.93</td>\n",
       "      <td>2.514</td>\n",
       "      <td>211.289143</td>\n",
       "      <td>8.106</td>\n",
       "      <td>A</td>\n",
       "      <td>151315</td>\n",
       "    </tr>\n",
       "    <tr>\n",
       "      <th>3</th>\n",
       "      <td>1</td>\n",
       "      <td>26-02-2010</td>\n",
       "      <td>1409727.59</td>\n",
       "      <td>0</td>\n",
       "      <td>46.63</td>\n",
       "      <td>2.561</td>\n",
       "      <td>211.319643</td>\n",
       "      <td>8.106</td>\n",
       "      <td>A</td>\n",
       "      <td>151315</td>\n",
       "    </tr>\n",
       "    <tr>\n",
       "      <th>4</th>\n",
       "      <td>1</td>\n",
       "      <td>05-03-2010</td>\n",
       "      <td>1554806.68</td>\n",
       "      <td>0</td>\n",
       "      <td>46.50</td>\n",
       "      <td>2.625</td>\n",
       "      <td>211.350143</td>\n",
       "      <td>8.106</td>\n",
       "      <td>A</td>\n",
       "      <td>151315</td>\n",
       "    </tr>\n",
       "  </tbody>\n",
       "</table>\n",
       "</div>"
      ],
      "text/plain": [
       "   Store        Date  Weekly_Sales  Holiday_Flag  Temperature  Fuel_Price  \\\n",
       "0      1  05-02-2010    1643690.90             0        42.31       2.572   \n",
       "1      1  12-02-2010    1641957.44             1        38.51       2.548   \n",
       "2      1  19-02-2010    1611968.17             0        39.93       2.514   \n",
       "3      1  26-02-2010    1409727.59             0        46.63       2.561   \n",
       "4      1  05-03-2010    1554806.68             0        46.50       2.625   \n",
       "\n",
       "          CPI  Unemployment Type    Size  \n",
       "0  211.096358         8.106    A  151315  \n",
       "1  211.242170         8.106    A  151315  \n",
       "2  211.289143         8.106    A  151315  \n",
       "3  211.319643         8.106    A  151315  \n",
       "4  211.350143         8.106    A  151315  "
      ]
     },
     "execution_count": 3,
     "metadata": {},
     "output_type": "execute_result"
    }
   ],
   "source": [
    "#take a look\n",
    "df.head()"
   ]
  },
  {
   "cell_type": "code",
   "execution_count": 4,
   "metadata": {},
   "outputs": [
    {
     "name": "stdout",
     "output_type": "stream",
     "text": [
      "<class 'pandas.core.frame.DataFrame'>\n",
      "Int64Index: 6435 entries, 0 to 6434\n",
      "Data columns (total 10 columns):\n",
      " #   Column        Non-Null Count  Dtype  \n",
      "---  ------        --------------  -----  \n",
      " 0   Store         6435 non-null   int64  \n",
      " 1   Date          6435 non-null   object \n",
      " 2   Weekly_Sales  6435 non-null   float64\n",
      " 3   Holiday_Flag  6435 non-null   int64  \n",
      " 4   Temperature   6435 non-null   float64\n",
      " 5   Fuel_Price    6435 non-null   float64\n",
      " 6   CPI           6435 non-null   float64\n",
      " 7   Unemployment  6435 non-null   float64\n",
      " 8   Type          6435 non-null   object \n",
      " 9   Size          6435 non-null   int64  \n",
      "dtypes: float64(5), int64(3), object(2)\n",
      "memory usage: 553.0+ KB\n"
     ]
    }
   ],
   "source": [
    "#check for nulls, dtypes\n",
    "df.info()"
   ]
  },
  {
   "cell_type": "markdown",
   "metadata": {},
   "source": [
    "<hr style=\"border:2px solid black\"> </hr>"
   ]
  },
  {
   "cell_type": "markdown",
   "metadata": {},
   "source": [
    "# Prepare"
   ]
  },
  {
   "cell_type": "code",
   "execution_count": 5,
   "metadata": {},
   "outputs": [],
   "source": [
    "#import the cleaned data using new_wrangle.py\n",
    "df= w.wrangle_walmart()"
   ]
  },
  {
   "cell_type": "code",
   "execution_count": 6,
   "metadata": {},
   "outputs": [
    {
     "name": "stdout",
     "output_type": "stream",
     "text": [
      "<class 'pandas.core.frame.DataFrame'>\n",
      "Index: 6435 entries, 2010-02-05_store_1_2010-02-12 to 2012-10-26_store_45_nan\n",
      "Data columns (total 34 columns):\n",
      " #   Column                   Non-Null Count  Dtype         \n",
      "---  ------                   --------------  -----         \n",
      " 0   store_id                 6435 non-null   object        \n",
      " 1   this_week_date           6435 non-null   datetime64[ns]\n",
      " 2   this_week_sales          6435 non-null   float64       \n",
      " 3   this_week_holiday_flag   6435 non-null   int64         \n",
      " 4   temperature              6435 non-null   int64         \n",
      " 5   fuel_price               6435 non-null   float64       \n",
      " 6   CPI                      6435 non-null   float64       \n",
      " 7   this_week_unemployment   6435 non-null   float64       \n",
      " 8   store_type               6435 non-null   object        \n",
      " 9   store_size               6435 non-null   int64         \n",
      " 10  next_week_1_year_ago     4140 non-null   float64       \n",
      " 11  next_week_sales_target   6390 non-null   float64       \n",
      " 12  next_week_date           6390 non-null   datetime64[ns]\n",
      " 13  next_week_holiday_flag   6390 non-null   float64       \n",
      " 14  next_week_season         4095 non-null   object        \n",
      " 15  this_week_season         4095 non-null   object        \n",
      " 16  next_week_holiday_name   6435 non-null   object        \n",
      " 17  christmas                6435 non-null   uint8         \n",
      " 18  labor_day                6435 non-null   uint8         \n",
      " 19  pre_christmas            6435 non-null   uint8         \n",
      " 20  super_bowl               6435 non-null   uint8         \n",
      " 21  thanksgiving             6435 non-null   uint8         \n",
      " 22  fuel_4wk_rolling         6432 non-null   float64       \n",
      " 23  cpi_4wk_rolling          6432 non-null   float64       \n",
      " 24  unemp_4wk_rolling        6432 non-null   float64       \n",
      " 25  avgMoM_perc_fuel         6428 non-null   float64       \n",
      " 26  avgMoM_perc_cpi          6428 non-null   float64       \n",
      " 27  avgMoM_perc_unemp        6428 non-null   float64       \n",
      " 28  fuel_quarterly_rolling   6424 non-null   float64       \n",
      " 29  cpi_quarterly_rolling    6424 non-null   float64       \n",
      " 30  unemp_quarterly_rolling  6424 non-null   float64       \n",
      " 31  avgQoQ_perc_fuel         6412 non-null   float64       \n",
      " 32  avgQoQ_perc_cpi          6412 non-null   float64       \n",
      " 33  avgQoQ_perc_unemp        6412 non-null   float64       \n",
      "dtypes: datetime64[ns](2), float64(19), int64(3), object(5), uint8(5)\n",
      "memory usage: 1.5+ MB\n"
     ]
    }
   ],
   "source": [
    "#make sure that all columns are created\n",
    "df.info()"
   ]
  },
  {
   "cell_type": "code",
   "execution_count": 7,
   "metadata": {},
   "outputs": [
    {
     "data": {
      "text/html": [
       "<div>\n",
       "<style scoped>\n",
       "    .dataframe tbody tr th:only-of-type {\n",
       "        vertical-align: middle;\n",
       "    }\n",
       "\n",
       "    .dataframe tbody tr th {\n",
       "        vertical-align: top;\n",
       "    }\n",
       "\n",
       "    .dataframe thead th {\n",
       "        text-align: right;\n",
       "    }\n",
       "</style>\n",
       "<table border=\"1\" class=\"dataframe\">\n",
       "  <thead>\n",
       "    <tr style=\"text-align: right;\">\n",
       "      <th>id</th>\n",
       "      <th>2012-09-28_store_45_2012-10-05</th>\n",
       "      <th>2012-10-05_store_45_2012-10-12</th>\n",
       "      <th>2012-10-12_store_45_2012-10-19</th>\n",
       "      <th>2012-10-19_store_45_2012-10-26</th>\n",
       "      <th>2012-10-26_store_45_nan</th>\n",
       "    </tr>\n",
       "  </thead>\n",
       "  <tbody>\n",
       "    <tr>\n",
       "      <th>store_id</th>\n",
       "      <td>45</td>\n",
       "      <td>45</td>\n",
       "      <td>45</td>\n",
       "      <td>45</td>\n",
       "      <td>45</td>\n",
       "    </tr>\n",
       "    <tr>\n",
       "      <th>this_week_date</th>\n",
       "      <td>2012-09-28 00:00:00</td>\n",
       "      <td>2012-10-05 00:00:00</td>\n",
       "      <td>2012-10-12 00:00:00</td>\n",
       "      <td>2012-10-19 00:00:00</td>\n",
       "      <td>2012-10-26 00:00:00</td>\n",
       "    </tr>\n",
       "    <tr>\n",
       "      <th>this_week_sales</th>\n",
       "      <td>713174</td>\n",
       "      <td>733455</td>\n",
       "      <td>734464</td>\n",
       "      <td>718126</td>\n",
       "      <td>760281</td>\n",
       "    </tr>\n",
       "    <tr>\n",
       "      <th>this_week_holiday_flag</th>\n",
       "      <td>0</td>\n",
       "      <td>0</td>\n",
       "      <td>0</td>\n",
       "      <td>0</td>\n",
       "      <td>0</td>\n",
       "    </tr>\n",
       "    <tr>\n",
       "      <th>temperature</th>\n",
       "      <td>64</td>\n",
       "      <td>64</td>\n",
       "      <td>54</td>\n",
       "      <td>56</td>\n",
       "      <td>58</td>\n",
       "    </tr>\n",
       "    <tr>\n",
       "      <th>fuel_price</th>\n",
       "      <td>4</td>\n",
       "      <td>3.98</td>\n",
       "      <td>4</td>\n",
       "      <td>3.97</td>\n",
       "      <td>3.88</td>\n",
       "    </tr>\n",
       "    <tr>\n",
       "      <th>CPI</th>\n",
       "      <td>192.014</td>\n",
       "      <td>192.17</td>\n",
       "      <td>192.327</td>\n",
       "      <td>192.331</td>\n",
       "      <td>192.309</td>\n",
       "    </tr>\n",
       "    <tr>\n",
       "      <th>this_week_unemployment</th>\n",
       "      <td>8.684</td>\n",
       "      <td>8.667</td>\n",
       "      <td>8.667</td>\n",
       "      <td>8.667</td>\n",
       "      <td>8.667</td>\n",
       "    </tr>\n",
       "    <tr>\n",
       "      <th>store_type</th>\n",
       "      <td>B</td>\n",
       "      <td>B</td>\n",
       "      <td>B</td>\n",
       "      <td>B</td>\n",
       "      <td>B</td>\n",
       "    </tr>\n",
       "    <tr>\n",
       "      <th>store_size</th>\n",
       "      <td>118221</td>\n",
       "      <td>118221</td>\n",
       "      <td>118221</td>\n",
       "      <td>118221</td>\n",
       "      <td>118221</td>\n",
       "    </tr>\n",
       "    <tr>\n",
       "      <th>next_week_1_year_ago</th>\n",
       "      <td>753447</td>\n",
       "      <td>720947</td>\n",
       "      <td>771686</td>\n",
       "      <td>781695</td>\n",
       "      <td>833429</td>\n",
       "    </tr>\n",
       "    <tr>\n",
       "      <th>next_week_sales_target</th>\n",
       "      <td>733455</td>\n",
       "      <td>734464</td>\n",
       "      <td>718126</td>\n",
       "      <td>760281</td>\n",
       "      <td>NaN</td>\n",
       "    </tr>\n",
       "    <tr>\n",
       "      <th>next_week_date</th>\n",
       "      <td>2012-10-05 00:00:00</td>\n",
       "      <td>2012-10-12 00:00:00</td>\n",
       "      <td>2012-10-19 00:00:00</td>\n",
       "      <td>2012-10-26 00:00:00</td>\n",
       "      <td>NaT</td>\n",
       "    </tr>\n",
       "    <tr>\n",
       "      <th>next_week_holiday_flag</th>\n",
       "      <td>0</td>\n",
       "      <td>0</td>\n",
       "      <td>0</td>\n",
       "      <td>0</td>\n",
       "      <td>NaN</td>\n",
       "    </tr>\n",
       "    <tr>\n",
       "      <th>next_week_season</th>\n",
       "      <td>fall</td>\n",
       "      <td>fall</td>\n",
       "      <td>fall</td>\n",
       "      <td>fall</td>\n",
       "      <td>NaN</td>\n",
       "    </tr>\n",
       "    <tr>\n",
       "      <th>this_week_season</th>\n",
       "      <td>fall</td>\n",
       "      <td>fall</td>\n",
       "      <td>fall</td>\n",
       "      <td>fall</td>\n",
       "      <td>NaN</td>\n",
       "    </tr>\n",
       "    <tr>\n",
       "      <th>next_week_holiday_name</th>\n",
       "      <td>no_holiday</td>\n",
       "      <td>no_holiday</td>\n",
       "      <td>no_holiday</td>\n",
       "      <td>no_holiday</td>\n",
       "      <td>no_holiday</td>\n",
       "    </tr>\n",
       "    <tr>\n",
       "      <th>christmas</th>\n",
       "      <td>0</td>\n",
       "      <td>0</td>\n",
       "      <td>0</td>\n",
       "      <td>0</td>\n",
       "      <td>0</td>\n",
       "    </tr>\n",
       "    <tr>\n",
       "      <th>labor_day</th>\n",
       "      <td>0</td>\n",
       "      <td>0</td>\n",
       "      <td>0</td>\n",
       "      <td>0</td>\n",
       "      <td>0</td>\n",
       "    </tr>\n",
       "    <tr>\n",
       "      <th>pre_christmas</th>\n",
       "      <td>0</td>\n",
       "      <td>0</td>\n",
       "      <td>0</td>\n",
       "      <td>0</td>\n",
       "      <td>0</td>\n",
       "    </tr>\n",
       "    <tr>\n",
       "      <th>super_bowl</th>\n",
       "      <td>0</td>\n",
       "      <td>0</td>\n",
       "      <td>0</td>\n",
       "      <td>0</td>\n",
       "      <td>0</td>\n",
       "    </tr>\n",
       "    <tr>\n",
       "      <th>thanksgiving</th>\n",
       "      <td>0</td>\n",
       "      <td>0</td>\n",
       "      <td>0</td>\n",
       "      <td>0</td>\n",
       "      <td>0</td>\n",
       "    </tr>\n",
       "    <tr>\n",
       "      <th>fuel_4wk_rolling</th>\n",
       "      <td>3.975</td>\n",
       "      <td>3.9925</td>\n",
       "      <td>4.005</td>\n",
       "      <td>3.9875</td>\n",
       "      <td>3.9575</td>\n",
       "    </tr>\n",
       "    <tr>\n",
       "      <th>cpi_4wk_rolling</th>\n",
       "      <td>191.787</td>\n",
       "      <td>191.935</td>\n",
       "      <td>192.092</td>\n",
       "      <td>192.21</td>\n",
       "      <td>192.284</td>\n",
       "    </tr>\n",
       "    <tr>\n",
       "      <th>unemp_4wk_rolling</th>\n",
       "      <td>8.684</td>\n",
       "      <td>8.67975</td>\n",
       "      <td>8.6755</td>\n",
       "      <td>8.67125</td>\n",
       "      <td>8.667</td>\n",
       "    </tr>\n",
       "    <tr>\n",
       "      <th>avgMoM_perc_fuel</th>\n",
       "      <td>0.0439921</td>\n",
       "      <td>0.035668</td>\n",
       "      <td>0.029563</td>\n",
       "      <td>0.0114141</td>\n",
       "      <td>-0.00440252</td>\n",
       "    </tr>\n",
       "    <tr>\n",
       "      <th>avgMoM_perc_cpi</th>\n",
       "      <td>0.00255098</td>\n",
       "      <td>0.00278078</td>\n",
       "      <td>0.0029814</td>\n",
       "      <td>0.00292984</td>\n",
       "      <td>0.00259141</td>\n",
       "    </tr>\n",
       "    <tr>\n",
       "      <th>avgMoM_perc_unemp</th>\n",
       "      <td>0</td>\n",
       "      <td>-0.000489406</td>\n",
       "      <td>-0.000978812</td>\n",
       "      <td>-0.00146822</td>\n",
       "      <td>-0.00195762</td>\n",
       "    </tr>\n",
       "    <tr>\n",
       "      <th>fuel_quarterly_rolling</th>\n",
       "      <td>3.79333</td>\n",
       "      <td>3.83167</td>\n",
       "      <td>3.8675</td>\n",
       "      <td>3.89417</td>\n",
       "      <td>3.91333</td>\n",
       "    </tr>\n",
       "    <tr>\n",
       "      <th>cpi_quarterly_rolling</th>\n",
       "      <td>191.418</td>\n",
       "      <td>191.501</td>\n",
       "      <td>191.598</td>\n",
       "      <td>191.695</td>\n",
       "      <td>191.79</td>\n",
       "    </tr>\n",
       "    <tr>\n",
       "      <th>unemp_quarterly_rolling</th>\n",
       "      <td>8.684</td>\n",
       "      <td>8.68258</td>\n",
       "      <td>8.68117</td>\n",
       "      <td>8.67975</td>\n",
       "      <td>8.67833</td>\n",
       "    </tr>\n",
       "    <tr>\n",
       "      <th>avgQoQ_perc_fuel</th>\n",
       "      <td>0.00886525</td>\n",
       "      <td>0.0307106</td>\n",
       "      <td>0.0504753</td>\n",
       "      <td>0.0649499</td>\n",
       "      <td>0.076077</td>\n",
       "    </tr>\n",
       "    <tr>\n",
       "      <th>avgQoQ_perc_cpi</th>\n",
       "      <td>0.00221647</td>\n",
       "      <td>0.00249794</td>\n",
       "      <td>0.00287317</td>\n",
       "      <td>0.00327456</td>\n",
       "      <td>0.00369164</td>\n",
       "    </tr>\n",
       "    <tr>\n",
       "      <th>avgQoQ_perc_unemp</th>\n",
       "      <td>0.0125047</td>\n",
       "      <td>0.01119</td>\n",
       "      <td>0.00987834</td>\n",
       "      <td>0.0085696</td>\n",
       "      <td>0.00726383</td>\n",
       "    </tr>\n",
       "  </tbody>\n",
       "</table>\n",
       "</div>"
      ],
      "text/plain": [
       "id                      2012-09-28_store_45_2012-10-05  \\\n",
       "store_id                                            45   \n",
       "this_week_date                     2012-09-28 00:00:00   \n",
       "this_week_sales                                 713174   \n",
       "this_week_holiday_flag                               0   \n",
       "temperature                                         64   \n",
       "fuel_price                                           4   \n",
       "CPI                                            192.014   \n",
       "this_week_unemployment                           8.684   \n",
       "store_type                                           B   \n",
       "store_size                                      118221   \n",
       "next_week_1_year_ago                            753447   \n",
       "next_week_sales_target                          733455   \n",
       "next_week_date                     2012-10-05 00:00:00   \n",
       "next_week_holiday_flag                               0   \n",
       "next_week_season                                  fall   \n",
       "this_week_season                                  fall   \n",
       "next_week_holiday_name                      no_holiday   \n",
       "christmas                                            0   \n",
       "labor_day                                            0   \n",
       "pre_christmas                                        0   \n",
       "super_bowl                                           0   \n",
       "thanksgiving                                         0   \n",
       "fuel_4wk_rolling                                 3.975   \n",
       "cpi_4wk_rolling                                191.787   \n",
       "unemp_4wk_rolling                                8.684   \n",
       "avgMoM_perc_fuel                             0.0439921   \n",
       "avgMoM_perc_cpi                             0.00255098   \n",
       "avgMoM_perc_unemp                                    0   \n",
       "fuel_quarterly_rolling                         3.79333   \n",
       "cpi_quarterly_rolling                          191.418   \n",
       "unemp_quarterly_rolling                          8.684   \n",
       "avgQoQ_perc_fuel                            0.00886525   \n",
       "avgQoQ_perc_cpi                             0.00221647   \n",
       "avgQoQ_perc_unemp                            0.0125047   \n",
       "\n",
       "id                      2012-10-05_store_45_2012-10-12  \\\n",
       "store_id                                            45   \n",
       "this_week_date                     2012-10-05 00:00:00   \n",
       "this_week_sales                                 733455   \n",
       "this_week_holiday_flag                               0   \n",
       "temperature                                         64   \n",
       "fuel_price                                        3.98   \n",
       "CPI                                             192.17   \n",
       "this_week_unemployment                           8.667   \n",
       "store_type                                           B   \n",
       "store_size                                      118221   \n",
       "next_week_1_year_ago                            720947   \n",
       "next_week_sales_target                          734464   \n",
       "next_week_date                     2012-10-12 00:00:00   \n",
       "next_week_holiday_flag                               0   \n",
       "next_week_season                                  fall   \n",
       "this_week_season                                  fall   \n",
       "next_week_holiday_name                      no_holiday   \n",
       "christmas                                            0   \n",
       "labor_day                                            0   \n",
       "pre_christmas                                        0   \n",
       "super_bowl                                           0   \n",
       "thanksgiving                                         0   \n",
       "fuel_4wk_rolling                                3.9925   \n",
       "cpi_4wk_rolling                                191.935   \n",
       "unemp_4wk_rolling                              8.67975   \n",
       "avgMoM_perc_fuel                              0.035668   \n",
       "avgMoM_perc_cpi                             0.00278078   \n",
       "avgMoM_perc_unemp                         -0.000489406   \n",
       "fuel_quarterly_rolling                         3.83167   \n",
       "cpi_quarterly_rolling                          191.501   \n",
       "unemp_quarterly_rolling                        8.68258   \n",
       "avgQoQ_perc_fuel                             0.0307106   \n",
       "avgQoQ_perc_cpi                             0.00249794   \n",
       "avgQoQ_perc_unemp                              0.01119   \n",
       "\n",
       "id                      2012-10-12_store_45_2012-10-19  \\\n",
       "store_id                                            45   \n",
       "this_week_date                     2012-10-12 00:00:00   \n",
       "this_week_sales                                 734464   \n",
       "this_week_holiday_flag                               0   \n",
       "temperature                                         54   \n",
       "fuel_price                                           4   \n",
       "CPI                                            192.327   \n",
       "this_week_unemployment                           8.667   \n",
       "store_type                                           B   \n",
       "store_size                                      118221   \n",
       "next_week_1_year_ago                            771686   \n",
       "next_week_sales_target                          718126   \n",
       "next_week_date                     2012-10-19 00:00:00   \n",
       "next_week_holiday_flag                               0   \n",
       "next_week_season                                  fall   \n",
       "this_week_season                                  fall   \n",
       "next_week_holiday_name                      no_holiday   \n",
       "christmas                                            0   \n",
       "labor_day                                            0   \n",
       "pre_christmas                                        0   \n",
       "super_bowl                                           0   \n",
       "thanksgiving                                         0   \n",
       "fuel_4wk_rolling                                 4.005   \n",
       "cpi_4wk_rolling                                192.092   \n",
       "unemp_4wk_rolling                               8.6755   \n",
       "avgMoM_perc_fuel                              0.029563   \n",
       "avgMoM_perc_cpi                              0.0029814   \n",
       "avgMoM_perc_unemp                         -0.000978812   \n",
       "fuel_quarterly_rolling                          3.8675   \n",
       "cpi_quarterly_rolling                          191.598   \n",
       "unemp_quarterly_rolling                        8.68117   \n",
       "avgQoQ_perc_fuel                             0.0504753   \n",
       "avgQoQ_perc_cpi                             0.00287317   \n",
       "avgQoQ_perc_unemp                           0.00987834   \n",
       "\n",
       "id                      2012-10-19_store_45_2012-10-26 2012-10-26_store_45_nan  \n",
       "store_id                                            45                      45  \n",
       "this_week_date                     2012-10-19 00:00:00     2012-10-26 00:00:00  \n",
       "this_week_sales                                 718126                  760281  \n",
       "this_week_holiday_flag                               0                       0  \n",
       "temperature                                         56                      58  \n",
       "fuel_price                                        3.97                    3.88  \n",
       "CPI                                            192.331                 192.309  \n",
       "this_week_unemployment                           8.667                   8.667  \n",
       "store_type                                           B                       B  \n",
       "store_size                                      118221                  118221  \n",
       "next_week_1_year_ago                            781695                  833429  \n",
       "next_week_sales_target                          760281                     NaN  \n",
       "next_week_date                     2012-10-26 00:00:00                     NaT  \n",
       "next_week_holiday_flag                               0                     NaN  \n",
       "next_week_season                                  fall                     NaN  \n",
       "this_week_season                                  fall                     NaN  \n",
       "next_week_holiday_name                      no_holiday              no_holiday  \n",
       "christmas                                            0                       0  \n",
       "labor_day                                            0                       0  \n",
       "pre_christmas                                        0                       0  \n",
       "super_bowl                                           0                       0  \n",
       "thanksgiving                                         0                       0  \n",
       "fuel_4wk_rolling                                3.9875                  3.9575  \n",
       "cpi_4wk_rolling                                 192.21                 192.284  \n",
       "unemp_4wk_rolling                              8.67125                   8.667  \n",
       "avgMoM_perc_fuel                             0.0114141             -0.00440252  \n",
       "avgMoM_perc_cpi                             0.00292984              0.00259141  \n",
       "avgMoM_perc_unemp                          -0.00146822             -0.00195762  \n",
       "fuel_quarterly_rolling                         3.89417                 3.91333  \n",
       "cpi_quarterly_rolling                          191.695                  191.79  \n",
       "unemp_quarterly_rolling                        8.67975                 8.67833  \n",
       "avgQoQ_perc_fuel                             0.0649499                0.076077  \n",
       "avgQoQ_perc_cpi                             0.00327456              0.00369164  \n",
       "avgQoQ_perc_unemp                            0.0085696              0.00726383  "
      ]
     },
     "execution_count": 7,
     "metadata": {},
     "output_type": "execute_result"
    }
   ],
   "source": [
    "#take a look at the data\n",
    "df.tail().T"
   ]
  },
  {
   "cell_type": "code",
   "execution_count": 8,
   "metadata": {},
   "outputs": [
    {
     "data": {
      "text/plain": [
       "store_id                      0\n",
       "this_week_date                0\n",
       "this_week_sales               0\n",
       "this_week_holiday_flag        0\n",
       "temperature                   0\n",
       "fuel_price                    0\n",
       "CPI                           0\n",
       "this_week_unemployment        0\n",
       "store_type                    0\n",
       "store_size                    0\n",
       "next_week_1_year_ago       2295\n",
       "next_week_sales_target       45\n",
       "next_week_date               45\n",
       "next_week_holiday_flag       45\n",
       "next_week_season           2340\n",
       "this_week_season           2340\n",
       "next_week_holiday_name        0\n",
       "christmas                     0\n",
       "labor_day                     0\n",
       "pre_christmas                 0\n",
       "super_bowl                    0\n",
       "thanksgiving                  0\n",
       "fuel_4wk_rolling              3\n",
       "cpi_4wk_rolling               3\n",
       "unemp_4wk_rolling             3\n",
       "avgMoM_perc_fuel              7\n",
       "avgMoM_perc_cpi               7\n",
       "avgMoM_perc_unemp             7\n",
       "fuel_quarterly_rolling       11\n",
       "cpi_quarterly_rolling        11\n",
       "unemp_quarterly_rolling      11\n",
       "avgQoQ_perc_fuel             23\n",
       "avgQoQ_perc_cpi              23\n",
       "avgQoQ_perc_unemp            23\n",
       "dtype: int64"
      ]
     },
     "execution_count": 8,
     "metadata": {},
     "output_type": "execute_result"
    }
   ],
   "source": [
    "df.isnull().sum()"
   ]
  },
  {
   "cell_type": "code",
   "execution_count": 9,
   "metadata": {},
   "outputs": [
    {
     "name": "stdout",
     "output_type": "stream",
     "text": [
      "train -> (2866, 34)\n",
      "test -> (1229, 34)\n"
     ]
    }
   ],
   "source": [
    "#train test split\n",
    "train, test = w.split_scale(df,'next_week_sales_target')"
   ]
  },
  {
   "cell_type": "code",
   "execution_count": 10,
   "metadata": {},
   "outputs": [
    {
     "name": "stdout",
     "output_type": "stream",
     "text": [
      "<class 'pandas.core.frame.DataFrame'>\n",
      "Index: 6435 entries, 2010-02-05_store_1_2010-02-12 to 2012-10-26_store_45_nan\n",
      "Data columns (total 34 columns):\n",
      " #   Column                   Non-Null Count  Dtype         \n",
      "---  ------                   --------------  -----         \n",
      " 0   store_id                 6435 non-null   object        \n",
      " 1   this_week_date           6435 non-null   datetime64[ns]\n",
      " 2   this_week_sales          6435 non-null   float64       \n",
      " 3   this_week_holiday_flag   6435 non-null   int64         \n",
      " 4   temperature              6435 non-null   int64         \n",
      " 5   fuel_price               6435 non-null   float64       \n",
      " 6   CPI                      6435 non-null   float64       \n",
      " 7   this_week_unemployment   6435 non-null   float64       \n",
      " 8   store_type               6435 non-null   object        \n",
      " 9   store_size               6435 non-null   int64         \n",
      " 10  next_week_1_year_ago     4140 non-null   float64       \n",
      " 11  next_week_sales_target   6390 non-null   float64       \n",
      " 12  next_week_date           6390 non-null   datetime64[ns]\n",
      " 13  next_week_holiday_flag   6390 non-null   float64       \n",
      " 14  next_week_season         4095 non-null   object        \n",
      " 15  this_week_season         4095 non-null   object        \n",
      " 16  next_week_holiday_name   6435 non-null   object        \n",
      " 17  christmas                6435 non-null   uint8         \n",
      " 18  labor_day                6435 non-null   uint8         \n",
      " 19  pre_christmas            6435 non-null   uint8         \n",
      " 20  super_bowl               6435 non-null   uint8         \n",
      " 21  thanksgiving             6435 non-null   uint8         \n",
      " 22  fuel_4wk_rolling         6432 non-null   float64       \n",
      " 23  cpi_4wk_rolling          6432 non-null   float64       \n",
      " 24  unemp_4wk_rolling        6432 non-null   float64       \n",
      " 25  avgMoM_perc_fuel         6428 non-null   float64       \n",
      " 26  avgMoM_perc_cpi          6428 non-null   float64       \n",
      " 27  avgMoM_perc_unemp        6428 non-null   float64       \n",
      " 28  fuel_quarterly_rolling   6424 non-null   float64       \n",
      " 29  cpi_quarterly_rolling    6424 non-null   float64       \n",
      " 30  unemp_quarterly_rolling  6424 non-null   float64       \n",
      " 31  avgQoQ_perc_fuel         6412 non-null   float64       \n",
      " 32  avgQoQ_perc_cpi          6412 non-null   float64       \n",
      " 33  avgQoQ_perc_unemp        6412 non-null   float64       \n",
      "dtypes: datetime64[ns](2), float64(19), int64(3), object(5), uint8(5)\n",
      "memory usage: 1.5+ MB\n"
     ]
    }
   ],
   "source": [
    "#take a look\n",
    "df.info()"
   ]
  },
  {
   "cell_type": "markdown",
   "metadata": {},
   "source": [
    "<hr style=\"border:2px solid black\"> </hr>"
   ]
  },
  {
   "cell_type": "markdown",
   "metadata": {},
   "source": [
    "# Explore"
   ]
  },
  {
   "cell_type": "code",
   "execution_count": 11,
   "metadata": {},
   "outputs": [],
   "source": [
    "#count of season\n",
    "#train.season.value_counts()"
   ]
  },
  {
   "cell_type": "code",
   "execution_count": 12,
   "metadata": {},
   "outputs": [
    {
     "data": {
      "text/plain": [
       "no_holiday       2615\n",
       "labor_day          66\n",
       "super_bowl         63\n",
       "pre_christmas      60\n",
       "thanksgiving       31\n",
       "christmas          31\n",
       "Name: next_week_holiday_name, dtype: int64"
      ]
     },
     "execution_count": 12,
     "metadata": {},
     "output_type": "execute_result"
    }
   ],
   "source": [
    "#counts by holidays\n",
    "train.next_week_holiday_name.value_counts()"
   ]
  },
  {
   "cell_type": "markdown",
   "metadata": {},
   "source": [
    "## bivariate exploration"
   ]
  },
  {
   "cell_type": "code",
   "execution_count": 13,
   "metadata": {},
   "outputs": [
    {
     "data": {
      "image/png": "[encoded data removed]",
      "text/plain": [
       "<Figure size 1440x720 with 1 Axes>"
      ]
     },
     "metadata": {
      "needs_background": "light"
     },
     "output_type": "display_data"
    }
   ],
   "source": [
    "#average weekly sales by store\n",
    "stores = train.groupby(['store_id']).agg({'next_week_sales_target': ['mean']})\n",
    "\n",
    "plt.figure(figsize=(20, 10))\n",
    "plt.bar(stores.index,stores['next_week_sales_target']['mean'])\n",
    "plt.xticks(np.arange(1, 46, step=1))\n",
    "plt.ylabel('Next Week Sales (in USD)', fontsize=16)\n",
    "plt.xlabel('Store', fontsize=16)\n",
    "plt.show()"
   ]
  },
  {
   "cell_type": "code",
   "execution_count": 14,
   "metadata": {},
   "outputs": [
    {
     "data": {
      "text/plain": [
       "<AxesSubplot:xlabel='store_type', ylabel='store_size'>"
      ]
     },
     "execution_count": 14,
     "metadata": {},
     "output_type": "execute_result"
    },
    {
     "data": {
      "image/png": "[encoded data removed]",
      "text/plain": [
       "<Figure size 1008x432 with 1 Axes>"
      ]
     },
     "metadata": {
      "needs_background": "light"
     },
     "output_type": "display_data"
    }
   ],
   "source": [
    "#visualize store_type by store_size\n",
    "plt.figure(figsize=(14, 6))\n",
    "sns.boxplot(x='store_type', y='store_size', data=train)"
   ]
  },
  {
   "cell_type": "markdown",
   "metadata": {},
   "source": [
    "### Takeaways:\n",
    "- Store A: appears to be only larger stores\n",
    "- Store B: appear to be midsized stores\n",
    "- Store C: appears to be only smaller stores\n",
    "\n",
    "- outliers were addressed (store 3, store 5, store 33, store 36 were classified incorrectly)"
   ]
  },
  {
   "cell_type": "code",
   "execution_count": 15,
   "metadata": {},
   "outputs": [
    {
     "data": {
      "text/plain": [
       "<AxesSubplot:xlabel='store_type', ylabel='next_week_sales_target'>"
      ]
     },
     "execution_count": 15,
     "metadata": {},
     "output_type": "execute_result"
    },
    {
     "data": {
      "image/png": "[encoded data removed]",
      "text/plain": [
       "<Figure size 1008x432 with 1 Axes>"
      ]
     },
     "metadata": {
      "needs_background": "light"
     },
     "output_type": "display_data"
    }
   ],
   "source": [
    "#visualize stores and weekly sales\n",
    "plt.figure(figsize=(14,6))\n",
    "sns.boxplot(x='store_type', y='next_week_sales_target', data=train)"
   ]
  },
  {
   "cell_type": "code",
   "execution_count": 16,
   "metadata": {},
   "outputs": [
    {
     "data": {
      "text/plain": [
       "<AxesSubplot:xlabel='store_type', ylabel='this_week_unemployment'>"
      ]
     },
     "execution_count": 16,
     "metadata": {},
     "output_type": "execute_result"
    },
    {
     "data": {
      "image/png": "[encoded data removed]",
      "text/plain": [
       "<Figure size 1008x432 with 1 Axes>"
      ]
     },
     "metadata": {
      "needs_background": "light"
     },
     "output_type": "display_data"
    }
   ],
   "source": [
    "#visualize store type and unemployment rate\n",
    "plt.figure(figsize=(14,6))\n",
    "sns.boxplot(x='store_type', y='this_week_unemployment', data=train)"
   ]
  },
  {
   "cell_type": "code",
   "execution_count": 17,
   "metadata": {
    "scrolled": true
   },
   "outputs": [
    {
     "data": {
      "text/html": [
       "<div>\n",
       "<style scoped>\n",
       "    .dataframe tbody tr th:only-of-type {\n",
       "        vertical-align: middle;\n",
       "    }\n",
       "\n",
       "    .dataframe tbody tr th {\n",
       "        vertical-align: top;\n",
       "    }\n",
       "\n",
       "    .dataframe thead th {\n",
       "        text-align: right;\n",
       "    }\n",
       "</style>\n",
       "<table border=\"1\" class=\"dataframe\">\n",
       "  <thead>\n",
       "    <tr style=\"text-align: right;\">\n",
       "      <th></th>\n",
       "      <th>this_week_sales</th>\n",
       "      <th>this_week_holiday_flag</th>\n",
       "      <th>temperature</th>\n",
       "      <th>fuel_price</th>\n",
       "      <th>CPI</th>\n",
       "      <th>this_week_unemployment</th>\n",
       "      <th>store_size</th>\n",
       "      <th>next_week_1_year_ago</th>\n",
       "      <th>next_week_sales_target</th>\n",
       "      <th>next_week_holiday_flag</th>\n",
       "      <th>...</th>\n",
       "      <th>unemp_4wk_rolling</th>\n",
       "      <th>avgMoM_perc_fuel</th>\n",
       "      <th>avgMoM_perc_cpi</th>\n",
       "      <th>avgMoM_perc_unemp</th>\n",
       "      <th>fuel_quarterly_rolling</th>\n",
       "      <th>cpi_quarterly_rolling</th>\n",
       "      <th>unemp_quarterly_rolling</th>\n",
       "      <th>avgQoQ_perc_fuel</th>\n",
       "      <th>avgQoQ_perc_cpi</th>\n",
       "      <th>avgQoQ_perc_unemp</th>\n",
       "    </tr>\n",
       "  </thead>\n",
       "  <tbody>\n",
       "    <tr>\n",
       "      <th>this_week_sales</th>\n",
       "      <td>1.000000</td>\n",
       "      <td>0.045091</td>\n",
       "      <td>-0.066168</td>\n",
       "      <td>-0.000779</td>\n",
       "      <td>-0.068394</td>\n",
       "      <td>-0.124278</td>\n",
       "      <td>0.822618</td>\n",
       "      <td>0.946883</td>\n",
       "      <td>0.962765</td>\n",
       "      <td>0.046326</td>\n",
       "      <td>...</td>\n",
       "      <td>-0.125773</td>\n",
       "      <td>-0.035517</td>\n",
       "      <td>-0.022917</td>\n",
       "      <td>0.024188</td>\n",
       "      <td>0.025420</td>\n",
       "      <td>-0.068389</td>\n",
       "      <td>-0.127142</td>\n",
       "      <td>-0.024507</td>\n",
       "      <td>0.022682</td>\n",
       "      <td>-0.040740</td>\n",
       "    </tr>\n",
       "    <tr>\n",
       "      <th>this_week_holiday_flag</th>\n",
       "      <td>0.045091</td>\n",
       "      <td>1.000000</td>\n",
       "      <td>-0.120118</td>\n",
       "      <td>-0.125995</td>\n",
       "      <td>-0.009749</td>\n",
       "      <td>-0.000009</td>\n",
       "      <td>-0.005686</td>\n",
       "      <td>-0.002272</td>\n",
       "      <td>0.000464</td>\n",
       "      <td>-0.071402</td>\n",
       "      <td>...</td>\n",
       "      <td>-0.003344</td>\n",
       "      <td>-0.018413</td>\n",
       "      <td>-0.006828</td>\n",
       "      <td>0.047695</td>\n",
       "      <td>-0.114599</td>\n",
       "      <td>-0.009910</td>\n",
       "      <td>-0.002807</td>\n",
       "      <td>-0.204626</td>\n",
       "      <td>-0.088187</td>\n",
       "      <td>-0.017505</td>\n",
       "    </tr>\n",
       "    <tr>\n",
       "      <th>temperature</th>\n",
       "      <td>-0.066168</td>\n",
       "      <td>-0.120118</td>\n",
       "      <td>1.000000</td>\n",
       "      <td>0.282312</td>\n",
       "      <td>0.194927</td>\n",
       "      <td>0.104650</td>\n",
       "      <td>-0.097446</td>\n",
       "      <td>-0.067811</td>\n",
       "      <td>-0.066468</td>\n",
       "      <td>-0.107738</td>\n",
       "      <td>...</td>\n",
       "      <td>0.104953</td>\n",
       "      <td>-0.214160</td>\n",
       "      <td>-0.350023</td>\n",
       "      <td>0.071314</td>\n",
       "      <td>0.466041</td>\n",
       "      <td>0.198628</td>\n",
       "      <td>0.100705</td>\n",
       "      <td>0.094408</td>\n",
       "      <td>-0.078804</td>\n",
       "      <td>0.072932</td>\n",
       "    </tr>\n",
       "    <tr>\n",
       "      <th>fuel_price</th>\n",
       "      <td>-0.000779</td>\n",
       "      <td>-0.125995</td>\n",
       "      <td>0.282312</td>\n",
       "      <td>1.000000</td>\n",
       "      <td>-0.369042</td>\n",
       "      <td>0.200355</td>\n",
       "      <td>0.029195</td>\n",
       "      <td>0.020143</td>\n",
       "      <td>0.005592</td>\n",
       "      <td>-0.180510</td>\n",
       "      <td>...</td>\n",
       "      <td>0.196294</td>\n",
       "      <td>0.346798</td>\n",
       "      <td>-0.152638</td>\n",
       "      <td>0.225360</td>\n",
       "      <td>0.739653</td>\n",
       "      <td>-0.368048</td>\n",
       "      <td>0.185975</td>\n",
       "      <td>0.352177</td>\n",
       "      <td>0.109540</td>\n",
       "      <td>0.093908</td>\n",
       "    </tr>\n",
       "    <tr>\n",
       "      <th>CPI</th>\n",
       "      <td>-0.068394</td>\n",
       "      <td>-0.009749</td>\n",
       "      <td>0.194927</td>\n",
       "      <td>-0.369042</td>\n",
       "      <td>1.000000</td>\n",
       "      <td>-0.259608</td>\n",
       "      <td>-0.020276</td>\n",
       "      <td>-0.072945</td>\n",
       "      <td>-0.067191</td>\n",
       "      <td>0.014123</td>\n",
       "      <td>...</td>\n",
       "      <td>-0.259602</td>\n",
       "      <td>-0.008442</td>\n",
       "      <td>0.195721</td>\n",
       "      <td>-0.014211</td>\n",
       "      <td>-0.364749</td>\n",
       "      <td>0.999958</td>\n",
       "      <td>-0.260137</td>\n",
       "      <td>-0.013148</td>\n",
       "      <td>0.169723</td>\n",
       "      <td>0.031083</td>\n",
       "    </tr>\n",
       "    <tr>\n",
       "      <th>this_week_unemployment</th>\n",
       "      <td>-0.124278</td>\n",
       "      <td>-0.000009</td>\n",
       "      <td>0.104650</td>\n",
       "      <td>0.200355</td>\n",
       "      <td>-0.259608</td>\n",
       "      <td>1.000000</td>\n",
       "      <td>-0.071430</td>\n",
       "      <td>-0.097472</td>\n",
       "      <td>-0.123025</td>\n",
       "      <td>0.005452</td>\n",
       "      <td>...</td>\n",
       "      <td>0.999223</td>\n",
       "      <td>0.022924</td>\n",
       "      <td>0.001452</td>\n",
       "      <td>0.118732</td>\n",
       "      <td>0.184442</td>\n",
       "      <td>-0.260102</td>\n",
       "      <td>0.997736</td>\n",
       "      <td>0.073604</td>\n",
       "      <td>0.013824</td>\n",
       "      <td>0.243356</td>\n",
       "    </tr>\n",
       "    <tr>\n",
       "      <th>store_size</th>\n",
       "      <td>0.822618</td>\n",
       "      <td>-0.005686</td>\n",
       "      <td>-0.097446</td>\n",
       "      <td>0.029195</td>\n",
       "      <td>-0.020276</td>\n",
       "      <td>-0.071430</td>\n",
       "      <td>1.000000</td>\n",
       "      <td>0.815440</td>\n",
       "      <td>0.826692</td>\n",
       "      <td>-0.002286</td>\n",
       "      <td>...</td>\n",
       "      <td>-0.073134</td>\n",
       "      <td>0.001814</td>\n",
       "      <td>0.006028</td>\n",
       "      <td>0.046786</td>\n",
       "      <td>0.026267</td>\n",
       "      <td>-0.020298</td>\n",
       "      <td>-0.076749</td>\n",
       "      <td>0.003934</td>\n",
       "      <td>0.025083</td>\n",
       "      <td>0.083024</td>\n",
       "    </tr>\n",
       "    <tr>\n",
       "      <th>next_week_1_year_ago</th>\n",
       "      <td>0.946883</td>\n",
       "      <td>-0.002272</td>\n",
       "      <td>-0.067811</td>\n",
       "      <td>0.020143</td>\n",
       "      <td>-0.072945</td>\n",
       "      <td>-0.097472</td>\n",
       "      <td>0.815440</td>\n",
       "      <td>1.000000</td>\n",
       "      <td>0.986895</td>\n",
       "      <td>0.022338</td>\n",
       "      <td>...</td>\n",
       "      <td>-0.100236</td>\n",
       "      <td>-0.013943</td>\n",
       "      <td>-0.006005</td>\n",
       "      <td>0.030425</td>\n",
       "      <td>0.037336</td>\n",
       "      <td>-0.073069</td>\n",
       "      <td>-0.102067</td>\n",
       "      <td>0.004116</td>\n",
       "      <td>0.029291</td>\n",
       "      <td>0.002494</td>\n",
       "    </tr>\n",
       "    <tr>\n",
       "      <th>next_week_sales_target</th>\n",
       "      <td>0.962765</td>\n",
       "      <td>0.000464</td>\n",
       "      <td>-0.066468</td>\n",
       "      <td>0.005592</td>\n",
       "      <td>-0.067191</td>\n",
       "      <td>-0.123025</td>\n",
       "      <td>0.826692</td>\n",
       "      <td>0.986895</td>\n",
       "      <td>1.000000</td>\n",
       "      <td>0.035292</td>\n",
       "      <td>...</td>\n",
       "      <td>-0.125143</td>\n",
       "      <td>-0.023049</td>\n",
       "      <td>-0.018228</td>\n",
       "      <td>0.010336</td>\n",
       "      <td>0.027169</td>\n",
       "      <td>-0.067206</td>\n",
       "      <td>-0.125939</td>\n",
       "      <td>-0.016706</td>\n",
       "      <td>0.022188</td>\n",
       "      <td>-0.030810</td>\n",
       "    </tr>\n",
       "    <tr>\n",
       "      <th>next_week_holiday_flag</th>\n",
       "      <td>0.046326</td>\n",
       "      <td>-0.071402</td>\n",
       "      <td>-0.107738</td>\n",
       "      <td>-0.180510</td>\n",
       "      <td>0.014123</td>\n",
       "      <td>0.005452</td>\n",
       "      <td>-0.002286</td>\n",
       "      <td>0.022338</td>\n",
       "      <td>0.035292</td>\n",
       "      <td>1.000000</td>\n",
       "      <td>...</td>\n",
       "      <td>0.002109</td>\n",
       "      <td>-0.022358</td>\n",
       "      <td>0.005758</td>\n",
       "      <td>-0.028500</td>\n",
       "      <td>-0.145748</td>\n",
       "      <td>0.013888</td>\n",
       "      <td>0.004924</td>\n",
       "      <td>-0.195369</td>\n",
       "      <td>-0.074303</td>\n",
       "      <td>-0.005612</td>\n",
       "    </tr>\n",
       "    <tr>\n",
       "      <th>christmas</th>\n",
       "      <td>0.140933</td>\n",
       "      <td>-0.027942</td>\n",
       "      <td>-0.127463</td>\n",
       "      <td>-0.136061</td>\n",
       "      <td>0.003055</td>\n",
       "      <td>-0.007507</td>\n",
       "      <td>0.001808</td>\n",
       "      <td>-0.018230</td>\n",
       "      <td>0.003227</td>\n",
       "      <td>0.391336</td>\n",
       "      <td>...</td>\n",
       "      <td>-0.008800</td>\n",
       "      <td>-0.110779</td>\n",
       "      <td>0.018147</td>\n",
       "      <td>0.053749</td>\n",
       "      <td>-0.064386</td>\n",
       "      <td>0.002732</td>\n",
       "      <td>-0.011914</td>\n",
       "      <td>-0.119353</td>\n",
       "      <td>0.041476</td>\n",
       "      <td>-0.076401</td>\n",
       "    </tr>\n",
       "    <tr>\n",
       "      <th>labor_day</th>\n",
       "      <td>-0.013249</td>\n",
       "      <td>-0.041025</td>\n",
       "      <td>0.138487</td>\n",
       "      <td>0.028054</td>\n",
       "      <td>0.005060</td>\n",
       "      <td>-0.009426</td>\n",
       "      <td>-0.010166</td>\n",
       "      <td>-0.007545</td>\n",
       "      <td>-0.002386</td>\n",
       "      <td>0.574564</td>\n",
       "      <td>...</td>\n",
       "      <td>-0.011327</td>\n",
       "      <td>0.011495</td>\n",
       "      <td>-0.075324</td>\n",
       "      <td>0.078915</td>\n",
       "      <td>0.030228</td>\n",
       "      <td>0.005718</td>\n",
       "      <td>-0.013880</td>\n",
       "      <td>-0.143259</td>\n",
       "      <td>-0.132970</td>\n",
       "      <td>0.049114</td>\n",
       "    </tr>\n",
       "    <tr>\n",
       "      <th>pre_christmas</th>\n",
       "      <td>0.055363</td>\n",
       "      <td>-0.039074</td>\n",
       "      <td>-0.184705</td>\n",
       "      <td>-0.153598</td>\n",
       "      <td>-0.003924</td>\n",
       "      <td>0.012790</td>\n",
       "      <td>-0.007689</td>\n",
       "      <td>0.136609</td>\n",
       "      <td>0.112758</td>\n",
       "      <td>-0.039074</td>\n",
       "      <td>...</td>\n",
       "      <td>0.010946</td>\n",
       "      <td>-0.138448</td>\n",
       "      <td>-0.010545</td>\n",
       "      <td>0.075162</td>\n",
       "      <td>-0.056699</td>\n",
       "      <td>-0.004229</td>\n",
       "      <td>0.009436</td>\n",
       "      <td>-0.142441</td>\n",
       "      <td>0.044620</td>\n",
       "      <td>-0.067601</td>\n",
       "    </tr>\n",
       "    <tr>\n",
       "      <th>super_bowl</th>\n",
       "      <td>0.000685</td>\n",
       "      <td>-0.040060</td>\n",
       "      <td>-0.195281</td>\n",
       "      <td>-0.197158</td>\n",
       "      <td>0.003226</td>\n",
       "      <td>0.020026</td>\n",
       "      <td>0.009634</td>\n",
       "      <td>0.012871</td>\n",
       "      <td>0.015225</td>\n",
       "      <td>0.561053</td>\n",
       "      <td>...</td>\n",
       "      <td>0.018124</td>\n",
       "      <td>0.054735</td>\n",
       "      <td>0.064362</td>\n",
       "      <td>-0.157124</td>\n",
       "      <td>-0.223563</td>\n",
       "      <td>0.002709</td>\n",
       "      <td>0.025011</td>\n",
       "      <td>-0.041945</td>\n",
       "      <td>-0.040152</td>\n",
       "      <td>0.001915</td>\n",
       "    </tr>\n",
       "    <tr>\n",
       "      <th>thanksgiving</th>\n",
       "      <td>-0.010993</td>\n",
       "      <td>-0.027942</td>\n",
       "      <td>-0.056314</td>\n",
       "      <td>-0.060379</td>\n",
       "      <td>0.019088</td>\n",
       "      <td>0.005933</td>\n",
       "      <td>-0.006232</td>\n",
       "      <td>0.064786</td>\n",
       "      <td>0.063746</td>\n",
       "      <td>0.391336</td>\n",
       "      <td>...</td>\n",
       "      <td>0.004619</td>\n",
       "      <td>-0.037386</td>\n",
       "      <td>0.013729</td>\n",
       "      <td>-0.014176</td>\n",
       "      <td>-0.013964</td>\n",
       "      <td>0.018623</td>\n",
       "      <td>0.008461</td>\n",
       "      <td>-0.084511</td>\n",
       "      <td>0.029102</td>\n",
       "      <td>-0.011064</td>\n",
       "    </tr>\n",
       "    <tr>\n",
       "      <th>fuel_4wk_rolling</th>\n",
       "      <td>0.008882</td>\n",
       "      <td>-0.132168</td>\n",
       "      <td>0.345807</td>\n",
       "      <td>0.960875</td>\n",
       "      <td>-0.364689</td>\n",
       "      <td>0.196924</td>\n",
       "      <td>0.028183</td>\n",
       "      <td>0.030025</td>\n",
       "      <td>0.015321</td>\n",
       "      <td>-0.171729</td>\n",
       "      <td>...</td>\n",
       "      <td>0.193969</td>\n",
       "      <td>0.168996</td>\n",
       "      <td>-0.257751</td>\n",
       "      <td>0.246756</td>\n",
       "      <td>0.857418</td>\n",
       "      <td>-0.362815</td>\n",
       "      <td>0.181998</td>\n",
       "      <td>0.372507</td>\n",
       "      <td>0.116272</td>\n",
       "      <td>0.123146</td>\n",
       "    </tr>\n",
       "    <tr>\n",
       "      <th>cpi_4wk_rolling</th>\n",
       "      <td>-0.068371</td>\n",
       "      <td>-0.009928</td>\n",
       "      <td>0.196050</td>\n",
       "      <td>-0.368318</td>\n",
       "      <td>0.999995</td>\n",
       "      <td>-0.259722</td>\n",
       "      <td>-0.020279</td>\n",
       "      <td>-0.072943</td>\n",
       "      <td>-0.067162</td>\n",
       "      <td>0.013911</td>\n",
       "      <td>...</td>\n",
       "      <td>-0.259730</td>\n",
       "      <td>-0.009269</td>\n",
       "      <td>0.193394</td>\n",
       "      <td>-0.014152</td>\n",
       "      <td>-0.363371</td>\n",
       "      <td>0.999976</td>\n",
       "      <td>-0.260267</td>\n",
       "      <td>-0.012798</td>\n",
       "      <td>0.170039</td>\n",
       "      <td>0.031077</td>\n",
       "    </tr>\n",
       "    <tr>\n",
       "      <th>unemp_4wk_rolling</th>\n",
       "      <td>-0.125773</td>\n",
       "      <td>-0.003344</td>\n",
       "      <td>0.104953</td>\n",
       "      <td>0.196294</td>\n",
       "      <td>-0.259602</td>\n",
       "      <td>0.999223</td>\n",
       "      <td>-0.073134</td>\n",
       "      <td>-0.100236</td>\n",
       "      <td>-0.125143</td>\n",
       "      <td>0.002109</td>\n",
       "      <td>...</td>\n",
       "      <td>1.000000</td>\n",
       "      <td>0.018464</td>\n",
       "      <td>0.003600</td>\n",
       "      <td>0.106043</td>\n",
       "      <td>0.183530</td>\n",
       "      <td>-0.260120</td>\n",
       "      <td>0.998937</td>\n",
       "      <td>0.068752</td>\n",
       "      <td>0.010847</td>\n",
       "      <td>0.233738</td>\n",
       "    </tr>\n",
       "    <tr>\n",
       "      <th>avgMoM_perc_fuel</th>\n",
       "      <td>-0.035517</td>\n",
       "      <td>-0.018413</td>\n",
       "      <td>-0.214160</td>\n",
       "      <td>0.346798</td>\n",
       "      <td>-0.008442</td>\n",
       "      <td>0.022924</td>\n",
       "      <td>0.001814</td>\n",
       "      <td>-0.013943</td>\n",
       "      <td>-0.023049</td>\n",
       "      <td>-0.022358</td>\n",
       "      <td>...</td>\n",
       "      <td>0.018464</td>\n",
       "      <td>1.000000</td>\n",
       "      <td>0.404331</td>\n",
       "      <td>0.081801</td>\n",
       "      <td>-0.334694</td>\n",
       "      <td>-0.012092</td>\n",
       "      <td>0.017330</td>\n",
       "      <td>0.206658</td>\n",
       "      <td>0.120346</td>\n",
       "      <td>-0.124006</td>\n",
       "    </tr>\n",
       "    <tr>\n",
       "      <th>avgMoM_perc_cpi</th>\n",
       "      <td>-0.022917</td>\n",
       "      <td>-0.006828</td>\n",
       "      <td>-0.350023</td>\n",
       "      <td>-0.152638</td>\n",
       "      <td>0.195721</td>\n",
       "      <td>0.001452</td>\n",
       "      <td>0.006028</td>\n",
       "      <td>-0.006005</td>\n",
       "      <td>-0.018228</td>\n",
       "      <td>0.005758</td>\n",
       "      <td>...</td>\n",
       "      <td>0.003600</td>\n",
       "      <td>0.404331</td>\n",
       "      <td>1.000000</td>\n",
       "      <td>-0.104000</td>\n",
       "      <td>-0.475117</td>\n",
       "      <td>0.187134</td>\n",
       "      <td>0.006901</td>\n",
       "      <td>0.074198</td>\n",
       "      <td>0.259954</td>\n",
       "      <td>-0.025306</td>\n",
       "    </tr>\n",
       "    <tr>\n",
       "      <th>avgMoM_perc_unemp</th>\n",
       "      <td>0.024188</td>\n",
       "      <td>0.047695</td>\n",
       "      <td>0.071314</td>\n",
       "      <td>0.225360</td>\n",
       "      <td>-0.014211</td>\n",
       "      <td>0.118732</td>\n",
       "      <td>0.046786</td>\n",
       "      <td>0.030425</td>\n",
       "      <td>0.010336</td>\n",
       "      <td>-0.028500</td>\n",
       "      <td>...</td>\n",
       "      <td>0.106043</td>\n",
       "      <td>0.081801</td>\n",
       "      <td>-0.104000</td>\n",
       "      <td>1.000000</td>\n",
       "      <td>0.196424</td>\n",
       "      <td>-0.013538</td>\n",
       "      <td>0.066003</td>\n",
       "      <td>0.162269</td>\n",
       "      <td>0.040703</td>\n",
       "      <td>0.420157</td>\n",
       "    </tr>\n",
       "    <tr>\n",
       "      <th>fuel_quarterly_rolling</th>\n",
       "      <td>0.025420</td>\n",
       "      <td>-0.114599</td>\n",
       "      <td>0.466041</td>\n",
       "      <td>0.739653</td>\n",
       "      <td>-0.364749</td>\n",
       "      <td>0.184442</td>\n",
       "      <td>0.026267</td>\n",
       "      <td>0.037336</td>\n",
       "      <td>0.027169</td>\n",
       "      <td>-0.145748</td>\n",
       "      <td>...</td>\n",
       "      <td>0.183530</td>\n",
       "      <td>-0.334694</td>\n",
       "      <td>-0.475117</td>\n",
       "      <td>0.196424</td>\n",
       "      <td>1.000000</td>\n",
       "      <td>-0.360910</td>\n",
       "      <td>0.173005</td>\n",
       "      <td>0.166213</td>\n",
       "      <td>0.006490</td>\n",
       "      <td>0.192479</td>\n",
       "    </tr>\n",
       "    <tr>\n",
       "      <th>cpi_quarterly_rolling</th>\n",
       "      <td>-0.068389</td>\n",
       "      <td>-0.009910</td>\n",
       "      <td>0.198628</td>\n",
       "      <td>-0.368048</td>\n",
       "      <td>0.999958</td>\n",
       "      <td>-0.260102</td>\n",
       "      <td>-0.020298</td>\n",
       "      <td>-0.073069</td>\n",
       "      <td>-0.067206</td>\n",
       "      <td>0.013888</td>\n",
       "      <td>...</td>\n",
       "      <td>-0.260120</td>\n",
       "      <td>-0.012092</td>\n",
       "      <td>0.187134</td>\n",
       "      <td>-0.013538</td>\n",
       "      <td>-0.360910</td>\n",
       "      <td>1.000000</td>\n",
       "      <td>-0.260684</td>\n",
       "      <td>-0.013670</td>\n",
       "      <td>0.167255</td>\n",
       "      <td>0.031577</td>\n",
       "    </tr>\n",
       "    <tr>\n",
       "      <th>unemp_quarterly_rolling</th>\n",
       "      <td>-0.127142</td>\n",
       "      <td>-0.002807</td>\n",
       "      <td>0.100705</td>\n",
       "      <td>0.185975</td>\n",
       "      <td>-0.260137</td>\n",
       "      <td>0.997736</td>\n",
       "      <td>-0.076749</td>\n",
       "      <td>-0.102067</td>\n",
       "      <td>-0.125939</td>\n",
       "      <td>0.004924</td>\n",
       "      <td>...</td>\n",
       "      <td>0.998937</td>\n",
       "      <td>0.017330</td>\n",
       "      <td>0.006901</td>\n",
       "      <td>0.066003</td>\n",
       "      <td>0.173005</td>\n",
       "      <td>-0.260684</td>\n",
       "      <td>1.000000</td>\n",
       "      <td>0.059902</td>\n",
       "      <td>0.008430</td>\n",
       "      <td>0.207571</td>\n",
       "    </tr>\n",
       "    <tr>\n",
       "      <th>avgQoQ_perc_fuel</th>\n",
       "      <td>-0.024507</td>\n",
       "      <td>-0.204626</td>\n",
       "      <td>0.094408</td>\n",
       "      <td>0.352177</td>\n",
       "      <td>-0.013148</td>\n",
       "      <td>0.073604</td>\n",
       "      <td>0.003934</td>\n",
       "      <td>0.004116</td>\n",
       "      <td>-0.016706</td>\n",
       "      <td>-0.195369</td>\n",
       "      <td>...</td>\n",
       "      <td>0.068752</td>\n",
       "      <td>0.206658</td>\n",
       "      <td>0.074198</td>\n",
       "      <td>0.162269</td>\n",
       "      <td>0.166213</td>\n",
       "      <td>-0.013670</td>\n",
       "      <td>0.059902</td>\n",
       "      <td>1.000000</td>\n",
       "      <td>0.418716</td>\n",
       "      <td>0.048796</td>\n",
       "    </tr>\n",
       "    <tr>\n",
       "      <th>avgQoQ_perc_cpi</th>\n",
       "      <td>0.022682</td>\n",
       "      <td>-0.088187</td>\n",
       "      <td>-0.078804</td>\n",
       "      <td>0.109540</td>\n",
       "      <td>0.169723</td>\n",
       "      <td>0.013824</td>\n",
       "      <td>0.025083</td>\n",
       "      <td>0.029291</td>\n",
       "      <td>0.022188</td>\n",
       "      <td>-0.074303</td>\n",
       "      <td>...</td>\n",
       "      <td>0.010847</td>\n",
       "      <td>0.120346</td>\n",
       "      <td>0.259954</td>\n",
       "      <td>0.040703</td>\n",
       "      <td>0.006490</td>\n",
       "      <td>0.167255</td>\n",
       "      <td>0.008430</td>\n",
       "      <td>0.418716</td>\n",
       "      <td>1.000000</td>\n",
       "      <td>-0.076848</td>\n",
       "    </tr>\n",
       "    <tr>\n",
       "      <th>avgQoQ_perc_unemp</th>\n",
       "      <td>-0.040740</td>\n",
       "      <td>-0.017505</td>\n",
       "      <td>0.072932</td>\n",
       "      <td>0.093908</td>\n",
       "      <td>0.031083</td>\n",
       "      <td>0.243356</td>\n",
       "      <td>0.083024</td>\n",
       "      <td>0.002494</td>\n",
       "      <td>-0.030810</td>\n",
       "      <td>-0.005612</td>\n",
       "      <td>...</td>\n",
       "      <td>0.233738</td>\n",
       "      <td>-0.124006</td>\n",
       "      <td>-0.025306</td>\n",
       "      <td>0.420157</td>\n",
       "      <td>0.192479</td>\n",
       "      <td>0.031577</td>\n",
       "      <td>0.207571</td>\n",
       "      <td>0.048796</td>\n",
       "      <td>-0.076848</td>\n",
       "      <td>1.000000</td>\n",
       "    </tr>\n",
       "  </tbody>\n",
       "</table>\n",
       "<p>27 rows × 27 columns</p>\n",
       "</div>"
      ],
      "text/plain": [
       "                         this_week_sales  this_week_holiday_flag  temperature  \\\n",
       "this_week_sales                 1.000000                0.045091    -0.066168   \n",
       "this_week_holiday_flag          0.045091                1.000000    -0.120118   \n",
       "temperature                    -0.066168               -0.120118     1.000000   \n",
       "fuel_price                     -0.000779               -0.125995     0.282312   \n",
       "CPI                            -0.068394               -0.009749     0.194927   \n",
       "this_week_unemployment         -0.124278               -0.000009     0.104650   \n",
       "store_size                      0.822618               -0.005686    -0.097446   \n",
       "next_week_1_year_ago            0.946883               -0.002272    -0.067811   \n",
       "next_week_sales_target          0.962765                0.000464    -0.066468   \n",
       "next_week_holiday_flag          0.046326               -0.071402    -0.107738   \n",
       "christmas                       0.140933               -0.027942    -0.127463   \n",
       "labor_day                      -0.013249               -0.041025     0.138487   \n",
       "pre_christmas                   0.055363               -0.039074    -0.184705   \n",
       "super_bowl                      0.000685               -0.040060    -0.195281   \n",
       "thanksgiving                   -0.010993               -0.027942    -0.056314   \n",
       "fuel_4wk_rolling                0.008882               -0.132168     0.345807   \n",
       "cpi_4wk_rolling                -0.068371               -0.009928     0.196050   \n",
       "unemp_4wk_rolling              -0.125773               -0.003344     0.104953   \n",
       "avgMoM_perc_fuel               -0.035517               -0.018413    -0.214160   \n",
       "avgMoM_perc_cpi                -0.022917               -0.006828    -0.350023   \n",
       "avgMoM_perc_unemp               0.024188                0.047695     0.071314   \n",
       "fuel_quarterly_rolling          0.025420               -0.114599     0.466041   \n",
       "cpi_quarterly_rolling          -0.068389               -0.009910     0.198628   \n",
       "unemp_quarterly_rolling        -0.127142               -0.002807     0.100705   \n",
       "avgQoQ_perc_fuel               -0.024507               -0.204626     0.094408   \n",
       "avgQoQ_perc_cpi                 0.022682               -0.088187    -0.078804   \n",
       "avgQoQ_perc_unemp              -0.040740               -0.017505     0.072932   \n",
       "\n",
       "                         fuel_price       CPI  this_week_unemployment  \\\n",
       "this_week_sales           -0.000779 -0.068394               -0.124278   \n",
       "this_week_holiday_flag    -0.125995 -0.009749               -0.000009   \n",
       "temperature                0.282312  0.194927                0.104650   \n",
       "fuel_price                 1.000000 -0.369042                0.200355   \n",
       "CPI                       -0.369042  1.000000               -0.259608   \n",
       "this_week_unemployment     0.200355 -0.259608                1.000000   \n",
       "store_size                 0.029195 -0.020276               -0.071430   \n",
       "next_week_1_year_ago       0.020143 -0.072945               -0.097472   \n",
       "next_week_sales_target     0.005592 -0.067191               -0.123025   \n",
       "next_week_holiday_flag    -0.180510  0.014123                0.005452   \n",
       "christmas                 -0.136061  0.003055               -0.007507   \n",
       "labor_day                  0.028054  0.005060               -0.009426   \n",
       "pre_christmas             -0.153598 -0.003924                0.012790   \n",
       "super_bowl                -0.197158  0.003226                0.020026   \n",
       "thanksgiving              -0.060379  0.019088                0.005933   \n",
       "fuel_4wk_rolling           0.960875 -0.364689                0.196924   \n",
       "cpi_4wk_rolling           -0.368318  0.999995               -0.259722   \n",
       "unemp_4wk_rolling          0.196294 -0.259602                0.999223   \n",
       "avgMoM_perc_fuel           0.346798 -0.008442                0.022924   \n",
       "avgMoM_perc_cpi           -0.152638  0.195721                0.001452   \n",
       "avgMoM_perc_unemp          0.225360 -0.014211                0.118732   \n",
       "fuel_quarterly_rolling     0.739653 -0.364749                0.184442   \n",
       "cpi_quarterly_rolling     -0.368048  0.999958               -0.260102   \n",
       "unemp_quarterly_rolling    0.185975 -0.260137                0.997736   \n",
       "avgQoQ_perc_fuel           0.352177 -0.013148                0.073604   \n",
       "avgQoQ_perc_cpi            0.109540  0.169723                0.013824   \n",
       "avgQoQ_perc_unemp          0.093908  0.031083                0.243356   \n",
       "\n",
       "                         store_size  next_week_1_year_ago  \\\n",
       "this_week_sales            0.822618              0.946883   \n",
       "this_week_holiday_flag    -0.005686             -0.002272   \n",
       "temperature               -0.097446             -0.067811   \n",
       "fuel_price                 0.029195              0.020143   \n",
       "CPI                       -0.020276             -0.072945   \n",
       "this_week_unemployment    -0.071430             -0.097472   \n",
       "store_size                 1.000000              0.815440   \n",
       "next_week_1_year_ago       0.815440              1.000000   \n",
       "next_week_sales_target     0.826692              0.986895   \n",
       "next_week_holiday_flag    -0.002286              0.022338   \n",
       "christmas                  0.001808             -0.018230   \n",
       "labor_day                 -0.010166             -0.007545   \n",
       "pre_christmas             -0.007689              0.136609   \n",
       "super_bowl                 0.009634              0.012871   \n",
       "thanksgiving              -0.006232              0.064786   \n",
       "fuel_4wk_rolling           0.028183              0.030025   \n",
       "cpi_4wk_rolling           -0.020279             -0.072943   \n",
       "unemp_4wk_rolling         -0.073134             -0.100236   \n",
       "avgMoM_perc_fuel           0.001814             -0.013943   \n",
       "avgMoM_perc_cpi            0.006028             -0.006005   \n",
       "avgMoM_perc_unemp          0.046786              0.030425   \n",
       "fuel_quarterly_rolling     0.026267              0.037336   \n",
       "cpi_quarterly_rolling     -0.020298             -0.073069   \n",
       "unemp_quarterly_rolling   -0.076749             -0.102067   \n",
       "avgQoQ_perc_fuel           0.003934              0.004116   \n",
       "avgQoQ_perc_cpi            0.025083              0.029291   \n",
       "avgQoQ_perc_unemp          0.083024              0.002494   \n",
       "\n",
       "                         next_week_sales_target  next_week_holiday_flag  ...  \\\n",
       "this_week_sales                        0.962765                0.046326  ...   \n",
       "this_week_holiday_flag                 0.000464               -0.071402  ...   \n",
       "temperature                           -0.066468               -0.107738  ...   \n",
       "fuel_price                             0.005592               -0.180510  ...   \n",
       "CPI                                   -0.067191                0.014123  ...   \n",
       "this_week_unemployment                -0.123025                0.005452  ...   \n",
       "store_size                             0.826692               -0.002286  ...   \n",
       "next_week_1_year_ago                   0.986895                0.022338  ...   \n",
       "next_week_sales_target                 1.000000                0.035292  ...   \n",
       "next_week_holiday_flag                 0.035292                1.000000  ...   \n",
       "christmas                              0.003227                0.391336  ...   \n",
       "labor_day                             -0.002386                0.574564  ...   \n",
       "pre_christmas                          0.112758               -0.039074  ...   \n",
       "super_bowl                             0.015225                0.561053  ...   \n",
       "thanksgiving                           0.063746                0.391336  ...   \n",
       "fuel_4wk_rolling                       0.015321               -0.171729  ...   \n",
       "cpi_4wk_rolling                       -0.067162                0.013911  ...   \n",
       "unemp_4wk_rolling                     -0.125143                0.002109  ...   \n",
       "avgMoM_perc_fuel                      -0.023049               -0.022358  ...   \n",
       "avgMoM_perc_cpi                       -0.018228                0.005758  ...   \n",
       "avgMoM_perc_unemp                      0.010336               -0.028500  ...   \n",
       "fuel_quarterly_rolling                 0.027169               -0.145748  ...   \n",
       "cpi_quarterly_rolling                 -0.067206                0.013888  ...   \n",
       "unemp_quarterly_rolling               -0.125939                0.004924  ...   \n",
       "avgQoQ_perc_fuel                      -0.016706               -0.195369  ...   \n",
       "avgQoQ_perc_cpi                        0.022188               -0.074303  ...   \n",
       "avgQoQ_perc_unemp                     -0.030810               -0.005612  ...   \n",
       "\n",
       "                         unemp_4wk_rolling  avgMoM_perc_fuel  avgMoM_perc_cpi  \\\n",
       "this_week_sales                  -0.125773         -0.035517        -0.022917   \n",
       "this_week_holiday_flag           -0.003344         -0.018413        -0.006828   \n",
       "temperature                       0.104953         -0.214160        -0.350023   \n",
       "fuel_price                        0.196294          0.346798        -0.152638   \n",
       "CPI                              -0.259602         -0.008442         0.195721   \n",
       "this_week_unemployment            0.999223          0.022924         0.001452   \n",
       "store_size                       -0.073134          0.001814         0.006028   \n",
       "next_week_1_year_ago             -0.100236         -0.013943        -0.006005   \n",
       "next_week_sales_target           -0.125143         -0.023049        -0.018228   \n",
       "next_week_holiday_flag            0.002109         -0.022358         0.005758   \n",
       "christmas                        -0.008800         -0.110779         0.018147   \n",
       "labor_day                        -0.011327          0.011495        -0.075324   \n",
       "pre_christmas                     0.010946         -0.138448        -0.010545   \n",
       "super_bowl                        0.018124          0.054735         0.064362   \n",
       "thanksgiving                      0.004619         -0.037386         0.013729   \n",
       "fuel_4wk_rolling                  0.193969          0.168996        -0.257751   \n",
       "cpi_4wk_rolling                  -0.259730         -0.009269         0.193394   \n",
       "unemp_4wk_rolling                 1.000000          0.018464         0.003600   \n",
       "avgMoM_perc_fuel                  0.018464          1.000000         0.404331   \n",
       "avgMoM_perc_cpi                   0.003600          0.404331         1.000000   \n",
       "avgMoM_perc_unemp                 0.106043          0.081801        -0.104000   \n",
       "fuel_quarterly_rolling            0.183530         -0.334694        -0.475117   \n",
       "cpi_quarterly_rolling            -0.260120         -0.012092         0.187134   \n",
       "unemp_quarterly_rolling           0.998937          0.017330         0.006901   \n",
       "avgQoQ_perc_fuel                  0.068752          0.206658         0.074198   \n",
       "avgQoQ_perc_cpi                   0.010847          0.120346         0.259954   \n",
       "avgQoQ_perc_unemp                 0.233738         -0.124006        -0.025306   \n",
       "\n",
       "                         avgMoM_perc_unemp  fuel_quarterly_rolling  \\\n",
       "this_week_sales                   0.024188                0.025420   \n",
       "this_week_holiday_flag            0.047695               -0.114599   \n",
       "temperature                       0.071314                0.466041   \n",
       "fuel_price                        0.225360                0.739653   \n",
       "CPI                              -0.014211               -0.364749   \n",
       "this_week_unemployment            0.118732                0.184442   \n",
       "store_size                        0.046786                0.026267   \n",
       "next_week_1_year_ago              0.030425                0.037336   \n",
       "next_week_sales_target            0.010336                0.027169   \n",
       "next_week_holiday_flag           -0.028500               -0.145748   \n",
       "christmas                         0.053749               -0.064386   \n",
       "labor_day                         0.078915                0.030228   \n",
       "pre_christmas                     0.075162               -0.056699   \n",
       "super_bowl                       -0.157124               -0.223563   \n",
       "thanksgiving                     -0.014176               -0.013964   \n",
       "fuel_4wk_rolling                  0.246756                0.857418   \n",
       "cpi_4wk_rolling                  -0.014152               -0.363371   \n",
       "unemp_4wk_rolling                 0.106043                0.183530   \n",
       "avgMoM_perc_fuel                  0.081801               -0.334694   \n",
       "avgMoM_perc_cpi                  -0.104000               -0.475117   \n",
       "avgMoM_perc_unemp                 1.000000                0.196424   \n",
       "fuel_quarterly_rolling            0.196424                1.000000   \n",
       "cpi_quarterly_rolling            -0.013538               -0.360910   \n",
       "unemp_quarterly_rolling           0.066003                0.173005   \n",
       "avgQoQ_perc_fuel                  0.162269                0.166213   \n",
       "avgQoQ_perc_cpi                   0.040703                0.006490   \n",
       "avgQoQ_perc_unemp                 0.420157                0.192479   \n",
       "\n",
       "                         cpi_quarterly_rolling  unemp_quarterly_rolling  \\\n",
       "this_week_sales                      -0.068389                -0.127142   \n",
       "this_week_holiday_flag               -0.009910                -0.002807   \n",
       "temperature                           0.198628                 0.100705   \n",
       "fuel_price                           -0.368048                 0.185975   \n",
       "CPI                                   0.999958                -0.260137   \n",
       "this_week_unemployment               -0.260102                 0.997736   \n",
       "store_size                           -0.020298                -0.076749   \n",
       "next_week_1_year_ago                 -0.073069                -0.102067   \n",
       "next_week_sales_target               -0.067206                -0.125939   \n",
       "next_week_holiday_flag                0.013888                 0.004924   \n",
       "christmas                             0.002732                -0.011914   \n",
       "labor_day                             0.005718                -0.013880   \n",
       "pre_christmas                        -0.004229                 0.009436   \n",
       "super_bowl                            0.002709                 0.025011   \n",
       "thanksgiving                          0.018623                 0.008461   \n",
       "fuel_4wk_rolling                     -0.362815                 0.181998   \n",
       "cpi_4wk_rolling                       0.999976                -0.260267   \n",
       "unemp_4wk_rolling                    -0.260120                 0.998937   \n",
       "avgMoM_perc_fuel                     -0.012092                 0.017330   \n",
       "avgMoM_perc_cpi                       0.187134                 0.006901   \n",
       "avgMoM_perc_unemp                    -0.013538                 0.066003   \n",
       "fuel_quarterly_rolling               -0.360910                 0.173005   \n",
       "cpi_quarterly_rolling                 1.000000                -0.260684   \n",
       "unemp_quarterly_rolling              -0.260684                 1.000000   \n",
       "avgQoQ_perc_fuel                     -0.013670                 0.059902   \n",
       "avgQoQ_perc_cpi                       0.167255                 0.008430   \n",
       "avgQoQ_perc_unemp                     0.031577                 0.207571   \n",
       "\n",
       "                         avgQoQ_perc_fuel  avgQoQ_perc_cpi  avgQoQ_perc_unemp  \n",
       "this_week_sales                 -0.024507         0.022682          -0.040740  \n",
       "this_week_holiday_flag          -0.204626        -0.088187          -0.017505  \n",
       "temperature                      0.094408        -0.078804           0.072932  \n",
       "fuel_price                       0.352177         0.109540           0.093908  \n",
       "CPI                             -0.013148         0.169723           0.031083  \n",
       "this_week_unemployment           0.073604         0.013824           0.243356  \n",
       "store_size                       0.003934         0.025083           0.083024  \n",
       "next_week_1_year_ago             0.004116         0.029291           0.002494  \n",
       "next_week_sales_target          -0.016706         0.022188          -0.030810  \n",
       "next_week_holiday_flag          -0.195369        -0.074303          -0.005612  \n",
       "christmas                       -0.119353         0.041476          -0.076401  \n",
       "labor_day                       -0.143259        -0.132970           0.049114  \n",
       "pre_christmas                   -0.142441         0.044620          -0.067601  \n",
       "super_bowl                      -0.041945        -0.040152           0.001915  \n",
       "thanksgiving                    -0.084511         0.029102          -0.011064  \n",
       "fuel_4wk_rolling                 0.372507         0.116272           0.123146  \n",
       "cpi_4wk_rolling                 -0.012798         0.170039           0.031077  \n",
       "unemp_4wk_rolling                0.068752         0.010847           0.233738  \n",
       "avgMoM_perc_fuel                 0.206658         0.120346          -0.124006  \n",
       "avgMoM_perc_cpi                  0.074198         0.259954          -0.025306  \n",
       "avgMoM_perc_unemp                0.162269         0.040703           0.420157  \n",
       "fuel_quarterly_rolling           0.166213         0.006490           0.192479  \n",
       "cpi_quarterly_rolling           -0.013670         0.167255           0.031577  \n",
       "unemp_quarterly_rolling          0.059902         0.008430           0.207571  \n",
       "avgQoQ_perc_fuel                 1.000000         0.418716           0.048796  \n",
       "avgQoQ_perc_cpi                  0.418716         1.000000          -0.076848  \n",
       "avgQoQ_perc_unemp                0.048796        -0.076848           1.000000  \n",
       "\n",
       "[27 rows x 27 columns]"
      ]
     },
     "execution_count": 17,
     "metadata": {},
     "output_type": "execute_result"
    }
   ],
   "source": [
    "walmart = train.corr()\n",
    "walmart"
   ]
  },
  {
   "cell_type": "code",
   "execution_count": 18,
   "metadata": {},
   "outputs": [
    {
     "data": {
      "text/plain": [
       "next_week_sales_target     1.000000\n",
       "next_week_1_year_ago       0.986895\n",
       "this_week_sales            0.962765\n",
       "store_size                 0.826692\n",
       "pre_christmas              0.112758\n",
       "thanksgiving               0.063746\n",
       "next_week_holiday_flag     0.035292\n",
       "fuel_quarterly_rolling     0.027169\n",
       "avgQoQ_perc_cpi            0.022188\n",
       "fuel_4wk_rolling           0.015321\n",
       "super_bowl                 0.015225\n",
       "avgMoM_perc_unemp          0.010336\n",
       "fuel_price                 0.005592\n",
       "christmas                  0.003227\n",
       "this_week_holiday_flag     0.000464\n",
       "labor_day                 -0.002386\n",
       "avgQoQ_perc_fuel          -0.016706\n",
       "avgMoM_perc_cpi           -0.018228\n",
       "avgMoM_perc_fuel          -0.023049\n",
       "avgQoQ_perc_unemp         -0.030810\n",
       "temperature               -0.066468\n",
       "cpi_4wk_rolling           -0.067162\n",
       "CPI                       -0.067191\n",
       "cpi_quarterly_rolling     -0.067206\n",
       "this_week_unemployment    -0.123025\n",
       "unemp_4wk_rolling         -0.125143\n",
       "unemp_quarterly_rolling   -0.125939\n",
       "Name: next_week_sales_target, dtype: float64"
      ]
     },
     "execution_count": 18,
     "metadata": {},
     "output_type": "execute_result"
    }
   ],
   "source": [
    "#this shows correlation with sales\n",
    "wal_corr = walmart['next_week_sales_target'].sort_values(ascending=False)\n",
    "wal_corr"
   ]
  },
  {
   "cell_type": "code",
   "execution_count": 19,
   "metadata": {},
   "outputs": [
    {
     "data": {
      "image/png": "[encoded data removed]",
      "text/plain": [
       "<Figure size 576x864 with 2 Axes>"
      ]
     },
     "metadata": {
      "needs_background": "light"
     },
     "output_type": "display_data"
    }
   ],
   "source": [
    "plt.figure(figsize=(8, 12))\n",
    "heatmap = sns.heatmap(df.corr()[['next_week_sales_target']].sort_values(by='next_week_sales_target', ascending=False), vmin=-1, vmax=1, annot=True, cmap='mako_r')\n",
    "heatmap.set_title('Features Correlating with weekly sales', fontdict={'fontsize':18}, pad=16);"
   ]
  },
  {
   "cell_type": "markdown",
   "metadata": {},
   "source": [
    "<hr style=\"border:2px solid black\"> </hr>"
   ]
  },
  {
   "cell_type": "markdown",
   "metadata": {},
   "source": [
    "## Hypothesis 1: Pearson's (cont vs cont)\n",
    "$H_0$: There is no correlation between next week sales and store_size\n",
    "\n",
    "$H_a$: There is a correlation between next week sales and store_size\n"
   ]
  },
  {
   "cell_type": "code",
   "execution_count": 20,
   "metadata": {},
   "outputs": [],
   "source": [
    "#pearsons correlation on entire train set\n",
    "#number of rows\n",
    "n = train.shape[0] \n",
    "\n",
    "#degrees of freedom- how much the data can vary\n",
    "deg_f = n-2 \n",
    "\n",
    "#confidence interval (!)\n",
    "conf_in = 0.95\n",
    "\n",
    "alpha = 1- conf_in"
   ]
  },
  {
   "cell_type": "code",
   "execution_count": 21,
   "metadata": {},
   "outputs": [],
   "source": [
    "x= train.next_week_sales_target\n",
    "y= train.store_size"
   ]
  },
  {
   "cell_type": "code",
   "execution_count": 22,
   "metadata": {},
   "outputs": [
    {
     "data": {
      "text/plain": [
       "(0.8266920637985677, 0.0)"
      ]
     },
     "execution_count": 22,
     "metadata": {},
     "output_type": "execute_result"
    }
   ],
   "source": [
    "r, p = stats.pearsonr(x,y)\n",
    "r,p"
   ]
  },
  {
   "cell_type": "code",
   "execution_count": 23,
   "metadata": {},
   "outputs": [
    {
     "data": {
      "text/plain": [
       "True"
      ]
     },
     "execution_count": 23,
     "metadata": {},
     "output_type": "execute_result"
    }
   ],
   "source": [
    "p < alpha"
   ]
  },
  {
   "cell_type": "code",
   "execution_count": 24,
   "metadata": {},
   "outputs": [
    {
     "name": "stdout",
     "output_type": "stream",
     "text": [
      "We calculate a pearson r of 0.826692 and a statistical certainty p of 0.000000\n",
      "Because p 0.000000 < α  0.050000, we can reject our null hypothesis\n"
     ]
    }
   ],
   "source": [
    "print(f'We calculate a pearson r of {r:3f} and a statistical certainty p of {p:4f}')\n",
    "print(f'Because p {p:4f} < α  {alpha:4f}, we can reject our null hypothesis')"
   ]
  },
  {
   "cell_type": "markdown",
   "metadata": {},
   "source": [
    "### Takeaways:\n",
    "- We rejected our null hypothesis, thus indicating that there is a correlation between next week sales and store size"
   ]
  },
  {
   "cell_type": "markdown",
   "metadata": {},
   "source": [
    "<hr style=\"border:1px solid black\"> </hr>"
   ]
  },
  {
   "cell_type": "markdown",
   "metadata": {},
   "source": [
    "## Hypothesis 2: Pearson's (cont vs cont)\n",
    "$H_0$: There is no correlation between this week sales and next week sales\n",
    "\n",
    "$H_a$: There is a correlation between this week sales and next week sales"
   ]
  },
  {
   "cell_type": "code",
   "execution_count": 25,
   "metadata": {},
   "outputs": [],
   "source": [
    "#pearsons correlation on entire train set\n",
    "#number of rows\n",
    "n = train.shape[0] \n",
    "\n",
    "#degrees of freedom- how much the data can vary\n",
    "deg_f = n-2 \n",
    "\n",
    "#confidence interval (!)\n",
    "conf_in = 0.95\n",
    "\n",
    "alpha = 1- conf_in\n",
    "\n",
    "x= train.next_week_sales_target\n",
    "y= train.this_week_sales"
   ]
  },
  {
   "cell_type": "code",
   "execution_count": 26,
   "metadata": {},
   "outputs": [
    {
     "data": {
      "text/plain": [
       "(0.9627654091073827, 0.0)"
      ]
     },
     "execution_count": 26,
     "metadata": {},
     "output_type": "execute_result"
    }
   ],
   "source": [
    "r, p = stats.pearsonr(x,y)\n",
    "r,p"
   ]
  },
  {
   "cell_type": "code",
   "execution_count": 27,
   "metadata": {},
   "outputs": [
    {
     "data": {
      "text/plain": [
       "True"
      ]
     },
     "execution_count": 27,
     "metadata": {},
     "output_type": "execute_result"
    }
   ],
   "source": [
    "p < alpha"
   ]
  },
  {
   "cell_type": "code",
   "execution_count": 28,
   "metadata": {},
   "outputs": [
    {
     "name": "stdout",
     "output_type": "stream",
     "text": [
      "We calculate a pearson r of 0.962765 and a statistical certainty p of 0.000000\n",
      "Because p 0.000000 < α  0.050000, we can reject our null hypothesis\n"
     ]
    }
   ],
   "source": [
    "print(f'We calculate a pearson r of {r:3f} and a statistical certainty p of {p:4f}')\n",
    "print(f'Because p {p:4f} < α  {alpha:4f}, we can reject our null hypothesis')"
   ]
  },
  {
   "cell_type": "markdown",
   "metadata": {},
   "source": [
    "### Takeaways:\n",
    "- We rejected our null hypothesis, thus indicating that there is a correlation between this week sales and next week sales."
   ]
  },
  {
   "cell_type": "markdown",
   "metadata": {},
   "source": [
    "<hr style=\"border:1px solid black\"> </hr>"
   ]
  },
  {
   "cell_type": "markdown",
   "metadata": {},
   "source": [
    "## Hypothesis 3: Pearson's (cont vs cont)\n",
    "$H_0$: There is no correlation between this week sales and sales from this time last year\n",
    "\n",
    "$H_a$: There is a correlation between this week sales and sales from this time last year"
   ]
  },
  {
   "cell_type": "code",
   "execution_count": 29,
   "metadata": {},
   "outputs": [],
   "source": [
    "#pearsons correlation on entire train set\n",
    "#number of rows\n",
    "n = train.shape[0] \n",
    "\n",
    "#degrees of freedom- how much the data can vary\n",
    "deg_f = n-2 \n",
    "\n",
    "#confidence interval (!)\n",
    "conf_in = 0.95\n",
    "\n",
    "alpha = 1- conf_in"
   ]
  },
  {
   "cell_type": "code",
   "execution_count": 30,
   "metadata": {},
   "outputs": [],
   "source": [
    "x= train.next_week_sales_target\n",
    "y= train.next_week_1_year_ago"
   ]
  },
  {
   "cell_type": "code",
   "execution_count": 31,
   "metadata": {},
   "outputs": [
    {
     "data": {
      "text/plain": [
       "(0.9868949181448758, 0.0)"
      ]
     },
     "execution_count": 31,
     "metadata": {},
     "output_type": "execute_result"
    }
   ],
   "source": [
    "r, p = stats.pearsonr(x,y)\n",
    "r,p"
   ]
  },
  {
   "cell_type": "code",
   "execution_count": 32,
   "metadata": {},
   "outputs": [
    {
     "data": {
      "text/plain": [
       "True"
      ]
     },
     "execution_count": 32,
     "metadata": {},
     "output_type": "execute_result"
    }
   ],
   "source": [
    "p < alpha"
   ]
  },
  {
   "cell_type": "code",
   "execution_count": 33,
   "metadata": {},
   "outputs": [
    {
     "name": "stdout",
     "output_type": "stream",
     "text": [
      "We calculate a pearson r of 0.986895 and a statistical certainty p of 0.000000\n",
      "Because p 0.000000 < α  0.050000, we can reject our null hypothesis\n"
     ]
    }
   ],
   "source": [
    "print(f'We calculate a pearson r of {r:3f} and a statistical certainty p of {p:4f}')\n",
    "print(f'Because p {p:4f} < α  {alpha:4f}, we can reject our null hypothesis')"
   ]
  },
  {
   "cell_type": "markdown",
   "metadata": {},
   "source": [
    "### Takeaways:\n",
    "- We rejected our null hypothesis, thus indicating that there is a correlation between this week sales and sales from this week last year."
   ]
  },
  {
   "cell_type": "markdown",
   "metadata": {},
   "source": [
    "<hr style=\"border:1px solid black\"> </hr>"
   ]
  },
  {
   "cell_type": "markdown",
   "metadata": {},
   "source": [
    "## Hypothesis 3: T-Test (discrete vs cont)\n",
    "$H_0$: There is no relationship between this next_weeks_sales_target and pre_christmas\n",
    "\n",
    "$H_a$: There is a relationship between this next_weeks_sales_target and pre_christmas"
   ]
  },
  {
   "cell_type": "code",
   "execution_count": 34,
   "metadata": {},
   "outputs": [],
   "source": [
    "#set alpha\n",
    "alpha = .05"
   ]
  },
  {
   "cell_type": "code",
   "execution_count": 35,
   "metadata": {},
   "outputs": [
    {
     "data": {
      "text/plain": [
       "(2866, 2866)"
      ]
     },
     "execution_count": 35,
     "metadata": {},
     "output_type": "execute_result"
    }
   ],
   "source": [
    "# sample size, must be more then 30 to meet assumption\n",
    "train.next_week_sales_target.count(), train.pre_christmas.count()"
   ]
  },
  {
   "cell_type": "code",
   "execution_count": 36,
   "metadata": {},
   "outputs": [
    {
     "data": {
      "text/plain": [
       "(311994305524.36316, 0.02050397693850634)"
      ]
     },
     "execution_count": 36,
     "metadata": {},
     "output_type": "execute_result"
    }
   ],
   "source": [
    "#check variance\n",
    "train.next_week_sales_target.var(), train.pre_christmas.var()\n",
    "\n",
    "#this shows not equal varient"
   ]
  },
  {
   "cell_type": "code",
   "execution_count": 37,
   "metadata": {},
   "outputs": [
    {
     "data": {
      "text/plain": [
       "(100.85573231815083, 0.0)"
      ]
     },
     "execution_count": 37,
     "metadata": {},
     "output_type": "execute_result"
    }
   ],
   "source": [
    "#t-test on entire train set\n",
    "t, p = stats.ttest_ind(train.next_week_sales_target,train.pre_christmas, equal_var=False)\n",
    "t, p"
   ]
  },
  {
   "cell_type": "code",
   "execution_count": 38,
   "metadata": {},
   "outputs": [
    {
     "data": {
      "text/plain": [
       "True"
      ]
     },
     "execution_count": 38,
     "metadata": {},
     "output_type": "execute_result"
    }
   ],
   "source": [
    "p <alpha"
   ]
  },
  {
   "cell_type": "code",
   "execution_count": 39,
   "metadata": {},
   "outputs": [
    {
     "name": "stdout",
     "output_type": "stream",
     "text": [
      "We calculate a t of 100.855732 and a statistical certainty p of 0.000000\n",
      "Because p 0.000000 < α  0.050000, we reject our null hypothesis\n"
     ]
    }
   ],
   "source": [
    "print(f'We calculate a t of {t:3f} and a statistical certainty p of {p:4f}')\n",
    "print(f'Because p {p:4f} < α  {alpha:4f}, we reject our null hypothesis')"
   ]
  },
  {
   "cell_type": "markdown",
   "metadata": {},
   "source": [
    "### Takeaways:\n",
    "- We rejected our null hypothesis, thus indicating that there is a correlation between next week sales and pre-christmas."
   ]
  },
  {
   "cell_type": "markdown",
   "metadata": {},
   "source": [
    "<hr style=\"border:2px solid black\"> </hr>"
   ]
  },
  {
   "cell_type": "markdown",
   "metadata": {},
   "source": [
    "# Modeling"
   ]
  },
  {
   "cell_type": "code",
   "execution_count": 40,
   "metadata": {},
   "outputs": [
    {
     "name": "stdout",
     "output_type": "stream",
     "text": [
      "train -> (2866, 32)\n",
      "test -> (1229, 32)\n"
     ]
    }
   ],
   "source": [
    "train, test, X_train_scaled, X_test_scaled, y_train, y_test= w.split_scale(df, 'next_week_sales_target', scaler= MinMaxScaler())"
   ]
  },
  {
   "cell_type": "code",
   "execution_count": 41,
   "metadata": {},
   "outputs": [],
   "source": [
    "#set features\n",
    "#we do not want to include all columns in this because it could cause overfitting\n",
    "features = ['store_size', 'this_week_unemployment', 'next_week_1_year_ago', 'this_week_sales', 'pre_christmas']"
   ]
  },
  {
   "cell_type": "code",
   "execution_count": 42,
   "metadata": {},
   "outputs": [],
   "source": [
    "# We need y_train and y_validate to be dataframes to append the new columns with predicted values. \n",
    "y_train = pd.DataFrame({'actual': y_train})\n",
    "y_test = pd.DataFrame({'actual': y_test})"
   ]
  },
  {
   "cell_type": "markdown",
   "metadata": {},
   "source": [
    "## Baseline"
   ]
  },
  {
   "cell_type": "code",
   "execution_count": 43,
   "metadata": {},
   "outputs": [],
   "source": [
    "#create the baseline using mean of all sales\n",
    "baseline= y_train['actual'].mean()"
   ]
  },
  {
   "cell_type": "code",
   "execution_count": 44,
   "metadata": {},
   "outputs": [],
   "source": [
    "#create column called baseline to compare\n",
    "y_train['baseline'] = baseline"
   ]
  },
  {
   "cell_type": "code",
   "execution_count": 45,
   "metadata": {},
   "outputs": [],
   "source": [
    "#calculate RMSE for baseline model\n",
    "rmse_baseline_train= math.sqrt(mean_squared_error(y_train.actual, y_train.baseline))"
   ]
  },
  {
   "cell_type": "code",
   "execution_count": 46,
   "metadata": {},
   "outputs": [
    {
     "data": {
      "text/html": [
       "<div>\n",
       "<style scoped>\n",
       "    .dataframe tbody tr th:only-of-type {\n",
       "        vertical-align: middle;\n",
       "    }\n",
       "\n",
       "    .dataframe tbody tr th {\n",
       "        vertical-align: top;\n",
       "    }\n",
       "\n",
       "    .dataframe thead th {\n",
       "        text-align: right;\n",
       "    }\n",
       "</style>\n",
       "<table border=\"1\" class=\"dataframe\">\n",
       "  <thead>\n",
       "    <tr style=\"text-align: right;\">\n",
       "      <th></th>\n",
       "      <th>model</th>\n",
       "      <th>rmse_train</th>\n",
       "      <th>r^2_train</th>\n",
       "    </tr>\n",
       "  </thead>\n",
       "  <tbody>\n",
       "    <tr>\n",
       "      <th>0</th>\n",
       "      <td>Baseline (using mean)</td>\n",
       "      <td>558467.05</td>\n",
       "      <td>0.0</td>\n",
       "    </tr>\n",
       "  </tbody>\n",
       "</table>\n",
       "</div>"
      ],
      "text/plain": [
       "                   model  rmse_train  r^2_train\n",
       "0  Baseline (using mean)   558467.05        0.0"
      ]
     },
     "execution_count": 46,
     "metadata": {},
     "output_type": "execute_result"
    }
   ],
   "source": [
    "#create a dataframe to make data easier to visualize/understand\n",
    "metric_df = pd.DataFrame(data=[{\n",
    "    'model': \"Baseline (using mean)\",\n",
    "    'rmse_train': round(rmse_baseline_train, 2),\n",
    "    'r^2_train': round(explained_variance_score(y_train.actual, y_train.baseline),4),\n",
    "\n",
    "}])\n",
    "\n",
    "metric_df"
   ]
  },
  {
   "cell_type": "markdown",
   "metadata": {},
   "source": [
    "## Baseline 2"
   ]
  },
  {
   "cell_type": "code",
   "execution_count": 47,
   "metadata": {},
   "outputs": [],
   "source": [
    "#baseline version 2 using last years sales\n",
    "baseline2 = train['next_week_1_year_ago']"
   ]
  },
  {
   "cell_type": "code",
   "execution_count": 48,
   "metadata": {},
   "outputs": [],
   "source": [
    "#prediction\n",
    "#create column called baseline to compare\n",
    "y_train['last_year_baseline'] = baseline2"
   ]
  },
  {
   "cell_type": "code",
   "execution_count": 49,
   "metadata": {},
   "outputs": [],
   "source": [
    "#calculate RMSE for baseline model\n",
    "rmse_baseline2_train= math.sqrt(mean_squared_error(y_train.actual, y_train.last_year_baseline))"
   ]
  },
  {
   "cell_type": "code",
   "execution_count": 50,
   "metadata": {},
   "outputs": [
    {
     "data": {
      "text/html": [
       "<div>\n",
       "<style scoped>\n",
       "    .dataframe tbody tr th:only-of-type {\n",
       "        vertical-align: middle;\n",
       "    }\n",
       "\n",
       "    .dataframe tbody tr th {\n",
       "        vertical-align: top;\n",
       "    }\n",
       "\n",
       "    .dataframe thead th {\n",
       "        text-align: right;\n",
       "    }\n",
       "</style>\n",
       "<table border=\"1\" class=\"dataframe\">\n",
       "  <thead>\n",
       "    <tr style=\"text-align: right;\">\n",
       "      <th></th>\n",
       "      <th>model</th>\n",
       "      <th>rmse_train</th>\n",
       "      <th>r^2_train</th>\n",
       "    </tr>\n",
       "  </thead>\n",
       "  <tbody>\n",
       "    <tr>\n",
       "      <th>0</th>\n",
       "      <td>Baseline (using mean)</td>\n",
       "      <td>558467.05</td>\n",
       "      <td>0.0000</td>\n",
       "    </tr>\n",
       "    <tr>\n",
       "      <th>1</th>\n",
       "      <td>Baseline (using last year's sales)</td>\n",
       "      <td>91145.28</td>\n",
       "      <td>0.9738</td>\n",
       "    </tr>\n",
       "  </tbody>\n",
       "</table>\n",
       "</div>"
      ],
      "text/plain": [
       "                                model  rmse_train  r^2_train\n",
       "0               Baseline (using mean)   558467.05     0.0000\n",
       "1  Baseline (using last year's sales)    91145.28     0.9738"
      ]
     },
     "execution_count": 50,
     "metadata": {},
     "output_type": "execute_result"
    }
   ],
   "source": [
    "#create a dataframe to make data easier to visualize/understand\n",
    "metric_df = metric_df.append(\n",
    "    {\n",
    "    'model': \"Baseline (using last year's sales)\",\n",
    "    'rmse_train': round(rmse_baseline2_train, 2),\n",
    "    'r^2_train': round(explained_variance_score(y_train.actual, y_train.last_year_baseline),4),\n",
    "    }, ignore_index=True)\n",
    "\n",
    "metric_df"
   ]
  },
  {
   "cell_type": "markdown",
   "metadata": {},
   "source": [
    "## OLS Model"
   ]
  },
  {
   "cell_type": "code",
   "execution_count": 51,
   "metadata": {},
   "outputs": [
    {
     "data": {
      "text/plain": [
       "LinearRegression(normalize=True)"
      ]
     },
     "execution_count": 51,
     "metadata": {},
     "output_type": "execute_result"
    }
   ],
   "source": [
    "#ordinary least squares\n",
    "#create the model \n",
    "model1 = LinearRegression(normalize=True)\n",
    "\n",
    "#fit the model\n",
    "model1.fit(X_train_scaled[features], y_train.actual)"
   ]
  },
  {
   "cell_type": "code",
   "execution_count": 52,
   "metadata": {},
   "outputs": [],
   "source": [
    "# predict train\n",
    "y_train['sales_pred_lm'] = model1.predict(X_train_scaled[features])\n",
    "\n",
    "# evaluate: rmse\n",
    "rmse_train = mean_squared_error(y_train.actual, y_train.sales_pred_lm)**(1/2)"
   ]
  },
  {
   "cell_type": "code",
   "execution_count": 53,
   "metadata": {},
   "outputs": [
    {
     "data": {
      "text/html": [
       "<div>\n",
       "<style scoped>\n",
       "    .dataframe tbody tr th:only-of-type {\n",
       "        vertical-align: middle;\n",
       "    }\n",
       "\n",
       "    .dataframe tbody tr th {\n",
       "        vertical-align: top;\n",
       "    }\n",
       "\n",
       "    .dataframe thead th {\n",
       "        text-align: right;\n",
       "    }\n",
       "</style>\n",
       "<table border=\"1\" class=\"dataframe\">\n",
       "  <thead>\n",
       "    <tr style=\"text-align: right;\">\n",
       "      <th></th>\n",
       "      <th>model</th>\n",
       "      <th>rmse_train</th>\n",
       "      <th>r^2_train</th>\n",
       "    </tr>\n",
       "  </thead>\n",
       "  <tbody>\n",
       "    <tr>\n",
       "      <th>0</th>\n",
       "      <td>Baseline (using mean)</td>\n",
       "      <td>558467.05</td>\n",
       "      <td>0.0000</td>\n",
       "    </tr>\n",
       "    <tr>\n",
       "      <th>1</th>\n",
       "      <td>Baseline (using last year's sales)</td>\n",
       "      <td>91145.28</td>\n",
       "      <td>0.9738</td>\n",
       "    </tr>\n",
       "    <tr>\n",
       "      <th>2</th>\n",
       "      <td>Model 1: OLS</td>\n",
       "      <td>74358.31</td>\n",
       "      <td>0.9823</td>\n",
       "    </tr>\n",
       "  </tbody>\n",
       "</table>\n",
       "</div>"
      ],
      "text/plain": [
       "                                model  rmse_train  r^2_train\n",
       "0               Baseline (using mean)   558467.05     0.0000\n",
       "1  Baseline (using last year's sales)    91145.28     0.9738\n",
       "2                        Model 1: OLS    74358.31     0.9823"
      ]
     },
     "execution_count": 53,
     "metadata": {},
     "output_type": "execute_result"
    }
   ],
   "source": [
    "#create visual to see baseline vs LinearRegression model\n",
    "metric_df = metric_df.append(\n",
    "    {\n",
    "    'model': 'Model 1: OLS',\n",
    "    'rmse_train': round(rmse_train, 2),\n",
    "    'r^2_train': round(explained_variance_score(y_train.actual, y_train.sales_pred_lm),4),\n",
    "    }, ignore_index=True)\n",
    "\n",
    "metric_df"
   ]
  },
  {
   "cell_type": "markdown",
   "metadata": {},
   "source": [
    "## Lasso Lars"
   ]
  },
  {
   "cell_type": "code",
   "execution_count": 54,
   "metadata": {},
   "outputs": [],
   "source": [
    "# create the model object\n",
    "model2 = LassoLars(alpha= 2)\n",
    "\n",
    "# fit the model to our training data. We must specify the column in y_train, \n",
    "# since we have converted it to a dataframe from a series! \n",
    "model2.fit(X_train_scaled[features], y_train.actual)\n",
    "\n",
    "# predict train\n",
    "y_train['sales_pred_lars'] = model2.predict(X_train_scaled[features])\n",
    "\n",
    "# evaluate: rmse\n",
    "rmse_train = mean_squared_error(y_train.actual, y_train.sales_pred_lars)**(1/2)"
   ]
  },
  {
   "cell_type": "code",
   "execution_count": 55,
   "metadata": {},
   "outputs": [
    {
     "data": {
      "text/html": [
       "<div>\n",
       "<style scoped>\n",
       "    .dataframe tbody tr th:only-of-type {\n",
       "        vertical-align: middle;\n",
       "    }\n",
       "\n",
       "    .dataframe tbody tr th {\n",
       "        vertical-align: top;\n",
       "    }\n",
       "\n",
       "    .dataframe thead th {\n",
       "        text-align: right;\n",
       "    }\n",
       "</style>\n",
       "<table border=\"1\" class=\"dataframe\">\n",
       "  <thead>\n",
       "    <tr style=\"text-align: right;\">\n",
       "      <th></th>\n",
       "      <th>model</th>\n",
       "      <th>rmse_train</th>\n",
       "      <th>r^2_train</th>\n",
       "    </tr>\n",
       "  </thead>\n",
       "  <tbody>\n",
       "    <tr>\n",
       "      <th>0</th>\n",
       "      <td>Baseline (using mean)</td>\n",
       "      <td>558467.05</td>\n",
       "      <td>0.0000</td>\n",
       "    </tr>\n",
       "    <tr>\n",
       "      <th>1</th>\n",
       "      <td>Baseline (using last year's sales)</td>\n",
       "      <td>91145.28</td>\n",
       "      <td>0.9738</td>\n",
       "    </tr>\n",
       "    <tr>\n",
       "      <th>2</th>\n",
       "      <td>Model 1: OLS</td>\n",
       "      <td>74358.31</td>\n",
       "      <td>0.9823</td>\n",
       "    </tr>\n",
       "    <tr>\n",
       "      <th>3</th>\n",
       "      <td>Model 2: LassoLars (alpha 2)</td>\n",
       "      <td>74358.54</td>\n",
       "      <td>0.9823</td>\n",
       "    </tr>\n",
       "  </tbody>\n",
       "</table>\n",
       "</div>"
      ],
      "text/plain": [
       "                                model  rmse_train  r^2_train\n",
       "0               Baseline (using mean)   558467.05     0.0000\n",
       "1  Baseline (using last year's sales)    91145.28     0.9738\n",
       "2                        Model 1: OLS    74358.31     0.9823\n",
       "3        Model 2: LassoLars (alpha 2)    74358.54     0.9823"
      ]
     },
     "execution_count": 55,
     "metadata": {},
     "output_type": "execute_result"
    }
   ],
   "source": [
    "#shows baseline vs LinearRegression vs LassoLars\n",
    "metric_df = metric_df.append(\n",
    "    {\n",
    "    'model': 'Model 2: LassoLars (alpha 2)',\n",
    "    'rmse_train': round(rmse_train,2),\n",
    "    'r^2_train': round(explained_variance_score(y_train.actual, y_train.sales_pred_lars),4),\n",
    "    }, ignore_index=True)\n",
    "\n",
    "metric_df"
   ]
  },
  {
   "cell_type": "markdown",
   "metadata": {},
   "source": [
    "## Polynomial Regression"
   ]
  },
  {
   "cell_type": "code",
   "execution_count": 56,
   "metadata": {},
   "outputs": [],
   "source": [
    "#make the polynomial features to get a new set of features\n",
    "model3 = PolynomialFeatures(degree=2)\n",
    "\n",
    "# fit and transform X_train_scaled features\n",
    "X_train_degree2 = model3.fit_transform(X_train_scaled[features])"
   ]
  },
  {
   "cell_type": "code",
   "execution_count": 57,
   "metadata": {},
   "outputs": [],
   "source": [
    "#create the model\n",
    "lm2 = LinearRegression(normalize=True)\n",
    "\n",
    "#fit the mode\n",
    "lm2.fit(X_train_degree2, y_train.actual)\n",
    "\n",
    "#use the model\n",
    "y_train['sale_pred_lm2'] = lm2.predict(X_train_degree2)\n",
    "\n",
    "# evaluate: rmse\n",
    "rmse_train_model3 = mean_squared_error(y_train.actual, y_train.sale_pred_lm2) ** (1/2)"
   ]
  },
  {
   "cell_type": "code",
   "execution_count": 58,
   "metadata": {},
   "outputs": [
    {
     "data": {
      "text/html": [
       "<div>\n",
       "<style scoped>\n",
       "    .dataframe tbody tr th:only-of-type {\n",
       "        vertical-align: middle;\n",
       "    }\n",
       "\n",
       "    .dataframe tbody tr th {\n",
       "        vertical-align: top;\n",
       "    }\n",
       "\n",
       "    .dataframe thead th {\n",
       "        text-align: right;\n",
       "    }\n",
       "</style>\n",
       "<table border=\"1\" class=\"dataframe\">\n",
       "  <thead>\n",
       "    <tr style=\"text-align: right;\">\n",
       "      <th></th>\n",
       "      <th>model</th>\n",
       "      <th>rmse_train</th>\n",
       "      <th>r^2_train</th>\n",
       "    </tr>\n",
       "  </thead>\n",
       "  <tbody>\n",
       "    <tr>\n",
       "      <th>0</th>\n",
       "      <td>Baseline (using mean)</td>\n",
       "      <td>558467.05</td>\n",
       "      <td>0.0000</td>\n",
       "    </tr>\n",
       "    <tr>\n",
       "      <th>1</th>\n",
       "      <td>Baseline (using last year's sales)</td>\n",
       "      <td>91145.28</td>\n",
       "      <td>0.9738</td>\n",
       "    </tr>\n",
       "    <tr>\n",
       "      <th>2</th>\n",
       "      <td>Model 1: OLS</td>\n",
       "      <td>74358.31</td>\n",
       "      <td>0.9823</td>\n",
       "    </tr>\n",
       "    <tr>\n",
       "      <th>3</th>\n",
       "      <td>Model 2: LassoLars (alpha 2)</td>\n",
       "      <td>74358.54</td>\n",
       "      <td>0.9823</td>\n",
       "    </tr>\n",
       "    <tr>\n",
       "      <th>4</th>\n",
       "      <td>Model 3: Polynomial Regression (degree=2)</td>\n",
       "      <td>69784.81</td>\n",
       "      <td>0.9844</td>\n",
       "    </tr>\n",
       "  </tbody>\n",
       "</table>\n",
       "</div>"
      ],
      "text/plain": [
       "                                       model  rmse_train  r^2_train\n",
       "0                      Baseline (using mean)   558467.05     0.0000\n",
       "1         Baseline (using last year's sales)    91145.28     0.9738\n",
       "2                               Model 1: OLS    74358.31     0.9823\n",
       "3               Model 2: LassoLars (alpha 2)    74358.54     0.9823\n",
       "4  Model 3: Polynomial Regression (degree=2)    69784.81     0.9844"
      ]
     },
     "execution_count": 58,
     "metadata": {},
     "output_type": "execute_result"
    }
   ],
   "source": [
    "#shows baseline vs LinearRegression vs LassoLars\n",
    "metric_df = metric_df.append(\n",
    "    {\n",
    "    'model': 'Model 3: Polynomial Regression (degree=2)',\n",
    "    'rmse_train': round(rmse_train_model3,2),\n",
    "    'r^2_train': round(explained_variance_score(y_train.actual, y_train.sale_pred_lm2),4),\n",
    "    }, ignore_index=True)\n",
    "\n",
    "metric_df"
   ]
  },
  {
   "cell_type": "markdown",
   "metadata": {},
   "source": [
    "### Takeaways\n",
    "- Data was scaled using MinMaxScaler\n",
    "- Features included for modeling were: 'store_size', 'this_week_unemployment', 'next_week_1_year_ago', 'this_week_sales', and 'pre_christmas'\n",
    "\n",
    "<br>\n",
    "\n",
    "- 2nd Degree Polynomial Regression model out performed the baseline (using last year's sales) by 23.44% on the train set"
   ]
  },
  {
   "cell_type": "markdown",
   "metadata": {},
   "source": [
    "<hr style=\"border:2px solid black\"> </hr>"
   ]
  },
  {
   "cell_type": "markdown",
   "metadata": {},
   "source": [
    "## Use Polynomial Regression on Test Set"
   ]
  },
  {
   "cell_type": "code",
   "execution_count": null,
   "metadata": {},
   "outputs": [],
   "source": []
  }
 ],
 "metadata": {
  "kernelspec": {
   "display_name": "Python 3",
   "language": "python",
   "name": "python3"
  },
  "language_info": {
   "codemirror_mode": {
    "name": "ipython",
    "version": 3
   },
   "file_extension": ".py",
   "mimetype": "text/x-python",
   "name": "python",
   "nbconvert_exporter": "python",
   "pygments_lexer": "ipython3",
   "version": "3.8.5"
  }
 },
 "nbformat": 4,
 "nbformat_minor": 4
}
