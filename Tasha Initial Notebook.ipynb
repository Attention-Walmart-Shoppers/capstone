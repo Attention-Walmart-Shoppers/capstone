{
 "cells": [
  {
   "cell_type": "markdown",
   "metadata": {},
   "source": [
    "# Attention Walmart Shoppers\n",
    "### A Walmart retail analysis"
   ]
  },
  {
   "cell_type": "markdown",
   "metadata": {},
   "source": [
    "The data was originally retrieved from:\n",
    " -   https://www.kaggle.com/rutuspatel/retail-analysis-with-walmart-sales-data"
   ]
  },
  {
   "cell_type": "markdown",
   "metadata": {},
   "source": [
    "### Data Dictionary\n",
    "\n",
    "| Target    |  Data Type       | Description                 |\n",
    "|-----------|------------------|-----------------------------|\n",
    "|     ?     |              ?   |                     ?       |\n",
    "\n",
    "\n",
    "| Column        |  Data Type       | Description                          |  \n",
    "|---------------|------------------|--------------------------------------|\n",
    "| Store         |     int64        | unique identifier for store  (1-45)  |\n",
    "| Date          |     object       | Date of transaction                  |\n",
    "| Weekly_Sales  |     float64      | Sales in USD per week                |\n",
    "| Holiday_Flag  |     int64        | indicator of a Holiday week (boolean)|\n",
    "| Temperature   |     float64      | temperature in Farenheight           |\n",
    "| Fuel_Price    |     float64      | cost of fuel(in USD) in region       |\n",
    "| CPI           |     float64      | Prevailing consumer price index      |\n",
    "| Unemployment  |     float64      | Prevailing unemployment rate         |"
   ]
  },
  {
   "cell_type": "markdown",
   "metadata": {},
   "source": [
    "## Think about...\n",
    "- What is your goal?\n",
    "- what is your TARGET? drivers for that target?\n",
    "- what is one oberservation? what does one row from your dataset represent?"
   ]
  },
  {
   "cell_type": "markdown",
   "metadata": {},
   "source": [
    "## Daily meetings\n",
    "- standup doc\n",
    "- shared knowledge doc\n",
    "\n",
    "### Three important Questions\n",
    "- what did you work on since we last talked?\n",
    "- what are you planning on working on next?\n",
    "- what are your blockers?"
   ]
  },
  {
   "cell_type": "markdown",
   "metadata": {},
   "source": [
    "<hr style=\"border:2px solid black\"> </hr>"
   ]
  }
 ],
 "metadata": {
  "kernelspec": {
   "display_name": "Python 3",
   "language": "python",
   "name": "python3"
  },
  "language_info": {
   "codemirror_mode": {
    "name": "ipython",
    "version": 3
   },
   "file_extension": ".py",
   "mimetype": "text/x-python",
   "name": "python",
   "nbconvert_exporter": "python",
   "pygments_lexer": "ipython3",
   "version": "3.8.5"
  }
 },
 "nbformat": 4,
 "nbformat_minor": 4
}
