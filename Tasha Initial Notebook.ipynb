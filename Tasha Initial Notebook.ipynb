{
 "cells": [
  {
   "cell_type": "markdown",
   "metadata": {},
   "source": [
    "# Attention Walmart Shoppers\n",
    "### A Walmart retail analysis"
   ]
  },
  {
   "cell_type": "markdown",
   "metadata": {},
   "source": [
    "The data was originally retrieved from:\n",
    " -   https://www.kaggle.com/rutuspatel/retail-analysis-with-walmart-sales-data\n",
    " - https://www.kaggle.com/c/walmart-recruiting-store-sales-forecasting/data"
   ]
  },
  {
   "cell_type": "markdown",
   "metadata": {},
   "source": [
    "### Data Dictionary\n",
    "\n",
    "| Target       |  Data Type       | Description                     |\n",
    "|--------------|------------------|---------------------------------|\n",
    "| Weekly_Sales |   float64        | Sales in USD per week by store  |\n",
    "\n",
    "\n",
    "| Column        |  Data Type       | Description                                      |  \n",
    "|---------------|------------------|--------------------------------------------------|\n",
    "| Store         |     int64        | unique identifier for store  (1-45)              |\n",
    "| Date          |     object       | Date of transaction                              |\n",
    "| Holiday_Flag  |     int64        | indicator of a Holiday week (boolean)            |\n",
    "| Temperature   |     float64      | temperature in Farenheight                       |\n",
    "| Fuel_Price    |     float64      | cost of fuel(in USD) in region                   |\n",
    "| CPI           |     float64      | Prevailing consumer price index, cost of goods   |\n",
    "| Unemployment  |     float64      | Prevailing unemployment rate                     |"
   ]
  },
  {
   "cell_type": "markdown",
   "metadata": {},
   "source": [
    "## Goal:\n",
    "- to predict weekly sales price for a store"
   ]
  },
  {
   "cell_type": "markdown",
   "metadata": {},
   "source": [
    "## Think about...\n",
    "- What is your goal?\n",
    "- what is your TARGET? drivers for that target?\n",
    "- what is one oberservation? what does one row from your dataset represent?"
   ]
  },
  {
   "cell_type": "markdown",
   "metadata": {},
   "source": [
    "## Daily meetings\n",
    "- standup doc\n",
    "- shared knowledge doc\n",
    "\n",
    "### Three important Questions\n",
    "- what did you work on since we last talked?\n",
    "- what are you planning on working on next?\n",
    "- what are your blockers?"
   ]
  },
  {
   "cell_type": "code",
   "execution_count": 1,
   "metadata": {},
   "outputs": [],
   "source": [
    "import pandas as pd\n",
    "import numpy as np\n",
    "\n",
    "#visualization\n",
    "import matplotlib.pyplot as plt\n",
    "import seaborn as sns\n",
    "\n",
    "#custom modules\n",
    "import wrangle\n",
    "import new_wrangle"
   ]
  },
  {
   "cell_type": "markdown",
   "metadata": {},
   "source": [
    "<hr style=\"border:2px solid black\"> </hr>"
   ]
  },
  {
   "cell_type": "markdown",
   "metadata": {},
   "source": [
    "# Acquire"
   ]
  },
  {
   "cell_type": "code",
   "execution_count": 2,
   "metadata": {},
   "outputs": [],
   "source": [
    "df= new_wrangle.acquire_data()"
   ]
  },
  {
   "cell_type": "code",
   "execution_count": 3,
   "metadata": {},
   "outputs": [
    {
     "data": {
      "text/html": [
       "<div>\n",
       "<style scoped>\n",
       "    .dataframe tbody tr th:only-of-type {\n",
       "        vertical-align: middle;\n",
       "    }\n",
       "\n",
       "    .dataframe tbody tr th {\n",
       "        vertical-align: top;\n",
       "    }\n",
       "\n",
       "    .dataframe thead th {\n",
       "        text-align: right;\n",
       "    }\n",
       "</style>\n",
       "<table border=\"1\" class=\"dataframe\">\n",
       "  <thead>\n",
       "    <tr style=\"text-align: right;\">\n",
       "      <th></th>\n",
       "      <th>Store</th>\n",
       "      <th>Date</th>\n",
       "      <th>Weekly_Sales</th>\n",
       "      <th>Holiday_Flag</th>\n",
       "      <th>Temperature</th>\n",
       "      <th>Fuel_Price</th>\n",
       "      <th>CPI</th>\n",
       "      <th>Unemployment</th>\n",
       "      <th>Type</th>\n",
       "      <th>Size</th>\n",
       "    </tr>\n",
       "  </thead>\n",
       "  <tbody>\n",
       "    <tr>\n",
       "      <th>0</th>\n",
       "      <td>1</td>\n",
       "      <td>05-02-2010</td>\n",
       "      <td>1643690.90</td>\n",
       "      <td>0</td>\n",
       "      <td>42.31</td>\n",
       "      <td>2.572</td>\n",
       "      <td>211.096358</td>\n",
       "      <td>8.106</td>\n",
       "      <td>A</td>\n",
       "      <td>151315</td>\n",
       "    </tr>\n",
       "    <tr>\n",
       "      <th>1</th>\n",
       "      <td>1</td>\n",
       "      <td>12-02-2010</td>\n",
       "      <td>1641957.44</td>\n",
       "      <td>1</td>\n",
       "      <td>38.51</td>\n",
       "      <td>2.548</td>\n",
       "      <td>211.242170</td>\n",
       "      <td>8.106</td>\n",
       "      <td>A</td>\n",
       "      <td>151315</td>\n",
       "    </tr>\n",
       "    <tr>\n",
       "      <th>2</th>\n",
       "      <td>1</td>\n",
       "      <td>19-02-2010</td>\n",
       "      <td>1611968.17</td>\n",
       "      <td>0</td>\n",
       "      <td>39.93</td>\n",
       "      <td>2.514</td>\n",
       "      <td>211.289143</td>\n",
       "      <td>8.106</td>\n",
       "      <td>A</td>\n",
       "      <td>151315</td>\n",
       "    </tr>\n",
       "    <tr>\n",
       "      <th>3</th>\n",
       "      <td>1</td>\n",
       "      <td>26-02-2010</td>\n",
       "      <td>1409727.59</td>\n",
       "      <td>0</td>\n",
       "      <td>46.63</td>\n",
       "      <td>2.561</td>\n",
       "      <td>211.319643</td>\n",
       "      <td>8.106</td>\n",
       "      <td>A</td>\n",
       "      <td>151315</td>\n",
       "    </tr>\n",
       "    <tr>\n",
       "      <th>4</th>\n",
       "      <td>1</td>\n",
       "      <td>05-03-2010</td>\n",
       "      <td>1554806.68</td>\n",
       "      <td>0</td>\n",
       "      <td>46.50</td>\n",
       "      <td>2.625</td>\n",
       "      <td>211.350143</td>\n",
       "      <td>8.106</td>\n",
       "      <td>A</td>\n",
       "      <td>151315</td>\n",
       "    </tr>\n",
       "  </tbody>\n",
       "</table>\n",
       "</div>"
      ],
      "text/plain": [
       "   Store        Date  Weekly_Sales  Holiday_Flag  Temperature  Fuel_Price  \\\n",
       "0      1  05-02-2010    1643690.90             0        42.31       2.572   \n",
       "1      1  12-02-2010    1641957.44             1        38.51       2.548   \n",
       "2      1  19-02-2010    1611968.17             0        39.93       2.514   \n",
       "3      1  26-02-2010    1409727.59             0        46.63       2.561   \n",
       "4      1  05-03-2010    1554806.68             0        46.50       2.625   \n",
       "\n",
       "          CPI  Unemployment Type    Size  \n",
       "0  211.096358         8.106    A  151315  \n",
       "1  211.242170         8.106    A  151315  \n",
       "2  211.289143         8.106    A  151315  \n",
       "3  211.319643         8.106    A  151315  \n",
       "4  211.350143         8.106    A  151315  "
      ]
     },
     "execution_count": 3,
     "metadata": {},
     "output_type": "execute_result"
    }
   ],
   "source": [
    "df.head()"
   ]
  },
  {
   "cell_type": "code",
   "execution_count": 4,
   "metadata": {},
   "outputs": [
    {
     "name": "stdout",
     "output_type": "stream",
     "text": [
      "<class 'pandas.core.frame.DataFrame'>\n",
      "Int64Index: 6435 entries, 0 to 6434\n",
      "Data columns (total 10 columns):\n",
      " #   Column        Non-Null Count  Dtype  \n",
      "---  ------        --------------  -----  \n",
      " 0   Store         6435 non-null   int64  \n",
      " 1   Date          6435 non-null   object \n",
      " 2   Weekly_Sales  6435 non-null   float64\n",
      " 3   Holiday_Flag  6435 non-null   int64  \n",
      " 4   Temperature   6435 non-null   float64\n",
      " 5   Fuel_Price    6435 non-null   float64\n",
      " 6   CPI           6435 non-null   float64\n",
      " 7   Unemployment  6435 non-null   float64\n",
      " 8   Type          6435 non-null   object \n",
      " 9   Size          6435 non-null   int64  \n",
      "dtypes: float64(5), int64(3), object(2)\n",
      "memory usage: 553.0+ KB\n"
     ]
    }
   ],
   "source": [
    "#check for nulls, dtypes\n",
    "df.info()"
   ]
  },
  {
   "cell_type": "markdown",
   "metadata": {},
   "source": [
    "<hr style=\"border:2px solid black\"> </hr>"
   ]
  },
  {
   "cell_type": "markdown",
   "metadata": {},
   "source": [
    "# Prepare"
   ]
  },
  {
   "cell_type": "code",
   "execution_count": 5,
   "metadata": {},
   "outputs": [
    {
     "name": "stderr",
     "output_type": "stream",
     "text": [
      "/Users/natasharivers/codeup-data-science/database-exercises/capstone/new_wrangle.py:65: FutureWarning: weekofyear and week have been deprecated, please use DatetimeIndex.isocalendar().week instead, which returns a Series.  To exactly reproduce the behavior of week and weekofyear and return an Index, you may call pd.Int64Index(idx.isocalendar().week)\n",
      "  df['week_of_year'] = pd.DatetimeIndex(df['Date']).week\n"
     ]
    }
   ],
   "source": [
    "#import the cleaned data using new_wrangle.py\n",
    "df= new_wrangle.wrangle_walmart()"
   ]
  },
  {
   "cell_type": "code",
   "execution_count": 6,
   "metadata": {},
   "outputs": [
    {
     "name": "stdout",
     "output_type": "stream",
     "text": [
      "<class 'pandas.core.frame.DataFrame'>\n",
      "DatetimeIndex: 6435 entries, 2010-02-05 to 2012-10-26\n",
      "Data columns (total 19 columns):\n",
      " #   Column           Non-Null Count  Dtype  \n",
      "---  ------           --------------  -----  \n",
      " 0   store_id         6435 non-null   int64  \n",
      " 1   weekly_sales     6435 non-null   float64\n",
      " 2   holiday_flag     6435 non-null   int64  \n",
      " 3   temperature      6435 non-null   int64  \n",
      " 4   fuel_price       6435 non-null   float64\n",
      " 5   CPI              6435 non-null   float64\n",
      " 6   unemployment     6435 non-null   float64\n",
      " 7   store_type       6435 non-null   object \n",
      " 8   store_size       6435 non-null   int64  \n",
      " 9   month            6435 non-null   object \n",
      " 10  year             6435 non-null   int64  \n",
      " 11  quarter          6435 non-null   int64  \n",
      " 12  weekday          6435 non-null   object \n",
      " 13  week_of_year     6435 non-null   int64  \n",
      " 14  deflated_series  6435 non-null   float64\n",
      " 15  sales_delta      6435 non-null   float64\n",
      " 16  gas_delta        6435 non-null   float64\n",
      " 17  season           6435 non-null   object \n",
      " 18  holiday_name     6435 non-null   object \n",
      "dtypes: float64(7), int64(7), object(5)\n",
      "memory usage: 1005.5+ KB\n"
     ]
    }
   ],
   "source": [
    "df.info()"
   ]
  },
  {
   "cell_type": "code",
   "execution_count": 7,
   "metadata": {},
   "outputs": [
    {
     "data": {
      "text/html": [
       "<div>\n",
       "<style scoped>\n",
       "    .dataframe tbody tr th:only-of-type {\n",
       "        vertical-align: middle;\n",
       "    }\n",
       "\n",
       "    .dataframe tbody tr th {\n",
       "        vertical-align: top;\n",
       "    }\n",
       "\n",
       "    .dataframe thead th {\n",
       "        text-align: right;\n",
       "    }\n",
       "</style>\n",
       "<table border=\"1\" class=\"dataframe\">\n",
       "  <thead>\n",
       "    <tr style=\"text-align: right;\">\n",
       "      <th></th>\n",
       "      <th>store_id</th>\n",
       "      <th>weekly_sales</th>\n",
       "      <th>holiday_flag</th>\n",
       "      <th>temperature</th>\n",
       "      <th>fuel_price</th>\n",
       "      <th>CPI</th>\n",
       "      <th>unemployment</th>\n",
       "      <th>store_type</th>\n",
       "      <th>store_size</th>\n",
       "      <th>month</th>\n",
       "      <th>year</th>\n",
       "      <th>quarter</th>\n",
       "      <th>weekday</th>\n",
       "      <th>week_of_year</th>\n",
       "      <th>deflated_series</th>\n",
       "      <th>sales_delta</th>\n",
       "      <th>gas_delta</th>\n",
       "      <th>season</th>\n",
       "      <th>holiday_name</th>\n",
       "    </tr>\n",
       "    <tr>\n",
       "      <th>Date</th>\n",
       "      <th></th>\n",
       "      <th></th>\n",
       "      <th></th>\n",
       "      <th></th>\n",
       "      <th></th>\n",
       "      <th></th>\n",
       "      <th></th>\n",
       "      <th></th>\n",
       "      <th></th>\n",
       "      <th></th>\n",
       "      <th></th>\n",
       "      <th></th>\n",
       "      <th></th>\n",
       "      <th></th>\n",
       "      <th></th>\n",
       "      <th></th>\n",
       "      <th></th>\n",
       "      <th></th>\n",
       "      <th></th>\n",
       "    </tr>\n",
       "  </thead>\n",
       "  <tbody>\n",
       "    <tr>\n",
       "      <th>2012-10-26</th>\n",
       "      <td>25</td>\n",
       "      <td>688940.94</td>\n",
       "      <td>0</td>\n",
       "      <td>56</td>\n",
       "      <td>3.88</td>\n",
       "      <td>216.152</td>\n",
       "      <td>7.293</td>\n",
       "      <td>B</td>\n",
       "      <td>128107</td>\n",
       "      <td>October</td>\n",
       "      <td>2012</td>\n",
       "      <td>4</td>\n",
       "      <td>Friday</td>\n",
       "      <td>43</td>\n",
       "      <td>3187.30</td>\n",
       "      <td>3409.09</td>\n",
       "      <td>-0.09</td>\n",
       "      <td>Fall</td>\n",
       "      <td>no_holiday</td>\n",
       "    </tr>\n",
       "    <tr>\n",
       "      <th>2012-10-26</th>\n",
       "      <td>5</td>\n",
       "      <td>319550.77</td>\n",
       "      <td>0</td>\n",
       "      <td>71</td>\n",
       "      <td>3.51</td>\n",
       "      <td>224.038</td>\n",
       "      <td>5.422</td>\n",
       "      <td>C</td>\n",
       "      <td>34875</td>\n",
       "      <td>October</td>\n",
       "      <td>2012</td>\n",
       "      <td>4</td>\n",
       "      <td>Friday</td>\n",
       "      <td>43</td>\n",
       "      <td>1426.32</td>\n",
       "      <td>6192.62</td>\n",
       "      <td>-0.08</td>\n",
       "      <td>Fall</td>\n",
       "      <td>no_holiday</td>\n",
       "    </tr>\n",
       "    <tr>\n",
       "      <th>2012-10-26</th>\n",
       "      <td>40</td>\n",
       "      <td>921264.52</td>\n",
       "      <td>0</td>\n",
       "      <td>49</td>\n",
       "      <td>3.92</td>\n",
       "      <td>138.728</td>\n",
       "      <td>4.145</td>\n",
       "      <td>A</td>\n",
       "      <td>155083</td>\n",
       "      <td>October</td>\n",
       "      <td>2012</td>\n",
       "      <td>4</td>\n",
       "      <td>Friday</td>\n",
       "      <td>43</td>\n",
       "      <td>6640.80</td>\n",
       "      <td>3094.02</td>\n",
       "      <td>-0.08</td>\n",
       "      <td>Fall</td>\n",
       "      <td>no_holiday</td>\n",
       "    </tr>\n",
       "    <tr>\n",
       "      <th>2012-10-26</th>\n",
       "      <td>18</td>\n",
       "      <td>1127516.25</td>\n",
       "      <td>0</td>\n",
       "      <td>56</td>\n",
       "      <td>3.92</td>\n",
       "      <td>138.728</td>\n",
       "      <td>8.243</td>\n",
       "      <td>B</td>\n",
       "      <td>120653</td>\n",
       "      <td>October</td>\n",
       "      <td>2012</td>\n",
       "      <td>4</td>\n",
       "      <td>Friday</td>\n",
       "      <td>43</td>\n",
       "      <td>8127.53</td>\n",
       "      <td>78809.50</td>\n",
       "      <td>-0.08</td>\n",
       "      <td>Fall</td>\n",
       "      <td>no_holiday</td>\n",
       "    </tr>\n",
       "    <tr>\n",
       "      <th>2012-10-26</th>\n",
       "      <td>45</td>\n",
       "      <td>760281.43</td>\n",
       "      <td>0</td>\n",
       "      <td>58</td>\n",
       "      <td>3.88</td>\n",
       "      <td>192.309</td>\n",
       "      <td>8.667</td>\n",
       "      <td>B</td>\n",
       "      <td>118221</td>\n",
       "      <td>October</td>\n",
       "      <td>2012</td>\n",
       "      <td>4</td>\n",
       "      <td>Friday</td>\n",
       "      <td>43</td>\n",
       "      <td>3953.44</td>\n",
       "      <td>42155.90</td>\n",
       "      <td>-0.09</td>\n",
       "      <td>Fall</td>\n",
       "      <td>no_holiday</td>\n",
       "    </tr>\n",
       "  </tbody>\n",
       "</table>\n",
       "</div>"
      ],
      "text/plain": [
       "            store_id  weekly_sales  holiday_flag  temperature  fuel_price  \\\n",
       "Date                                                                        \n",
       "2012-10-26        25     688940.94             0           56        3.88   \n",
       "2012-10-26         5     319550.77             0           71        3.51   \n",
       "2012-10-26        40     921264.52             0           49        3.92   \n",
       "2012-10-26        18    1127516.25             0           56        3.92   \n",
       "2012-10-26        45     760281.43             0           58        3.88   \n",
       "\n",
       "                CPI  unemployment store_type  store_size    month  year  \\\n",
       "Date                                                                      \n",
       "2012-10-26  216.152         7.293          B      128107  October  2012   \n",
       "2012-10-26  224.038         5.422          C       34875  October  2012   \n",
       "2012-10-26  138.728         4.145          A      155083  October  2012   \n",
       "2012-10-26  138.728         8.243          B      120653  October  2012   \n",
       "2012-10-26  192.309         8.667          B      118221  October  2012   \n",
       "\n",
       "            quarter weekday  week_of_year  deflated_series  sales_delta  \\\n",
       "Date                                                                      \n",
       "2012-10-26        4  Friday            43          3187.30      3409.09   \n",
       "2012-10-26        4  Friday            43          1426.32      6192.62   \n",
       "2012-10-26        4  Friday            43          6640.80      3094.02   \n",
       "2012-10-26        4  Friday            43          8127.53     78809.50   \n",
       "2012-10-26        4  Friday            43          3953.44     42155.90   \n",
       "\n",
       "            gas_delta season holiday_name  \n",
       "Date                                       \n",
       "2012-10-26      -0.09   Fall   no_holiday  \n",
       "2012-10-26      -0.08   Fall   no_holiday  \n",
       "2012-10-26      -0.08   Fall   no_holiday  \n",
       "2012-10-26      -0.08   Fall   no_holiday  \n",
       "2012-10-26      -0.09   Fall   no_holiday  "
      ]
     },
     "execution_count": 7,
     "metadata": {},
     "output_type": "execute_result"
    }
   ],
   "source": [
    "#take a look at the data\n",
    "df.tail()"
   ]
  },
  {
   "cell_type": "code",
   "execution_count": 8,
   "metadata": {},
   "outputs": [
    {
     "name": "stdout",
     "output_type": "stream",
     "text": [
      "X_train -> (5445, 18)\n",
      "X_test -> (990, 18)\n"
     ]
    }
   ],
   "source": [
    "#train test split\n",
    "X_train, y_train, X_test, y_test = new_wrangle.train_test(df,'weekly_sales')"
   ]
  },
  {
   "cell_type": "code",
   "execution_count": 9,
   "metadata": {},
   "outputs": [
    {
     "data": {
      "text/plain": [
       "Date\n",
       "2010-02-05    1643690.90\n",
       "2010-02-05    2193048.75\n",
       "2010-02-05     536006.73\n",
       "2010-02-05     789036.02\n",
       "2010-02-05     465108.52\n",
       "Name: weekly_sales, dtype: float64"
      ]
     },
     "execution_count": 9,
     "metadata": {},
     "output_type": "execute_result"
    }
   ],
   "source": [
    "y_train.head()"
   ]
  },
  {
   "cell_type": "markdown",
   "metadata": {},
   "source": [
    "<hr style=\"border:2px solid black\"> </hr>"
   ]
  },
  {
   "cell_type": "markdown",
   "metadata": {},
   "source": [
    "# Explore"
   ]
  },
  {
   "cell_type": "code",
   "execution_count": 10,
   "metadata": {},
   "outputs": [
    {
     "data": {
      "text/plain": [
       "Summer    2925\n",
       "Winter    1350\n",
       "Spring    1215\n",
       "Fall       945\n",
       "Name: season, dtype: int64"
      ]
     },
     "execution_count": 10,
     "metadata": {},
     "output_type": "execute_result"
    }
   ],
   "source": [
    "#count of season\n",
    "df.season.value_counts()"
   ]
  },
  {
   "cell_type": "code",
   "execution_count": 11,
   "metadata": {},
   "outputs": [
    {
     "data": {
      "text/plain": [
       "no_holiday      5985\n",
       "labor_day        135\n",
       "super_bowl       135\n",
       "christmas         90\n",
       "thanksgiving      90\n",
       "Name: holiday_name, dtype: int64"
      ]
     },
     "execution_count": 11,
     "metadata": {},
     "output_type": "execute_result"
    }
   ],
   "source": [
    "df.holiday_name.value_counts()"
   ]
  },
  {
   "cell_type": "code",
   "execution_count": 12,
   "metadata": {},
   "outputs": [
    {
     "data": {
      "text/plain": [
       "3    1800\n",
       "2    1755\n",
       "1    1485\n",
       "4    1395\n",
       "Name: quarter, dtype: int64"
      ]
     },
     "execution_count": 12,
     "metadata": {},
     "output_type": "execute_result"
    }
   ],
   "source": [
    "df.quarter.value_counts()"
   ]
  },
  {
   "cell_type": "code",
   "execution_count": 13,
   "metadata": {},
   "outputs": [],
   "source": [
    "#bivariate"
   ]
  },
  {
   "cell_type": "code",
   "execution_count": 14,
   "metadata": {},
   "outputs": [],
   "source": [
    "cat_col = df.select_dtypes(include='object').columns\n",
    "num_col = df.select_dtypes(include='number').columns"
   ]
  },
  {
   "cell_type": "code",
   "execution_count": 15,
   "metadata": {},
   "outputs": [
    {
     "data": {
      "text/plain": [
       "<AxesSubplot:xlabel='store_type', ylabel='store_size'>"
      ]
     },
     "execution_count": 15,
     "metadata": {},
     "output_type": "execute_result"
    },
    {
     "data": {
      "image/png": "[encoded data removed]",
      "text/plain": [
       "<Figure size 1008x432 with 1 Axes>"
      ]
     },
     "metadata": {
      "needs_background": "light"
     },
     "output_type": "display_data"
    }
   ],
   "source": [
    "#visualize store_type by store_size\n",
    "plt.figure(figsize=(14, 6))\n",
    "sns.boxplot(x='store_type', y='store_size', data=df)"
   ]
  },
  {
   "cell_type": "markdown",
   "metadata": {},
   "source": [
    "### Takeaways:\n",
    "- Store A: appears to be only larger stores\n",
    "- Store B: appear to be midsized stores\n",
    "- Store C: appears to be only smaller stores\n",
    "\n",
    "- outliers were addressed (store 3, store 5, store 33, store 36 were classified incorrectly)"
   ]
  },
  {
   "cell_type": "code",
   "execution_count": 24,
   "metadata": {},
   "outputs": [
    {
     "data": {
      "text/plain": [
       "<AxesSubplot:xlabel='store_type', ylabel='weekly_sales'>"
      ]
     },
     "execution_count": 24,
     "metadata": {},
     "output_type": "execute_result"
    },
    {
     "data": {
      "image/png": "[encoded data removed]",
      "text/plain": [
       "<Figure size 1008x432 with 1 Axes>"
      ]
     },
     "metadata": {
      "needs_background": "light"
     },
     "output_type": "display_data"
    }
   ],
   "source": [
    "plt.figure(figsize=(14,6))\n",
    "sns.boxplot(x='store_type', y='weekly_sales', data=df)"
   ]
  },
  {
   "cell_type": "code",
   "execution_count": null,
   "metadata": {},
   "outputs": [],
   "source": []
  }
 ],
 "metadata": {
  "kernelspec": {
   "display_name": "Python 3",
   "language": "python",
   "name": "python3"
  },
  "language_info": {
   "codemirror_mode": {
    "name": "ipython",
    "version": 3
   },
   "file_extension": ".py",
   "mimetype": "text/x-python",
   "name": "python",
   "nbconvert_exporter": "python",
   "pygments_lexer": "ipython3",
   "version": "3.8.5"
  }
 },
 "nbformat": 4,
 "nbformat_minor": 4
}
