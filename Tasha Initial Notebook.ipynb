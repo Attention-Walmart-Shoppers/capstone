{
 "cells": [
  {
   "cell_type": "markdown",
   "metadata": {},
   "source": [
    "# Attention Walmart Shoppers\n",
    "### A Walmart retail analysis"
   ]
  },
  {
   "cell_type": "markdown",
   "metadata": {},
   "source": [
    "The data was originally retrieved from:\n",
    " -   https://www.kaggle.com/rutuspatel/retail-analysis-with-walmart-sales-data\n",
    " - https://www.kaggle.com/c/walmart-recruiting-store-sales-forecasting/data"
   ]
  },
  {
   "cell_type": "markdown",
   "metadata": {},
   "source": [
    "### Data Dictionary\n",
    "\n",
    "| Target       |  Data Type       | Description                     |\n",
    "|--------------|------------------|---------------------------------|\n",
    "| Weekly_Sales |   float64        | Sales in USD per week by store  |\n",
    "\n",
    "\n",
    "| Column        |  Data Type       | Description                                      |  \n",
    "|---------------|------------------|--------------------------------------------------|\n",
    "| Store         |     int64        | unique identifier for store  (1-45)              |\n",
    "| Date          |     object       | Date of transaction                              |\n",
    "| Holiday_Flag  |     int64        | indicator of a Holiday week (boolean)            |\n",
    "| Temperature   |     float64      | temperature in Farenheight                       |\n",
    "| Fuel_Price    |     float64      | cost of fuel(in USD) in region                   |\n",
    "| CPI           |     float64      | Prevailing consumer price index, cost of goods   |\n",
    "| Unemployment  |     float64      | Prevailing unemployment rate                     |"
   ]
  },
  {
   "cell_type": "markdown",
   "metadata": {},
   "source": [
    "## Goal:\n",
    "- to predict weekly sales price for a store"
   ]
  },
  {
   "cell_type": "markdown",
   "metadata": {},
   "source": [
    "## Think about...\n",
    "- What is your goal?\n",
    "- what is your TARGET? drivers for that target?\n",
    "- what is one oberservation? what does one row from your dataset represent?"
   ]
  },
  {
   "cell_type": "markdown",
   "metadata": {},
   "source": [
    "## Daily meetings\n",
    "- standup doc\n",
    "- shared knowledge doc\n",
    "\n",
    "### Three important Questions\n",
    "- what did you work on since we last talked?\n",
    "- what are you planning on working on next?\n",
    "- what are your blockers?"
   ]
  },
  {
   "cell_type": "code",
   "execution_count": 1,
   "metadata": {},
   "outputs": [],
   "source": [
    "import pandas as pd\n",
    "import numpy as np\n",
    "\n",
    "#visualization\n",
    "import matplotlib.pyplot as plt\n",
    "import seaborn as sns\n",
    "\n",
    "#custom modules\n",
    "import wrangle\n",
    "import new_wrangle"
   ]
  },
  {
   "cell_type": "markdown",
   "metadata": {},
   "source": [
    "<hr style=\"border:2px solid black\"> </hr>"
   ]
  },
  {
   "cell_type": "markdown",
   "metadata": {},
   "source": [
    "# Acquire"
   ]
  },
  {
   "cell_type": "code",
   "execution_count": 2,
   "metadata": {},
   "outputs": [],
   "source": [
    "df= new_wrangle.acquire_data()"
   ]
  },
  {
   "cell_type": "code",
   "execution_count": 3,
   "metadata": {},
   "outputs": [
    {
     "data": {
      "text/html": [
       "<div>\n",
       "<style scoped>\n",
       "    .dataframe tbody tr th:only-of-type {\n",
       "        vertical-align: middle;\n",
       "    }\n",
       "\n",
       "    .dataframe tbody tr th {\n",
       "        vertical-align: top;\n",
       "    }\n",
       "\n",
       "    .dataframe thead th {\n",
       "        text-align: right;\n",
       "    }\n",
       "</style>\n",
       "<table border=\"1\" class=\"dataframe\">\n",
       "  <thead>\n",
       "    <tr style=\"text-align: right;\">\n",
       "      <th></th>\n",
       "      <th>Store</th>\n",
       "      <th>Date</th>\n",
       "      <th>Weekly_Sales</th>\n",
       "      <th>Holiday_Flag</th>\n",
       "      <th>Temperature</th>\n",
       "      <th>Fuel_Price</th>\n",
       "      <th>CPI</th>\n",
       "      <th>Unemployment</th>\n",
       "      <th>Type</th>\n",
       "      <th>Size</th>\n",
       "    </tr>\n",
       "  </thead>\n",
       "  <tbody>\n",
       "    <tr>\n",
       "      <th>0</th>\n",
       "      <td>1</td>\n",
       "      <td>05-02-2010</td>\n",
       "      <td>1643690.90</td>\n",
       "      <td>0</td>\n",
       "      <td>42.31</td>\n",
       "      <td>2.572</td>\n",
       "      <td>211.096358</td>\n",
       "      <td>8.106</td>\n",
       "      <td>A</td>\n",
       "      <td>151315</td>\n",
       "    </tr>\n",
       "    <tr>\n",
       "      <th>1</th>\n",
       "      <td>1</td>\n",
       "      <td>12-02-2010</td>\n",
       "      <td>1641957.44</td>\n",
       "      <td>1</td>\n",
       "      <td>38.51</td>\n",
       "      <td>2.548</td>\n",
       "      <td>211.242170</td>\n",
       "      <td>8.106</td>\n",
       "      <td>A</td>\n",
       "      <td>151315</td>\n",
       "    </tr>\n",
       "    <tr>\n",
       "      <th>2</th>\n",
       "      <td>1</td>\n",
       "      <td>19-02-2010</td>\n",
       "      <td>1611968.17</td>\n",
       "      <td>0</td>\n",
       "      <td>39.93</td>\n",
       "      <td>2.514</td>\n",
       "      <td>211.289143</td>\n",
       "      <td>8.106</td>\n",
       "      <td>A</td>\n",
       "      <td>151315</td>\n",
       "    </tr>\n",
       "    <tr>\n",
       "      <th>3</th>\n",
       "      <td>1</td>\n",
       "      <td>26-02-2010</td>\n",
       "      <td>1409727.59</td>\n",
       "      <td>0</td>\n",
       "      <td>46.63</td>\n",
       "      <td>2.561</td>\n",
       "      <td>211.319643</td>\n",
       "      <td>8.106</td>\n",
       "      <td>A</td>\n",
       "      <td>151315</td>\n",
       "    </tr>\n",
       "    <tr>\n",
       "      <th>4</th>\n",
       "      <td>1</td>\n",
       "      <td>05-03-2010</td>\n",
       "      <td>1554806.68</td>\n",
       "      <td>0</td>\n",
       "      <td>46.50</td>\n",
       "      <td>2.625</td>\n",
       "      <td>211.350143</td>\n",
       "      <td>8.106</td>\n",
       "      <td>A</td>\n",
       "      <td>151315</td>\n",
       "    </tr>\n",
       "  </tbody>\n",
       "</table>\n",
       "</div>"
      ],
      "text/plain": [
       "   Store        Date  Weekly_Sales  Holiday_Flag  Temperature  Fuel_Price  \\\n",
       "0      1  05-02-2010    1643690.90             0        42.31       2.572   \n",
       "1      1  12-02-2010    1641957.44             1        38.51       2.548   \n",
       "2      1  19-02-2010    1611968.17             0        39.93       2.514   \n",
       "3      1  26-02-2010    1409727.59             0        46.63       2.561   \n",
       "4      1  05-03-2010    1554806.68             0        46.50       2.625   \n",
       "\n",
       "          CPI  Unemployment Type    Size  \n",
       "0  211.096358         8.106    A  151315  \n",
       "1  211.242170         8.106    A  151315  \n",
       "2  211.289143         8.106    A  151315  \n",
       "3  211.319643         8.106    A  151315  \n",
       "4  211.350143         8.106    A  151315  "
      ]
     },
     "execution_count": 3,
     "metadata": {},
     "output_type": "execute_result"
    }
   ],
   "source": [
    "df.head()"
   ]
  },
  {
   "cell_type": "code",
   "execution_count": 4,
   "metadata": {},
   "outputs": [
    {
     "name": "stdout",
     "output_type": "stream",
     "text": [
      "<class 'pandas.core.frame.DataFrame'>\n",
      "Int64Index: 6435 entries, 0 to 6434\n",
      "Data columns (total 10 columns):\n",
      " #   Column        Non-Null Count  Dtype  \n",
      "---  ------        --------------  -----  \n",
      " 0   Store         6435 non-null   int64  \n",
      " 1   Date          6435 non-null   object \n",
      " 2   Weekly_Sales  6435 non-null   float64\n",
      " 3   Holiday_Flag  6435 non-null   int64  \n",
      " 4   Temperature   6435 non-null   float64\n",
      " 5   Fuel_Price    6435 non-null   float64\n",
      " 6   CPI           6435 non-null   float64\n",
      " 7   Unemployment  6435 non-null   float64\n",
      " 8   Type          6435 non-null   object \n",
      " 9   Size          6435 non-null   int64  \n",
      "dtypes: float64(5), int64(3), object(2)\n",
      "memory usage: 553.0+ KB\n"
     ]
    }
   ],
   "source": [
    "#check for nulls, dtypes\n",
    "df.info()"
   ]
  },
  {
   "cell_type": "markdown",
   "metadata": {},
   "source": [
    "<hr style=\"border:2px solid black\"> </hr>"
   ]
  },
  {
   "cell_type": "markdown",
   "metadata": {},
   "source": [
    "# Prepare"
   ]
  },
  {
   "cell_type": "code",
   "execution_count": 5,
   "metadata": {},
   "outputs": [
    {
     "name": "stderr",
     "output_type": "stream",
     "text": [
      "/Users/natasharivers/codeup-data-science/database-exercises/capstone/new_wrangle.py:63: FutureWarning: weekofyear and week have been deprecated, please use DatetimeIndex.isocalendar().week instead, which returns a Series.  To exactly reproduce the behavior of week and weekofyear and return an Index, you may call pd.Int64Index(idx.isocalendar().week)\n",
      "  df['week_of_week'] = pd.DatetimeIndex(df['Date']).week\n"
     ]
    }
   ],
   "source": [
    "#import the cleaned data using new_wrangle.py\n",
    "df= new_wrangle.wrangle_walmart()"
   ]
  },
  {
   "cell_type": "code",
   "execution_count": 6,
   "metadata": {},
   "outputs": [
    {
     "name": "stdout",
     "output_type": "stream",
     "text": [
      "<class 'pandas.core.frame.DataFrame'>\n",
      "DatetimeIndex: 6435 entries, 2010-02-05 to 2012-10-26\n",
      "Data columns (total 18 columns):\n",
      " #   Column           Non-Null Count  Dtype  \n",
      "---  ------           --------------  -----  \n",
      " 0   store_id         6435 non-null   int64  \n",
      " 1   weekly_sales     6435 non-null   float64\n",
      " 2   holiday_flag     6435 non-null   int64  \n",
      " 3   temperature      6435 non-null   int64  \n",
      " 4   fuel_price       6435 non-null   float64\n",
      " 5   CPI              6435 non-null   float64\n",
      " 6   unemployment     6435 non-null   float64\n",
      " 7   store_type       6435 non-null   object \n",
      " 8   store_size       6435 non-null   int64  \n",
      " 9   month            6435 non-null   object \n",
      " 10  year             6435 non-null   int64  \n",
      " 11  quarter          6435 non-null   int64  \n",
      " 12  weekday          6435 non-null   object \n",
      " 13  week_of_week     6435 non-null   int64  \n",
      " 14  deflated_series  6435 non-null   float64\n",
      " 15  sales_delta      6435 non-null   float64\n",
      " 16  gas_delta        6435 non-null   float64\n",
      " 17  season           6435 non-null   object \n",
      "dtypes: float64(7), int64(7), object(4)\n",
      "memory usage: 955.2+ KB\n"
     ]
    }
   ],
   "source": [
    "df.info()"
   ]
  },
  {
   "cell_type": "code",
   "execution_count": 7,
   "metadata": {},
   "outputs": [
    {
     "data": {
      "text/html": [
       "<div>\n",
       "<style scoped>\n",
       "    .dataframe tbody tr th:only-of-type {\n",
       "        vertical-align: middle;\n",
       "    }\n",
       "\n",
       "    .dataframe tbody tr th {\n",
       "        vertical-align: top;\n",
       "    }\n",
       "\n",
       "    .dataframe thead th {\n",
       "        text-align: right;\n",
       "    }\n",
       "</style>\n",
       "<table border=\"1\" class=\"dataframe\">\n",
       "  <thead>\n",
       "    <tr style=\"text-align: right;\">\n",
       "      <th></th>\n",
       "      <th>store_id</th>\n",
       "      <th>weekly_sales</th>\n",
       "      <th>holiday_flag</th>\n",
       "      <th>temperature</th>\n",
       "      <th>fuel_price</th>\n",
       "      <th>CPI</th>\n",
       "      <th>unemployment</th>\n",
       "      <th>store_type</th>\n",
       "      <th>store_size</th>\n",
       "      <th>month</th>\n",
       "      <th>year</th>\n",
       "      <th>quarter</th>\n",
       "      <th>weekday</th>\n",
       "      <th>week_of_week</th>\n",
       "      <th>deflated_series</th>\n",
       "      <th>sales_delta</th>\n",
       "      <th>gas_delta</th>\n",
       "      <th>season</th>\n",
       "    </tr>\n",
       "    <tr>\n",
       "      <th>Date</th>\n",
       "      <th></th>\n",
       "      <th></th>\n",
       "      <th></th>\n",
       "      <th></th>\n",
       "      <th></th>\n",
       "      <th></th>\n",
       "      <th></th>\n",
       "      <th></th>\n",
       "      <th></th>\n",
       "      <th></th>\n",
       "      <th></th>\n",
       "      <th></th>\n",
       "      <th></th>\n",
       "      <th></th>\n",
       "      <th></th>\n",
       "      <th></th>\n",
       "      <th></th>\n",
       "      <th></th>\n",
       "    </tr>\n",
       "  </thead>\n",
       "  <tbody>\n",
       "    <tr>\n",
       "      <th>2012-10-26</th>\n",
       "      <td>25</td>\n",
       "      <td>688940.94</td>\n",
       "      <td>0</td>\n",
       "      <td>56</td>\n",
       "      <td>3.88</td>\n",
       "      <td>216.152</td>\n",
       "      <td>7.293</td>\n",
       "      <td>B</td>\n",
       "      <td>128107</td>\n",
       "      <td>October</td>\n",
       "      <td>2012</td>\n",
       "      <td>4</td>\n",
       "      <td>Friday</td>\n",
       "      <td>43</td>\n",
       "      <td>3187.30</td>\n",
       "      <td>3409.09</td>\n",
       "      <td>-0.09</td>\n",
       "      <td>Fall</td>\n",
       "    </tr>\n",
       "    <tr>\n",
       "      <th>2012-10-26</th>\n",
       "      <td>5</td>\n",
       "      <td>319550.77</td>\n",
       "      <td>0</td>\n",
       "      <td>71</td>\n",
       "      <td>3.51</td>\n",
       "      <td>224.038</td>\n",
       "      <td>5.422</td>\n",
       "      <td>B</td>\n",
       "      <td>34875</td>\n",
       "      <td>October</td>\n",
       "      <td>2012</td>\n",
       "      <td>4</td>\n",
       "      <td>Friday</td>\n",
       "      <td>43</td>\n",
       "      <td>1426.32</td>\n",
       "      <td>6192.62</td>\n",
       "      <td>-0.08</td>\n",
       "      <td>Fall</td>\n",
       "    </tr>\n",
       "    <tr>\n",
       "      <th>2012-10-26</th>\n",
       "      <td>40</td>\n",
       "      <td>921264.52</td>\n",
       "      <td>0</td>\n",
       "      <td>49</td>\n",
       "      <td>3.92</td>\n",
       "      <td>138.728</td>\n",
       "      <td>4.145</td>\n",
       "      <td>A</td>\n",
       "      <td>155083</td>\n",
       "      <td>October</td>\n",
       "      <td>2012</td>\n",
       "      <td>4</td>\n",
       "      <td>Friday</td>\n",
       "      <td>43</td>\n",
       "      <td>6640.80</td>\n",
       "      <td>3094.02</td>\n",
       "      <td>-0.08</td>\n",
       "      <td>Fall</td>\n",
       "    </tr>\n",
       "    <tr>\n",
       "      <th>2012-10-26</th>\n",
       "      <td>18</td>\n",
       "      <td>1127516.25</td>\n",
       "      <td>0</td>\n",
       "      <td>56</td>\n",
       "      <td>3.92</td>\n",
       "      <td>138.728</td>\n",
       "      <td>8.243</td>\n",
       "      <td>B</td>\n",
       "      <td>120653</td>\n",
       "      <td>October</td>\n",
       "      <td>2012</td>\n",
       "      <td>4</td>\n",
       "      <td>Friday</td>\n",
       "      <td>43</td>\n",
       "      <td>8127.53</td>\n",
       "      <td>78809.50</td>\n",
       "      <td>-0.08</td>\n",
       "      <td>Fall</td>\n",
       "    </tr>\n",
       "    <tr>\n",
       "      <th>2012-10-26</th>\n",
       "      <td>45</td>\n",
       "      <td>760281.43</td>\n",
       "      <td>0</td>\n",
       "      <td>58</td>\n",
       "      <td>3.88</td>\n",
       "      <td>192.309</td>\n",
       "      <td>8.667</td>\n",
       "      <td>B</td>\n",
       "      <td>118221</td>\n",
       "      <td>October</td>\n",
       "      <td>2012</td>\n",
       "      <td>4</td>\n",
       "      <td>Friday</td>\n",
       "      <td>43</td>\n",
       "      <td>3953.44</td>\n",
       "      <td>42155.90</td>\n",
       "      <td>-0.09</td>\n",
       "      <td>Fall</td>\n",
       "    </tr>\n",
       "  </tbody>\n",
       "</table>\n",
       "</div>"
      ],
      "text/plain": [
       "            store_id  weekly_sales  holiday_flag  temperature  fuel_price  \\\n",
       "Date                                                                        \n",
       "2012-10-26        25     688940.94             0           56        3.88   \n",
       "2012-10-26         5     319550.77             0           71        3.51   \n",
       "2012-10-26        40     921264.52             0           49        3.92   \n",
       "2012-10-26        18    1127516.25             0           56        3.92   \n",
       "2012-10-26        45     760281.43             0           58        3.88   \n",
       "\n",
       "                CPI  unemployment store_type  store_size    month  year  \\\n",
       "Date                                                                      \n",
       "2012-10-26  216.152         7.293          B      128107  October  2012   \n",
       "2012-10-26  224.038         5.422          B       34875  October  2012   \n",
       "2012-10-26  138.728         4.145          A      155083  October  2012   \n",
       "2012-10-26  138.728         8.243          B      120653  October  2012   \n",
       "2012-10-26  192.309         8.667          B      118221  October  2012   \n",
       "\n",
       "            quarter weekday  week_of_week  deflated_series  sales_delta  \\\n",
       "Date                                                                      \n",
       "2012-10-26        4  Friday            43          3187.30      3409.09   \n",
       "2012-10-26        4  Friday            43          1426.32      6192.62   \n",
       "2012-10-26        4  Friday            43          6640.80      3094.02   \n",
       "2012-10-26        4  Friday            43          8127.53     78809.50   \n",
       "2012-10-26        4  Friday            43          3953.44     42155.90   \n",
       "\n",
       "            gas_delta season  \n",
       "Date                          \n",
       "2012-10-26      -0.09   Fall  \n",
       "2012-10-26      -0.08   Fall  \n",
       "2012-10-26      -0.08   Fall  \n",
       "2012-10-26      -0.08   Fall  \n",
       "2012-10-26      -0.09   Fall  "
      ]
     },
     "execution_count": 7,
     "metadata": {},
     "output_type": "execute_result"
    }
   ],
   "source": [
    "#take a look at the data\n",
    "df.tail()"
   ]
  },
  {
   "cell_type": "code",
   "execution_count": 8,
   "metadata": {},
   "outputs": [
    {
     "data": {
      "text/plain": [
       "Friday    6435\n",
       "Name: weekday, dtype: int64"
      ]
     },
     "execution_count": 8,
     "metadata": {},
     "output_type": "execute_result"
    }
   ],
   "source": [
    "df.weekday.value_counts()"
   ]
  },
  {
   "cell_type": "code",
   "execution_count": 9,
   "metadata": {},
   "outputs": [
    {
     "name": "stdout",
     "output_type": "stream",
     "text": [
      "X_train -> (5445, 17)\n",
      "X_test -> (990, 17)\n"
     ]
    }
   ],
   "source": [
    "#train test split\n",
    "X_train, y_train, X_test, y_test = new_wrangle.train_test(df,'weekly_sales')"
   ]
  },
  {
   "cell_type": "code",
   "execution_count": 10,
   "metadata": {},
   "outputs": [
    {
     "data": {
      "text/plain": [
       "Date\n",
       "2010-02-05    1643690.90\n",
       "2010-02-05    2193048.75\n",
       "2010-02-05     536006.73\n",
       "2010-02-05     789036.02\n",
       "2010-02-05     465108.52\n",
       "Name: weekly_sales, dtype: float64"
      ]
     },
     "execution_count": 10,
     "metadata": {},
     "output_type": "execute_result"
    }
   ],
   "source": [
    "y_train.head()"
   ]
  },
  {
   "cell_type": "markdown",
   "metadata": {},
   "source": [
    "<hr style=\"border:2px solid black\"> </hr>"
   ]
  },
  {
   "cell_type": "markdown",
   "metadata": {},
   "source": [
    "# Explore"
   ]
  },
  {
   "cell_type": "code",
   "execution_count": 11,
   "metadata": {},
   "outputs": [
    {
     "data": {
      "text/plain": [
       "Summer    2925\n",
       "Winter    1350\n",
       "Spring    1215\n",
       "Fall       945\n",
       "Name: season, dtype: int64"
      ]
     },
     "execution_count": 11,
     "metadata": {},
     "output_type": "execute_result"
    }
   ],
   "source": [
    "#count of season\n",
    "df.season.value_counts()"
   ]
  },
  {
   "cell_type": "code",
   "execution_count": 12,
   "metadata": {},
   "outputs": [
    {
     "data": {
      "text/plain": [
       "3    1800\n",
       "2    1755\n",
       "1    1485\n",
       "4    1395\n",
       "Name: quarter, dtype: int64"
      ]
     },
     "execution_count": 12,
     "metadata": {},
     "output_type": "execute_result"
    }
   ],
   "source": [
    "df.quarter.value_counts()"
   ]
  },
  {
   "cell_type": "code",
   "execution_count": 13,
   "metadata": {},
   "outputs": [],
   "source": [
    "#bivariate"
   ]
  },
  {
   "cell_type": "code",
   "execution_count": 14,
   "metadata": {},
   "outputs": [],
   "source": [
    "cat_col = df.select_dtypes(include='object').columns\n",
    "num_col = df.select_dtypes(include='number').columns"
   ]
  },
  {
   "cell_type": "code",
   "execution_count": 15,
   "metadata": {},
   "outputs": [
    {
     "data": {
      "text/plain": [
       "<AxesSubplot:xlabel='store_type', ylabel='store_size'>"
      ]
     },
     "execution_count": 15,
     "metadata": {},
     "output_type": "execute_result"
    },
    {
     "data": {
      "image/png": "[encoded data removed]",
      "text/plain": [
       "<Figure size 1008x432 with 1 Axes>"
      ]
     },
     "metadata": {
      "needs_background": "light"
     },
     "output_type": "display_data"
    }
   ],
   "source": [
    "plt.figure(figsize=(14, 6))\n",
    "sns.boxplot(x='store_type', y='store_size', data=df)"
   ]
  },
  {
   "cell_type": "code",
   "execution_count": 23,
   "metadata": {},
   "outputs": [
    {
     "data": {
      "text/plain": [
       "<AxesSubplot:xlabel='store_type', ylabel='store_size'>"
      ]
     },
     "execution_count": 23,
     "metadata": {},
     "output_type": "execute_result"
    },
    {
     "data": {
      "image/png": "[encoded data removed]",
      "text/plain": [
       "<Figure size 1008x432 with 1 Axes>"
      ]
     },
     "metadata": {
      "needs_background": "light"
     },
     "output_type": "display_data"
    }
   ],
   "source": [
    "plt.figure(figsize=(14, 6))\n",
    "sns.boxplot(x='store_type', y='store_size', data=df2)"
   ]
  },
  {
   "cell_type": "markdown",
   "metadata": {},
   "source": [
    "### Takeaways:\n",
    "- Store A: appears to be only larger stores\n",
    "- Store B: appear to be midsized stores\n",
    "- Store C: appears to be only smaller stores\n",
    "\n",
    "- we will need to address these outliers"
   ]
  },
  {
   "cell_type": "code",
   "execution_count": 37,
   "metadata": {},
   "outputs": [],
   "source": [
    "#correct outlier store_types\n",
    "def address_outliers():\n",
    "    df[df['store_id'] ==3] = df.loc[df['store_id'] == 3].replace({'B':'C'})\n",
    "    df[df['store_id'] ==5] = df.loc[df['store_id'] == 5].replace({'B':'C'})\n",
    "    df[df['store_id'] ==33] = df.loc[df['store_id'] == 33].replace({'A':'C'})\n",
    "    df[df['store_id'] ==36] = df.loc[df['store_id'] == 36].replace({'A':'C'})\n",
    "\n",
    "    return df"
   ]
  },
  {
   "cell_type": "code",
   "execution_count": 38,
   "metadata": {},
   "outputs": [],
   "source": [
    "df2= address_outliers()"
   ]
  },
  {
   "cell_type": "code",
   "execution_count": 39,
   "metadata": {},
   "outputs": [
    {
     "data": {
      "text/html": [
       "<div>\n",
       "<style scoped>\n",
       "    .dataframe tbody tr th:only-of-type {\n",
       "        vertical-align: middle;\n",
       "    }\n",
       "\n",
       "    .dataframe tbody tr th {\n",
       "        vertical-align: top;\n",
       "    }\n",
       "\n",
       "    .dataframe thead th {\n",
       "        text-align: right;\n",
       "    }\n",
       "</style>\n",
       "<table border=\"1\" class=\"dataframe\">\n",
       "  <thead>\n",
       "    <tr style=\"text-align: right;\">\n",
       "      <th></th>\n",
       "      <th>store_id</th>\n",
       "      <th>weekly_sales</th>\n",
       "      <th>holiday_flag</th>\n",
       "      <th>temperature</th>\n",
       "      <th>fuel_price</th>\n",
       "      <th>CPI</th>\n",
       "      <th>unemployment</th>\n",
       "      <th>store_type</th>\n",
       "      <th>store_size</th>\n",
       "      <th>month</th>\n",
       "      <th>year</th>\n",
       "      <th>quarter</th>\n",
       "      <th>weekday</th>\n",
       "      <th>week_of_week</th>\n",
       "      <th>deflated_series</th>\n",
       "      <th>sales_delta</th>\n",
       "      <th>gas_delta</th>\n",
       "      <th>season</th>\n",
       "    </tr>\n",
       "    <tr>\n",
       "      <th>Date</th>\n",
       "      <th></th>\n",
       "      <th></th>\n",
       "      <th></th>\n",
       "      <th></th>\n",
       "      <th></th>\n",
       "      <th></th>\n",
       "      <th></th>\n",
       "      <th></th>\n",
       "      <th></th>\n",
       "      <th></th>\n",
       "      <th></th>\n",
       "      <th></th>\n",
       "      <th></th>\n",
       "      <th></th>\n",
       "      <th></th>\n",
       "      <th></th>\n",
       "      <th></th>\n",
       "      <th></th>\n",
       "    </tr>\n",
       "  </thead>\n",
       "  <tbody>\n",
       "    <tr>\n",
       "      <th>2010-02-05</th>\n",
       "      <td>3</td>\n",
       "      <td>461622.22</td>\n",
       "      <td>0</td>\n",
       "      <td>45</td>\n",
       "      <td>2.57</td>\n",
       "      <td>214.425</td>\n",
       "      <td>7.368</td>\n",
       "      <td>C</td>\n",
       "      <td>37392</td>\n",
       "      <td>February</td>\n",
       "      <td>2010</td>\n",
       "      <td>1</td>\n",
       "      <td>Friday</td>\n",
       "      <td>5</td>\n",
       "      <td>2152.84</td>\n",
       "      <td>0.00</td>\n",
       "      <td>0.00</td>\n",
       "      <td>Winter</td>\n",
       "    </tr>\n",
       "    <tr>\n",
       "      <th>2010-02-12</th>\n",
       "      <td>3</td>\n",
       "      <td>420728.96</td>\n",
       "      <td>1</td>\n",
       "      <td>47</td>\n",
       "      <td>2.55</td>\n",
       "      <td>214.575</td>\n",
       "      <td>7.368</td>\n",
       "      <td>C</td>\n",
       "      <td>37392</td>\n",
       "      <td>February</td>\n",
       "      <td>2010</td>\n",
       "      <td>1</td>\n",
       "      <td>Friday</td>\n",
       "      <td>6</td>\n",
       "      <td>1960.75</td>\n",
       "      <td>-40893.26</td>\n",
       "      <td>-0.02</td>\n",
       "      <td>Winter</td>\n",
       "    </tr>\n",
       "    <tr>\n",
       "      <th>2010-02-19</th>\n",
       "      <td>3</td>\n",
       "      <td>421642.19</td>\n",
       "      <td>0</td>\n",
       "      <td>47</td>\n",
       "      <td>2.51</td>\n",
       "      <td>214.620</td>\n",
       "      <td>7.368</td>\n",
       "      <td>C</td>\n",
       "      <td>37392</td>\n",
       "      <td>February</td>\n",
       "      <td>2010</td>\n",
       "      <td>1</td>\n",
       "      <td>Friday</td>\n",
       "      <td>7</td>\n",
       "      <td>1964.60</td>\n",
       "      <td>913.23</td>\n",
       "      <td>-0.04</td>\n",
       "      <td>Winter</td>\n",
       "    </tr>\n",
       "    <tr>\n",
       "      <th>2010-02-26</th>\n",
       "      <td>3</td>\n",
       "      <td>407204.86</td>\n",
       "      <td>0</td>\n",
       "      <td>52</td>\n",
       "      <td>2.56</td>\n",
       "      <td>214.648</td>\n",
       "      <td>7.368</td>\n",
       "      <td>C</td>\n",
       "      <td>37392</td>\n",
       "      <td>February</td>\n",
       "      <td>2010</td>\n",
       "      <td>1</td>\n",
       "      <td>Friday</td>\n",
       "      <td>8</td>\n",
       "      <td>1897.08</td>\n",
       "      <td>-14437.33</td>\n",
       "      <td>0.05</td>\n",
       "      <td>Winter</td>\n",
       "    </tr>\n",
       "    <tr>\n",
       "      <th>2010-03-05</th>\n",
       "      <td>3</td>\n",
       "      <td>415202.04</td>\n",
       "      <td>0</td>\n",
       "      <td>53</td>\n",
       "      <td>2.62</td>\n",
       "      <td>214.675</td>\n",
       "      <td>7.368</td>\n",
       "      <td>C</td>\n",
       "      <td>37392</td>\n",
       "      <td>March</td>\n",
       "      <td>2010</td>\n",
       "      <td>1</td>\n",
       "      <td>Friday</td>\n",
       "      <td>9</td>\n",
       "      <td>1934.10</td>\n",
       "      <td>7997.18</td>\n",
       "      <td>0.06</td>\n",
       "      <td>Spring</td>\n",
       "    </tr>\n",
       "    <tr>\n",
       "      <th>...</th>\n",
       "      <td>...</td>\n",
       "      <td>...</td>\n",
       "      <td>...</td>\n",
       "      <td>...</td>\n",
       "      <td>...</td>\n",
       "      <td>...</td>\n",
       "      <td>...</td>\n",
       "      <td>...</td>\n",
       "      <td>...</td>\n",
       "      <td>...</td>\n",
       "      <td>...</td>\n",
       "      <td>...</td>\n",
       "      <td>...</td>\n",
       "      <td>...</td>\n",
       "      <td>...</td>\n",
       "      <td>...</td>\n",
       "      <td>...</td>\n",
       "      <td>...</td>\n",
       "    </tr>\n",
       "    <tr>\n",
       "      <th>2012-09-28</th>\n",
       "      <td>3</td>\n",
       "      <td>389813.02</td>\n",
       "      <td>0</td>\n",
       "      <td>77</td>\n",
       "      <td>3.67</td>\n",
       "      <td>226.518</td>\n",
       "      <td>6.334</td>\n",
       "      <td>C</td>\n",
       "      <td>37392</td>\n",
       "      <td>September</td>\n",
       "      <td>2012</td>\n",
       "      <td>3</td>\n",
       "      <td>Friday</td>\n",
       "      <td>39</td>\n",
       "      <td>1720.89</td>\n",
       "      <td>-24579.07</td>\n",
       "      <td>-0.05</td>\n",
       "      <td>Summer</td>\n",
       "    </tr>\n",
       "    <tr>\n",
       "      <th>2012-10-05</th>\n",
       "      <td>3</td>\n",
       "      <td>443557.65</td>\n",
       "      <td>0</td>\n",
       "      <td>72</td>\n",
       "      <td>3.62</td>\n",
       "      <td>226.721</td>\n",
       "      <td>6.034</td>\n",
       "      <td>C</td>\n",
       "      <td>37392</td>\n",
       "      <td>October</td>\n",
       "      <td>2012</td>\n",
       "      <td>4</td>\n",
       "      <td>Friday</td>\n",
       "      <td>40</td>\n",
       "      <td>1956.40</td>\n",
       "      <td>53744.63</td>\n",
       "      <td>-0.05</td>\n",
       "      <td>Fall</td>\n",
       "    </tr>\n",
       "    <tr>\n",
       "      <th>2012-10-12</th>\n",
       "      <td>3</td>\n",
       "      <td>410804.39</td>\n",
       "      <td>0</td>\n",
       "      <td>70</td>\n",
       "      <td>3.60</td>\n",
       "      <td>226.924</td>\n",
       "      <td>6.034</td>\n",
       "      <td>C</td>\n",
       "      <td>37392</td>\n",
       "      <td>October</td>\n",
       "      <td>2012</td>\n",
       "      <td>4</td>\n",
       "      <td>Friday</td>\n",
       "      <td>41</td>\n",
       "      <td>1810.32</td>\n",
       "      <td>-32753.26</td>\n",
       "      <td>-0.02</td>\n",
       "      <td>Fall</td>\n",
       "    </tr>\n",
       "    <tr>\n",
       "      <th>2012-10-19</th>\n",
       "      <td>3</td>\n",
       "      <td>424513.08</td>\n",
       "      <td>0</td>\n",
       "      <td>73</td>\n",
       "      <td>3.59</td>\n",
       "      <td>226.969</td>\n",
       "      <td>6.034</td>\n",
       "      <td>C</td>\n",
       "      <td>37392</td>\n",
       "      <td>October</td>\n",
       "      <td>2012</td>\n",
       "      <td>4</td>\n",
       "      <td>Friday</td>\n",
       "      <td>42</td>\n",
       "      <td>1870.36</td>\n",
       "      <td>13708.69</td>\n",
       "      <td>-0.01</td>\n",
       "      <td>Fall</td>\n",
       "    </tr>\n",
       "    <tr>\n",
       "      <th>2012-10-26</th>\n",
       "      <td>3</td>\n",
       "      <td>405432.70</td>\n",
       "      <td>0</td>\n",
       "      <td>74</td>\n",
       "      <td>3.51</td>\n",
       "      <td>226.987</td>\n",
       "      <td>6.034</td>\n",
       "      <td>C</td>\n",
       "      <td>37392</td>\n",
       "      <td>October</td>\n",
       "      <td>2012</td>\n",
       "      <td>4</td>\n",
       "      <td>Friday</td>\n",
       "      <td>43</td>\n",
       "      <td>1786.15</td>\n",
       "      <td>-19080.38</td>\n",
       "      <td>-0.08</td>\n",
       "      <td>Fall</td>\n",
       "    </tr>\n",
       "  </tbody>\n",
       "</table>\n",
       "<p>143 rows × 18 columns</p>\n",
       "</div>"
      ],
      "text/plain": [
       "            store_id  weekly_sales  holiday_flag  temperature  fuel_price  \\\n",
       "Date                                                                        \n",
       "2010-02-05         3     461622.22             0           45        2.57   \n",
       "2010-02-12         3     420728.96             1           47        2.55   \n",
       "2010-02-19         3     421642.19             0           47        2.51   \n",
       "2010-02-26         3     407204.86             0           52        2.56   \n",
       "2010-03-05         3     415202.04             0           53        2.62   \n",
       "...              ...           ...           ...          ...         ...   \n",
       "2012-09-28         3     389813.02             0           77        3.67   \n",
       "2012-10-05         3     443557.65             0           72        3.62   \n",
       "2012-10-12         3     410804.39             0           70        3.60   \n",
       "2012-10-19         3     424513.08             0           73        3.59   \n",
       "2012-10-26         3     405432.70             0           74        3.51   \n",
       "\n",
       "                CPI  unemployment store_type  store_size      month  year  \\\n",
       "Date                                                                        \n",
       "2010-02-05  214.425         7.368          C       37392   February  2010   \n",
       "2010-02-12  214.575         7.368          C       37392   February  2010   \n",
       "2010-02-19  214.620         7.368          C       37392   February  2010   \n",
       "2010-02-26  214.648         7.368          C       37392   February  2010   \n",
       "2010-03-05  214.675         7.368          C       37392      March  2010   \n",
       "...             ...           ...        ...         ...        ...   ...   \n",
       "2012-09-28  226.518         6.334          C       37392  September  2012   \n",
       "2012-10-05  226.721         6.034          C       37392    October  2012   \n",
       "2012-10-12  226.924         6.034          C       37392    October  2012   \n",
       "2012-10-19  226.969         6.034          C       37392    October  2012   \n",
       "2012-10-26  226.987         6.034          C       37392    October  2012   \n",
       "\n",
       "            quarter weekday  week_of_week  deflated_series  sales_delta  \\\n",
       "Date                                                                      \n",
       "2010-02-05        1  Friday             5          2152.84         0.00   \n",
       "2010-02-12        1  Friday             6          1960.75    -40893.26   \n",
       "2010-02-19        1  Friday             7          1964.60       913.23   \n",
       "2010-02-26        1  Friday             8          1897.08    -14437.33   \n",
       "2010-03-05        1  Friday             9          1934.10      7997.18   \n",
       "...             ...     ...           ...              ...          ...   \n",
       "2012-09-28        3  Friday            39          1720.89    -24579.07   \n",
       "2012-10-05        4  Friday            40          1956.40     53744.63   \n",
       "2012-10-12        4  Friday            41          1810.32    -32753.26   \n",
       "2012-10-19        4  Friday            42          1870.36     13708.69   \n",
       "2012-10-26        4  Friday            43          1786.15    -19080.38   \n",
       "\n",
       "            gas_delta  season  \n",
       "Date                           \n",
       "2010-02-05       0.00  Winter  \n",
       "2010-02-12      -0.02  Winter  \n",
       "2010-02-19      -0.04  Winter  \n",
       "2010-02-26       0.05  Winter  \n",
       "2010-03-05       0.06  Spring  \n",
       "...               ...     ...  \n",
       "2012-09-28      -0.05  Summer  \n",
       "2012-10-05      -0.05    Fall  \n",
       "2012-10-12      -0.02    Fall  \n",
       "2012-10-19      -0.01    Fall  \n",
       "2012-10-26      -0.08    Fall  \n",
       "\n",
       "[143 rows x 18 columns]"
      ]
     },
     "execution_count": 39,
     "metadata": {},
     "output_type": "execute_result"
    }
   ],
   "source": [
    "df2.loc[df2['store_id'] == 3]"
   ]
  },
  {
   "cell_type": "code",
   "execution_count": null,
   "metadata": {},
   "outputs": [],
   "source": [
    "[df['store_id'] ==5] = df.loc[df['store_id'] == 5].replace({'B':'C'})\n",
    "[df['store_id'] ==33] = df.loc[df['store_id'] == 33].replace({'A':'C'})\n",
    "[df['store_id'] ==36] = df.loc[df['store_id'] == 36].replace({'A':'C'})"
   ]
  },
  {
   "cell_type": "code",
   "execution_count": 27,
   "metadata": {},
   "outputs": [
    {
     "name": "stderr",
     "output_type": "stream",
     "text": [
      "<ipython-input-26-bd5296243b74>:3: SettingWithCopyWarning: \n",
      "A value is trying to be set on a copy of a slice from a DataFrame\n",
      "\n",
      "See the caveats in the documentation: https://pandas.pydata.org/pandas-docs/stable/user_guide/indexing.html#returning-a-view-versus-a-copy\n",
      "  df['store_id'][df['store_id'] ==3] = df.loc[df['store_id'] == 3].replace({'B':'C'})\n"
     ]
    },
    {
     "ename": "NotImplementedError",
     "evalue": "cannot align with a higher dimensional NDFrame",
     "output_type": "error",
     "traceback": [
      "\u001b[0;31m---------------------------------------------------------------------------\u001b[0m",
      "\u001b[0;31mTypeError\u001b[0m                                 Traceback (most recent call last)",
      "\u001b[0;32m/opt/homebrew/anaconda3/lib/python3.8/site-packages/pandas/core/series.py\u001b[0m in \u001b[0;36m__setitem__\u001b[0;34m(self, key, value)\u001b[0m\n\u001b[1;32m    999\u001b[0m         \u001b[0;32mtry\u001b[0m\u001b[0;34m:\u001b[0m\u001b[0;34m\u001b[0m\u001b[0;34m\u001b[0m\u001b[0m\n\u001b[0;32m-> 1000\u001b[0;31m             \u001b[0mself\u001b[0m\u001b[0;34m.\u001b[0m\u001b[0m_set_with_engine\u001b[0m\u001b[0;34m(\u001b[0m\u001b[0mkey\u001b[0m\u001b[0;34m,\u001b[0m \u001b[0mvalue\u001b[0m\u001b[0;34m)\u001b[0m\u001b[0;34m\u001b[0m\u001b[0;34m\u001b[0m\u001b[0m\n\u001b[0m\u001b[1;32m   1001\u001b[0m         \u001b[0;32mexcept\u001b[0m \u001b[0;34m(\u001b[0m\u001b[0mKeyError\u001b[0m\u001b[0;34m,\u001b[0m \u001b[0mValueError\u001b[0m\u001b[0;34m)\u001b[0m\u001b[0;34m:\u001b[0m\u001b[0;34m\u001b[0m\u001b[0;34m\u001b[0m\u001b[0m\n",
      "\u001b[0;32m/opt/homebrew/anaconda3/lib/python3.8/site-packages/pandas/core/series.py\u001b[0m in \u001b[0;36m_set_with_engine\u001b[0;34m(self, key, value)\u001b[0m\n\u001b[1;32m   1032\u001b[0m         \u001b[0;31m# fails with AttributeError for IntervalIndex\u001b[0m\u001b[0;34m\u001b[0m\u001b[0;34m\u001b[0m\u001b[0;34m\u001b[0m\u001b[0m\n\u001b[0;32m-> 1033\u001b[0;31m         \u001b[0mloc\u001b[0m \u001b[0;34m=\u001b[0m \u001b[0mself\u001b[0m\u001b[0;34m.\u001b[0m\u001b[0mindex\u001b[0m\u001b[0;34m.\u001b[0m\u001b[0m_engine\u001b[0m\u001b[0;34m.\u001b[0m\u001b[0mget_loc\u001b[0m\u001b[0;34m(\u001b[0m\u001b[0mkey\u001b[0m\u001b[0;34m)\u001b[0m\u001b[0;34m\u001b[0m\u001b[0;34m\u001b[0m\u001b[0m\n\u001b[0m\u001b[1;32m   1034\u001b[0m         \u001b[0mvalidate_numeric_casting\u001b[0m\u001b[0;34m(\u001b[0m\u001b[0mself\u001b[0m\u001b[0;34m.\u001b[0m\u001b[0mdtype\u001b[0m\u001b[0;34m,\u001b[0m \u001b[0mvalue\u001b[0m\u001b[0;34m)\u001b[0m\u001b[0;34m\u001b[0m\u001b[0;34m\u001b[0m\u001b[0m\n",
      "\u001b[0;32mpandas/_libs/index.pyx\u001b[0m in \u001b[0;36mpandas._libs.index.DatetimeEngine.get_loc\u001b[0;34m()\u001b[0m\n",
      "\u001b[0;32mpandas/_libs/index.pyx\u001b[0m in \u001b[0;36mpandas._libs.index.DatetimeEngine.get_loc\u001b[0;34m()\u001b[0m\n",
      "\u001b[0;31mTypeError\u001b[0m: 'Date\n2010-02-05    False\n2010-02-05    False\n2010-02-05    False\n2010-02-05    False\n2010-02-05    False\n              ...  \n2012-10-26    False\n2012-10-26    False\n2012-10-26    False\n2012-10-26    False\n2012-10-26    False\nName: store_id, Length: 6435, dtype: bool' is an invalid key",
      "\nDuring handling of the above exception, another exception occurred:\n",
      "\u001b[0;31mNotImplementedError\u001b[0m                       Traceback (most recent call last)",
      "\u001b[0;32m<ipython-input-27-42e31372c6df>\u001b[0m in \u001b[0;36m<module>\u001b[0;34m\u001b[0m\n\u001b[0;32m----> 1\u001b[0;31m \u001b[0mdf2\u001b[0m\u001b[0;34m=\u001b[0m \u001b[0maddress_outliers\u001b[0m\u001b[0;34m(\u001b[0m\u001b[0mdf\u001b[0m\u001b[0;34m)\u001b[0m\u001b[0;34m\u001b[0m\u001b[0;34m\u001b[0m\u001b[0m\n\u001b[0m",
      "\u001b[0;32m<ipython-input-26-bd5296243b74>\u001b[0m in \u001b[0;36maddress_outliers\u001b[0;34m(df)\u001b[0m\n\u001b[1;32m      1\u001b[0m \u001b[0;31m#correct outlier store_types\u001b[0m\u001b[0;34m\u001b[0m\u001b[0;34m\u001b[0m\u001b[0;34m\u001b[0m\u001b[0m\n\u001b[1;32m      2\u001b[0m \u001b[0;32mdef\u001b[0m \u001b[0maddress_outliers\u001b[0m\u001b[0;34m(\u001b[0m\u001b[0mdf\u001b[0m\u001b[0;34m)\u001b[0m\u001b[0;34m:\u001b[0m\u001b[0;34m\u001b[0m\u001b[0;34m\u001b[0m\u001b[0m\n\u001b[0;32m----> 3\u001b[0;31m     \u001b[0mdf\u001b[0m\u001b[0;34m[\u001b[0m\u001b[0;34m'store_id'\u001b[0m\u001b[0;34m]\u001b[0m\u001b[0;34m[\u001b[0m\u001b[0mdf\u001b[0m\u001b[0;34m[\u001b[0m\u001b[0;34m'store_id'\u001b[0m\u001b[0;34m]\u001b[0m \u001b[0;34m==\u001b[0m\u001b[0;36m3\u001b[0m\u001b[0;34m]\u001b[0m \u001b[0;34m=\u001b[0m \u001b[0mdf\u001b[0m\u001b[0;34m.\u001b[0m\u001b[0mloc\u001b[0m\u001b[0;34m[\u001b[0m\u001b[0mdf\u001b[0m\u001b[0;34m[\u001b[0m\u001b[0;34m'store_id'\u001b[0m\u001b[0;34m]\u001b[0m \u001b[0;34m==\u001b[0m \u001b[0;36m3\u001b[0m\u001b[0;34m]\u001b[0m\u001b[0;34m.\u001b[0m\u001b[0mreplace\u001b[0m\u001b[0;34m(\u001b[0m\u001b[0;34m{\u001b[0m\u001b[0;34m'B'\u001b[0m\u001b[0;34m:\u001b[0m\u001b[0;34m'C'\u001b[0m\u001b[0;34m}\u001b[0m\u001b[0;34m)\u001b[0m\u001b[0;34m\u001b[0m\u001b[0;34m\u001b[0m\u001b[0m\n\u001b[0m\u001b[1;32m      4\u001b[0m     \u001b[0mdf\u001b[0m\u001b[0;34m[\u001b[0m\u001b[0;34m'store_id'\u001b[0m\u001b[0;34m]\u001b[0m\u001b[0;34m[\u001b[0m\u001b[0mdf\u001b[0m\u001b[0;34m[\u001b[0m\u001b[0;34m'store_id'\u001b[0m\u001b[0;34m]\u001b[0m \u001b[0;34m==\u001b[0m\u001b[0;36m5\u001b[0m\u001b[0;34m]\u001b[0m\u001b[0;34m=\u001b[0m \u001b[0mdf\u001b[0m\u001b[0;34m.\u001b[0m\u001b[0mloc\u001b[0m\u001b[0;34m[\u001b[0m\u001b[0mdf\u001b[0m\u001b[0;34m[\u001b[0m\u001b[0;34m'store_id'\u001b[0m\u001b[0;34m]\u001b[0m \u001b[0;34m==\u001b[0m \u001b[0;36m5\u001b[0m\u001b[0;34m]\u001b[0m\u001b[0;34m.\u001b[0m\u001b[0mreplace\u001b[0m\u001b[0;34m(\u001b[0m\u001b[0;34m{\u001b[0m\u001b[0;34m'B'\u001b[0m\u001b[0;34m:\u001b[0m\u001b[0;34m'C'\u001b[0m\u001b[0;34m}\u001b[0m\u001b[0;34m)\u001b[0m\u001b[0;34m\u001b[0m\u001b[0;34m\u001b[0m\u001b[0m\n\u001b[1;32m      5\u001b[0m     \u001b[0mdf\u001b[0m\u001b[0;34m[\u001b[0m\u001b[0;34m'store_id'\u001b[0m\u001b[0;34m]\u001b[0m\u001b[0;34m[\u001b[0m\u001b[0mdf\u001b[0m\u001b[0;34m[\u001b[0m\u001b[0;34m'store_id'\u001b[0m\u001b[0;34m]\u001b[0m \u001b[0;34m==\u001b[0m\u001b[0;36m33\u001b[0m\u001b[0;34m]\u001b[0m\u001b[0;34m=\u001b[0m \u001b[0mdf\u001b[0m\u001b[0;34m.\u001b[0m\u001b[0mloc\u001b[0m\u001b[0;34m[\u001b[0m\u001b[0mdf\u001b[0m\u001b[0;34m[\u001b[0m\u001b[0;34m'store_id'\u001b[0m\u001b[0;34m]\u001b[0m \u001b[0;34m==\u001b[0m \u001b[0;36m33\u001b[0m\u001b[0;34m]\u001b[0m\u001b[0;34m.\u001b[0m\u001b[0mreplace\u001b[0m\u001b[0;34m(\u001b[0m\u001b[0;34m{\u001b[0m\u001b[0;34m'A'\u001b[0m\u001b[0;34m:\u001b[0m\u001b[0;34m'C'\u001b[0m\u001b[0;34m}\u001b[0m\u001b[0;34m)\u001b[0m\u001b[0;34m\u001b[0m\u001b[0;34m\u001b[0m\u001b[0m\n",
      "\u001b[0;32m/opt/homebrew/anaconda3/lib/python3.8/site-packages/pandas/core/series.py\u001b[0m in \u001b[0;36m__setitem__\u001b[0;34m(self, key, value)\u001b[0m\n\u001b[1;32m   1018\u001b[0m                 \u001b[0mkey\u001b[0m \u001b[0;34m=\u001b[0m \u001b[0mnp\u001b[0m\u001b[0;34m.\u001b[0m\u001b[0masarray\u001b[0m\u001b[0;34m(\u001b[0m\u001b[0mkey\u001b[0m\u001b[0;34m,\u001b[0m \u001b[0mdtype\u001b[0m\u001b[0;34m=\u001b[0m\u001b[0mbool\u001b[0m\u001b[0;34m)\u001b[0m\u001b[0;34m\u001b[0m\u001b[0;34m\u001b[0m\u001b[0m\n\u001b[1;32m   1019\u001b[0m                 \u001b[0;32mtry\u001b[0m\u001b[0;34m:\u001b[0m\u001b[0;34m\u001b[0m\u001b[0;34m\u001b[0m\u001b[0m\n\u001b[0;32m-> 1020\u001b[0;31m                     \u001b[0mself\u001b[0m\u001b[0;34m.\u001b[0m\u001b[0m_where\u001b[0m\u001b[0;34m(\u001b[0m\u001b[0;34m~\u001b[0m\u001b[0mkey\u001b[0m\u001b[0;34m,\u001b[0m \u001b[0mvalue\u001b[0m\u001b[0;34m,\u001b[0m \u001b[0minplace\u001b[0m\u001b[0;34m=\u001b[0m\u001b[0;32mTrue\u001b[0m\u001b[0;34m)\u001b[0m\u001b[0;34m\u001b[0m\u001b[0;34m\u001b[0m\u001b[0m\n\u001b[0m\u001b[1;32m   1021\u001b[0m                 \u001b[0;32mexcept\u001b[0m \u001b[0mInvalidIndexError\u001b[0m\u001b[0;34m:\u001b[0m\u001b[0;34m\u001b[0m\u001b[0;34m\u001b[0m\u001b[0m\n\u001b[1;32m   1022\u001b[0m                     \u001b[0mself\u001b[0m\u001b[0;34m.\u001b[0m\u001b[0miloc\u001b[0m\u001b[0;34m[\u001b[0m\u001b[0mkey\u001b[0m\u001b[0;34m]\u001b[0m \u001b[0;34m=\u001b[0m \u001b[0mvalue\u001b[0m\u001b[0;34m\u001b[0m\u001b[0;34m\u001b[0m\u001b[0m\n",
      "\u001b[0;32m/opt/homebrew/anaconda3/lib/python3.8/site-packages/pandas/core/generic.py\u001b[0m in \u001b[0;36m_where\u001b[0;34m(self, cond, other, inplace, axis, level, errors, try_cast)\u001b[0m\n\u001b[1;32m   8790\u001b[0m             \u001b[0;31m# slice me out of the other\u001b[0m\u001b[0;34m\u001b[0m\u001b[0;34m\u001b[0m\u001b[0;34m\u001b[0m\u001b[0m\n\u001b[1;32m   8791\u001b[0m             \u001b[0;32melse\u001b[0m\u001b[0;34m:\u001b[0m\u001b[0;34m\u001b[0m\u001b[0;34m\u001b[0m\u001b[0m\n\u001b[0;32m-> 8792\u001b[0;31m                 raise NotImplementedError(\n\u001b[0m\u001b[1;32m   8793\u001b[0m                     \u001b[0;34m\"cannot align with a higher dimensional NDFrame\"\u001b[0m\u001b[0;34m\u001b[0m\u001b[0;34m\u001b[0m\u001b[0m\n\u001b[1;32m   8794\u001b[0m                 )\n",
      "\u001b[0;31mNotImplementedError\u001b[0m: cannot align with a higher dimensional NDFrame"
     ]
    }
   ],
   "source": [
    "df2= address_outliers(df)"
   ]
  },
  {
   "cell_type": "code",
   "execution_count": 20,
   "metadata": {},
   "outputs": [
    {
     "data": {
      "text/plain": [
       "<AxesSubplot:xlabel='store_type', ylabel='weekly_sales'>"
      ]
     },
     "execution_count": 20,
     "metadata": {},
     "output_type": "execute_result"
    },
    {
     "data": {
      "image/png": "[encoded data removed]",
      "text/plain": [
       "<Figure size 1008x432 with 1 Axes>"
      ]
     },
     "metadata": {
      "needs_background": "light"
     },
     "output_type": "display_data"
    }
   ],
   "source": [
    "plt.figure(figsize=(14,6))\n",
    "sns.boxplot(x='store_type', y='weekly_sales', data=df)"
   ]
  }
 ],
 "metadata": {
  "kernelspec": {
   "display_name": "Python 3",
   "language": "python",
   "name": "python3"
  },
  "language_info": {
   "codemirror_mode": {
    "name": "ipython",
    "version": 3
   },
   "file_extension": ".py",
   "mimetype": "text/x-python",
   "name": "python",
   "nbconvert_exporter": "python",
   "pygments_lexer": "ipython3",
   "version": "3.8.5"
  }
 },
 "nbformat": 4,
 "nbformat_minor": 4
}
