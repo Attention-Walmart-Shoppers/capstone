{
 "cells": [
  {
   "cell_type": "markdown",
   "metadata": {},
   "source": [
    "# Attention Walmart Shoppers\n",
    "### A Walmart retail analysis"
   ]
  },
  {
   "cell_type": "markdown",
   "metadata": {},
   "source": [
    "The data was originally retrieved from:\n",
    " -   https://www.kaggle.com/rutuspatel/retail-analysis-with-walmart-sales-data"
   ]
  },
  {
   "cell_type": "markdown",
   "metadata": {},
   "source": [
    "### Data Dictionary\n",
    "\n",
    "| Target       |  Data Type       | Description                     |\n",
    "|--------------|------------------|---------------------------------|\n",
    "| Weekly_Sales |   float64        | Sales in USD per week by store  |\n",
    "\n",
    "\n",
    "| Column        |  Data Type       | Description                                      |  \n",
    "|---------------|------------------|--------------------------------------------------|\n",
    "| Store         |     int64        | unique identifier for store  (1-45)              |\n",
    "| Date          |     object       | Date of transaction                              |\n",
    "| Holiday_Flag  |     int64        | indicator of a Holiday week (boolean)            |\n",
    "| Temperature   |     float64      | temperature in Farenheight                       |\n",
    "| Fuel_Price    |     float64      | cost of fuel(in USD) in region                   |\n",
    "| CPI           |     float64      | Prevailing consumer price index, cost of goods   |\n",
    "| Unemployment  |     float64      | Prevailing unemployment rate                     |"
   ]
  },
  {
   "cell_type": "markdown",
   "metadata": {},
   "source": [
    "## Goal:\n",
    "- to predict weekly sales price for a store"
   ]
  },
  {
   "cell_type": "markdown",
   "metadata": {},
   "source": [
    "## Think about...\n",
    "- What is your goal?\n",
    "- what is your TARGET? drivers for that target?\n",
    "- what is one oberservation? what does one row from your dataset represent?"
   ]
  },
  {
   "cell_type": "markdown",
   "metadata": {},
   "source": [
    "## Daily meetings\n",
    "- standup doc\n",
    "- shared knowledge doc\n",
    "\n",
    "### Three important Questions\n",
    "- what did you work on since we last talked?\n",
    "- what are you planning on working on next?\n",
    "- what are your blockers?"
   ]
  },
  {
   "cell_type": "markdown",
   "metadata": {},
   "source": [
    "<hr style=\"border:2px solid black\"> </hr>"
   ]
  },
  {
   "cell_type": "markdown",
   "metadata": {},
   "source": [
    "# Acquire"
   ]
  },
  {
   "cell_type": "code",
   "execution_count": null,
   "metadata": {},
   "outputs": [],
   "source": [
    "import pandas as pd\n",
    "import wrangle"
   ]
  },
  {
   "cell_type": "code",
   "execution_count": null,
   "metadata": {},
   "outputs": [],
   "source": [
    "df= wrangle.acquire_data()"
   ]
  },
  {
   "cell_type": "code",
   "execution_count": null,
   "metadata": {},
   "outputs": [],
   "source": [
    "df.head()"
   ]
  },
  {
   "cell_type": "markdown",
   "metadata": {},
   "source": [
    "<hr style=\"border:2px solid black\"> </hr>"
   ]
  },
  {
   "cell_type": "markdown",
   "metadata": {},
   "source": [
    "# Prepare"
   ]
  },
  {
   "cell_type": "code",
   "execution_count": 1,
   "metadata": {},
   "outputs": [],
   "source": [
    "import wrangle\n",
    "import numpy as np\n",
    "df= wrangle.wrangle_walmart()"
   ]
  },
  {
   "cell_type": "code",
   "execution_count": 2,
   "metadata": {},
   "outputs": [
    {
     "data": {
      "text/html": [
       "<div>\n",
       "<style scoped>\n",
       "    .dataframe tbody tr th:only-of-type {\n",
       "        vertical-align: middle;\n",
       "    }\n",
       "\n",
       "    .dataframe tbody tr th {\n",
       "        vertical-align: top;\n",
       "    }\n",
       "\n",
       "    .dataframe thead th {\n",
       "        text-align: right;\n",
       "    }\n",
       "</style>\n",
       "<table border=\"1\" class=\"dataframe\">\n",
       "  <thead>\n",
       "    <tr style=\"text-align: right;\">\n",
       "      <th></th>\n",
       "      <th>store</th>\n",
       "      <th>weekly_sales</th>\n",
       "      <th>holiday_flag</th>\n",
       "      <th>temperature</th>\n",
       "      <th>fuel_price</th>\n",
       "      <th>CPI</th>\n",
       "      <th>unemployment</th>\n",
       "      <th>type</th>\n",
       "      <th>store_size</th>\n",
       "      <th>month</th>\n",
       "      <th>year</th>\n",
       "      <th>deflated_series</th>\n",
       "      <th>season</th>\n",
       "    </tr>\n",
       "    <tr>\n",
       "      <th>Date</th>\n",
       "      <th></th>\n",
       "      <th></th>\n",
       "      <th></th>\n",
       "      <th></th>\n",
       "      <th></th>\n",
       "      <th></th>\n",
       "      <th></th>\n",
       "      <th></th>\n",
       "      <th></th>\n",
       "      <th></th>\n",
       "      <th></th>\n",
       "      <th></th>\n",
       "      <th></th>\n",
       "    </tr>\n",
       "  </thead>\n",
       "  <tbody>\n",
       "    <tr>\n",
       "      <th>2012-12-10</th>\n",
       "      <td>41</td>\n",
       "      <td>1409544.97</td>\n",
       "      <td>0</td>\n",
       "      <td>39</td>\n",
       "      <td>3.76</td>\n",
       "      <td>199.054</td>\n",
       "      <td>6.195</td>\n",
       "      <td>A</td>\n",
       "      <td>196321</td>\n",
       "      <td>December</td>\n",
       "      <td>2012</td>\n",
       "      <td>7081.22</td>\n",
       "      <td>Winter</td>\n",
       "    </tr>\n",
       "    <tr>\n",
       "      <th>2012-12-10</th>\n",
       "      <td>16</td>\n",
       "      <td>491817.19</td>\n",
       "      <td>0</td>\n",
       "      <td>43</td>\n",
       "      <td>3.76</td>\n",
       "      <td>199.054</td>\n",
       "      <td>5.847</td>\n",
       "      <td>B</td>\n",
       "      <td>57197</td>\n",
       "      <td>December</td>\n",
       "      <td>2012</td>\n",
       "      <td>2470.77</td>\n",
       "      <td>Winter</td>\n",
       "    </tr>\n",
       "    <tr>\n",
       "      <th>2012-12-10</th>\n",
       "      <td>10</td>\n",
       "      <td>1713889.11</td>\n",
       "      <td>0</td>\n",
       "      <td>76</td>\n",
       "      <td>4.47</td>\n",
       "      <td>131.108</td>\n",
       "      <td>6.943</td>\n",
       "      <td>B</td>\n",
       "      <td>126512</td>\n",
       "      <td>December</td>\n",
       "      <td>2012</td>\n",
       "      <td>13072.31</td>\n",
       "      <td>Winter</td>\n",
       "    </tr>\n",
       "    <tr>\n",
       "      <th>2012-12-10</th>\n",
       "      <td>25</td>\n",
       "      <td>697317.41</td>\n",
       "      <td>0</td>\n",
       "      <td>43</td>\n",
       "      <td>4.00</td>\n",
       "      <td>216.115</td>\n",
       "      <td>7.293</td>\n",
       "      <td>B</td>\n",
       "      <td>128107</td>\n",
       "      <td>December</td>\n",
       "      <td>2012</td>\n",
       "      <td>3226.60</td>\n",
       "      <td>Winter</td>\n",
       "    </tr>\n",
       "    <tr>\n",
       "      <th>2012-12-10</th>\n",
       "      <td>2</td>\n",
       "      <td>1900745.13</td>\n",
       "      <td>0</td>\n",
       "      <td>60</td>\n",
       "      <td>3.60</td>\n",
       "      <td>223.015</td>\n",
       "      <td>6.170</td>\n",
       "      <td>A</td>\n",
       "      <td>202307</td>\n",
       "      <td>December</td>\n",
       "      <td>2012</td>\n",
       "      <td>8522.93</td>\n",
       "      <td>Winter</td>\n",
       "    </tr>\n",
       "  </tbody>\n",
       "</table>\n",
       "</div>"
      ],
      "text/plain": [
       "            store  weekly_sales  holiday_flag  temperature  fuel_price  \\\n",
       "Date                                                                     \n",
       "2012-12-10     41    1409544.97             0           39        3.76   \n",
       "2012-12-10     16     491817.19             0           43        3.76   \n",
       "2012-12-10     10    1713889.11             0           76        4.47   \n",
       "2012-12-10     25     697317.41             0           43        4.00   \n",
       "2012-12-10      2    1900745.13             0           60        3.60   \n",
       "\n",
       "                CPI  unemployment type  store_size     month  year  \\\n",
       "Date                                                                 \n",
       "2012-12-10  199.054         6.195    A      196321  December  2012   \n",
       "2012-12-10  199.054         5.847    B       57197  December  2012   \n",
       "2012-12-10  131.108         6.943    B      126512  December  2012   \n",
       "2012-12-10  216.115         7.293    B      128107  December  2012   \n",
       "2012-12-10  223.015         6.170    A      202307  December  2012   \n",
       "\n",
       "            deflated_series  season  \n",
       "Date                                 \n",
       "2012-12-10          7081.22  Winter  \n",
       "2012-12-10          2470.77  Winter  \n",
       "2012-12-10         13072.31  Winter  \n",
       "2012-12-10          3226.60  Winter  \n",
       "2012-12-10          8522.93  Winter  "
      ]
     },
     "execution_count": 2,
     "metadata": {},
     "output_type": "execute_result"
    }
   ],
   "source": [
    "df.tail()"
   ]
  },
  {
   "cell_type": "code",
   "execution_count": null,
   "metadata": {},
   "outputs": [],
   "source": [
    "df.describe()"
   ]
  },
  {
   "cell_type": "code",
   "execution_count": null,
   "metadata": {},
   "outputs": [],
   "source": [
    "df['deflated_series']=df['deflated_series'].apply(lambda x: np.round(x, decimals=2))"
   ]
  },
  {
   "cell_type": "code",
   "execution_count": null,
   "metadata": {},
   "outputs": [],
   "source": [
    "df.tail()"
   ]
  },
  {
   "cell_type": "code",
   "execution_count": null,
   "metadata": {},
   "outputs": [],
   "source": [
    "#count of season\n",
    "df3.season.value_counts()"
   ]
  },
  {
   "cell_type": "code",
   "execution_count": null,
   "metadata": {},
   "outputs": [],
   "source": [
    "df3.isnull().sum()"
   ]
  },
  {
   "cell_type": "code",
   "execution_count": null,
   "metadata": {},
   "outputs": [],
   "source": [
    "#split? cross validate?\n",
    "##human based"
   ]
  },
  {
   "cell_type": "markdown",
   "metadata": {},
   "source": [
    "<hr style=\"border:2px solid black\"> </hr>"
   ]
  },
  {
   "cell_type": "markdown",
   "metadata": {},
   "source": [
    "# Explore"
   ]
  },
  {
   "cell_type": "code",
   "execution_count": null,
   "metadata": {},
   "outputs": [],
   "source": [
    "#visualization\n",
    "import matplotlib.pyplot as plt\n",
    "import seaborn as sns"
   ]
  },
  {
   "cell_type": "code",
   "execution_count": null,
   "metadata": {},
   "outputs": [],
   "source": [
    "df.groupby('Store').Temperature.describe()[['min','max']]"
   ]
  },
  {
   "cell_type": "code",
   "execution_count": null,
   "metadata": {},
   "outputs": [],
   "source": []
  },
  {
   "cell_type": "code",
   "execution_count": null,
   "metadata": {},
   "outputs": [],
   "source": [
    "#bivariate"
   ]
  },
  {
   "cell_type": "code",
   "execution_count": null,
   "metadata": {},
   "outputs": [],
   "source": [
    "# carreglos con la categoría y número correspondiende\n",
    "cat_col = joined.select_dtypes(include='object').columns\n",
    "num_col = joined.select_dtypes(include='number').columns"
   ]
  },
  {
   "cell_type": "code",
   "execution_count": null,
   "metadata": {},
   "outputs": [],
   "source": [
    "#univariate"
   ]
  },
  {
   "cell_type": "code",
   "execution_count": null,
   "metadata": {},
   "outputs": [],
   "source": [
    "#multivariate"
   ]
  },
  {
   "cell_type": "code",
   "execution_count": null,
   "metadata": {},
   "outputs": [],
   "source": [
    "#timeseries?"
   ]
  }
 ],
 "metadata": {
  "kernelspec": {
   "display_name": "Python 3",
   "language": "python",
   "name": "python3"
  },
  "language_info": {
   "codemirror_mode": {
    "name": "ipython",
    "version": 3
   },
   "file_extension": ".py",
   "mimetype": "text/x-python",
   "name": "python",
   "nbconvert_exporter": "python",
   "pygments_lexer": "ipython3",
   "version": "3.8.5"
  }
 },
 "nbformat": 4,
 "nbformat_minor": 4
}
