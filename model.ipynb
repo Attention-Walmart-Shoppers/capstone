{
 "cells": [
  {
   "cell_type": "code",
   "execution_count": 1,
   "metadata": {},
   "outputs": [],
   "source": [
    "import pandas as pd\n",
    "import wrangle\n",
    "import new_wrangle\n",
    "import numpy as np\n",
    "import matplotlib.pyplot as plt\n",
    "import seaborn as sns\n",
    "import model as m\n",
    "\n",
    "import math\n",
    "from sklearn.metrics import mean_squared_error, explained_variance_score\n",
    "\n",
    "import warnings\n",
    "warnings.filterwarnings(\"ignore\")\n",
    "from sklearn.preprocessing import MinMaxScaler, RobustScaler, StandardScaler, PolynomialFeatures\n",
    "from sklearn.linear_model import LinearRegression, LassoLars, TweedieRegressor \n",
    "from sklearn.model_selection import cross_val_score\n"
   ]
  },
  {
   "cell_type": "markdown",
   "metadata": {},
   "source": [
    "# Wrangle"
   ]
  },
  {
   "cell_type": "code",
   "execution_count": 2,
   "metadata": {},
   "outputs": [],
   "source": [
    "df =new_wrangle.wrangle_walmart()"
   ]
  },
  {
   "cell_type": "code",
   "execution_count": 3,
   "metadata": {},
   "outputs": [
    {
     "data": {
      "text/html": [
       "<div>\n",
       "<style scoped>\n",
       "    .dataframe tbody tr th:only-of-type {\n",
       "        vertical-align: middle;\n",
       "    }\n",
       "\n",
       "    .dataframe tbody tr th {\n",
       "        vertical-align: top;\n",
       "    }\n",
       "\n",
       "    .dataframe thead th {\n",
       "        text-align: right;\n",
       "    }\n",
       "</style>\n",
       "<table border=\"1\" class=\"dataframe\">\n",
       "  <thead>\n",
       "    <tr style=\"text-align: right;\">\n",
       "      <th></th>\n",
       "      <th>store_id</th>\n",
       "      <th>this_week_date</th>\n",
       "      <th>this_week_sales</th>\n",
       "      <th>this_week_holiday_flag</th>\n",
       "      <th>temperature</th>\n",
       "      <th>fuel_price</th>\n",
       "      <th>CPI</th>\n",
       "      <th>this_week_unemployment</th>\n",
       "      <th>store_type</th>\n",
       "      <th>store_size</th>\n",
       "      <th>...</th>\n",
       "      <th>unemp_4wk_rolling</th>\n",
       "      <th>avgMoM_perc_fuel</th>\n",
       "      <th>avgMoM_perc_cpi</th>\n",
       "      <th>avgMoM_perc_unemp</th>\n",
       "      <th>fuel_quarterly_rolling</th>\n",
       "      <th>cpi_quarterly_rolling</th>\n",
       "      <th>unemp_quarterly_rolling</th>\n",
       "      <th>avgQoQ_perc_fuel</th>\n",
       "      <th>avgQoQ_perc_cpi</th>\n",
       "      <th>avgQoQ_perc_unemp</th>\n",
       "    </tr>\n",
       "    <tr>\n",
       "      <th>id</th>\n",
       "      <th></th>\n",
       "      <th></th>\n",
       "      <th></th>\n",
       "      <th></th>\n",
       "      <th></th>\n",
       "      <th></th>\n",
       "      <th></th>\n",
       "      <th></th>\n",
       "      <th></th>\n",
       "      <th></th>\n",
       "      <th></th>\n",
       "      <th></th>\n",
       "      <th></th>\n",
       "      <th></th>\n",
       "      <th></th>\n",
       "      <th></th>\n",
       "      <th></th>\n",
       "      <th></th>\n",
       "      <th></th>\n",
       "      <th></th>\n",
       "      <th></th>\n",
       "    </tr>\n",
       "  </thead>\n",
       "  <tbody>\n",
       "    <tr>\n",
       "      <th>2010-02-05_store_1_2010-02-12</th>\n",
       "      <td>1</td>\n",
       "      <td>2010-02-05</td>\n",
       "      <td>1643690.90</td>\n",
       "      <td>0</td>\n",
       "      <td>42</td>\n",
       "      <td>2.57</td>\n",
       "      <td>211.096</td>\n",
       "      <td>8.106</td>\n",
       "      <td>A</td>\n",
       "      <td>151315</td>\n",
       "      <td>...</td>\n",
       "      <td>NaN</td>\n",
       "      <td>NaN</td>\n",
       "      <td>NaN</td>\n",
       "      <td>NaN</td>\n",
       "      <td>NaN</td>\n",
       "      <td>NaN</td>\n",
       "      <td>NaN</td>\n",
       "      <td>NaN</td>\n",
       "      <td>NaN</td>\n",
       "      <td>NaN</td>\n",
       "    </tr>\n",
       "    <tr>\n",
       "      <th>2010-02-12_store_1_2010-02-19</th>\n",
       "      <td>1</td>\n",
       "      <td>2010-02-12</td>\n",
       "      <td>1641957.44</td>\n",
       "      <td>1</td>\n",
       "      <td>38</td>\n",
       "      <td>2.55</td>\n",
       "      <td>211.242</td>\n",
       "      <td>8.106</td>\n",
       "      <td>A</td>\n",
       "      <td>151315</td>\n",
       "      <td>...</td>\n",
       "      <td>NaN</td>\n",
       "      <td>NaN</td>\n",
       "      <td>NaN</td>\n",
       "      <td>NaN</td>\n",
       "      <td>NaN</td>\n",
       "      <td>NaN</td>\n",
       "      <td>NaN</td>\n",
       "      <td>NaN</td>\n",
       "      <td>NaN</td>\n",
       "      <td>NaN</td>\n",
       "    </tr>\n",
       "    <tr>\n",
       "      <th>2010-02-19_store_1_2010-02-26</th>\n",
       "      <td>1</td>\n",
       "      <td>2010-02-19</td>\n",
       "      <td>1611968.17</td>\n",
       "      <td>0</td>\n",
       "      <td>39</td>\n",
       "      <td>2.51</td>\n",
       "      <td>211.289</td>\n",
       "      <td>8.106</td>\n",
       "      <td>A</td>\n",
       "      <td>151315</td>\n",
       "      <td>...</td>\n",
       "      <td>NaN</td>\n",
       "      <td>NaN</td>\n",
       "      <td>NaN</td>\n",
       "      <td>NaN</td>\n",
       "      <td>NaN</td>\n",
       "      <td>NaN</td>\n",
       "      <td>NaN</td>\n",
       "      <td>NaN</td>\n",
       "      <td>NaN</td>\n",
       "      <td>NaN</td>\n",
       "    </tr>\n",
       "    <tr>\n",
       "      <th>2010-02-26_store_1_2010-03-05</th>\n",
       "      <td>1</td>\n",
       "      <td>2010-02-26</td>\n",
       "      <td>1409727.59</td>\n",
       "      <td>0</td>\n",
       "      <td>46</td>\n",
       "      <td>2.56</td>\n",
       "      <td>211.320</td>\n",
       "      <td>8.106</td>\n",
       "      <td>A</td>\n",
       "      <td>151315</td>\n",
       "      <td>...</td>\n",
       "      <td>8.106</td>\n",
       "      <td>NaN</td>\n",
       "      <td>NaN</td>\n",
       "      <td>NaN</td>\n",
       "      <td>NaN</td>\n",
       "      <td>NaN</td>\n",
       "      <td>NaN</td>\n",
       "      <td>NaN</td>\n",
       "      <td>NaN</td>\n",
       "      <td>NaN</td>\n",
       "    </tr>\n",
       "    <tr>\n",
       "      <th>2010-03-05_store_1_2010-03-12</th>\n",
       "      <td>1</td>\n",
       "      <td>2010-03-05</td>\n",
       "      <td>1554806.68</td>\n",
       "      <td>0</td>\n",
       "      <td>46</td>\n",
       "      <td>2.62</td>\n",
       "      <td>211.350</td>\n",
       "      <td>8.106</td>\n",
       "      <td>A</td>\n",
       "      <td>151315</td>\n",
       "      <td>...</td>\n",
       "      <td>8.106</td>\n",
       "      <td>NaN</td>\n",
       "      <td>NaN</td>\n",
       "      <td>NaN</td>\n",
       "      <td>NaN</td>\n",
       "      <td>NaN</td>\n",
       "      <td>NaN</td>\n",
       "      <td>NaN</td>\n",
       "      <td>NaN</td>\n",
       "      <td>NaN</td>\n",
       "    </tr>\n",
       "  </tbody>\n",
       "</table>\n",
       "<p>5 rows × 34 columns</p>\n",
       "</div>"
      ],
      "text/plain": [
       "                              store_id this_week_date  this_week_sales  \\\n",
       "id                                                                       \n",
       "2010-02-05_store_1_2010-02-12        1     2010-02-05       1643690.90   \n",
       "2010-02-12_store_1_2010-02-19        1     2010-02-12       1641957.44   \n",
       "2010-02-19_store_1_2010-02-26        1     2010-02-19       1611968.17   \n",
       "2010-02-26_store_1_2010-03-05        1     2010-02-26       1409727.59   \n",
       "2010-03-05_store_1_2010-03-12        1     2010-03-05       1554806.68   \n",
       "\n",
       "                               this_week_holiday_flag  temperature  \\\n",
       "id                                                                   \n",
       "2010-02-05_store_1_2010-02-12                       0           42   \n",
       "2010-02-12_store_1_2010-02-19                       1           38   \n",
       "2010-02-19_store_1_2010-02-26                       0           39   \n",
       "2010-02-26_store_1_2010-03-05                       0           46   \n",
       "2010-03-05_store_1_2010-03-12                       0           46   \n",
       "\n",
       "                               fuel_price      CPI  this_week_unemployment  \\\n",
       "id                                                                           \n",
       "2010-02-05_store_1_2010-02-12        2.57  211.096                   8.106   \n",
       "2010-02-12_store_1_2010-02-19        2.55  211.242                   8.106   \n",
       "2010-02-19_store_1_2010-02-26        2.51  211.289                   8.106   \n",
       "2010-02-26_store_1_2010-03-05        2.56  211.320                   8.106   \n",
       "2010-03-05_store_1_2010-03-12        2.62  211.350                   8.106   \n",
       "\n",
       "                              store_type  store_size  ...  unemp_4wk_rolling  \\\n",
       "id                                                    ...                      \n",
       "2010-02-05_store_1_2010-02-12          A      151315  ...                NaN   \n",
       "2010-02-12_store_1_2010-02-19          A      151315  ...                NaN   \n",
       "2010-02-19_store_1_2010-02-26          A      151315  ...                NaN   \n",
       "2010-02-26_store_1_2010-03-05          A      151315  ...              8.106   \n",
       "2010-03-05_store_1_2010-03-12          A      151315  ...              8.106   \n",
       "\n",
       "                               avgMoM_perc_fuel avgMoM_perc_cpi  \\\n",
       "id                                                                \n",
       "2010-02-05_store_1_2010-02-12               NaN             NaN   \n",
       "2010-02-12_store_1_2010-02-19               NaN             NaN   \n",
       "2010-02-19_store_1_2010-02-26               NaN             NaN   \n",
       "2010-02-26_store_1_2010-03-05               NaN             NaN   \n",
       "2010-03-05_store_1_2010-03-12               NaN             NaN   \n",
       "\n",
       "                               avgMoM_perc_unemp fuel_quarterly_rolling  \\\n",
       "id                                                                        \n",
       "2010-02-05_store_1_2010-02-12                NaN                    NaN   \n",
       "2010-02-12_store_1_2010-02-19                NaN                    NaN   \n",
       "2010-02-19_store_1_2010-02-26                NaN                    NaN   \n",
       "2010-02-26_store_1_2010-03-05                NaN                    NaN   \n",
       "2010-03-05_store_1_2010-03-12                NaN                    NaN   \n",
       "\n",
       "                              cpi_quarterly_rolling unemp_quarterly_rolling  \\\n",
       "id                                                                            \n",
       "2010-02-05_store_1_2010-02-12                   NaN                     NaN   \n",
       "2010-02-12_store_1_2010-02-19                   NaN                     NaN   \n",
       "2010-02-19_store_1_2010-02-26                   NaN                     NaN   \n",
       "2010-02-26_store_1_2010-03-05                   NaN                     NaN   \n",
       "2010-03-05_store_1_2010-03-12                   NaN                     NaN   \n",
       "\n",
       "                               avgQoQ_perc_fuel  avgQoQ_perc_cpi  \\\n",
       "id                                                                 \n",
       "2010-02-05_store_1_2010-02-12               NaN              NaN   \n",
       "2010-02-12_store_1_2010-02-19               NaN              NaN   \n",
       "2010-02-19_store_1_2010-02-26               NaN              NaN   \n",
       "2010-02-26_store_1_2010-03-05               NaN              NaN   \n",
       "2010-03-05_store_1_2010-03-12               NaN              NaN   \n",
       "\n",
       "                               avgQoQ_perc_unemp  \n",
       "id                                                \n",
       "2010-02-05_store_1_2010-02-12                NaN  \n",
       "2010-02-12_store_1_2010-02-19                NaN  \n",
       "2010-02-19_store_1_2010-02-26                NaN  \n",
       "2010-02-26_store_1_2010-03-05                NaN  \n",
       "2010-03-05_store_1_2010-03-12                NaN  \n",
       "\n",
       "[5 rows x 34 columns]"
      ]
     },
     "execution_count": 3,
     "metadata": {},
     "output_type": "execute_result"
    }
   ],
   "source": [
    "df.head()"
   ]
  },
  {
   "cell_type": "markdown",
   "metadata": {},
   "source": [
    "# split and scale before modeling"
   ]
  },
  {
   "cell_type": "code",
   "execution_count": 4,
   "metadata": {
    "scrolled": true
   },
   "outputs": [
    {
     "name": "stdout",
     "output_type": "stream",
     "text": [
      "train -> (2866, 32)\n",
      "test -> (1229, 32)\n"
     ]
    }
   ],
   "source": [
    "train, test,  X_train_scaled, X_test_scaled, y_train, y_test = new_wrangle.split_scale(df, 'next_week_sales_target', MinMaxScaler())"
   ]
  },
  {
   "cell_type": "code",
   "execution_count": 5,
   "metadata": {},
   "outputs": [
    {
     "data": {
      "text/plain": [
       "((2866, 26), (1229, 26))"
      ]
     },
     "execution_count": 5,
     "metadata": {},
     "output_type": "execute_result"
    }
   ],
   "source": [
    "X_train_scaled.shape, X_test_scaled.shape"
   ]
  },
  {
   "cell_type": "code",
   "execution_count": 6,
   "metadata": {},
   "outputs": [],
   "source": [
    "#features to drop before modeling due to autocorrelation:"
   ]
  },
  {
   "cell_type": "code",
   "execution_count": 7,
   "metadata": {},
   "outputs": [],
   "source": [
    "col = ['this_week_unemployment', 'fuel_price', 'CPI', 'unemp_quarterly_rolling', 'fuel_quarterly_rolling', 'cpi_quarterly_rolling']"
   ]
  },
  {
   "cell_type": "code",
   "execution_count": 8,
   "metadata": {},
   "outputs": [],
   "source": [
    "X_train_scaled = X_train_scaled.drop(columns = col)\n",
    "X_test_scaled = X_test_scaled.drop(columns = col)"
   ]
  },
  {
   "cell_type": "code",
   "execution_count": 9,
   "metadata": {},
   "outputs": [
    {
     "data": {
      "text/plain": [
       "((2866, 20), (1229, 20))"
      ]
     },
     "execution_count": 9,
     "metadata": {},
     "output_type": "execute_result"
    }
   ],
   "source": [
    "X_train_scaled.shape, X_test_scaled.shape"
   ]
  },
  {
   "cell_type": "markdown",
   "metadata": {},
   "source": [
    "# MODEL"
   ]
  },
  {
   "cell_type": "markdown",
   "metadata": {},
   "source": [
    "**Note :** Before modeling, we split and scale (MinMax) our df.\n",
    "\n",
    "For the modeling section, we established the **baseline** using  `next_week_1_year_ago`\n",
    "\n",
    "\n",
    "- We use 4 different algorithms\n",
    "    - Linear Regression(OLS)\n",
    "    - Lasso Lars\n",
    "    - TweedieRegressor (GLM)\n",
    "    - Polynomial Regression\n",
    "\n",
    "For each model we used :\n",
    "\n",
    " - **GridSearchCV**: grid search cross-validation (GridSearchCV) class that helps us quickly try out many different combinations of hyperparameters.\n",
    " \n",
    "- **Feature Engineering:**\n",
    "\n",
    "   - **RFE :** (recursive feature elimination)  recursively removes attributes to meet the required number of features and then builds a model on those attributes that remain.\n",
    "   - **SelectKBest:** removes all but the highest scoring features.\n",
    "\n",
    "\n"
   ]
  },
  {
   "cell_type": "code",
   "execution_count": 10,
   "metadata": {},
   "outputs": [],
   "source": [
    "# #conver y_train y_test to df  (so we can keep track of the predictions)\n",
    "y_train_df = pd.DataFrame( {'actual': y_train})\n",
    "y_test_df = pd.DataFrame( {'actual': y_test})"
   ]
  },
  {
   "cell_type": "markdown",
   "metadata": {},
   "source": [
    "##  - BASELINE"
   ]
  },
  {
   "cell_type": "code",
   "execution_count": 11,
   "metadata": {},
   "outputs": [],
   "source": [
    "#baseline version using last years sales\n",
    "y_train_df['last_year_baseline'] = train['next_week_1_year_ago']"
   ]
  },
  {
   "cell_type": "code",
   "execution_count": 12,
   "metadata": {},
   "outputs": [
    {
     "data": {
      "text/plain": [
       "91145.28223498359"
      ]
     },
     "execution_count": 12,
     "metadata": {},
     "output_type": "execute_result"
    }
   ],
   "source": [
    "#calculate RMSE for baseline model\n",
    "rmse_baseline2_train= math.sqrt(mean_squared_error(y_train_df.actual, y_train_df.last_year_baseline))\n",
    "\n",
    "rmse_baseline2_train"
   ]
  },
  {
   "cell_type": "code",
   "execution_count": 13,
   "metadata": {},
   "outputs": [],
   "source": [
    "#acreate a metric df to store the metrics of each model\n",
    "metric_df = pd.DataFrame(data = [{\n",
    "    'model': 'baseline(using last year sales)',\n",
    "    'rmse_train':rmse_baseline2_train,    \n",
    "    'r^2' : 0}])"
   ]
  },
  {
   "cell_type": "markdown",
   "metadata": {},
   "source": [
    "## MODEL: LinearRegression (OLS)"
   ]
  },
  {
   "cell_type": "markdown",
   "metadata": {},
   "source": [
    "### - Gridsearch"
   ]
  },
  {
   "cell_type": "code",
   "execution_count": 14,
   "metadata": {},
   "outputs": [],
   "source": [
    "#specify the parameters we wish to use as a dictionary, then use that dictionary when we create the class.\n",
    "params = {'normalize': [ True, False],\n",
    "          'fit_intercept': [True, False]}"
   ]
  },
  {
   "cell_type": "code",
   "execution_count": 15,
   "metadata": {},
   "outputs": [
    {
     "data": {
      "text/html": [
       "<div>\n",
       "<style scoped>\n",
       "    .dataframe tbody tr th:only-of-type {\n",
       "        vertical-align: middle;\n",
       "    }\n",
       "\n",
       "    .dataframe tbody tr th {\n",
       "        vertical-align: top;\n",
       "    }\n",
       "\n",
       "    .dataframe thead th {\n",
       "        text-align: right;\n",
       "    }\n",
       "</style>\n",
       "<table border=\"1\" class=\"dataframe\">\n",
       "  <thead>\n",
       "    <tr style=\"text-align: right;\">\n",
       "      <th></th>\n",
       "      <th>fit_intercept</th>\n",
       "      <th>normalize</th>\n",
       "      <th>score</th>\n",
       "    </tr>\n",
       "  </thead>\n",
       "  <tbody>\n",
       "    <tr>\n",
       "      <th>2</th>\n",
       "      <td>False</td>\n",
       "      <td>True</td>\n",
       "      <td>-78124.182925</td>\n",
       "    </tr>\n",
       "    <tr>\n",
       "      <th>3</th>\n",
       "      <td>False</td>\n",
       "      <td>False</td>\n",
       "      <td>-78124.182925</td>\n",
       "    </tr>\n",
       "    <tr>\n",
       "      <th>0</th>\n",
       "      <td>True</td>\n",
       "      <td>True</td>\n",
       "      <td>-70665.229164</td>\n",
       "    </tr>\n",
       "    <tr>\n",
       "      <th>1</th>\n",
       "      <td>True</td>\n",
       "      <td>False</td>\n",
       "      <td>-70665.229164</td>\n",
       "    </tr>\n",
       "  </tbody>\n",
       "</table>\n",
       "</div>"
      ],
      "text/plain": [
       "   fit_intercept  normalize         score\n",
       "2          False       True -78124.182925\n",
       "3          False      False -78124.182925\n",
       "0           True       True -70665.229164\n",
       "1           True      False -70665.229164"
      ]
     },
     "execution_count": 15,
     "metadata": {},
     "output_type": "execute_result"
    }
   ],
   "source": [
    "#use a gridsearch function using \n",
    "m.gridsearch (X_train_scaled, y_train, LinearRegression() , params, 'neg_root_mean_squared_error')"
   ]
  },
  {
   "cell_type": "markdown",
   "metadata": {},
   "source": [
    "### OLS uising select K best (10)"
   ]
  },
  {
   "cell_type": "code",
   "execution_count": 16,
   "metadata": {},
   "outputs": [
    {
     "name": "stdout",
     "output_type": "stream",
     "text": [
      "The top 10 selected feautures based on the SelectKBest class are: ['this_week_sales', 'temperature', 'store_size', 'next_week_1_year_ago', 'next_week_holiday_flag', 'pre_christmas', 'thanksgiving', 'cpi_4wk_rolling', 'unemp_4wk_rolling', 'avgQoQ_perc_unemp']\n"
     ]
    }
   ],
   "source": [
    "#using my function for SelectkBest\n",
    "top_sb =m.select_kbest(X_train_scaled, y_train, 10)"
   ]
  },
  {
   "cell_type": "code",
   "execution_count": 17,
   "metadata": {},
   "outputs": [
    {
     "data": {
      "text/plain": [
       "72474.37897198633"
      ]
     },
     "execution_count": 17,
     "metadata": {},
     "output_type": "execute_result"
    }
   ],
   "source": [
    "#create the model\n",
    "ols_sb = m.create_model(X_train_scaled[top_sb], y_train_df, 'actual',\\\n",
    "                       LinearRegression(normalize=False,\\\n",
    "                        fit_intercept=True ), 'modelOLS' )\n",
    "ols_sb['rmse']"
   ]
  },
  {
   "cell_type": "markdown",
   "metadata": {},
   "source": [
    "#### cross validation"
   ]
  },
  {
   "cell_type": "code",
   "execution_count": 18,
   "metadata": {},
   "outputs": [
    {
     "data": {
      "text/plain": [
       "array([-72769.62947968, -73703.84102292, -73404.54496025])"
      ]
     },
     "execution_count": 18,
     "metadata": {},
     "output_type": "execute_result"
    }
   ],
   "source": [
    "#create the model\n",
    "clf = LinearRegression(normalize=True, fit_intercept=True )\n",
    "#cv = number of folds\n",
    "cross_val_score(clf, X_train_scaled[top_sb], y_train, cv=3, scoring = 'neg_root_mean_squared_error')"
   ]
  },
  {
   "cell_type": "markdown",
   "metadata": {},
   "source": [
    "### OLS uising  RFE (10)"
   ]
  },
  {
   "cell_type": "code",
   "execution_count": 19,
   "metadata": {},
   "outputs": [
    {
     "name": "stdout",
     "output_type": "stream",
     "text": [
      "The top 10 selected feautures based on the the RFE class class are: ['this_week_sales', 'this_week_holiday_flag', 'store_size', 'next_week_1_year_ago', 'christmas', 'thanksgiving', 'unemp_4wk_rolling', 'avgMoM_perc_unemp', 'avgQoQ_perc_fuel', 'avgQoQ_perc_unemp']\n",
      "this_week_sales            1\n",
      "avgQoQ_perc_fuel           1\n",
      "avgMoM_perc_unemp          1\n",
      "unemp_4wk_rolling          1\n",
      "thanksgiving               1\n",
      "christmas                  1\n",
      "avgQoQ_perc_unemp          1\n",
      "next_week_1_year_ago       1\n",
      "store_size                 1\n",
      "this_week_holiday_flag     1\n",
      "avgMoM_perc_cpi            2\n",
      "labor_day                  3\n",
      "super_bowl                 4\n",
      "fuel_4wk_rolling           5\n",
      "pre_christmas              6\n",
      "avgMoM_perc_fuel           7\n",
      "avgQoQ_perc_cpi            8\n",
      "next_week_holiday_flag     9\n",
      "temperature               10\n",
      "cpi_4wk_rolling           11\n",
      "dtype: int64\n"
     ]
    }
   ],
   "source": [
    "#uise the fucntion to get RFE\n",
    "top_rfe = m.select_rfe(X_train_scaled, y_train, 10,LinearRegression(normalize=True, fit_intercept=True ))"
   ]
  },
  {
   "cell_type": "code",
   "execution_count": 20,
   "metadata": {},
   "outputs": [
    {
     "data": {
      "text/plain": [
       "70339.07052044076"
      ]
     },
     "execution_count": 20,
     "metadata": {},
     "output_type": "execute_result"
    }
   ],
   "source": [
    "#create the model\n",
    "ols_rfe = m.create_model(X_train_scaled[top_rfe], y_train_df, 'actual', LinearRegression(normalize=True, fit_intercept=True ), 'modelOLS' )\n",
    "ols_rfe['rmse']"
   ]
  },
  {
   "cell_type": "markdown",
   "metadata": {},
   "source": [
    "#### cross validation"
   ]
  },
  {
   "cell_type": "code",
   "execution_count": 21,
   "metadata": {},
   "outputs": [
    {
     "data": {
      "text/plain": [
       "array([-70080.50217941, -71528.662538  , -71789.27133027])"
      ]
     },
     "execution_count": 21,
     "metadata": {},
     "output_type": "execute_result"
    }
   ],
   "source": [
    "#create the model\n",
    "clf = LinearRegression(normalize=True, fit_intercept=True )\n",
    "#cv = number of folds\n",
    "cross_val_score(clf, X_train_scaled[top_rfe], y_train, cv=3, scoring = 'neg_root_mean_squared_error')"
   ]
  },
  {
   "cell_type": "code",
   "execution_count": null,
   "metadata": {},
   "outputs": [],
   "source": []
  },
  {
   "cell_type": "markdown",
   "metadata": {},
   "source": [
    "**NOTE: The best OLS model is ols_rf**"
   ]
  },
  {
   "cell_type": "code",
   "execution_count": 22,
   "metadata": {},
   "outputs": [],
   "source": [
    "#add the best model  metrics to our metric_df\n",
    "metric_df = metric_df.append(\n",
    "    {\n",
    "    'model': 'ols_rfe',\n",
    "    'rmse_train': ols_rfe['rmse'],    \n",
    "    'r^2' : ols_rfe['r2']}, ignore_index=True)"
   ]
  },
  {
   "cell_type": "markdown",
   "metadata": {},
   "source": [
    "## Model :LassoLars"
   ]
  },
  {
   "cell_type": "markdown",
   "metadata": {},
   "source": [
    "### - GridsearchCV"
   ]
  },
  {
   "cell_type": "code",
   "execution_count": 23,
   "metadata": {},
   "outputs": [],
   "source": [
    "#specify the parameters we wish to use as a dictionary, then use that dictionary when we create the class.\n",
    "params = {\n",
    "          'normalize': [True, False],\n",
    "          'fit_intercept':[True, False],\n",
    "           'alpha': [1.0, 0]\n",
    "         }"
   ]
  },
  {
   "cell_type": "code",
   "execution_count": 24,
   "metadata": {},
   "outputs": [
    {
     "data": {
      "text/html": [
       "<div>\n",
       "<style scoped>\n",
       "    .dataframe tbody tr th:only-of-type {\n",
       "        vertical-align: middle;\n",
       "    }\n",
       "\n",
       "    .dataframe tbody tr th {\n",
       "        vertical-align: top;\n",
       "    }\n",
       "\n",
       "    .dataframe thead th {\n",
       "        text-align: right;\n",
       "    }\n",
       "</style>\n",
       "<table border=\"1\" class=\"dataframe\">\n",
       "  <thead>\n",
       "    <tr style=\"text-align: right;\">\n",
       "      <th></th>\n",
       "      <th>alpha</th>\n",
       "      <th>fit_intercept</th>\n",
       "      <th>normalize</th>\n",
       "      <th>score</th>\n",
       "    </tr>\n",
       "  </thead>\n",
       "  <tbody>\n",
       "    <tr>\n",
       "      <th>6</th>\n",
       "      <td>0.0</td>\n",
       "      <td>False</td>\n",
       "      <td>True</td>\n",
       "      <td>-78124.182925</td>\n",
       "    </tr>\n",
       "    <tr>\n",
       "      <th>7</th>\n",
       "      <td>0.0</td>\n",
       "      <td>False</td>\n",
       "      <td>False</td>\n",
       "      <td>-78124.182925</td>\n",
       "    </tr>\n",
       "    <tr>\n",
       "      <th>2</th>\n",
       "      <td>1.0</td>\n",
       "      <td>False</td>\n",
       "      <td>True</td>\n",
       "      <td>-78123.766036</td>\n",
       "    </tr>\n",
       "    <tr>\n",
       "      <th>3</th>\n",
       "      <td>1.0</td>\n",
       "      <td>False</td>\n",
       "      <td>False</td>\n",
       "      <td>-78123.766036</td>\n",
       "    </tr>\n",
       "    <tr>\n",
       "      <th>5</th>\n",
       "      <td>0.0</td>\n",
       "      <td>True</td>\n",
       "      <td>False</td>\n",
       "      <td>-70665.229164</td>\n",
       "    </tr>\n",
       "    <tr>\n",
       "      <th>4</th>\n",
       "      <td>0.0</td>\n",
       "      <td>True</td>\n",
       "      <td>True</td>\n",
       "      <td>-70665.229164</td>\n",
       "    </tr>\n",
       "    <tr>\n",
       "      <th>1</th>\n",
       "      <td>1.0</td>\n",
       "      <td>True</td>\n",
       "      <td>False</td>\n",
       "      <td>-70664.424471</td>\n",
       "    </tr>\n",
       "    <tr>\n",
       "      <th>0</th>\n",
       "      <td>1.0</td>\n",
       "      <td>True</td>\n",
       "      <td>True</td>\n",
       "      <td>-70657.415397</td>\n",
       "    </tr>\n",
       "  </tbody>\n",
       "</table>\n",
       "</div>"
      ],
      "text/plain": [
       "   alpha  fit_intercept  normalize         score\n",
       "6    0.0          False       True -78124.182925\n",
       "7    0.0          False      False -78124.182925\n",
       "2    1.0          False       True -78123.766036\n",
       "3    1.0          False      False -78123.766036\n",
       "5    0.0           True      False -70665.229164\n",
       "4    0.0           True       True -70665.229164\n",
       "1    1.0           True      False -70664.424471\n",
       "0    1.0           True       True -70657.415397"
      ]
     },
     "execution_count": 24,
     "metadata": {},
     "output_type": "execute_result"
    }
   ],
   "source": [
    "#use the function to get the combinations of parameters\n",
    "m.gridsearch (X_train_scaled, y_train, LassoLars() , params, 'neg_root_mean_squared_error')"
   ]
  },
  {
   "cell_type": "markdown",
   "metadata": {},
   "source": [
    "### LassoLars using RFE "
   ]
  },
  {
   "cell_type": "code",
   "execution_count": 25,
   "metadata": {},
   "outputs": [
    {
     "name": "stdout",
     "output_type": "stream",
     "text": [
      "The top 6 selected feautures based on the the RFE class class are: ['this_week_sales', 'store_size', 'next_week_1_year_ago', 'christmas', 'thanksgiving', 'avgQoQ_perc_unemp']\n",
      "this_week_sales            1\n",
      "thanksgiving               1\n",
      "christmas                  1\n",
      "next_week_1_year_ago       1\n",
      "avgQoQ_perc_unemp          1\n",
      "store_size                 1\n",
      "unemp_4wk_rolling          2\n",
      "this_week_holiday_flag     3\n",
      "avgQoQ_perc_fuel           4\n",
      "avgMoM_perc_unemp          5\n",
      "avgMoM_perc_cpi            6\n",
      "next_week_holiday_flag     7\n",
      "fuel_4wk_rolling           8\n",
      "avgMoM_perc_fuel           9\n",
      "pre_christmas             10\n",
      "labor_day                 11\n",
      "avgQoQ_perc_cpi           12\n",
      "cpi_4wk_rolling           13\n",
      "temperature               14\n",
      "super_bowl                15\n",
      "dtype: int64\n"
     ]
    }
   ],
   "source": [
    "#get the 6 features\n",
    "top_rfe = m.select_rfe(X_train_scaled, y_train, 6, LassoLars(alpha = 1, normalize= True, fit_intercept= True) )"
   ]
  },
  {
   "cell_type": "code",
   "execution_count": 26,
   "metadata": {},
   "outputs": [
    {
     "data": {
      "text/plain": [
       "71522.66640807404"
      ]
     },
     "execution_count": 26,
     "metadata": {},
     "output_type": "execute_result"
    }
   ],
   "source": [
    "#create the model\n",
    "lasso_rfe = m.create_model(X_train_scaled[top_rfe], y_train_df, 'actual', LassoLars(alpha = 1, normalize= False, fit_intercept= True), 'modelLasso' )\n",
    "lasso_rfe['rmse']"
   ]
  },
  {
   "cell_type": "markdown",
   "metadata": {},
   "source": [
    "### cross validation"
   ]
  },
  {
   "cell_type": "code",
   "execution_count": 27,
   "metadata": {
    "scrolled": true
   },
   "outputs": [
    {
     "data": {
      "text/plain": [
       "array([-71447.2057401 , -72244.57440475, -72581.69415924])"
      ]
     },
     "execution_count": 27,
     "metadata": {},
     "output_type": "execute_result"
    }
   ],
   "source": [
    "#create the model\n",
    "clf = LassoLars(alpha = 1, normalize= False, fit_intercept= True)\n",
    "#cv = number of folds\n",
    "cross = cross_val_score(clf, X_train_scaled[top_rfe], y_train, cv=3, scoring = 'neg_root_mean_squared_error')\n",
    "cross"
   ]
  },
  {
   "cell_type": "markdown",
   "metadata": {},
   "source": [
    "### LassoLars using selectKbest"
   ]
  },
  {
   "cell_type": "code",
   "execution_count": 28,
   "metadata": {},
   "outputs": [
    {
     "name": "stdout",
     "output_type": "stream",
     "text": [
      "The top 9 selected feautures based on the SelectKBest class are: ['this_week_sales', 'temperature', 'store_size', 'next_week_1_year_ago', 'next_week_holiday_flag', 'pre_christmas', 'thanksgiving', 'cpi_4wk_rolling', 'unemp_4wk_rolling']\n"
     ]
    }
   ],
   "source": [
    "#using my function for SelectkBest\n",
    "top_sb =m.select_kbest(X_train_scaled, y_train, 9)"
   ]
  },
  {
   "cell_type": "code",
   "execution_count": 29,
   "metadata": {},
   "outputs": [
    {
     "data": {
      "text/plain": [
       "73370.09336590652"
      ]
     },
     "execution_count": 29,
     "metadata": {},
     "output_type": "execute_result"
    }
   ],
   "source": [
    "lasso_skb = m.create_model(X_train_scaled[top_sb], y_train_df, 'actual', LassoLars(alpha = 1, normalize= True, fit_intercept= True), 'modelLasso' )\n",
    "lasso_skb['rmse']"
   ]
  },
  {
   "cell_type": "markdown",
   "metadata": {},
   "source": [
    "### cross validation"
   ]
  },
  {
   "cell_type": "code",
   "execution_count": 30,
   "metadata": {},
   "outputs": [
    {
     "data": {
      "text/plain": [
       "array([-74045.96153329, -74430.52250561, -74022.31451342])"
      ]
     },
     "execution_count": 30,
     "metadata": {},
     "output_type": "execute_result"
    }
   ],
   "source": [
    "#create the model\n",
    "clf = LassoLars(alpha = 1, normalize= False, fit_intercept= True)\n",
    "#cv = number of folds\n",
    "cross= cross_val_score(clf, X_train_scaled[top_sb], y_train, cv=3, scoring = 'neg_root_mean_squared_error')\n",
    "cross"
   ]
  },
  {
   "cell_type": "markdown",
   "metadata": {},
   "source": [
    "**Note: the best LassoLars model is lasso_rfe**"
   ]
  },
  {
   "cell_type": "code",
   "execution_count": 31,
   "metadata": {},
   "outputs": [],
   "source": [
    "#add the best model and its metrics\n",
    "metric_df = metric_df.append(\n",
    "    {\n",
    "    'model': 'lasso_rfe',\n",
    "    'rmse_train': lasso_rfe['rmse'],    \n",
    "    'r^2' : lasso_rfe['r2']}, ignore_index=True)"
   ]
  },
  {
   "cell_type": "markdown",
   "metadata": {},
   "source": [
    "## TweedieRegressor (GLM)"
   ]
  },
  {
   "cell_type": "markdown",
   "metadata": {},
   "source": [
    "### - Gridsearch CV"
   ]
  },
  {
   "cell_type": "code",
   "execution_count": 32,
   "metadata": {},
   "outputs": [
    {
     "data": {
      "text/html": [
       "<div>\n",
       "<style scoped>\n",
       "    .dataframe tbody tr th:only-of-type {\n",
       "        vertical-align: middle;\n",
       "    }\n",
       "\n",
       "    .dataframe tbody tr th {\n",
       "        vertical-align: top;\n",
       "    }\n",
       "\n",
       "    .dataframe thead th {\n",
       "        text-align: right;\n",
       "    }\n",
       "</style>\n",
       "<table border=\"1\" class=\"dataframe\">\n",
       "  <thead>\n",
       "    <tr style=\"text-align: right;\">\n",
       "      <th></th>\n",
       "      <th>alpha</th>\n",
       "      <th>fit_intercept</th>\n",
       "      <th>power</th>\n",
       "      <th>warm_start</th>\n",
       "      <th>score</th>\n",
       "    </tr>\n",
       "  </thead>\n",
       "  <tbody>\n",
       "    <tr>\n",
       "      <th>14</th>\n",
       "      <td>0.0</td>\n",
       "      <td>False</td>\n",
       "      <td>1.0</td>\n",
       "      <td>True</td>\n",
       "      <td>-1.383688e+06</td>\n",
       "    </tr>\n",
       "    <tr>\n",
       "      <th>15</th>\n",
       "      <td>0.0</td>\n",
       "      <td>False</td>\n",
       "      <td>1.0</td>\n",
       "      <td>False</td>\n",
       "      <td>-1.383688e+06</td>\n",
       "    </tr>\n",
       "    <tr>\n",
       "      <th>6</th>\n",
       "      <td>1.0</td>\n",
       "      <td>False</td>\n",
       "      <td>1.0</td>\n",
       "      <td>True</td>\n",
       "      <td>-1.383662e+06</td>\n",
       "    </tr>\n",
       "    <tr>\n",
       "      <th>7</th>\n",
       "      <td>1.0</td>\n",
       "      <td>False</td>\n",
       "      <td>1.0</td>\n",
       "      <td>False</td>\n",
       "      <td>-1.383662e+06</td>\n",
       "    </tr>\n",
       "    <tr>\n",
       "      <th>4</th>\n",
       "      <td>1.0</td>\n",
       "      <td>False</td>\n",
       "      <td>0.0</td>\n",
       "      <td>True</td>\n",
       "      <td>-5.291123e+05</td>\n",
       "    </tr>\n",
       "    <tr>\n",
       "      <th>5</th>\n",
       "      <td>1.0</td>\n",
       "      <td>False</td>\n",
       "      <td>0.0</td>\n",
       "      <td>False</td>\n",
       "      <td>-5.291123e+05</td>\n",
       "    </tr>\n",
       "    <tr>\n",
       "      <th>0</th>\n",
       "      <td>1.0</td>\n",
       "      <td>True</td>\n",
       "      <td>0.0</td>\n",
       "      <td>True</td>\n",
       "      <td>-4.964809e+05</td>\n",
       "    </tr>\n",
       "    <tr>\n",
       "      <th>1</th>\n",
       "      <td>1.0</td>\n",
       "      <td>True</td>\n",
       "      <td>0.0</td>\n",
       "      <td>False</td>\n",
       "      <td>-4.964809e+05</td>\n",
       "    </tr>\n",
       "    <tr>\n",
       "      <th>10</th>\n",
       "      <td>0.0</td>\n",
       "      <td>True</td>\n",
       "      <td>1.0</td>\n",
       "      <td>True</td>\n",
       "      <td>-1.441567e+05</td>\n",
       "    </tr>\n",
       "    <tr>\n",
       "      <th>11</th>\n",
       "      <td>0.0</td>\n",
       "      <td>True</td>\n",
       "      <td>1.0</td>\n",
       "      <td>False</td>\n",
       "      <td>-1.441567e+05</td>\n",
       "    </tr>\n",
       "    <tr>\n",
       "      <th>2</th>\n",
       "      <td>1.0</td>\n",
       "      <td>True</td>\n",
       "      <td>1.0</td>\n",
       "      <td>True</td>\n",
       "      <td>-1.441518e+05</td>\n",
       "    </tr>\n",
       "    <tr>\n",
       "      <th>3</th>\n",
       "      <td>1.0</td>\n",
       "      <td>True</td>\n",
       "      <td>1.0</td>\n",
       "      <td>False</td>\n",
       "      <td>-1.441518e+05</td>\n",
       "    </tr>\n",
       "    <tr>\n",
       "      <th>12</th>\n",
       "      <td>0.0</td>\n",
       "      <td>False</td>\n",
       "      <td>0.0</td>\n",
       "      <td>True</td>\n",
       "      <td>-7.812419e+04</td>\n",
       "    </tr>\n",
       "    <tr>\n",
       "      <th>13</th>\n",
       "      <td>0.0</td>\n",
       "      <td>False</td>\n",
       "      <td>0.0</td>\n",
       "      <td>False</td>\n",
       "      <td>-7.812419e+04</td>\n",
       "    </tr>\n",
       "    <tr>\n",
       "      <th>8</th>\n",
       "      <td>0.0</td>\n",
       "      <td>True</td>\n",
       "      <td>0.0</td>\n",
       "      <td>True</td>\n",
       "      <td>-7.066523e+04</td>\n",
       "    </tr>\n",
       "    <tr>\n",
       "      <th>9</th>\n",
       "      <td>0.0</td>\n",
       "      <td>True</td>\n",
       "      <td>0.0</td>\n",
       "      <td>False</td>\n",
       "      <td>-7.066523e+04</td>\n",
       "    </tr>\n",
       "  </tbody>\n",
       "</table>\n",
       "</div>"
      ],
      "text/plain": [
       "    alpha  fit_intercept  power  warm_start         score\n",
       "14    0.0          False    1.0        True -1.383688e+06\n",
       "15    0.0          False    1.0       False -1.383688e+06\n",
       "6     1.0          False    1.0        True -1.383662e+06\n",
       "7     1.0          False    1.0       False -1.383662e+06\n",
       "4     1.0          False    0.0        True -5.291123e+05\n",
       "5     1.0          False    0.0       False -5.291123e+05\n",
       "0     1.0           True    0.0        True -4.964809e+05\n",
       "1     1.0           True    0.0       False -4.964809e+05\n",
       "10    0.0           True    1.0        True -1.441567e+05\n",
       "11    0.0           True    1.0       False -1.441567e+05\n",
       "2     1.0           True    1.0        True -1.441518e+05\n",
       "3     1.0           True    1.0       False -1.441518e+05\n",
       "12    0.0          False    0.0        True -7.812419e+04\n",
       "13    0.0          False    0.0       False -7.812419e+04\n",
       "8     0.0           True    0.0        True -7.066523e+04\n",
       "9     0.0           True    0.0       False -7.066523e+04"
      ]
     },
     "execution_count": 32,
     "metadata": {},
     "output_type": "execute_result"
    }
   ],
   "source": [
    "#specify the parameters we wish to use as a dictionary, then use that dictionary when we create the class.\n",
    "params = {\n",
    "          'power': [0.0, 1],\n",
    "           'fit_intercept' : [True , False],\n",
    "          'warm_start': [True, False], \n",
    "           'alpha': [1.0, 0.0]\n",
    "         }\n",
    "#use the function\n",
    "m.gridsearch (X_train_scaled, y_train,TweedieRegressor() , params, 'neg_root_mean_squared_error')"
   ]
  },
  {
   "cell_type": "markdown",
   "metadata": {},
   "source": [
    "### create GLM using RFE"
   ]
  },
  {
   "cell_type": "code",
   "execution_count": 33,
   "metadata": {},
   "outputs": [
    {
     "name": "stdout",
     "output_type": "stream",
     "text": [
      "The top 7 selected feautures based on the the RFE class class are: ['this_week_sales', 'store_size', 'next_week_1_year_ago', 'christmas', 'thanksgiving', 'unemp_4wk_rolling', 'avgQoQ_perc_unemp']\n",
      "this_week_sales            1\n",
      "unemp_4wk_rolling          1\n",
      "thanksgiving               1\n",
      "christmas                  1\n",
      "avgQoQ_perc_unemp          1\n",
      "store_size                 1\n",
      "next_week_1_year_ago       1\n",
      "this_week_holiday_flag     2\n",
      "avgQoQ_perc_fuel           3\n",
      "avgMoM_perc_unemp          4\n",
      "avgMoM_perc_cpi            5\n",
      "labor_day                  6\n",
      "super_bowl                 7\n",
      "fuel_4wk_rolling           8\n",
      "pre_christmas              9\n",
      "avgMoM_perc_fuel          10\n",
      "avgQoQ_perc_cpi           11\n",
      "next_week_holiday_flag    12\n",
      "temperature               13\n",
      "cpi_4wk_rolling           14\n",
      "dtype: int64\n"
     ]
    }
   ],
   "source": [
    "#use function to get the top 6 RFE\n",
    "top_rfe = m.select_rfe(X_train_scaled, y_train, 7, TweedieRegressor(alpha =0 , fit_intercept= True, power=0 ,\\\n",
    "                                                                  warm_start= False) )"
   ]
  },
  {
   "cell_type": "code",
   "execution_count": 34,
   "metadata": {},
   "outputs": [
    {
     "data": {
      "text/plain": [
       "71197.37052405278"
      ]
     },
     "execution_count": 34,
     "metadata": {},
     "output_type": "execute_result"
    }
   ],
   "source": [
    "#create the model\n",
    "gml_rfe = m.create_model(X_train_scaled[top_rfe], y_train_df, 'actual',TweedieRegressor(alpha =0 , fit_intercept= True, power=0 ,\\\n",
    "                                                                  warm_start= False), 'modelgml' )\n",
    "gml_rfe['rmse']"
   ]
  },
  {
   "cell_type": "markdown",
   "metadata": {},
   "source": [
    "#### cross validation"
   ]
  },
  {
   "cell_type": "code",
   "execution_count": 35,
   "metadata": {},
   "outputs": [
    {
     "data": {
      "text/plain": [
       "array([-71374.06029116, -72012.42497728, -72054.63146727])"
      ]
     },
     "execution_count": 35,
     "metadata": {},
     "output_type": "execute_result"
    }
   ],
   "source": [
    "#create the model\n",
    "clf = TweedieRegressor(alpha =0 , fit_intercept= True, power=0 ,warm_start= False)\n",
    "#cv = number of folds\n",
    "cross = cross_val_score(clf, X_train_scaled[top_rfe], y_train, scoring = 'neg_root_mean_squared_error', cv=3)\n",
    "cross"
   ]
  },
  {
   "cell_type": "markdown",
   "metadata": {},
   "source": [
    "### create GML using select kbest"
   ]
  },
  {
   "cell_type": "code",
   "execution_count": 36,
   "metadata": {},
   "outputs": [
    {
     "name": "stdout",
     "output_type": "stream",
     "text": [
      "The top 7 selected feautures based on the SelectKBest class are: ['this_week_sales', 'temperature', 'store_size', 'next_week_1_year_ago', 'pre_christmas', 'cpi_4wk_rolling', 'unemp_4wk_rolling']\n"
     ]
    }
   ],
   "source": [
    "#using my function for SelectkBest\n",
    "top_sb =m.select_kbest(X_train_scaled, y_train, 7)"
   ]
  },
  {
   "cell_type": "code",
   "execution_count": 37,
   "metadata": {},
   "outputs": [
    {
     "data": {
      "text/plain": [
       "74330.91020801304"
      ]
     },
     "execution_count": 37,
     "metadata": {},
     "output_type": "execute_result"
    }
   ],
   "source": [
    "#create a model\n",
    "gml_skb = m.create_model(X_train_scaled[top_sb], y_train_df, 'actual',TweedieRegressor(alpha =0 , fit_intercept= True, power=0 ,\\\n",
    "                                                                  warm_start= False), 'modelgml' )\n",
    "gml_skb['rmse']"
   ]
  },
  {
   "cell_type": "markdown",
   "metadata": {},
   "source": [
    "#### cross validation"
   ]
  },
  {
   "cell_type": "code",
   "execution_count": 38,
   "metadata": {},
   "outputs": [
    {
     "data": {
      "text/plain": [
       "array([-75377.89622107, -73349.13363488, -75559.29396566])"
      ]
     },
     "execution_count": 38,
     "metadata": {},
     "output_type": "execute_result"
    }
   ],
   "source": [
    "#create the model\n",
    "clf = TweedieRegressor(alpha =0 , fit_intercept= True, power=0 ,warm_start= False)\n",
    "#cv = number of folds\n",
    "cross = cross_val_score(clf, X_train_scaled[top_sb], y_train, scoring = 'neg_root_mean_squared_error',cv=3)\n",
    "cross"
   ]
  },
  {
   "cell_type": "markdown",
   "metadata": {},
   "source": [
    "**Note the best model for GLM is gml_rfe**"
   ]
  },
  {
   "cell_type": "code",
   "execution_count": 39,
   "metadata": {},
   "outputs": [],
   "source": [
    "#add the best model\n",
    "metric_df = metric_df.append(\n",
    "    {\n",
    "    'model': 'gml_rfe',\n",
    "    'rmse_train': gml_rfe['rmse'],    \n",
    "    'r^2' : gml_rfe['r2']}, ignore_index=True)"
   ]
  },
  {
   "cell_type": "markdown",
   "metadata": {},
   "source": [
    "# Polynomial Regression"
   ]
  },
  {
   "cell_type": "markdown",
   "metadata": {},
   "source": [
    "###  - Polynomila Regression using select k best "
   ]
  },
  {
   "cell_type": "code",
   "execution_count": 40,
   "metadata": {},
   "outputs": [
    {
     "name": "stdout",
     "output_type": "stream",
     "text": [
      "The top 10 selected feautures based on the SelectKBest class are: ['this_week_sales', 'temperature', 'store_size', 'next_week_1_year_ago', 'next_week_holiday_flag', 'pre_christmas', 'thanksgiving', 'cpi_4wk_rolling', 'unemp_4wk_rolling', 'avgQoQ_perc_unemp']\n"
     ]
    }
   ],
   "source": [
    "#using my function for SelectkBest\n",
    "top_sb =m.select_kbest(X_train_scaled, y_train, 10)"
   ]
  },
  {
   "cell_type": "code",
   "execution_count": 41,
   "metadata": {},
   "outputs": [],
   "source": [
    "# make the polynomial features to get a new set of features\n",
    "pf = PolynomialFeatures(degree = 2) \n",
    "\n",
    "# fit and transform X_train_scaled\n",
    "X_train_degree3 = pf.fit_transform(X_train_scaled[top_sb])\n",
    "\n",
    "# transform X_validate_scaled & X_test_scaled\n",
    "X_test_degree3 = pf.transform(X_test_scaled[top_sb])"
   ]
  },
  {
   "cell_type": "markdown",
   "metadata": {},
   "source": [
    "### GridSearchCV"
   ]
  },
  {
   "cell_type": "code",
   "execution_count": 42,
   "metadata": {},
   "outputs": [
    {
     "data": {
      "text/html": [
       "<div>\n",
       "<style scoped>\n",
       "    .dataframe tbody tr th:only-of-type {\n",
       "        vertical-align: middle;\n",
       "    }\n",
       "\n",
       "    .dataframe tbody tr th {\n",
       "        vertical-align: top;\n",
       "    }\n",
       "\n",
       "    .dataframe thead th {\n",
       "        text-align: right;\n",
       "    }\n",
       "</style>\n",
       "<table border=\"1\" class=\"dataframe\">\n",
       "  <thead>\n",
       "    <tr style=\"text-align: right;\">\n",
       "      <th></th>\n",
       "      <th>fit_intercept</th>\n",
       "      <th>normalize</th>\n",
       "      <th>score</th>\n",
       "    </tr>\n",
       "  </thead>\n",
       "  <tbody>\n",
       "    <tr>\n",
       "      <th>1</th>\n",
       "      <td>True</td>\n",
       "      <td>False</td>\n",
       "      <td>-68537.823324</td>\n",
       "    </tr>\n",
       "    <tr>\n",
       "      <th>0</th>\n",
       "      <td>True</td>\n",
       "      <td>True</td>\n",
       "      <td>-67663.495945</td>\n",
       "    </tr>\n",
       "    <tr>\n",
       "      <th>2</th>\n",
       "      <td>False</td>\n",
       "      <td>True</td>\n",
       "      <td>-67280.147803</td>\n",
       "    </tr>\n",
       "    <tr>\n",
       "      <th>3</th>\n",
       "      <td>False</td>\n",
       "      <td>False</td>\n",
       "      <td>-67280.147803</td>\n",
       "    </tr>\n",
       "  </tbody>\n",
       "</table>\n",
       "</div>"
      ],
      "text/plain": [
       "   fit_intercept  normalize         score\n",
       "1           True      False -68537.823324\n",
       "0           True       True -67663.495945\n",
       "2          False       True -67280.147803\n",
       "3          False      False -67280.147803"
      ]
     },
     "execution_count": 42,
     "metadata": {},
     "output_type": "execute_result"
    }
   ],
   "source": [
    "#specify the parameters we wish to use as a dictionary, then use that dictionary when we create the class.\n",
    "params = {\n",
    "          'normalize': [True, False],\n",
    "          'fit_intercept':[True, False],\n",
    "         }\n",
    "\n",
    "m.gridsearch (X_train_degree3, y_train, LinearRegression() , params, 'neg_root_mean_squared_error')"
   ]
  },
  {
   "cell_type": "code",
   "execution_count": 43,
   "metadata": {
    "scrolled": true
   },
   "outputs": [
    {
     "data": {
      "text/plain": [
       "64609.20374104813"
      ]
     },
     "execution_count": 43,
     "metadata": {},
     "output_type": "execute_result"
    }
   ],
   "source": [
    "#create a model\n",
    "pol_skb = m.create_model(X_train_degree3, y_train_df, 'actual',LinearRegression( normalize=True, fit_intercept = True ), 'pol2_skb' )\n",
    "pol_skb['rmse']"
   ]
  },
  {
   "cell_type": "markdown",
   "metadata": {},
   "source": [
    "##### cross validation"
   ]
  },
  {
   "cell_type": "code",
   "execution_count": 44,
   "metadata": {},
   "outputs": [
    {
     "data": {
      "text/plain": [
       "array([-66016.67167466, -67841.00338362, -70257.44391932, -67202.36159337,\n",
       "       -71371.636051  ])"
      ]
     },
     "execution_count": 44,
     "metadata": {},
     "output_type": "execute_result"
    }
   ],
   "source": [
    "#create the model\n",
    "clf = LinearRegression( normalize=False, fit_intercept = True )\n",
    "#cv = number of folds\n",
    "cross = cross_val_score(clf, X_train_degree3, y_train, cv=5, scoring = 'neg_root_mean_squared_error')\n",
    "cross"
   ]
  },
  {
   "cell_type": "code",
   "execution_count": 45,
   "metadata": {},
   "outputs": [],
   "source": [
    "metric_df = metric_df.append(\n",
    "    {\n",
    "    'model': 'pol2_skb',\n",
    "    'rmse_train': pol_skb['rmse'],    \n",
    "    'r^2' : pol_skb['r2']}, ignore_index=True)"
   ]
  },
  {
   "cell_type": "markdown",
   "metadata": {},
   "source": [
    "### -Polynoliam regression using RFE"
   ]
  },
  {
   "cell_type": "code",
   "execution_count": 46,
   "metadata": {},
   "outputs": [
    {
     "name": "stdout",
     "output_type": "stream",
     "text": [
      "The top 11 selected feautures based on the the RFE class class are: ['this_week_sales', 'temperature', 'store_size', 'next_week_1_year_ago', 'christmas', 'pre_christmas', 'super_bowl', 'thanksgiving', 'avgMoM_perc_cpi', 'avgMoM_perc_unemp', 'avgQoQ_perc_unemp']\n",
      "this_week_sales            1\n",
      "avgMoM_perc_unemp          1\n",
      "avgMoM_perc_cpi            1\n",
      "thanksgiving               1\n",
      "pre_christmas              1\n",
      "christmas                  1\n",
      "super_bowl                 1\n",
      "next_week_1_year_ago       1\n",
      "store_size                 1\n",
      "temperature                1\n",
      "avgQoQ_perc_unemp          1\n",
      "avgQoQ_perc_fuel           2\n",
      "this_week_holiday_flag     3\n",
      "avgQoQ_perc_cpi            4\n",
      "unemp_4wk_rolling          5\n",
      "avgMoM_perc_fuel           6\n",
      "cpi_4wk_rolling            7\n",
      "next_week_holiday_flag     8\n",
      "labor_day                  9\n",
      "fuel_4wk_rolling          10\n",
      "dtype: int64\n"
     ]
    }
   ],
   "source": [
    "#get the top 7 features by RFE\n",
    "top_rfe_pol = m.select_rfe(X_train_scaled, y_train, 11, LinearRegression(normalize=False, fit_intercept = False) )"
   ]
  },
  {
   "cell_type": "code",
   "execution_count": 47,
   "metadata": {},
   "outputs": [],
   "source": [
    "# make the polynomial features to get a new set of features\n",
    "pf = PolynomialFeatures(degree = 2) \n",
    "\n",
    "# fit and transform X_train_scaled\n",
    "X_train_degree3 = pf.fit_transform(X_train_scaled[top_rfe_pol])\n",
    "\n",
    "# transform X_validate_scaled & X_test_scaled\n",
    "X_test_degree3 = pf.transform(X_test_scaled[top_rfe_pol])"
   ]
  },
  {
   "cell_type": "markdown",
   "metadata": {},
   "source": [
    "#### GridsearchCV"
   ]
  },
  {
   "cell_type": "code",
   "execution_count": 48,
   "metadata": {},
   "outputs": [
    {
     "data": {
      "text/html": [
       "<div>\n",
       "<style scoped>\n",
       "    .dataframe tbody tr th:only-of-type {\n",
       "        vertical-align: middle;\n",
       "    }\n",
       "\n",
       "    .dataframe tbody tr th {\n",
       "        vertical-align: top;\n",
       "    }\n",
       "\n",
       "    .dataframe thead th {\n",
       "        text-align: right;\n",
       "    }\n",
       "</style>\n",
       "<table border=\"1\" class=\"dataframe\">\n",
       "  <thead>\n",
       "    <tr style=\"text-align: right;\">\n",
       "      <th></th>\n",
       "      <th>fit_intercept</th>\n",
       "      <th>normalize</th>\n",
       "      <th>score</th>\n",
       "    </tr>\n",
       "  </thead>\n",
       "  <tbody>\n",
       "    <tr>\n",
       "      <th>0</th>\n",
       "      <td>True</td>\n",
       "      <td>True</td>\n",
       "      <td>-66226.573280</td>\n",
       "    </tr>\n",
       "    <tr>\n",
       "      <th>1</th>\n",
       "      <td>True</td>\n",
       "      <td>False</td>\n",
       "      <td>-66187.084301</td>\n",
       "    </tr>\n",
       "    <tr>\n",
       "      <th>2</th>\n",
       "      <td>False</td>\n",
       "      <td>True</td>\n",
       "      <td>-66187.084301</td>\n",
       "    </tr>\n",
       "    <tr>\n",
       "      <th>3</th>\n",
       "      <td>False</td>\n",
       "      <td>False</td>\n",
       "      <td>-66187.084301</td>\n",
       "    </tr>\n",
       "  </tbody>\n",
       "</table>\n",
       "</div>"
      ],
      "text/plain": [
       "   fit_intercept  normalize         score\n",
       "0           True       True -66226.573280\n",
       "1           True      False -66187.084301\n",
       "2          False       True -66187.084301\n",
       "3          False      False -66187.084301"
      ]
     },
     "execution_count": 48,
     "metadata": {},
     "output_type": "execute_result"
    }
   ],
   "source": [
    "m.gridsearch (X_train_degree3, y_train, LinearRegression() , params, 'neg_root_mean_squared_error')"
   ]
  },
  {
   "cell_type": "code",
   "execution_count": 49,
   "metadata": {},
   "outputs": [
    {
     "data": {
      "text/plain": [
       "63537.88275172522"
      ]
     },
     "execution_count": 49,
     "metadata": {},
     "output_type": "execute_result"
    }
   ],
   "source": [
    "#create the model\n",
    "pol_rfe = m.create_model(X_train_degree3, y_train_df, 'actual',LinearRegression( normalize=False, fit_intercept = False ), 'pol3_RFE' )\n",
    "pol_rfe['rmse']"
   ]
  },
  {
   "cell_type": "markdown",
   "metadata": {},
   "source": [
    "#### cross validation"
   ]
  },
  {
   "cell_type": "code",
   "execution_count": 50,
   "metadata": {},
   "outputs": [
    {
     "data": {
      "text/plain": [
       "array([-62337.00446424, -65569.35237058, -68225.96990924, -66758.2633866 ,\n",
       "       -68044.83137326])"
      ]
     },
     "execution_count": 50,
     "metadata": {},
     "output_type": "execute_result"
    }
   ],
   "source": [
    "#create the model\n",
    "clf = LinearRegression( normalize=False, fit_intercept = False )\n",
    "#cv = number of folds\n",
    "cross = cross_val_score(clf, X_train_degree3, y_train, cv=5, scoring = 'neg_root_mean_squared_error')\n",
    "cross"
   ]
  },
  {
   "cell_type": "code",
   "execution_count": 51,
   "metadata": {},
   "outputs": [],
   "source": [
    "metric_df = metric_df.append(\n",
    "    {\n",
    "    'model': 'pol2_rfe',\n",
    "    'rmse_train': pol_rfe['rmse'],    \n",
    "    'r^2' : pol_rfe['r2']}, ignore_index=True)"
   ]
  },
  {
   "cell_type": "markdown",
   "metadata": {},
   "source": [
    "### -Polynomial Regression Degree 1  with all features"
   ]
  },
  {
   "cell_type": "code",
   "execution_count": 52,
   "metadata": {},
   "outputs": [],
   "source": [
    "# make the polynomial features to get a new set of features using the entire df\n",
    "pf = PolynomialFeatures(degree = 1) \n",
    "\n",
    "# fit and transform X_train_scaled\n",
    "X_train_degree1 = pf.fit_transform(X_train_scaled)\n",
    "\n",
    "# transform X_validate_scaled & X_test_scaled\n",
    "X_test_degree1 = pf.transform(X_test_scaled)"
   ]
  },
  {
   "cell_type": "markdown",
   "metadata": {},
   "source": [
    "### GreidSearch CV"
   ]
  },
  {
   "cell_type": "code",
   "execution_count": 53,
   "metadata": {},
   "outputs": [
    {
     "data": {
      "text/html": [
       "<div>\n",
       "<style scoped>\n",
       "    .dataframe tbody tr th:only-of-type {\n",
       "        vertical-align: middle;\n",
       "    }\n",
       "\n",
       "    .dataframe tbody tr th {\n",
       "        vertical-align: top;\n",
       "    }\n",
       "\n",
       "    .dataframe thead th {\n",
       "        text-align: right;\n",
       "    }\n",
       "</style>\n",
       "<table border=\"1\" class=\"dataframe\">\n",
       "  <thead>\n",
       "    <tr style=\"text-align: right;\">\n",
       "      <th></th>\n",
       "      <th>fit_intercept</th>\n",
       "      <th>normalize</th>\n",
       "      <th>score</th>\n",
       "    </tr>\n",
       "  </thead>\n",
       "  <tbody>\n",
       "    <tr>\n",
       "      <th>2</th>\n",
       "      <td>False</td>\n",
       "      <td>True</td>\n",
       "      <td>-70665.229164</td>\n",
       "    </tr>\n",
       "    <tr>\n",
       "      <th>3</th>\n",
       "      <td>False</td>\n",
       "      <td>False</td>\n",
       "      <td>-70665.229164</td>\n",
       "    </tr>\n",
       "    <tr>\n",
       "      <th>0</th>\n",
       "      <td>True</td>\n",
       "      <td>True</td>\n",
       "      <td>-70665.229164</td>\n",
       "    </tr>\n",
       "    <tr>\n",
       "      <th>1</th>\n",
       "      <td>True</td>\n",
       "      <td>False</td>\n",
       "      <td>-70665.229164</td>\n",
       "    </tr>\n",
       "  </tbody>\n",
       "</table>\n",
       "</div>"
      ],
      "text/plain": [
       "   fit_intercept  normalize         score\n",
       "2          False       True -70665.229164\n",
       "3          False      False -70665.229164\n",
       "0           True       True -70665.229164\n",
       "1           True      False -70665.229164"
      ]
     },
     "execution_count": 53,
     "metadata": {},
     "output_type": "execute_result"
    }
   ],
   "source": [
    "m.gridsearch (X_train_degree1, y_train, LinearRegression() , params, 'neg_root_mean_squared_error')"
   ]
  },
  {
   "cell_type": "code",
   "execution_count": 54,
   "metadata": {
    "scrolled": true
   },
   "outputs": [
    {
     "data": {
      "text/plain": [
       "70077.52211783333"
      ]
     },
     "execution_count": 54,
     "metadata": {},
     "output_type": "execute_result"
    }
   ],
   "source": [
    "pol_dg1 = m.create_model(X_train_degree1, y_train_df, 'actual',LinearRegression( normalize=False, fit_intercept = True ), 'modelpol' )\n",
    "pol_dg1['rmse']"
   ]
  },
  {
   "cell_type": "markdown",
   "metadata": {},
   "source": [
    "### Cross Validation"
   ]
  },
  {
   "cell_type": "code",
   "execution_count": 55,
   "metadata": {},
   "outputs": [
    {
     "data": {
      "text/plain": [
       "array([-69760.12765581, -71425.17819823, -71893.93591105])"
      ]
     },
     "execution_count": 55,
     "metadata": {},
     "output_type": "execute_result"
    }
   ],
   "source": [
    "#create the model\n",
    "clf = LinearRegression( normalize=False, fit_intercept = True )\n",
    "#cv = number of folds\n",
    "cross = cross_val_score(clf, X_train_degree1, y_train, cv=3, scoring = 'neg_root_mean_squared_error')\n",
    "cross"
   ]
  },
  {
   "cell_type": "code",
   "execution_count": 56,
   "metadata": {},
   "outputs": [],
   "source": [
    "#add this model metrics to df\n",
    "metric_df = metric_df.append(\n",
    "    {\n",
    "    'model': 'pol_dg1',\n",
    "    'rmse_train': pol_dg1['rmse'],    \n",
    "    'r^2' : pol_dg1['r2']}, ignore_index=True)"
   ]
  },
  {
   "cell_type": "markdown",
   "metadata": {},
   "source": [
    "## RESULTS"
   ]
  },
  {
   "cell_type": "code",
   "execution_count": 57,
   "metadata": {
    "scrolled": true
   },
   "outputs": [
    {
     "data": {
      "text/html": [
       "<div>\n",
       "<style scoped>\n",
       "    .dataframe tbody tr th:only-of-type {\n",
       "        vertical-align: middle;\n",
       "    }\n",
       "\n",
       "    .dataframe tbody tr th {\n",
       "        vertical-align: top;\n",
       "    }\n",
       "\n",
       "    .dataframe thead th {\n",
       "        text-align: right;\n",
       "    }\n",
       "</style>\n",
       "<table border=\"1\" class=\"dataframe\">\n",
       "  <thead>\n",
       "    <tr style=\"text-align: right;\">\n",
       "      <th></th>\n",
       "      <th>model</th>\n",
       "      <th>rmse_train</th>\n",
       "      <th>r^2</th>\n",
       "    </tr>\n",
       "  </thead>\n",
       "  <tbody>\n",
       "    <tr>\n",
       "      <th>5</th>\n",
       "      <td>pol2_rfe</td>\n",
       "      <td>63537.882752</td>\n",
       "      <td>0.987056</td>\n",
       "    </tr>\n",
       "    <tr>\n",
       "      <th>4</th>\n",
       "      <td>pol2_skb</td>\n",
       "      <td>64609.203741</td>\n",
       "      <td>0.987856</td>\n",
       "    </tr>\n",
       "    <tr>\n",
       "      <th>6</th>\n",
       "      <td>pol_dg1</td>\n",
       "      <td>70077.522118</td>\n",
       "      <td>0.984254</td>\n",
       "    </tr>\n",
       "    <tr>\n",
       "      <th>1</th>\n",
       "      <td>ols_rfe</td>\n",
       "      <td>70339.070520</td>\n",
       "      <td>0.984137</td>\n",
       "    </tr>\n",
       "    <tr>\n",
       "      <th>3</th>\n",
       "      <td>gml_rfe</td>\n",
       "      <td>71197.370524</td>\n",
       "      <td>0.983747</td>\n",
       "    </tr>\n",
       "    <tr>\n",
       "      <th>2</th>\n",
       "      <td>lasso_rfe</td>\n",
       "      <td>71522.666408</td>\n",
       "      <td>0.983573</td>\n",
       "    </tr>\n",
       "    <tr>\n",
       "      <th>0</th>\n",
       "      <td>baseline(using last year sales)</td>\n",
       "      <td>91145.282235</td>\n",
       "      <td>0.000000</td>\n",
       "    </tr>\n",
       "  </tbody>\n",
       "</table>\n",
       "</div>"
      ],
      "text/plain": [
       "                             model    rmse_train       r^2\n",
       "5                         pol2_rfe  63537.882752  0.987056\n",
       "4                         pol2_skb  64609.203741  0.987856\n",
       "6                          pol_dg1  70077.522118  0.984254\n",
       "1                          ols_rfe  70339.070520  0.984137\n",
       "3                          gml_rfe  71197.370524  0.983747\n",
       "2                        lasso_rfe  71522.666408  0.983573\n",
       "0  baseline(using last year sales)  91145.282235  0.000000"
      ]
     },
     "execution_count": 57,
     "metadata": {},
     "output_type": "execute_result"
    }
   ],
   "source": [
    "metric_df.sort_values('rmse_train')"
   ]
  },
  {
   "cell_type": "code",
   "execution_count": 58,
   "metadata": {
    "scrolled": true
   },
   "outputs": [
    {
     "name": "stdout",
     "output_type": "stream",
     "text": [
      "The best model is\n"
     ]
    },
    {
     "data": {
      "text/html": [
       "<div>\n",
       "<style scoped>\n",
       "    .dataframe tbody tr th:only-of-type {\n",
       "        vertical-align: middle;\n",
       "    }\n",
       "\n",
       "    .dataframe tbody tr th {\n",
       "        vertical-align: top;\n",
       "    }\n",
       "\n",
       "    .dataframe thead th {\n",
       "        text-align: right;\n",
       "    }\n",
       "</style>\n",
       "<table border=\"1\" class=\"dataframe\">\n",
       "  <thead>\n",
       "    <tr style=\"text-align: right;\">\n",
       "      <th></th>\n",
       "      <th>model</th>\n",
       "      <th>rmse_train</th>\n",
       "      <th>r^2</th>\n",
       "    </tr>\n",
       "  </thead>\n",
       "  <tbody>\n",
       "    <tr>\n",
       "      <th>5</th>\n",
       "      <td>pol2_rfe</td>\n",
       "      <td>63537.882752</td>\n",
       "      <td>0.987056</td>\n",
       "    </tr>\n",
       "  </tbody>\n",
       "</table>\n",
       "</div>"
      ],
      "text/plain": [
       "      model    rmse_train       r^2\n",
       "5  pol2_rfe  63537.882752  0.987056"
      ]
     },
     "execution_count": 58,
     "metadata": {},
     "output_type": "execute_result"
    }
   ],
   "source": [
    "print('The best model is' )\n",
    "metric_df.nsmallest(1, 'rmse_train')"
   ]
  },
  {
   "cell_type": "code",
   "execution_count": null,
   "metadata": {},
   "outputs": [],
   "source": []
  },
  {
   "cell_type": "code",
   "execution_count": 87,
   "metadata": {
    "scrolled": true
   },
   "outputs": [
    {
     "data": {
      "text/html": [
       "<div>\n",
       "<style scoped>\n",
       "    .dataframe tbody tr th:only-of-type {\n",
       "        vertical-align: middle;\n",
       "    }\n",
       "\n",
       "    .dataframe tbody tr th {\n",
       "        vertical-align: top;\n",
       "    }\n",
       "\n",
       "    .dataframe thead th {\n",
       "        text-align: right;\n",
       "    }\n",
       "</style>\n",
       "<table border=\"1\" class=\"dataframe\">\n",
       "  <thead>\n",
       "    <tr style=\"text-align: right;\">\n",
       "      <th></th>\n",
       "      <th>model</th>\n",
       "      <th>rmse_train</th>\n",
       "    </tr>\n",
       "  </thead>\n",
       "  <tbody>\n",
       "    <tr>\n",
       "      <th>1</th>\n",
       "      <td>ols_rfe</td>\n",
       "      <td>70339.070520</td>\n",
       "    </tr>\n",
       "    <tr>\n",
       "      <th>2</th>\n",
       "      <td>lasso_rfe</td>\n",
       "      <td>71522.666408</td>\n",
       "    </tr>\n",
       "    <tr>\n",
       "      <th>3</th>\n",
       "      <td>gml_rfe</td>\n",
       "      <td>71197.370524</td>\n",
       "    </tr>\n",
       "    <tr>\n",
       "      <th>5</th>\n",
       "      <td>pol2_rfe</td>\n",
       "      <td>63537.882752</td>\n",
       "    </tr>\n",
       "  </tbody>\n",
       "</table>\n",
       "</div>"
      ],
      "text/plain": [
       "       model    rmse_train\n",
       "1    ols_rfe  70339.070520\n",
       "2  lasso_rfe  71522.666408\n",
       "3    gml_rfe  71197.370524\n",
       "5   pol2_rfe  63537.882752"
      ]
     },
     "execution_count": 87,
     "metadata": {},
     "output_type": "execute_result"
    }
   ],
   "source": [
    "final = metric_df[['model', 'rmse_train']].drop(axis=0, labels= [4,6,0])\n",
    "final"
   ]
  },
  {
   "cell_type": "code",
   "execution_count": 102,
   "metadata": {},
   "outputs": [],
   "source": [
    "new_names = ['LinearRegression(OLS)', 'LassoLars', 'TweedieRegressor', 'Polynomial Regression']"
   ]
  },
  {
   "cell_type": "code",
   "execution_count": 103,
   "metadata": {},
   "outputs": [],
   "source": [
    "final.model = new_names"
   ]
  },
  {
   "cell_type": "code",
   "execution_count": 104,
   "metadata": {
    "scrolled": false
   },
   "outputs": [
    {
     "data": {
      "image/png": "[encoded data removed]",
      "text/plain": [
       "<Figure size 720x504 with 1 Axes>"
      ]
     },
     "metadata": {
      "needs_background": "light"
     },
     "output_type": "display_data"
    }
   ],
   "source": [
    "plt.figure(figsize=(10,7))\n",
    "\n",
    "clrs = ['grey' if (x > min(final.rmse_train)) else 'blue' for x in final.rmse_train ]\n",
    "sns.barplot(x='model', y = 'rmse_train',palette=clrs,  data = final, hue_order='pol_rfe')\n",
    "plt.ylabel('')\n",
    "plt.yticks(size=16)\n",
    "#plt.xticks(rotation=45)\n",
    "plt.axhline(rmse_baseline2_train, ls='--', color='red')\n",
    "plt.annotate(\"Baseline: last_year_sales\", (0.03, 92000))\n",
    "plt.ylabel('RMSE')\n",
    "plt.title(\"RMSE for Each Model\")\n",
    "\n",
    "plt.show()"
   ]
  },
  {
   "cell_type": "code",
   "execution_count": 112,
   "metadata": {},
   "outputs": [
    {
     "data": {
      "image/png": "[encoded data removed]",
      "text/plain": [
       "<Figure size 720x504 with 1 Axes>"
      ]
     },
     "metadata": {
      "needs_background": "light"
     },
     "output_type": "display_data"
    }
   ],
   "source": [
    "plt.figure(figsize=(10,7))\n",
    "\n",
    "\n",
    "sns.barplot(x='model', y = 'rmse_train',palette=clrs,  data = final, hue_order='pol_rfe')\n",
    "plt.xlabel('Models', fontdict={'fontsize': 14})\n",
    "plt.yticks(size=16)\n",
    "plt.xticks(size=12)\n",
    "#plt.xticks(rotation=45)\n",
    "plt.axhline(rmse_baseline2_train, ls='--', color='red')\n",
    "plt.annotate(\"Baseline: last_year_sales\", (0.03, 92000))\n",
    "plt.ylabel('RMSE', fontdict={'fontsize': 14})\n",
    "plt.title(\"RMSE for Each Model\", fontdict={'fontsize': 14})\n",
    "\n",
    "plt.show()"
   ]
  },
  {
   "cell_type": "markdown",
   "metadata": {},
   "source": [
    "**Takeaways**\n",
    "\n",
    "the best model is Polynomial Regression Degree 2 using RFE top 11 Features\n"
   ]
  },
  {
   "cell_type": "code",
   "execution_count": 62,
   "metadata": {},
   "outputs": [
    {
     "data": {
      "text/plain": [
       "['this_week_sales',\n",
       " 'temperature',\n",
       " 'store_size',\n",
       " 'next_week_1_year_ago',\n",
       " 'christmas',\n",
       " 'pre_christmas',\n",
       " 'super_bowl',\n",
       " 'thanksgiving',\n",
       " 'avgMoM_perc_cpi',\n",
       " 'avgMoM_perc_unemp',\n",
       " 'avgQoQ_perc_unemp']"
      ]
     },
     "execution_count": 62,
     "metadata": {},
     "output_type": "execute_result"
    }
   ],
   "source": [
    "top_rfe_pol"
   ]
  },
  {
   "cell_type": "markdown",
   "metadata": {},
   "source": [
    "# TEST"
   ]
  },
  {
   "cell_type": "code",
   "execution_count": 63,
   "metadata": {},
   "outputs": [
    {
     "data": {
      "text/plain": [
       "64607.17186826456"
      ]
     },
     "execution_count": 63,
     "metadata": {},
     "output_type": "execute_result"
    }
   ],
   "source": [
    "#use my function to create and calculate the metrics\n",
    "pol_reg_test =  m.create_model(X_test_degree3, \n",
    "                              y_test_df, 'actual',LinearRegression( normalize=False, fit_intercept = True ), 'test_polreg' )\n",
    "\n",
    "pol_reg_test['rmse']"
   ]
  },
  {
   "cell_type": "code",
   "execution_count": 64,
   "metadata": {
    "scrolled": false
   },
   "outputs": [
    {
     "name": "stdout",
     "output_type": "stream",
     "text": [
      "The Baseline RMSE is $ 91145.28\n",
      "The Best Model RMSE on unseen data is $ 64607.17\n"
     ]
    }
   ],
   "source": [
    "print('The Baseline RMSE is $', round(rmse_baseline2_train,2))\n",
    "print('The Best Model RMSE on unseen data is $', round(pol_reg_test['rmse'],2))"
   ]
  },
  {
   "cell_type": "code",
   "execution_count": 65,
   "metadata": {
    "scrolled": true
   },
   "outputs": [
    {
     "data": {
      "text/plain": [
       "-29.116274277697187"
      ]
     },
     "execution_count": 65,
     "metadata": {},
     "output_type": "execute_result"
    }
   ],
   "source": [
    "# it is a 29% drop\n",
    "(pol_reg_test['rmse'] / rmse_baseline2_train -1)*100"
   ]
  },
  {
   "cell_type": "markdown",
   "metadata": {},
   "source": [
    "# END"
   ]
  },
  {
   "cell_type": "markdown",
   "metadata": {},
   "source": [
    "___________________________________"
   ]
  },
  {
   "cell_type": "code",
   "execution_count": 66,
   "metadata": {},
   "outputs": [
    {
     "data": {
      "text/html": [
       "<div>\n",
       "<style scoped>\n",
       "    .dataframe tbody tr th:only-of-type {\n",
       "        vertical-align: middle;\n",
       "    }\n",
       "\n",
       "    .dataframe tbody tr th {\n",
       "        vertical-align: top;\n",
       "    }\n",
       "\n",
       "    .dataframe thead th {\n",
       "        text-align: right;\n",
       "    }\n",
       "</style>\n",
       "<table border=\"1\" class=\"dataframe\">\n",
       "  <thead>\n",
       "    <tr style=\"text-align: right;\">\n",
       "      <th></th>\n",
       "      <th>actual</th>\n",
       "      <th>last_year_baseline</th>\n",
       "      <th>modelOLS</th>\n",
       "      <th>modelLasso</th>\n",
       "      <th>modelgml</th>\n",
       "      <th>pol2_skb</th>\n",
       "      <th>pol3_RFE</th>\n",
       "      <th>modelpol</th>\n",
       "    </tr>\n",
       "    <tr>\n",
       "      <th>id</th>\n",
       "      <th></th>\n",
       "      <th></th>\n",
       "      <th></th>\n",
       "      <th></th>\n",
       "      <th></th>\n",
       "      <th></th>\n",
       "      <th></th>\n",
       "      <th></th>\n",
       "    </tr>\n",
       "  </thead>\n",
       "  <tbody>\n",
       "    <tr>\n",
       "      <th>2011-09-16_store_12_2011-09-23</th>\n",
       "      <td>871692.74</td>\n",
       "      <td>851919.34</td>\n",
       "      <td>860852.288005</td>\n",
       "      <td>839547.706159</td>\n",
       "      <td>839310.371055</td>\n",
       "      <td>862064.863244</td>\n",
       "      <td>872133.156142</td>\n",
       "      <td>858136.80876</td>\n",
       "    </tr>\n",
       "  </tbody>\n",
       "</table>\n",
       "</div>"
      ],
      "text/plain": [
       "                                   actual  last_year_baseline       modelOLS  \\\n",
       "id                                                                             \n",
       "2011-09-16_store_12_2011-09-23  871692.74           851919.34  860852.288005   \n",
       "\n",
       "                                   modelLasso       modelgml       pol2_skb  \\\n",
       "id                                                                            \n",
       "2011-09-16_store_12_2011-09-23  839547.706159  839310.371055  862064.863244   \n",
       "\n",
       "                                     pol3_RFE      modelpol  \n",
       "id                                                           \n",
       "2011-09-16_store_12_2011-09-23  872133.156142  858136.80876  "
      ]
     },
     "execution_count": 66,
     "metadata": {},
     "output_type": "execute_result"
    }
   ],
   "source": [
    "y_train_df.head(1)"
   ]
  },
  {
   "cell_type": "code",
   "execution_count": 67,
   "metadata": {
    "scrolled": false
   },
   "outputs": [
    {
     "data": {
      "image/png": "[encoded data removed]",
      "text/plain": [
       "<Figure size 1152x576 with 1 Axes>"
      ]
     },
     "metadata": {
      "needs_background": "light"
     },
     "output_type": "display_data"
    }
   ],
   "source": [
    "# y_validate.head()\n",
    "plt.figure(figsize=(16,8))\n",
    "plt.scatter(y_train_df.actual, y_train_df.last_year_baseline, alpha=.5, color=\"gray\", label='baseline')\n",
    "plt.annotate(\"Baseline: last_year_\", (16, 9.5))\n",
    "plt.plot(y_train_df.actual, y_train_df.actual, alpha=.5, color=\"blue\", label='_nolegend_')\n",
    "plt.annotate(\"The Ideal Line: Predicted = Actual\", (.5, 3.5), rotation=15.5)\n",
    "\n",
    "# plt.scatter(y_train_df.actual, y_train_df.modelOLS, \n",
    "#             alpha=.5, color=\"red\", s=100, label=\"Model: LinearRegression\")\n",
    "#plt.scatter(y_train_df.actual, y_train_df.modelLasso, \n",
    "#            alpha=.5, color=\"yellow\", s=100, label=\"Model: LASSO LARS\")\n",
    "plt.scatter(y_train_df.actual, y_train_df.pol3_RFE, \n",
    "            alpha=.5, color=\"blue\", s=100, label=\"Model 2nd degree Polynomial\")\n",
    "plt.legend()\n",
    "plt.xlabel(\"Actual Weekly Sales\")\n",
    "plt.ylabel(\"Predicted Weekly Sales\")\n",
    "plt.title(\"Model Evaluation: Model Predictions vs Actual Sales\")\n",
    "#plt.xticks(rotation=45)\n",
    "plt.ticklabel_format(style = 'plain')\n",
    "plt.show()"
   ]
  },
  {
   "cell_type": "code",
   "execution_count": 68,
   "metadata": {},
   "outputs": [
    {
     "data": {
      "image/png": "[encoded data removed]",
      "text/plain": [
       "<Figure size 1152x576 with 1 Axes>"
      ]
     },
     "metadata": {
      "needs_background": "light"
     },
     "output_type": "display_data"
    }
   ],
   "source": [
    "# plot to visualize actual vs predicted. \n",
    "plt.figure(figsize=(16,8))\n",
    "plt.hist(y_train_df.actual, color='blue', alpha=.5, label=\"Actual Weekly Sales\")\n",
    "# plt.hist(y_train_df.modelOLS, color='red', alpha=.5, label=\"Model: LinearRegression\")\n",
    "# plt.hist(y_train_df.modelLasso, color='yellow', alpha=.5, label=\"Model: TweedieRegressor\")\n",
    "plt.hist(y_train_df.pol3_RFE, color='yellow', alpha=.5, label=\"Model 2nd degree Polynomial\")\n",
    "plt.xlabel(\"weekly sales in dollars\")\n",
    "plt.ylabel(\"Number of weeks\")\n",
    "plt.title(\"Comparing the Distribution of Actual weekly sales to Distributions of Predicted weekly sales\")\n",
    "plt.legend()\n",
    "plt.xticks(rotation=45)\n",
    "plt.ticklabel_format(style = 'plain')\n",
    "plt.show()"
   ]
  },
  {
   "cell_type": "code",
   "execution_count": 69,
   "metadata": {},
   "outputs": [],
   "source": [
    "# we need a prediction df"
   ]
  },
  {
   "cell_type": "code",
   "execution_count": 70,
   "metadata": {
    "scrolled": true
   },
   "outputs": [
    {
     "data": {
      "text/html": [
       "<div>\n",
       "<style scoped>\n",
       "    .dataframe tbody tr th:only-of-type {\n",
       "        vertical-align: middle;\n",
       "    }\n",
       "\n",
       "    .dataframe tbody tr th {\n",
       "        vertical-align: top;\n",
       "    }\n",
       "\n",
       "    .dataframe thead th {\n",
       "        text-align: right;\n",
       "    }\n",
       "</style>\n",
       "<table border=\"1\" class=\"dataframe\">\n",
       "  <thead>\n",
       "    <tr style=\"text-align: right;\">\n",
       "      <th></th>\n",
       "      <th>actual</th>\n",
       "      <th>test_polreg</th>\n",
       "    </tr>\n",
       "    <tr>\n",
       "      <th>id</th>\n",
       "      <th></th>\n",
       "      <th></th>\n",
       "    </tr>\n",
       "  </thead>\n",
       "  <tbody>\n",
       "    <tr>\n",
       "      <th>2011-03-18_store_7_2011-03-25</th>\n",
       "      <td>559061.58</td>\n",
       "      <td>5.527137e+05</td>\n",
       "    </tr>\n",
       "    <tr>\n",
       "      <th>2012-10-19_store_41_2012-10-26</th>\n",
       "      <td>1316542.59</td>\n",
       "      <td>1.335390e+06</td>\n",
       "    </tr>\n",
       "    <tr>\n",
       "      <th>2012-02-17_store_36_2012-02-24</th>\n",
       "      <td>313270.45</td>\n",
       "      <td>3.505920e+05</td>\n",
       "    </tr>\n",
       "    <tr>\n",
       "      <th>2012-03-16_store_26_2012-03-23</th>\n",
       "      <td>874790.68</td>\n",
       "      <td>8.858348e+05</td>\n",
       "    </tr>\n",
       "    <tr>\n",
       "      <th>2012-03-02_store_43_2012-03-09</th>\n",
       "      <td>636677.67</td>\n",
       "      <td>6.678347e+05</td>\n",
       "    </tr>\n",
       "    <tr>\n",
       "      <th>2012-02-03_store_42_2012-02-10</th>\n",
       "      <td>674919.45</td>\n",
       "      <td>6.555945e+05</td>\n",
       "    </tr>\n",
       "    <tr>\n",
       "      <th>2011-11-25_store_41_2011-12-02</th>\n",
       "      <td>1292436.23</td>\n",
       "      <td>1.276042e+06</td>\n",
       "    </tr>\n",
       "    <tr>\n",
       "      <th>2012-02-17_store_23_2012-02-24</th>\n",
       "      <td>1272948.27</td>\n",
       "      <td>1.239638e+06</td>\n",
       "    </tr>\n",
       "    <tr>\n",
       "      <th>2011-04-08_store_23_2011-04-15</th>\n",
       "      <td>1263680.51</td>\n",
       "      <td>1.301305e+06</td>\n",
       "    </tr>\n",
       "    <tr>\n",
       "      <th>2012-10-05_store_12_2012-10-12</th>\n",
       "      <td>934917.47</td>\n",
       "      <td>9.747154e+05</td>\n",
       "    </tr>\n",
       "    <tr>\n",
       "      <th>2011-02-25_store_21_2011-03-04</th>\n",
       "      <td>796277.72</td>\n",
       "      <td>7.555456e+05</td>\n",
       "    </tr>\n",
       "    <tr>\n",
       "      <th>2011-09-02_store_28_2011-09-09</th>\n",
       "      <td>1310087.00</td>\n",
       "      <td>1.346044e+06</td>\n",
       "    </tr>\n",
       "    <tr>\n",
       "      <th>2012-02-17_store_30_2012-02-24</th>\n",
       "      <td>425215.71</td>\n",
       "      <td>4.347278e+05</td>\n",
       "    </tr>\n",
       "    <tr>\n",
       "      <th>2012-07-06_store_5_2012-07-13</th>\n",
       "      <td>316203.64</td>\n",
       "      <td>3.253616e+05</td>\n",
       "    </tr>\n",
       "    <tr>\n",
       "      <th>2011-05-27_store_29_2011-06-03</th>\n",
       "      <td>598251.57</td>\n",
       "      <td>5.702649e+05</td>\n",
       "    </tr>\n",
       "  </tbody>\n",
       "</table>\n",
       "</div>"
      ],
      "text/plain": [
       "                                    actual   test_polreg\n",
       "id                                                      \n",
       "2011-03-18_store_7_2011-03-25    559061.58  5.527137e+05\n",
       "2012-10-19_store_41_2012-10-26  1316542.59  1.335390e+06\n",
       "2012-02-17_store_36_2012-02-24   313270.45  3.505920e+05\n",
       "2012-03-16_store_26_2012-03-23   874790.68  8.858348e+05\n",
       "2012-03-02_store_43_2012-03-09   636677.67  6.678347e+05\n",
       "2012-02-03_store_42_2012-02-10   674919.45  6.555945e+05\n",
       "2011-11-25_store_41_2011-12-02  1292436.23  1.276042e+06\n",
       "2012-02-17_store_23_2012-02-24  1272948.27  1.239638e+06\n",
       "2011-04-08_store_23_2011-04-15  1263680.51  1.301305e+06\n",
       "2012-10-05_store_12_2012-10-12   934917.47  9.747154e+05\n",
       "2011-02-25_store_21_2011-03-04   796277.72  7.555456e+05\n",
       "2011-09-02_store_28_2011-09-09  1310087.00  1.346044e+06\n",
       "2012-02-17_store_30_2012-02-24   425215.71  4.347278e+05\n",
       "2012-07-06_store_5_2012-07-13    316203.64  3.253616e+05\n",
       "2011-05-27_store_29_2011-06-03   598251.57  5.702649e+05"
      ]
     },
     "execution_count": 70,
     "metadata": {},
     "output_type": "execute_result"
    }
   ],
   "source": [
    "y_test_df.head(15)"
   ]
  },
  {
   "cell_type": "code",
   "execution_count": 71,
   "metadata": {},
   "outputs": [
    {
     "data": {
      "text/plain": [
       "(1229, 2)"
      ]
     },
     "execution_count": 71,
     "metadata": {},
     "output_type": "execute_result"
    }
   ],
   "source": [
    "y_test_df.shape"
   ]
  },
  {
   "cell_type": "code",
   "execution_count": 72,
   "metadata": {
    "scrolled": true
   },
   "outputs": [
    {
     "data": {
      "text/html": [
       "<div>\n",
       "<style scoped>\n",
       "    .dataframe tbody tr th:only-of-type {\n",
       "        vertical-align: middle;\n",
       "    }\n",
       "\n",
       "    .dataframe tbody tr th {\n",
       "        vertical-align: top;\n",
       "    }\n",
       "\n",
       "    .dataframe thead th {\n",
       "        text-align: right;\n",
       "    }\n",
       "</style>\n",
       "<table border=\"1\" class=\"dataframe\">\n",
       "  <thead>\n",
       "    <tr style=\"text-align: right;\">\n",
       "      <th></th>\n",
       "      <th>this_week_date</th>\n",
       "      <th>next_week_date</th>\n",
       "    </tr>\n",
       "    <tr>\n",
       "      <th>id</th>\n",
       "      <th></th>\n",
       "      <th></th>\n",
       "    </tr>\n",
       "  </thead>\n",
       "  <tbody>\n",
       "    <tr>\n",
       "      <th>2010-02-05_store_1_2010-02-12</th>\n",
       "      <td>2010-02-05</td>\n",
       "      <td>2010-02-12</td>\n",
       "    </tr>\n",
       "    <tr>\n",
       "      <th>2010-02-12_store_1_2010-02-19</th>\n",
       "      <td>2010-02-12</td>\n",
       "      <td>2010-02-19</td>\n",
       "    </tr>\n",
       "    <tr>\n",
       "      <th>2010-02-19_store_1_2010-02-26</th>\n",
       "      <td>2010-02-19</td>\n",
       "      <td>2010-02-26</td>\n",
       "    </tr>\n",
       "    <tr>\n",
       "      <th>2010-02-26_store_1_2010-03-05</th>\n",
       "      <td>2010-02-26</td>\n",
       "      <td>2010-03-05</td>\n",
       "    </tr>\n",
       "    <tr>\n",
       "      <th>2010-03-05_store_1_2010-03-12</th>\n",
       "      <td>2010-03-05</td>\n",
       "      <td>2010-03-12</td>\n",
       "    </tr>\n",
       "  </tbody>\n",
       "</table>\n",
       "</div>"
      ],
      "text/plain": [
       "                              this_week_date next_week_date\n",
       "id                                                         \n",
       "2010-02-05_store_1_2010-02-12     2010-02-05     2010-02-12\n",
       "2010-02-12_store_1_2010-02-19     2010-02-12     2010-02-19\n",
       "2010-02-19_store_1_2010-02-26     2010-02-19     2010-02-26\n",
       "2010-02-26_store_1_2010-03-05     2010-02-26     2010-03-05\n",
       "2010-03-05_store_1_2010-03-12     2010-03-05     2010-03-12"
      ]
     },
     "execution_count": 72,
     "metadata": {},
     "output_type": "execute_result"
    }
   ],
   "source": [
    "df[['this_week_date', 'next_week_date']].head()"
   ]
  },
  {
   "cell_type": "code",
   "execution_count": 73,
   "metadata": {},
   "outputs": [],
   "source": [
    "pred_df = y_test_df.merge(df[['this_week_date', 'next_week_date']], how = 'left', on = 'id')"
   ]
  },
  {
   "cell_type": "code",
   "execution_count": 74,
   "metadata": {},
   "outputs": [],
   "source": [
    "pred_df.to_csv('pred_df.csv')"
   ]
  },
  {
   "cell_type": "code",
   "execution_count": 75,
   "metadata": {},
   "outputs": [],
   "source": [
    "# y_train_df[['actual','pol3_RFE']].head()"
   ]
  },
  {
   "cell_type": "code",
   "execution_count": null,
   "metadata": {},
   "outputs": [],
   "source": []
  },
  {
   "cell_type": "code",
   "execution_count": 76,
   "metadata": {
    "scrolled": true
   },
   "outputs": [],
   "source": [
    "# Best model\n",
    "pf = PolynomialFeatures(degree = 2)\n",
    "pf.fit_transform(X_train_scaled[top_rfe_pol])\n",
    "mod =LinearRegression( normalize=False, fit_intercept = False )\n",
    "mod.fit(X_train_degree3, y_train_df['actual'])\n",
    "X_train_top = X_train_scaled[top_rfe_pol]\n"
   ]
  },
  {
   "cell_type": "code",
   "execution_count": 77,
   "metadata": {},
   "outputs": [],
   "source": [
    "#create a df\n",
    "feature_importances = pd.DataFrame(mod.coef_, \n",
    "                                   index = pf.get_feature_names(X_train_top.columns), \n",
    "                                   columns=['importance']).sort_values('importance', ascending=False)\n",
    "\n",
    "#reset index\n",
    "feature_importances = feature_importances.reset_index().rename( columns ={'index': 'features'} )\n",
    "\n",
    "# want to stat at 1 instead of 0\n",
    "feature_importances.index = feature_importances.index + 1"
   ]
  },
  {
   "cell_type": "code",
   "execution_count": 78,
   "metadata": {
    "scrolled": false
   },
   "outputs": [
    {
     "data": {
      "text/html": [
       "<div>\n",
       "<style scoped>\n",
       "    .dataframe tbody tr th:only-of-type {\n",
       "        vertical-align: middle;\n",
       "    }\n",
       "\n",
       "    .dataframe tbody tr th {\n",
       "        vertical-align: top;\n",
       "    }\n",
       "\n",
       "    .dataframe thead th {\n",
       "        text-align: right;\n",
       "    }\n",
       "</style>\n",
       "<table border=\"1\" class=\"dataframe\">\n",
       "  <thead>\n",
       "    <tr style=\"text-align: right;\">\n",
       "      <th></th>\n",
       "      <th>features</th>\n",
       "      <th>importance</th>\n",
       "    </tr>\n",
       "  </thead>\n",
       "  <tbody>\n",
       "    <tr>\n",
       "      <th>1</th>\n",
       "      <td>this_week_sales next_week_1_year_ago</td>\n",
       "      <td>7.896507e+06</td>\n",
       "    </tr>\n",
       "    <tr>\n",
       "      <th>2</th>\n",
       "      <td>next_week_1_year_ago</td>\n",
       "      <td>3.347676e+06</td>\n",
       "    </tr>\n",
       "    <tr>\n",
       "      <th>3</th>\n",
       "      <td>this_week_sales christmas</td>\n",
       "      <td>2.008084e+06</td>\n",
       "    </tr>\n",
       "    <tr>\n",
       "      <th>4</th>\n",
       "      <td>next_week_1_year_ago pre_christmas</td>\n",
       "      <td>1.536185e+06</td>\n",
       "    </tr>\n",
       "    <tr>\n",
       "      <th>5</th>\n",
       "      <td>next_week_1_year_ago thanksgiving</td>\n",
       "      <td>1.205772e+06</td>\n",
       "    </tr>\n",
       "    <tr>\n",
       "      <th>6</th>\n",
       "      <td>this_week_sales avgMoM_perc_cpi</td>\n",
       "      <td>1.047254e+06</td>\n",
       "    </tr>\n",
       "    <tr>\n",
       "      <th>7</th>\n",
       "      <td>this_week_sales</td>\n",
       "      <td>8.391197e+05</td>\n",
       "    </tr>\n",
       "    <tr>\n",
       "      <th>8</th>\n",
       "      <td>this_week_sales super_bowl</td>\n",
       "      <td>7.275929e+05</td>\n",
       "    </tr>\n",
       "    <tr>\n",
       "      <th>9</th>\n",
       "      <td>thanksgiving avgMoM_perc_unemp</td>\n",
       "      <td>5.712164e+05</td>\n",
       "    </tr>\n",
       "    <tr>\n",
       "      <th>10</th>\n",
       "      <td>super_bowl avgMoM_perc_unemp</td>\n",
       "      <td>4.847906e+05</td>\n",
       "    </tr>\n",
       "  </tbody>\n",
       "</table>\n",
       "</div>"
      ],
      "text/plain": [
       "                                features    importance\n",
       "1   this_week_sales next_week_1_year_ago  7.896507e+06\n",
       "2                   next_week_1_year_ago  3.347676e+06\n",
       "3              this_week_sales christmas  2.008084e+06\n",
       "4     next_week_1_year_ago pre_christmas  1.536185e+06\n",
       "5      next_week_1_year_ago thanksgiving  1.205772e+06\n",
       "6        this_week_sales avgMoM_perc_cpi  1.047254e+06\n",
       "7                        this_week_sales  8.391197e+05\n",
       "8             this_week_sales super_bowl  7.275929e+05\n",
       "9         thanksgiving avgMoM_perc_unemp  5.712164e+05\n",
       "10          super_bowl avgMoM_perc_unemp  4.847906e+05"
      ]
     },
     "execution_count": 78,
     "metadata": {},
     "output_type": "execute_result"
    }
   ],
   "source": [
    "feature_importances.head(10)"
   ]
  },
  {
   "cell_type": "code",
   "execution_count": 79,
   "metadata": {},
   "outputs": [
    {
     "data": {
      "text/html": [
       "<div>\n",
       "<style scoped>\n",
       "    .dataframe tbody tr th:only-of-type {\n",
       "        vertical-align: middle;\n",
       "    }\n",
       "\n",
       "    .dataframe tbody tr th {\n",
       "        vertical-align: top;\n",
       "    }\n",
       "\n",
       "    .dataframe thead th {\n",
       "        text-align: right;\n",
       "    }\n",
       "</style>\n",
       "<table border=\"1\" class=\"dataframe\">\n",
       "  <thead>\n",
       "    <tr style=\"text-align: right;\">\n",
       "      <th></th>\n",
       "      <th>features</th>\n",
       "      <th>importance</th>\n",
       "    </tr>\n",
       "  </thead>\n",
       "  <tbody>\n",
       "    <tr>\n",
       "      <th>74</th>\n",
       "      <td>next_week_1_year_ago avgMoM_perc_cpi</td>\n",
       "      <td>-1.130399e+06</td>\n",
       "    </tr>\n",
       "    <tr>\n",
       "      <th>75</th>\n",
       "      <td>this_week_sales pre_christmas</td>\n",
       "      <td>-1.361242e+06</td>\n",
       "    </tr>\n",
       "    <tr>\n",
       "      <th>76</th>\n",
       "      <td>next_week_1_year_ago christmas</td>\n",
       "      <td>-1.818312e+06</td>\n",
       "    </tr>\n",
       "    <tr>\n",
       "      <th>77</th>\n",
       "      <td>next_week_1_year_ago^2</td>\n",
       "      <td>-3.912338e+06</td>\n",
       "    </tr>\n",
       "    <tr>\n",
       "      <th>78</th>\n",
       "      <td>this_week_sales^2</td>\n",
       "      <td>-4.360501e+06</td>\n",
       "    </tr>\n",
       "  </tbody>\n",
       "</table>\n",
       "</div>"
      ],
      "text/plain": [
       "                                features    importance\n",
       "74  next_week_1_year_ago avgMoM_perc_cpi -1.130399e+06\n",
       "75         this_week_sales pre_christmas -1.361242e+06\n",
       "76        next_week_1_year_ago christmas -1.818312e+06\n",
       "77                next_week_1_year_ago^2 -3.912338e+06\n",
       "78                     this_week_sales^2 -4.360501e+06"
      ]
     },
     "execution_count": 79,
     "metadata": {},
     "output_type": "execute_result"
    }
   ],
   "source": [
    "feature_importances.tail(5)"
   ]
  },
  {
   "cell_type": "code",
   "execution_count": 80,
   "metadata": {
    "scrolled": false
   },
   "outputs": [
    {
     "data": {
      "image/png": "[encoded data removed]",
      "text/plain": [
       "<Figure size 720x504 with 1 Axes>"
      ]
     },
     "metadata": {
      "needs_background": "light"
     },
     "output_type": "display_data"
    }
   ],
   "source": [
    "plt.figure(figsize=(10,7))\n",
    "\n",
    "sns.barplot(x='importance', y = 'features', data = feature_importances.head(5))\n",
    "plt.ylabel('')\n",
    "plt.yticks(size=16)\n",
    "plt.xticks(rotation=45)\n",
    "#plt.ticklabel_format(style = 'plain')\n",
    "\n",
    "plt.show()\n"
   ]
  },
  {
   "cell_type": "code",
   "execution_count": 81,
   "metadata": {
    "scrolled": false
   },
   "outputs": [
    {
     "data": {
      "image/png": "[encoded data removed]",
      "text/plain": [
       "<Figure size 720x504 with 1 Axes>"
      ]
     },
     "metadata": {
      "needs_background": "light"
     },
     "output_type": "display_data"
    }
   ],
   "source": [
    "plt.figure(figsize=(10,7))\n",
    "\n",
    "sns.barplot(x='importance', y = 'features', data = feature_importances.tail(5))\n",
    "plt.ylabel('')\n",
    "plt.yticks(size=16)\n",
    "plt.xticks(rotation=45)\n",
    "#plt.ticklabel_format(style = 'plain')\n",
    "\n",
    "plt.show()"
   ]
  },
  {
   "cell_type": "code",
   "execution_count": 82,
   "metadata": {},
   "outputs": [],
   "source": [
    " df_all =pd.concat([feature_importances.head(5), feature_importances.tail(5)])"
   ]
  },
  {
   "cell_type": "code",
   "execution_count": 83,
   "metadata": {},
   "outputs": [],
   "source": [
    "df_all.to_csv(\"pol_features.csv\")\n"
   ]
  },
  {
   "cell_type": "code",
   "execution_count": 84,
   "metadata": {},
   "outputs": [
    {
     "data": {
      "image/png": "[encoded data removed]",
      "text/plain": [
       "<Figure size 720x720 with 1 Axes>"
      ]
     },
     "metadata": {
      "needs_background": "light"
     },
     "output_type": "display_data"
    }
   ],
   "source": [
    "plt.figure(figsize=(10,10))\n",
    "\n",
    "sns.barplot(x='importance', y = 'features', data = df_all)\n",
    "plt.ylabel('')\n",
    "plt.yticks(size=16)\n",
    "plt.xticks(rotation=45)\n",
    "#plt.ticklabel_format(style = 'plain')\n",
    "\n",
    "plt.show()"
   ]
  },
  {
   "cell_type": "code",
   "execution_count": 85,
   "metadata": {},
   "outputs": [],
   "source": [
    "feature_importances.sort_values(by='importance', ascending=False, inplace=True)"
   ]
  },
  {
   "cell_type": "code",
   "execution_count": 86,
   "metadata": {},
   "outputs": [],
   "source": [
    "from sklearn.feature_extraction import DictVectorizer\n"
   ]
  },
  {
   "cell_type": "code",
   "execution_count": null,
   "metadata": {},
   "outputs": [],
   "source": []
  }
 ],
 "metadata": {
  "kernelspec": {
   "display_name": "Python 3",
   "language": "python",
   "name": "python3"
  },
  "language_info": {
   "codemirror_mode": {
    "name": "ipython",
    "version": 3
   },
   "file_extension": ".py",
   "mimetype": "text/x-python",
   "name": "python",
   "nbconvert_exporter": "python",
   "pygments_lexer": "ipython3",
   "version": "3.8.5"
  }
 },
 "nbformat": 4,
 "nbformat_minor": 4
}
