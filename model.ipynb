{
 "cells": [
  {
   "cell_type": "code",
   "execution_count": 1,
   "metadata": {},
   "outputs": [],
   "source": [
    "import pandas as pd\n",
    "import wrangle\n",
    "import new_wrangle\n",
    "import numpy as np\n",
    "import matplotlib.pyplot as plt\n",
    "import seaborn as sns\n",
    "import model as m\n",
    "\n",
    "import math\n",
    "from sklearn.metrics import mean_squared_error, explained_variance_score\n",
    "\n",
    "import warnings\n",
    "warnings.filterwarnings(\"ignore\")\n",
    "from sklearn.preprocessing import MinMaxScaler, RobustScaler, StandardScaler, PolynomialFeatures\n",
    "from sklearn.linear_model import LinearRegression, LassoLars, TweedieRegressor \n",
    "from sklearn.model_selection import cross_val_score\n"
   ]
  },
  {
   "cell_type": "markdown",
   "metadata": {},
   "source": [
    "# Wrangle"
   ]
  },
  {
   "cell_type": "code",
   "execution_count": 2,
   "metadata": {},
   "outputs": [],
   "source": [
    "df =new_wrangle.wrangle_walmart()"
   ]
  },
  {
   "cell_type": "markdown",
   "metadata": {},
   "source": [
    "# split and scale before modeling"
   ]
  },
  {
   "cell_type": "code",
   "execution_count": 3,
   "metadata": {
    "scrolled": true
   },
   "outputs": [
    {
     "name": "stdout",
     "output_type": "stream",
     "text": [
      "train -> (2866, 32)\n",
      "test -> (1229, 32)\n"
     ]
    }
   ],
   "source": [
    "train, test,  X_train_scaled, X_test_scaled, y_train, y_test = new_wrangle.split_scale(df, 'next_week_sales_target', MinMaxScaler())"
   ]
  },
  {
   "cell_type": "markdown",
   "metadata": {},
   "source": [
    "# MODEL"
   ]
  },
  {
   "cell_type": "code",
   "execution_count": 4,
   "metadata": {},
   "outputs": [],
   "source": [
    "# #conver y_train y _ validate to df\n",
    "y_train_df = pd.DataFrame( {'actual': y_train})\n",
    "y_test_df = pd.DataFrame( {'actual': y_test})"
   ]
  },
  {
   "cell_type": "markdown",
   "metadata": {},
   "source": [
    "##  - BASELINE"
   ]
  },
  {
   "cell_type": "code",
   "execution_count": 5,
   "metadata": {},
   "outputs": [],
   "source": [
    "#baseline version using last years sales\n",
    "y_train_df['last_year_baseline'] = train['next_week_1_year_ago']"
   ]
  },
  {
   "cell_type": "code",
   "execution_count": 6,
   "metadata": {},
   "outputs": [],
   "source": [
    "#calculate RMSE for baseline model\n",
    "rmse_baseline2_train= math.sqrt(mean_squared_error(y_train_df.actual, y_train_df.last_year_baseline))"
   ]
  },
  {
   "cell_type": "code",
   "execution_count": 7,
   "metadata": {},
   "outputs": [
    {
     "data": {
      "text/plain": [
       "91145.28223498359"
      ]
     },
     "execution_count": 7,
     "metadata": {},
     "output_type": "execute_result"
    }
   ],
   "source": [
    "rmse_baseline2_train"
   ]
  },
  {
   "cell_type": "code",
   "execution_count": 8,
   "metadata": {},
   "outputs": [],
   "source": [
    "#add the metric to our df\n",
    "metric_df = pd.DataFrame(data = [{\n",
    "    'model': 'baseline(using last year sales)',\n",
    "    'rmse_train':rmse_baseline2_train,    \n",
    "    'r^2' : 0}])"
   ]
  },
  {
   "cell_type": "markdown",
   "metadata": {},
   "source": [
    "## MODEL: LinearRegression (OLS)"
   ]
  },
  {
   "cell_type": "markdown",
   "metadata": {},
   "source": [
    "### - Gridsearch"
   ]
  },
  {
   "cell_type": "code",
   "execution_count": 9,
   "metadata": {},
   "outputs": [],
   "source": [
    "#specify the parameters we wish to use as a dictionary, then use that dictionary when we create the class.\n",
    "params = {'normalize': [ True, False],\n",
    "          'fit_intercept': [True, False]}"
   ]
  },
  {
   "cell_type": "code",
   "execution_count": 10,
   "metadata": {},
   "outputs": [
    {
     "data": {
      "text/html": [
       "<div>\n",
       "<style scoped>\n",
       "    .dataframe tbody tr th:only-of-type {\n",
       "        vertical-align: middle;\n",
       "    }\n",
       "\n",
       "    .dataframe tbody tr th {\n",
       "        vertical-align: top;\n",
       "    }\n",
       "\n",
       "    .dataframe thead th {\n",
       "        text-align: right;\n",
       "    }\n",
       "</style>\n",
       "<table border=\"1\" class=\"dataframe\">\n",
       "  <thead>\n",
       "    <tr style=\"text-align: right;\">\n",
       "      <th></th>\n",
       "      <th>fit_intercept</th>\n",
       "      <th>normalize</th>\n",
       "      <th>score</th>\n",
       "    </tr>\n",
       "  </thead>\n",
       "  <tbody>\n",
       "    <tr>\n",
       "      <th>2</th>\n",
       "      <td>False</td>\n",
       "      <td>True</td>\n",
       "      <td>-72272.953552</td>\n",
       "    </tr>\n",
       "    <tr>\n",
       "      <th>3</th>\n",
       "      <td>False</td>\n",
       "      <td>False</td>\n",
       "      <td>-72272.953552</td>\n",
       "    </tr>\n",
       "    <tr>\n",
       "      <th>1</th>\n",
       "      <td>True</td>\n",
       "      <td>False</td>\n",
       "      <td>-70476.190410</td>\n",
       "    </tr>\n",
       "    <tr>\n",
       "      <th>0</th>\n",
       "      <td>True</td>\n",
       "      <td>True</td>\n",
       "      <td>-70476.190410</td>\n",
       "    </tr>\n",
       "  </tbody>\n",
       "</table>\n",
       "</div>"
      ],
      "text/plain": [
       "   fit_intercept  normalize         score\n",
       "2          False       True -72272.953552\n",
       "3          False      False -72272.953552\n",
       "1           True      False -70476.190410\n",
       "0           True       True -70476.190410"
      ]
     },
     "execution_count": 10,
     "metadata": {},
     "output_type": "execute_result"
    }
   ],
   "source": [
    "#use a gridsearch function using \n",
    "m.gridsearch (X_train_scaled, y_train, LinearRegression() , params, 'neg_root_mean_squared_error')"
   ]
  },
  {
   "cell_type": "markdown",
   "metadata": {},
   "source": [
    "### OLS uising select K best (6)"
   ]
  },
  {
   "cell_type": "code",
   "execution_count": 11,
   "metadata": {},
   "outputs": [
    {
     "name": "stdout",
     "output_type": "stream",
     "text": [
      "The top 10 selected feautures based on the SelectKBest class are: ['this_week_sales', 'CPI', 'this_week_unemployment', 'store_size', 'next_week_1_year_ago', 'pre_christmas', 'cpi_4wk_rolling', 'unemp_4wk_rolling', 'cpi_quarterly_rolling', 'unemp_quarterly_rolling']\n"
     ]
    }
   ],
   "source": [
    "#using my function for SelectkBest\n",
    "top_sb =m.select_kbest(X_train_scaled, y_train, 10)"
   ]
  },
  {
   "cell_type": "code",
   "execution_count": 12,
   "metadata": {},
   "outputs": [
    {
     "data": {
      "text/plain": [
       "73278.63464117885"
      ]
     },
     "execution_count": 12,
     "metadata": {},
     "output_type": "execute_result"
    }
   ],
   "source": [
    "#create the model\n",
    "ols_sb = m.create_model(X_train_scaled[top_sb], y_train_df, 'actual',\\\n",
    "                       LinearRegression(normalize=True,\\\n",
    "                        fit_intercept=True ), 'modelOLS' )\n",
    "ols_sb['rmse']"
   ]
  },
  {
   "cell_type": "markdown",
   "metadata": {},
   "source": [
    "#### cross validation"
   ]
  },
  {
   "cell_type": "code",
   "execution_count": 13,
   "metadata": {},
   "outputs": [
    {
     "data": {
      "text/plain": [
       "array([-73828.51208786, -73408.20028783, -74244.87809008])"
      ]
     },
     "execution_count": 13,
     "metadata": {},
     "output_type": "execute_result"
    }
   ],
   "source": [
    "#create the model\n",
    "clf = LinearRegression(normalize=True, fit_intercept=True )\n",
    "#cv = number of folds\n",
    "cross_val_score(clf, X_train_scaled[top_sb], y_train, cv=3, scoring = 'neg_root_mean_squared_error')"
   ]
  },
  {
   "cell_type": "markdown",
   "metadata": {},
   "source": [
    "### OLS uising  RFE (8)"
   ]
  },
  {
   "cell_type": "code",
   "execution_count": 14,
   "metadata": {},
   "outputs": [
    {
     "name": "stdout",
     "output_type": "stream",
     "text": [
      "The top 10 selected feautures based on the the RFE class class are: ['this_week_sales', 'CPI', 'this_week_unemployment', 'next_week_1_year_ago', 'christmas', 'thanksgiving', 'cpi_4wk_rolling', 'avgMoM_perc_unemp', 'cpi_quarterly_rolling', 'unemp_quarterly_rolling']\n",
      "this_week_sales             1\n",
      "unemp_quarterly_rolling     1\n",
      "cpi_quarterly_rolling       1\n",
      "avgMoM_perc_unemp           1\n",
      "CPI                         1\n",
      "this_week_unemployment      1\n",
      "cpi_4wk_rolling             1\n",
      "next_week_1_year_ago        1\n",
      "thanksgiving                1\n",
      "christmas                   1\n",
      "avgQoQ_perc_unemp           2\n",
      "store_size                  3\n",
      "fuel_quarterly_rolling      4\n",
      "avgMoM_perc_fuel            5\n",
      "fuel_4wk_rolling            6\n",
      "avgQoQ_perc_fuel            7\n",
      "this_week_holiday_flag      8\n",
      "fuel_price                  9\n",
      "unemp_4wk_rolling          10\n",
      "avgMoM_perc_cpi            11\n",
      "labor_day                  12\n",
      "super_bowl                 13\n",
      "temperature                14\n",
      "avgQoQ_perc_cpi            15\n",
      "pre_christmas              16\n",
      "next_week_holiday_flag     17\n",
      "dtype: int64\n"
     ]
    }
   ],
   "source": [
    "#uise the fucntion to get RFE\n",
    "top_rfe = m.select_rfe(X_train_scaled, y_train, 10,LinearRegression(normalize=True, fit_intercept=True ))"
   ]
  },
  {
   "cell_type": "code",
   "execution_count": 15,
   "metadata": {},
   "outputs": [
    {
     "data": {
      "text/plain": [
       "71859.75745004068"
      ]
     },
     "execution_count": 15,
     "metadata": {},
     "output_type": "execute_result"
    }
   ],
   "source": [
    "#create the model\n",
    "ols_rfe = m.create_model(X_train_scaled[top_rfe], y_train_df, 'actual', LinearRegression(normalize=True, fit_intercept=True ), 'modelOLS' )\n",
    "ols_rfe['rmse']"
   ]
  },
  {
   "cell_type": "markdown",
   "metadata": {},
   "source": [
    "#### cross validation"
   ]
  },
  {
   "cell_type": "code",
   "execution_count": 16,
   "metadata": {},
   "outputs": [
    {
     "data": {
      "text/plain": [
       "array([-72127.07288044, -73241.00581704, -72267.9117694 ])"
      ]
     },
     "execution_count": 16,
     "metadata": {},
     "output_type": "execute_result"
    }
   ],
   "source": [
    "#create the model\n",
    "clf = LinearRegression(normalize=True, fit_intercept=True )\n",
    "#cv = number of folds\n",
    "cross_val_score(clf, X_train_scaled[top_rfe], y_train, cv=3, scoring = 'neg_root_mean_squared_error')"
   ]
  },
  {
   "cell_type": "code",
   "execution_count": 17,
   "metadata": {},
   "outputs": [],
   "source": [
    "#add the best model  metrics to our metric_df\n",
    "metric_df = metric_df.append(\n",
    "    {\n",
    "    'model': 'ols_rfe',\n",
    "    'rmse_train': ols_rfe['rmse'],    \n",
    "    'r^2' : ols_rfe['r2']}, ignore_index=True)"
   ]
  },
  {
   "cell_type": "markdown",
   "metadata": {},
   "source": [
    "## Model :LassoLars"
   ]
  },
  {
   "cell_type": "markdown",
   "metadata": {},
   "source": [
    "### - GridsearchCV"
   ]
  },
  {
   "cell_type": "code",
   "execution_count": 18,
   "metadata": {},
   "outputs": [],
   "source": [
    "#specify the parameters we wish to use as a dictionary, then use that dictionary when we create the class.\n",
    "params = {\n",
    "          'normalize': [True, False],\n",
    "          'fit_intercept':[True, False],\n",
    "           'alpha': [1.0, 0]\n",
    "         }"
   ]
  },
  {
   "cell_type": "code",
   "execution_count": 19,
   "metadata": {},
   "outputs": [
    {
     "data": {
      "text/html": [
       "<div>\n",
       "<style scoped>\n",
       "    .dataframe tbody tr th:only-of-type {\n",
       "        vertical-align: middle;\n",
       "    }\n",
       "\n",
       "    .dataframe tbody tr th {\n",
       "        vertical-align: top;\n",
       "    }\n",
       "\n",
       "    .dataframe thead th {\n",
       "        text-align: right;\n",
       "    }\n",
       "</style>\n",
       "<table border=\"1\" class=\"dataframe\">\n",
       "  <thead>\n",
       "    <tr style=\"text-align: right;\">\n",
       "      <th></th>\n",
       "      <th>alpha</th>\n",
       "      <th>fit_intercept</th>\n",
       "      <th>normalize</th>\n",
       "      <th>score</th>\n",
       "    </tr>\n",
       "  </thead>\n",
       "  <tbody>\n",
       "    <tr>\n",
       "      <th>2</th>\n",
       "      <td>1.0</td>\n",
       "      <td>False</td>\n",
       "      <td>True</td>\n",
       "      <td>-72298.372878</td>\n",
       "    </tr>\n",
       "    <tr>\n",
       "      <th>3</th>\n",
       "      <td>1.0</td>\n",
       "      <td>False</td>\n",
       "      <td>False</td>\n",
       "      <td>-72298.372878</td>\n",
       "    </tr>\n",
       "    <tr>\n",
       "      <th>6</th>\n",
       "      <td>0.0</td>\n",
       "      <td>False</td>\n",
       "      <td>True</td>\n",
       "      <td>-72272.953552</td>\n",
       "    </tr>\n",
       "    <tr>\n",
       "      <th>7</th>\n",
       "      <td>0.0</td>\n",
       "      <td>False</td>\n",
       "      <td>False</td>\n",
       "      <td>-72272.953552</td>\n",
       "    </tr>\n",
       "    <tr>\n",
       "      <th>5</th>\n",
       "      <td>0.0</td>\n",
       "      <td>True</td>\n",
       "      <td>False</td>\n",
       "      <td>-70476.190410</td>\n",
       "    </tr>\n",
       "    <tr>\n",
       "      <th>4</th>\n",
       "      <td>0.0</td>\n",
       "      <td>True</td>\n",
       "      <td>True</td>\n",
       "      <td>-70476.190410</td>\n",
       "    </tr>\n",
       "    <tr>\n",
       "      <th>0</th>\n",
       "      <td>1.0</td>\n",
       "      <td>True</td>\n",
       "      <td>True</td>\n",
       "      <td>-70458.146015</td>\n",
       "    </tr>\n",
       "    <tr>\n",
       "      <th>1</th>\n",
       "      <td>1.0</td>\n",
       "      <td>True</td>\n",
       "      <td>False</td>\n",
       "      <td>-70440.674321</td>\n",
       "    </tr>\n",
       "  </tbody>\n",
       "</table>\n",
       "</div>"
      ],
      "text/plain": [
       "   alpha  fit_intercept  normalize         score\n",
       "2    1.0          False       True -72298.372878\n",
       "3    1.0          False      False -72298.372878\n",
       "6    0.0          False       True -72272.953552\n",
       "7    0.0          False      False -72272.953552\n",
       "5    0.0           True      False -70476.190410\n",
       "4    0.0           True       True -70476.190410\n",
       "0    1.0           True       True -70458.146015\n",
       "1    1.0           True      False -70440.674321"
      ]
     },
     "execution_count": 19,
     "metadata": {},
     "output_type": "execute_result"
    }
   ],
   "source": [
    "#use the function to get the combinations of parameters\n",
    "m.gridsearch (X_train_scaled, y_train, LassoLars() , params, 'neg_root_mean_squared_error')"
   ]
  },
  {
   "cell_type": "markdown",
   "metadata": {},
   "source": [
    "### LassoLars using RFE "
   ]
  },
  {
   "cell_type": "code",
   "execution_count": 20,
   "metadata": {},
   "outputs": [
    {
     "name": "stdout",
     "output_type": "stream",
     "text": [
      "The top 6 selected feautures based on the the RFE class class are: ['this_week_sales', 'this_week_unemployment', 'next_week_1_year_ago', 'christmas', 'thanksgiving', 'unemp_quarterly_rolling']\n",
      "this_week_sales             1\n",
      "unemp_quarterly_rolling     1\n",
      "thanksgiving                1\n",
      "christmas                   1\n",
      "this_week_unemployment      1\n",
      "next_week_1_year_ago        1\n",
      "avgMoM_perc_unemp           2\n",
      "avgQoQ_perc_unemp           3\n",
      "store_size                  4\n",
      "avgMoM_perc_fuel            5\n",
      "fuel_quarterly_rolling      6\n",
      "fuel_4wk_rolling            7\n",
      "avgQoQ_perc_fuel            8\n",
      "this_week_holiday_flag      9\n",
      "avgMoM_perc_cpi            10\n",
      "fuel_price                 11\n",
      "next_week_holiday_flag     12\n",
      "temperature                13\n",
      "CPI                        14\n",
      "avgQoQ_perc_cpi            15\n",
      "pre_christmas              16\n",
      "super_bowl                 17\n",
      "cpi_4wk_rolling            18\n",
      "unemp_4wk_rolling          19\n",
      "labor_day                  20\n",
      "cpi_quarterly_rolling      21\n",
      "dtype: int64\n"
     ]
    }
   ],
   "source": [
    "#get the 6 features\n",
    "top_rfe = m.select_rfe(X_train_scaled, y_train, 6, LassoLars(alpha = 1, normalize= False, fit_intercept= True) )"
   ]
  },
  {
   "cell_type": "code",
   "execution_count": 21,
   "metadata": {},
   "outputs": [
    {
     "data": {
      "text/plain": [
       "72080.26921283794"
      ]
     },
     "execution_count": 21,
     "metadata": {},
     "output_type": "execute_result"
    }
   ],
   "source": [
    "#create the model\n",
    "lasso_rfe = m.create_model(X_train_scaled[top_rfe], y_train_df, 'actual', LassoLars(alpha = 1, normalize= False, fit_intercept= True), 'modelLasso' )\n",
    "lasso_rfe['rmse']"
   ]
  },
  {
   "cell_type": "code",
   "execution_count": 22,
   "metadata": {},
   "outputs": [],
   "source": [
    "### cross validation"
   ]
  },
  {
   "cell_type": "code",
   "execution_count": 23,
   "metadata": {
    "scrolled": true
   },
   "outputs": [
    {
     "data": {
      "text/plain": [
       "array([-72369.74422049, -73054.01907945, -72590.01601532])"
      ]
     },
     "execution_count": 23,
     "metadata": {},
     "output_type": "execute_result"
    }
   ],
   "source": [
    "#create the model\n",
    "clf = LassoLars(alpha = 1, normalize= False, fit_intercept= True)\n",
    "#cv = number of folds\n",
    "cross = cross_val_score(clf, X_train_scaled[top_rfe], y_train, cv=3, scoring = 'neg_root_mean_squared_error')\n",
    "cross"
   ]
  },
  {
   "cell_type": "code",
   "execution_count": 24,
   "metadata": {},
   "outputs": [],
   "source": [
    "### LassoLars using selectKbest"
   ]
  },
  {
   "cell_type": "code",
   "execution_count": 25,
   "metadata": {},
   "outputs": [
    {
     "name": "stdout",
     "output_type": "stream",
     "text": [
      "The top 10 selected feautures based on the SelectKBest class are: ['this_week_sales', 'CPI', 'this_week_unemployment', 'store_size', 'next_week_1_year_ago', 'pre_christmas', 'cpi_4wk_rolling', 'unemp_4wk_rolling', 'cpi_quarterly_rolling', 'unemp_quarterly_rolling']\n"
     ]
    }
   ],
   "source": [
    "#using my function for SelectkBest\n",
    "top_sb =m.select_kbest(X_train_scaled, y_train, 10)"
   ]
  },
  {
   "cell_type": "code",
   "execution_count": 26,
   "metadata": {},
   "outputs": [
    {
     "data": {
      "text/plain": [
       "73281.87552494287"
      ]
     },
     "execution_count": 26,
     "metadata": {},
     "output_type": "execute_result"
    }
   ],
   "source": [
    "lasso_skb = m.create_model(X_train_scaled[top_sb], y_train_df, 'actual', LassoLars(alpha = 1, normalize= False, fit_intercept= True), 'modelLasso' )\n",
    "lasso_skb['rmse']"
   ]
  },
  {
   "cell_type": "markdown",
   "metadata": {},
   "source": [
    "### cross validation"
   ]
  },
  {
   "cell_type": "code",
   "execution_count": 27,
   "metadata": {},
   "outputs": [
    {
     "data": {
      "text/plain": [
       "array([-73875.3247233 , -73345.36555372, -74270.0989156 ])"
      ]
     },
     "execution_count": 27,
     "metadata": {},
     "output_type": "execute_result"
    }
   ],
   "source": [
    "#create the model\n",
    "clf = LassoLars(alpha = 1, normalize= False, fit_intercept= True)\n",
    "#cv = number of folds\n",
    "cross= cross_val_score(clf, X_train_scaled[top_sb], y_train, cv=3, scoring = 'neg_root_mean_squared_error')\n",
    "cross"
   ]
  },
  {
   "cell_type": "markdown",
   "metadata": {},
   "source": [
    "**Note: the best LassoLars model is lasso_rfe**"
   ]
  },
  {
   "cell_type": "code",
   "execution_count": 28,
   "metadata": {},
   "outputs": [],
   "source": [
    "#add the best model and its metrics\n",
    "metric_df = metric_df.append(\n",
    "    {\n",
    "    'model': 'lasso_rfe',\n",
    "    'rmse_train': lasso_rfe['rmse'],    \n",
    "    'r^2' : lasso_rfe['r2']}, ignore_index=True)"
   ]
  },
  {
   "cell_type": "markdown",
   "metadata": {},
   "source": [
    "## TweedieRegressor (GLM)"
   ]
  },
  {
   "cell_type": "markdown",
   "metadata": {},
   "source": [
    "### - Gridsearch CV"
   ]
  },
  {
   "cell_type": "code",
   "execution_count": 29,
   "metadata": {},
   "outputs": [
    {
     "data": {
      "text/html": [
       "<div>\n",
       "<style scoped>\n",
       "    .dataframe tbody tr th:only-of-type {\n",
       "        vertical-align: middle;\n",
       "    }\n",
       "\n",
       "    .dataframe tbody tr th {\n",
       "        vertical-align: top;\n",
       "    }\n",
       "\n",
       "    .dataframe thead th {\n",
       "        text-align: right;\n",
       "    }\n",
       "</style>\n",
       "<table border=\"1\" class=\"dataframe\">\n",
       "  <thead>\n",
       "    <tr style=\"text-align: right;\">\n",
       "      <th></th>\n",
       "      <th>alpha</th>\n",
       "      <th>fit_intercept</th>\n",
       "      <th>power</th>\n",
       "      <th>warm_start</th>\n",
       "      <th>score</th>\n",
       "    </tr>\n",
       "  </thead>\n",
       "  <tbody>\n",
       "    <tr>\n",
       "      <th>6</th>\n",
       "      <td>1.0</td>\n",
       "      <td>False</td>\n",
       "      <td>1.0</td>\n",
       "      <td>True</td>\n",
       "      <td>-1.109649e+06</td>\n",
       "    </tr>\n",
       "    <tr>\n",
       "      <th>7</th>\n",
       "      <td>1.0</td>\n",
       "      <td>False</td>\n",
       "      <td>1.0</td>\n",
       "      <td>False</td>\n",
       "      <td>-1.109649e+06</td>\n",
       "    </tr>\n",
       "    <tr>\n",
       "      <th>14</th>\n",
       "      <td>0.0</td>\n",
       "      <td>False</td>\n",
       "      <td>1.0</td>\n",
       "      <td>True</td>\n",
       "      <td>-1.106117e+06</td>\n",
       "    </tr>\n",
       "    <tr>\n",
       "      <th>15</th>\n",
       "      <td>0.0</td>\n",
       "      <td>False</td>\n",
       "      <td>1.0</td>\n",
       "      <td>False</td>\n",
       "      <td>-1.106117e+06</td>\n",
       "    </tr>\n",
       "    <tr>\n",
       "      <th>4</th>\n",
       "      <td>1.0</td>\n",
       "      <td>False</td>\n",
       "      <td>0.0</td>\n",
       "      <td>True</td>\n",
       "      <td>-5.226843e+05</td>\n",
       "    </tr>\n",
       "    <tr>\n",
       "      <th>5</th>\n",
       "      <td>1.0</td>\n",
       "      <td>False</td>\n",
       "      <td>0.0</td>\n",
       "      <td>False</td>\n",
       "      <td>-5.226843e+05</td>\n",
       "    </tr>\n",
       "    <tr>\n",
       "      <th>0</th>\n",
       "      <td>1.0</td>\n",
       "      <td>True</td>\n",
       "      <td>0.0</td>\n",
       "      <td>True</td>\n",
       "      <td>-4.957444e+05</td>\n",
       "    </tr>\n",
       "    <tr>\n",
       "      <th>1</th>\n",
       "      <td>1.0</td>\n",
       "      <td>True</td>\n",
       "      <td>0.0</td>\n",
       "      <td>False</td>\n",
       "      <td>-4.957444e+05</td>\n",
       "    </tr>\n",
       "    <tr>\n",
       "      <th>2</th>\n",
       "      <td>1.0</td>\n",
       "      <td>True</td>\n",
       "      <td>1.0</td>\n",
       "      <td>True</td>\n",
       "      <td>-1.442832e+05</td>\n",
       "    </tr>\n",
       "    <tr>\n",
       "      <th>3</th>\n",
       "      <td>1.0</td>\n",
       "      <td>True</td>\n",
       "      <td>1.0</td>\n",
       "      <td>False</td>\n",
       "      <td>-1.442832e+05</td>\n",
       "    </tr>\n",
       "    <tr>\n",
       "      <th>10</th>\n",
       "      <td>0.0</td>\n",
       "      <td>True</td>\n",
       "      <td>1.0</td>\n",
       "      <td>True</td>\n",
       "      <td>-1.442744e+05</td>\n",
       "    </tr>\n",
       "    <tr>\n",
       "      <th>11</th>\n",
       "      <td>0.0</td>\n",
       "      <td>True</td>\n",
       "      <td>1.0</td>\n",
       "      <td>False</td>\n",
       "      <td>-1.442744e+05</td>\n",
       "    </tr>\n",
       "    <tr>\n",
       "      <th>12</th>\n",
       "      <td>0.0</td>\n",
       "      <td>False</td>\n",
       "      <td>0.0</td>\n",
       "      <td>True</td>\n",
       "      <td>-7.442288e+04</td>\n",
       "    </tr>\n",
       "    <tr>\n",
       "      <th>13</th>\n",
       "      <td>0.0</td>\n",
       "      <td>False</td>\n",
       "      <td>0.0</td>\n",
       "      <td>False</td>\n",
       "      <td>-7.442288e+04</td>\n",
       "    </tr>\n",
       "    <tr>\n",
       "      <th>8</th>\n",
       "      <td>0.0</td>\n",
       "      <td>True</td>\n",
       "      <td>0.0</td>\n",
       "      <td>True</td>\n",
       "      <td>-7.045040e+04</td>\n",
       "    </tr>\n",
       "    <tr>\n",
       "      <th>9</th>\n",
       "      <td>0.0</td>\n",
       "      <td>True</td>\n",
       "      <td>0.0</td>\n",
       "      <td>False</td>\n",
       "      <td>-7.045040e+04</td>\n",
       "    </tr>\n",
       "  </tbody>\n",
       "</table>\n",
       "</div>"
      ],
      "text/plain": [
       "    alpha  fit_intercept  power  warm_start         score\n",
       "6     1.0          False    1.0        True -1.109649e+06\n",
       "7     1.0          False    1.0       False -1.109649e+06\n",
       "14    0.0          False    1.0        True -1.106117e+06\n",
       "15    0.0          False    1.0       False -1.106117e+06\n",
       "4     1.0          False    0.0        True -5.226843e+05\n",
       "5     1.0          False    0.0       False -5.226843e+05\n",
       "0     1.0           True    0.0        True -4.957444e+05\n",
       "1     1.0           True    0.0       False -4.957444e+05\n",
       "2     1.0           True    1.0        True -1.442832e+05\n",
       "3     1.0           True    1.0       False -1.442832e+05\n",
       "10    0.0           True    1.0        True -1.442744e+05\n",
       "11    0.0           True    1.0       False -1.442744e+05\n",
       "12    0.0          False    0.0        True -7.442288e+04\n",
       "13    0.0          False    0.0       False -7.442288e+04\n",
       "8     0.0           True    0.0        True -7.045040e+04\n",
       "9     0.0           True    0.0       False -7.045040e+04"
      ]
     },
     "execution_count": 29,
     "metadata": {},
     "output_type": "execute_result"
    }
   ],
   "source": [
    "#specify the parameters we wish to use as a dictionary, then use that dictionary when we create the class.\n",
    "params = {\n",
    "          'power': [0.0, 1],\n",
    "           'fit_intercept' : [True , False],\n",
    "          'warm_start': [True, False], \n",
    "           'alpha': [1.0, 0.0]\n",
    "         }\n",
    "#use the function\n",
    "m.gridsearch (X_train_scaled, y_train,TweedieRegressor() , params, 'neg_root_mean_squared_error')"
   ]
  },
  {
   "cell_type": "markdown",
   "metadata": {},
   "source": [
    "### create GLM using RFE"
   ]
  },
  {
   "cell_type": "code",
   "execution_count": 30,
   "metadata": {},
   "outputs": [
    {
     "name": "stdout",
     "output_type": "stream",
     "text": [
      "The top 6 selected feautures based on the the RFE class class are: ['this_week_sales', 'store_size', 'next_week_1_year_ago', 'christmas', 'thanksgiving', 'avgQoQ_perc_unemp']\n",
      "this_week_sales             1\n",
      "thanksgiving                1\n",
      "christmas                   1\n",
      "next_week_1_year_ago        1\n",
      "store_size                  1\n",
      "avgQoQ_perc_unemp           1\n",
      "avgMoM_perc_fuel            2\n",
      "fuel_quarterly_rolling      3\n",
      "fuel_4wk_rolling            4\n",
      "avgQoQ_perc_fuel            5\n",
      "unemp_4wk_rolling           6\n",
      "this_week_unemployment      7\n",
      "this_week_holiday_flag      8\n",
      "avgMoM_perc_cpi             9\n",
      "unemp_quarterly_rolling    10\n",
      "avgMoM_perc_unemp          11\n",
      "labor_day                  12\n",
      "super_bowl                 13\n",
      "temperature                14\n",
      "fuel_price                 15\n",
      "avgQoQ_perc_cpi            16\n",
      "cpi_quarterly_rolling      17\n",
      "next_week_holiday_flag     18\n",
      "CPI                        19\n",
      "pre_christmas              20\n",
      "cpi_4wk_rolling            21\n",
      "dtype: int64\n"
     ]
    }
   ],
   "source": [
    "#use function to get the top 6 RFE\n",
    "top_rfe = m.select_rfe(X_train_scaled, y_train, 6, TweedieRegressor(alpha =0 , fit_intercept= True, power=0 ,\\\n",
    "                                                                  warm_start= False) )"
   ]
  },
  {
   "cell_type": "code",
   "execution_count": 31,
   "metadata": {},
   "outputs": [
    {
     "data": {
      "text/plain": [
       "71522.6640373484"
      ]
     },
     "execution_count": 31,
     "metadata": {},
     "output_type": "execute_result"
    }
   ],
   "source": [
    "#create the model\n",
    "gml_rfe = m.create_model(X_train_scaled[top_rfe], y_train_df, 'actual',TweedieRegressor(alpha =0 , fit_intercept= True, power=0 ,\\\n",
    "                                                                  warm_start= False), 'modelgml' )\n",
    "gml_rfe['rmse']"
   ]
  },
  {
   "cell_type": "code",
   "execution_count": 32,
   "metadata": {},
   "outputs": [],
   "source": [
    "#### cross validation"
   ]
  },
  {
   "cell_type": "code",
   "execution_count": 33,
   "metadata": {},
   "outputs": [
    {
     "data": {
      "text/plain": [
       "array([-71446.65517559, -72245.35839113, -72581.66333012])"
      ]
     },
     "execution_count": 33,
     "metadata": {},
     "output_type": "execute_result"
    }
   ],
   "source": [
    "#create the model\n",
    "clf = TweedieRegressor(alpha =0 , fit_intercept= True, power=0 ,warm_start= False)\n",
    "#cv = number of folds\n",
    "cross = cross_val_score(clf, X_train_scaled[top_rfe], y_train, scoring = 'neg_root_mean_squared_error', cv=3)\n",
    "cross"
   ]
  },
  {
   "cell_type": "markdown",
   "metadata": {},
   "source": [
    "### create GML using select kbest"
   ]
  },
  {
   "cell_type": "code",
   "execution_count": 34,
   "metadata": {},
   "outputs": [
    {
     "name": "stdout",
     "output_type": "stream",
     "text": [
      "The top 6 selected feautures based on the SelectKBest class are: ['this_week_sales', 'this_week_unemployment', 'store_size', 'next_week_1_year_ago', 'unemp_4wk_rolling', 'unemp_quarterly_rolling']\n"
     ]
    }
   ],
   "source": [
    "#using my function for SelectkBest\n",
    "top_sb =m.select_kbest(X_train_scaled, y_train, 6)"
   ]
  },
  {
   "cell_type": "code",
   "execution_count": 35,
   "metadata": {},
   "outputs": [
    {
     "data": {
      "text/plain": [
       "73447.13066759182"
      ]
     },
     "execution_count": 35,
     "metadata": {},
     "output_type": "execute_result"
    }
   ],
   "source": [
    "#create a model\n",
    "gml_skb = m.create_model(X_train_scaled[top_sb], y_train_df, 'actual',TweedieRegressor(alpha =0 , fit_intercept= True, power=0 ,\\\n",
    "                                                                  warm_start= False), 'modelgml' )\n",
    "gml_skb['rmse']"
   ]
  },
  {
   "cell_type": "markdown",
   "metadata": {},
   "source": [
    "#### cross validation"
   ]
  },
  {
   "cell_type": "code",
   "execution_count": 36,
   "metadata": {},
   "outputs": [
    {
     "data": {
      "text/plain": [
       "array([-74054.54562594, -73200.00828644, -74368.20223621])"
      ]
     },
     "execution_count": 36,
     "metadata": {},
     "output_type": "execute_result"
    }
   ],
   "source": [
    "#create the model\n",
    "clf = TweedieRegressor(alpha =0 , fit_intercept= True, power=0 ,warm_start= False)\n",
    "#cv = number of folds\n",
    "cross = cross_val_score(clf, X_train_scaled[top_sb], y_train, scoring = 'neg_root_mean_squared_error',cv=3)\n",
    "cross"
   ]
  },
  {
   "cell_type": "markdown",
   "metadata": {},
   "source": [
    "**Note the best model for GLM is gml_rfe**"
   ]
  },
  {
   "cell_type": "code",
   "execution_count": 37,
   "metadata": {},
   "outputs": [],
   "source": [
    "#add the best model\n",
    "metric_df = metric_df.append(\n",
    "    {\n",
    "    'model': 'gml_rfe',\n",
    "    'rmse_train': gml_rfe['rmse'],    \n",
    "    'r^2' : gml_rfe['r2']}, ignore_index=True)"
   ]
  },
  {
   "cell_type": "markdown",
   "metadata": {},
   "source": [
    "# Polynomial Regression"
   ]
  },
  {
   "cell_type": "markdown",
   "metadata": {},
   "source": [
    "###  - Polynomila Regression using select k best "
   ]
  },
  {
   "cell_type": "code",
   "execution_count": 38,
   "metadata": {},
   "outputs": [
    {
     "name": "stdout",
     "output_type": "stream",
     "text": [
      "The top 6 selected feautures based on the SelectKBest class are: ['this_week_sales', 'this_week_unemployment', 'store_size', 'next_week_1_year_ago', 'unemp_4wk_rolling', 'unemp_quarterly_rolling']\n"
     ]
    }
   ],
   "source": [
    "#using my function for SelectkBest\n",
    "top_sb =m.select_kbest(X_train_scaled, y_train, 6)"
   ]
  },
  {
   "cell_type": "code",
   "execution_count": 39,
   "metadata": {},
   "outputs": [],
   "source": [
    "# make the polynomial features to get a new set of features\n",
    "pf = PolynomialFeatures(degree = 3) \n",
    "\n",
    "# fit and transform X_train_scaled\n",
    "X_train_degree3 = pf.fit_transform(X_train_scaled[top_sb])\n",
    "\n",
    "# transform X_validate_scaled & X_test_scaled\n",
    "X_test_degree3 = pf.transform(X_test_scaled[top_sb])"
   ]
  },
  {
   "cell_type": "markdown",
   "metadata": {},
   "source": [
    "### GridSearchCV"
   ]
  },
  {
   "cell_type": "code",
   "execution_count": 40,
   "metadata": {},
   "outputs": [
    {
     "data": {
      "text/html": [
       "<div>\n",
       "<style scoped>\n",
       "    .dataframe tbody tr th:only-of-type {\n",
       "        vertical-align: middle;\n",
       "    }\n",
       "\n",
       "    .dataframe tbody tr th {\n",
       "        vertical-align: top;\n",
       "    }\n",
       "\n",
       "    .dataframe thead th {\n",
       "        text-align: right;\n",
       "    }\n",
       "</style>\n",
       "<table border=\"1\" class=\"dataframe\">\n",
       "  <thead>\n",
       "    <tr style=\"text-align: right;\">\n",
       "      <th></th>\n",
       "      <th>fit_intercept</th>\n",
       "      <th>normalize</th>\n",
       "      <th>score</th>\n",
       "    </tr>\n",
       "  </thead>\n",
       "  <tbody>\n",
       "    <tr>\n",
       "      <th>0</th>\n",
       "      <td>True</td>\n",
       "      <td>True</td>\n",
       "      <td>-68367.964689</td>\n",
       "    </tr>\n",
       "    <tr>\n",
       "      <th>1</th>\n",
       "      <td>True</td>\n",
       "      <td>False</td>\n",
       "      <td>-68367.964689</td>\n",
       "    </tr>\n",
       "    <tr>\n",
       "      <th>2</th>\n",
       "      <td>False</td>\n",
       "      <td>True</td>\n",
       "      <td>-68367.964689</td>\n",
       "    </tr>\n",
       "    <tr>\n",
       "      <th>3</th>\n",
       "      <td>False</td>\n",
       "      <td>False</td>\n",
       "      <td>-68367.964689</td>\n",
       "    </tr>\n",
       "  </tbody>\n",
       "</table>\n",
       "</div>"
      ],
      "text/plain": [
       "   fit_intercept  normalize         score\n",
       "0           True       True -68367.964689\n",
       "1           True      False -68367.964689\n",
       "2          False       True -68367.964689\n",
       "3          False      False -68367.964689"
      ]
     },
     "execution_count": 40,
     "metadata": {},
     "output_type": "execute_result"
    }
   ],
   "source": [
    "#specify the parameters we wish to use as a dictionary, then use that dictionary when we create the class.\n",
    "params = {\n",
    "          'normalize': [True, False],\n",
    "          'fit_intercept':[True, False],\n",
    "         }\n",
    "\n",
    "m.gridsearch (X_train_degree3, y_train, LinearRegression() , params, 'neg_root_mean_squared_error')"
   ]
  },
  {
   "cell_type": "code",
   "execution_count": 41,
   "metadata": {
    "scrolled": true
   },
   "outputs": [
    {
     "data": {
      "text/plain": [
       "64044.02037218975"
      ]
     },
     "execution_count": 41,
     "metadata": {},
     "output_type": "execute_result"
    }
   ],
   "source": [
    "#create a model\n",
    "pol_skb = m.create_model(X_train_degree3, y_train_df, 'actual',LinearRegression( normalize=False, fit_intercept = False ), 'pol3_skb' )\n",
    "pol_skb['rmse']"
   ]
  },
  {
   "cell_type": "markdown",
   "metadata": {},
   "source": [
    "##### cross validation"
   ]
  },
  {
   "cell_type": "code",
   "execution_count": 42,
   "metadata": {},
   "outputs": [
    {
     "data": {
      "text/plain": [
       "array([-66722.79374691, -70656.60660325, -72587.28808291])"
      ]
     },
     "execution_count": 42,
     "metadata": {},
     "output_type": "execute_result"
    }
   ],
   "source": [
    "#create the model\n",
    "clf = LinearRegression( normalize=False, fit_intercept = True )\n",
    "#cv = number of folds\n",
    "cross = cross_val_score(clf, X_train_degree3, y_train, cv=3, scoring = 'neg_root_mean_squared_error')\n",
    "cross"
   ]
  },
  {
   "cell_type": "code",
   "execution_count": 43,
   "metadata": {},
   "outputs": [],
   "source": [
    "metric_df = metric_df.append(\n",
    "    {\n",
    "    'model': 'pol3_skb',\n",
    "    'rmse_train': pol_skb['rmse'],    \n",
    "    'r^2' : pol_skb['r2']}, ignore_index=True)"
   ]
  },
  {
   "cell_type": "markdown",
   "metadata": {},
   "source": [
    "### -Polynoliam regression using RFE"
   ]
  },
  {
   "cell_type": "code",
   "execution_count": 44,
   "metadata": {},
   "outputs": [
    {
     "name": "stdout",
     "output_type": "stream",
     "text": [
      "The top 7 selected feautures based on the the RFE class class are: ['this_week_sales', 'CPI', 'next_week_1_year_ago', 'cpi_4wk_rolling', 'unemp_4wk_rolling', 'cpi_quarterly_rolling', 'unemp_quarterly_rolling']\n",
      "this_week_sales             1\n",
      "unemp_quarterly_rolling     1\n",
      "cpi_quarterly_rolling       1\n",
      "CPI                         1\n",
      "next_week_1_year_ago        1\n",
      "unemp_4wk_rolling           1\n",
      "cpi_4wk_rolling             1\n",
      "this_week_unemployment      2\n",
      "avgMoM_perc_unemp           3\n",
      "avgMoM_perc_cpi             4\n",
      "christmas                   5\n",
      "thanksgiving                6\n",
      "fuel_price                  7\n",
      "fuel_4wk_rolling            8\n",
      "store_size                  9\n",
      "avgQoQ_perc_unemp          10\n",
      "this_week_holiday_flag     11\n",
      "avgQoQ_perc_fuel           12\n",
      "avgQoQ_perc_cpi            13\n",
      "avgMoM_perc_fuel           14\n",
      "temperature                15\n",
      "super_bowl                 16\n",
      "pre_christmas              17\n",
      "fuel_quarterly_rolling     18\n",
      "labor_day                  19\n",
      "next_week_holiday_flag     20\n",
      "dtype: int64\n"
     ]
    }
   ],
   "source": [
    "#get the top 7 features by RFE\n",
    "top_rfe_pol = m.select_rfe(X_train_scaled, y_train, 7, LinearRegression(normalize=False, fit_intercept = False) )"
   ]
  },
  {
   "cell_type": "code",
   "execution_count": 45,
   "metadata": {},
   "outputs": [],
   "source": [
    "# make the polynomial features to get a new set of features\n",
    "pf = PolynomialFeatures(degree = 3) \n",
    "\n",
    "# fit and transform X_train_scaled\n",
    "X_train_degree3 = pf.fit_transform(X_train_scaled[top_rfe_pol])\n",
    "\n",
    "# transform X_validate_scaled & X_test_scaled\n",
    "X_test_degree3 = pf.transform(X_test_scaled[top_rfe_pol])"
   ]
  },
  {
   "cell_type": "markdown",
   "metadata": {},
   "source": [
    "#### GridsearchCV"
   ]
  },
  {
   "cell_type": "code",
   "execution_count": 46,
   "metadata": {},
   "outputs": [
    {
     "data": {
      "text/html": [
       "<div>\n",
       "<style scoped>\n",
       "    .dataframe tbody tr th:only-of-type {\n",
       "        vertical-align: middle;\n",
       "    }\n",
       "\n",
       "    .dataframe tbody tr th {\n",
       "        vertical-align: top;\n",
       "    }\n",
       "\n",
       "    .dataframe thead th {\n",
       "        text-align: right;\n",
       "    }\n",
       "</style>\n",
       "<table border=\"1\" class=\"dataframe\">\n",
       "  <thead>\n",
       "    <tr style=\"text-align: right;\">\n",
       "      <th></th>\n",
       "      <th>fit_intercept</th>\n",
       "      <th>normalize</th>\n",
       "      <th>score</th>\n",
       "    </tr>\n",
       "  </thead>\n",
       "  <tbody>\n",
       "    <tr>\n",
       "      <th>0</th>\n",
       "      <td>True</td>\n",
       "      <td>True</td>\n",
       "      <td>-65466.028958</td>\n",
       "    </tr>\n",
       "    <tr>\n",
       "      <th>2</th>\n",
       "      <td>False</td>\n",
       "      <td>True</td>\n",
       "      <td>-64896.793744</td>\n",
       "    </tr>\n",
       "    <tr>\n",
       "      <th>3</th>\n",
       "      <td>False</td>\n",
       "      <td>False</td>\n",
       "      <td>-64896.793744</td>\n",
       "    </tr>\n",
       "    <tr>\n",
       "      <th>1</th>\n",
       "      <td>True</td>\n",
       "      <td>False</td>\n",
       "      <td>-64896.793729</td>\n",
       "    </tr>\n",
       "  </tbody>\n",
       "</table>\n",
       "</div>"
      ],
      "text/plain": [
       "   fit_intercept  normalize         score\n",
       "0           True       True -65466.028958\n",
       "2          False       True -64896.793744\n",
       "3          False      False -64896.793744\n",
       "1           True      False -64896.793729"
      ]
     },
     "execution_count": 46,
     "metadata": {},
     "output_type": "execute_result"
    }
   ],
   "source": [
    "m.gridsearch (X_train_degree3, y_train, LinearRegression() , params, 'neg_root_mean_squared_error')"
   ]
  },
  {
   "cell_type": "code",
   "execution_count": 47,
   "metadata": {},
   "outputs": [
    {
     "data": {
      "text/plain": [
       "60488.51113347658"
      ]
     },
     "execution_count": 47,
     "metadata": {},
     "output_type": "execute_result"
    }
   ],
   "source": [
    "#create the model\n",
    "pol_rfe = m.create_model(X_train_degree3, y_train_df, 'actual',LinearRegression( normalize=False, fit_intercept = True ), 'pol3_RFE' )\n",
    "pol_rfe['rmse']"
   ]
  },
  {
   "cell_type": "markdown",
   "metadata": {},
   "source": [
    "#### cross validation"
   ]
  },
  {
   "cell_type": "code",
   "execution_count": 48,
   "metadata": {},
   "outputs": [
    {
     "data": {
      "text/plain": [
       "array([-65122.10841691, -67271.31287954, -66561.22897066])"
      ]
     },
     "execution_count": 48,
     "metadata": {},
     "output_type": "execute_result"
    }
   ],
   "source": [
    "#create the model\n",
    "clf = LinearRegression( normalize=True, fit_intercept = True )\n",
    "#cv = number of folds\n",
    "cross = cross_val_score(clf, X_train_degree3, y_train, cv=3, scoring = 'neg_root_mean_squared_error')\n",
    "cross"
   ]
  },
  {
   "cell_type": "code",
   "execution_count": 49,
   "metadata": {},
   "outputs": [],
   "source": [
    "metric_df = metric_df.append(\n",
    "    {\n",
    "    'model': 'pol3_rfe',\n",
    "    'rmse_train': pol_rfe['rmse'],    \n",
    "    'r^2' : pol_rfe['r2']}, ignore_index=True)"
   ]
  },
  {
   "cell_type": "markdown",
   "metadata": {},
   "source": [
    "### -Polynomial Regression Degree 1  with all features"
   ]
  },
  {
   "cell_type": "code",
   "execution_count": 50,
   "metadata": {},
   "outputs": [],
   "source": [
    "# make the polynomial features to get a new set of features using the entire df\n",
    "pf = PolynomialFeatures(degree = 1) \n",
    "\n",
    "# fit and transform X_train_scaled\n",
    "X_train_degree1 = pf.fit_transform(X_train_scaled)\n",
    "\n",
    "# transform X_validate_scaled & X_test_scaled\n",
    "X_test_degree1 = pf.transform(X_test_scaled)"
   ]
  },
  {
   "cell_type": "markdown",
   "metadata": {},
   "source": [
    "### GreidSearch CV"
   ]
  },
  {
   "cell_type": "code",
   "execution_count": 51,
   "metadata": {},
   "outputs": [
    {
     "data": {
      "text/html": [
       "<div>\n",
       "<style scoped>\n",
       "    .dataframe tbody tr th:only-of-type {\n",
       "        vertical-align: middle;\n",
       "    }\n",
       "\n",
       "    .dataframe tbody tr th {\n",
       "        vertical-align: top;\n",
       "    }\n",
       "\n",
       "    .dataframe thead th {\n",
       "        text-align: right;\n",
       "    }\n",
       "</style>\n",
       "<table border=\"1\" class=\"dataframe\">\n",
       "  <thead>\n",
       "    <tr style=\"text-align: right;\">\n",
       "      <th></th>\n",
       "      <th>fit_intercept</th>\n",
       "      <th>normalize</th>\n",
       "      <th>score</th>\n",
       "    </tr>\n",
       "  </thead>\n",
       "  <tbody>\n",
       "    <tr>\n",
       "      <th>2</th>\n",
       "      <td>False</td>\n",
       "      <td>True</td>\n",
       "      <td>-70476.19041</td>\n",
       "    </tr>\n",
       "    <tr>\n",
       "      <th>3</th>\n",
       "      <td>False</td>\n",
       "      <td>False</td>\n",
       "      <td>-70476.19041</td>\n",
       "    </tr>\n",
       "    <tr>\n",
       "      <th>1</th>\n",
       "      <td>True</td>\n",
       "      <td>False</td>\n",
       "      <td>-70476.19041</td>\n",
       "    </tr>\n",
       "    <tr>\n",
       "      <th>0</th>\n",
       "      <td>True</td>\n",
       "      <td>True</td>\n",
       "      <td>-70476.19041</td>\n",
       "    </tr>\n",
       "  </tbody>\n",
       "</table>\n",
       "</div>"
      ],
      "text/plain": [
       "   fit_intercept  normalize        score\n",
       "2          False       True -70476.19041\n",
       "3          False      False -70476.19041\n",
       "1           True      False -70476.19041\n",
       "0           True       True -70476.19041"
      ]
     },
     "execution_count": 51,
     "metadata": {},
     "output_type": "execute_result"
    }
   ],
   "source": [
    "m.gridsearch (X_train_degree1, y_train, LinearRegression() , params, 'neg_root_mean_squared_error')"
   ]
  },
  {
   "cell_type": "code",
   "execution_count": 52,
   "metadata": {
    "scrolled": true
   },
   "outputs": [
    {
     "data": {
      "text/plain": [
       "69757.43755006164"
      ]
     },
     "execution_count": 52,
     "metadata": {},
     "output_type": "execute_result"
    }
   ],
   "source": [
    "pol_dg1 = m.create_model(X_train_degree1, y_train_df, 'actual',LinearRegression( normalize=True, fit_intercept = True ), 'modelpol' )\n",
    "pol_dg1['rmse']"
   ]
  },
  {
   "cell_type": "markdown",
   "metadata": {},
   "source": [
    "### Cross Validation"
   ]
  },
  {
   "cell_type": "code",
   "execution_count": 53,
   "metadata": {},
   "outputs": [
    {
     "data": {
      "text/plain": [
       "array([-69529.70428164, -71656.45914894, -71583.06247297])"
      ]
     },
     "execution_count": 53,
     "metadata": {},
     "output_type": "execute_result"
    }
   ],
   "source": [
    "#create the model\n",
    "clf = LinearRegression( normalize=True, fit_intercept = True )\n",
    "#cv = number of folds\n",
    "cross = cross_val_score(clf, X_train_degree1, y_train, cv=3, scoring = 'neg_root_mean_squared_error')\n",
    "cross"
   ]
  },
  {
   "cell_type": "code",
   "execution_count": 54,
   "metadata": {},
   "outputs": [],
   "source": [
    "#add this model metrics to df\n",
    "metric_df = metric_df.append(\n",
    "    {\n",
    "    'model': 'pol_dg1',\n",
    "    'rmse_train': pol_dg1['rmse'],    \n",
    "    'r^2' : pol_dg1['r2']}, ignore_index=True)"
   ]
  },
  {
   "cell_type": "markdown",
   "metadata": {},
   "source": [
    "## RESULTS"
   ]
  },
  {
   "cell_type": "code",
   "execution_count": 55,
   "metadata": {},
   "outputs": [
    {
     "data": {
      "text/html": [
       "<div>\n",
       "<style scoped>\n",
       "    .dataframe tbody tr th:only-of-type {\n",
       "        vertical-align: middle;\n",
       "    }\n",
       "\n",
       "    .dataframe tbody tr th {\n",
       "        vertical-align: top;\n",
       "    }\n",
       "\n",
       "    .dataframe thead th {\n",
       "        text-align: right;\n",
       "    }\n",
       "</style>\n",
       "<table border=\"1\" class=\"dataframe\">\n",
       "  <thead>\n",
       "    <tr style=\"text-align: right;\">\n",
       "      <th></th>\n",
       "      <th>model</th>\n",
       "      <th>rmse_train</th>\n",
       "      <th>r^2</th>\n",
       "    </tr>\n",
       "  </thead>\n",
       "  <tbody>\n",
       "    <tr>\n",
       "      <th>5</th>\n",
       "      <td>pol3_rfe</td>\n",
       "      <td>60488.511133</td>\n",
       "      <td>0.988269</td>\n",
       "    </tr>\n",
       "    <tr>\n",
       "      <th>4</th>\n",
       "      <td>pol3_skb</td>\n",
       "      <td>64044.020372</td>\n",
       "      <td>0.986849</td>\n",
       "    </tr>\n",
       "    <tr>\n",
       "      <th>6</th>\n",
       "      <td>pol_dg1</td>\n",
       "      <td>69757.437550</td>\n",
       "      <td>0.984398</td>\n",
       "    </tr>\n",
       "    <tr>\n",
       "      <th>3</th>\n",
       "      <td>gml_rfe</td>\n",
       "      <td>71522.664037</td>\n",
       "      <td>0.983598</td>\n",
       "    </tr>\n",
       "    <tr>\n",
       "      <th>1</th>\n",
       "      <td>ols_rfe</td>\n",
       "      <td>71859.757450</td>\n",
       "      <td>0.983443</td>\n",
       "    </tr>\n",
       "    <tr>\n",
       "      <th>2</th>\n",
       "      <td>lasso_rfe</td>\n",
       "      <td>72080.269213</td>\n",
       "      <td>0.983309</td>\n",
       "    </tr>\n",
       "    <tr>\n",
       "      <th>0</th>\n",
       "      <td>baseline(using last year sales)</td>\n",
       "      <td>91145.282235</td>\n",
       "      <td>0.000000</td>\n",
       "    </tr>\n",
       "  </tbody>\n",
       "</table>\n",
       "</div>"
      ],
      "text/plain": [
       "                             model    rmse_train       r^2\n",
       "5                         pol3_rfe  60488.511133  0.988269\n",
       "4                         pol3_skb  64044.020372  0.986849\n",
       "6                          pol_dg1  69757.437550  0.984398\n",
       "3                          gml_rfe  71522.664037  0.983598\n",
       "1                          ols_rfe  71859.757450  0.983443\n",
       "2                        lasso_rfe  72080.269213  0.983309\n",
       "0  baseline(using last year sales)  91145.282235  0.000000"
      ]
     },
     "execution_count": 55,
     "metadata": {},
     "output_type": "execute_result"
    }
   ],
   "source": [
    "metric_df.sort_values('rmse_train')"
   ]
  },
  {
   "cell_type": "code",
   "execution_count": 56,
   "metadata": {
    "scrolled": false
   },
   "outputs": [
    {
     "name": "stdout",
     "output_type": "stream",
     "text": [
      "The best model is\n"
     ]
    },
    {
     "data": {
      "text/html": [
       "<div>\n",
       "<style scoped>\n",
       "    .dataframe tbody tr th:only-of-type {\n",
       "        vertical-align: middle;\n",
       "    }\n",
       "\n",
       "    .dataframe tbody tr th {\n",
       "        vertical-align: top;\n",
       "    }\n",
       "\n",
       "    .dataframe thead th {\n",
       "        text-align: right;\n",
       "    }\n",
       "</style>\n",
       "<table border=\"1\" class=\"dataframe\">\n",
       "  <thead>\n",
       "    <tr style=\"text-align: right;\">\n",
       "      <th></th>\n",
       "      <th>model</th>\n",
       "      <th>rmse_train</th>\n",
       "      <th>r^2</th>\n",
       "    </tr>\n",
       "  </thead>\n",
       "  <tbody>\n",
       "    <tr>\n",
       "      <th>5</th>\n",
       "      <td>pol3_rfe</td>\n",
       "      <td>60488.511133</td>\n",
       "      <td>0.988269</td>\n",
       "    </tr>\n",
       "  </tbody>\n",
       "</table>\n",
       "</div>"
      ],
      "text/plain": [
       "      model    rmse_train       r^2\n",
       "5  pol3_rfe  60488.511133  0.988269"
      ]
     },
     "execution_count": 56,
     "metadata": {},
     "output_type": "execute_result"
    }
   ],
   "source": [
    "print('The best model is' )\n",
    "metric_df.nsmallest(1, 'rmse_train')"
   ]
  },
  {
   "cell_type": "markdown",
   "metadata": {},
   "source": [
    "**Takeaways**\n",
    "\n",
    "the best model is Polynomial Regression Degree 2 using RFE top 7 Features\n",
    "- 'this_week_sales', \n",
    "- 'CPI', \n",
    "- 'next_week_1_year_ago', \n",
    "- 'cpi_4wk_rolling', \n",
    "- 'unemp_4wk_rolling', \n",
    "- 'cpi_quarterly_rolling', \n",
    "- 'unemp_quarterly_rolling'"
   ]
  },
  {
   "cell_type": "code",
   "execution_count": null,
   "metadata": {},
   "outputs": [],
   "source": []
  },
  {
   "cell_type": "markdown",
   "metadata": {},
   "source": [
    "# TEST"
   ]
  },
  {
   "cell_type": "code",
   "execution_count": 57,
   "metadata": {},
   "outputs": [],
   "source": [
    "#use my function to create and calculate the metrics\n",
    "pol_reg_test =  m.create_model(X_test_degree3, \n",
    "                              y_test_df, 'actual',LinearRegression( normalize=False, fit_intercept = True ), 'test_polreg' )"
   ]
  },
  {
   "cell_type": "code",
   "execution_count": 58,
   "metadata": {},
   "outputs": [
    {
     "data": {
      "text/html": [
       "<div>\n",
       "<style scoped>\n",
       "    .dataframe tbody tr th:only-of-type {\n",
       "        vertical-align: middle;\n",
       "    }\n",
       "\n",
       "    .dataframe tbody tr th {\n",
       "        vertical-align: top;\n",
       "    }\n",
       "\n",
       "    .dataframe thead th {\n",
       "        text-align: right;\n",
       "    }\n",
       "</style>\n",
       "<table border=\"1\" class=\"dataframe\">\n",
       "  <thead>\n",
       "    <tr style=\"text-align: right;\">\n",
       "      <th></th>\n",
       "      <th>actual</th>\n",
       "      <th>test_polreg</th>\n",
       "    </tr>\n",
       "    <tr>\n",
       "      <th>id</th>\n",
       "      <th></th>\n",
       "      <th></th>\n",
       "    </tr>\n",
       "  </thead>\n",
       "  <tbody>\n",
       "    <tr>\n",
       "      <th>2011-03-18_store_7_2011-03-25</th>\n",
       "      <td>559061.58</td>\n",
       "      <td>5.651159e+05</td>\n",
       "    </tr>\n",
       "    <tr>\n",
       "      <th>2012-10-19_store_41_2012-10-26</th>\n",
       "      <td>1316542.59</td>\n",
       "      <td>1.340907e+06</td>\n",
       "    </tr>\n",
       "    <tr>\n",
       "      <th>2012-02-17_store_36_2012-02-24</th>\n",
       "      <td>313270.45</td>\n",
       "      <td>3.572269e+05</td>\n",
       "    </tr>\n",
       "    <tr>\n",
       "      <th>2012-03-16_store_26_2012-03-23</th>\n",
       "      <td>874790.68</td>\n",
       "      <td>8.744982e+05</td>\n",
       "    </tr>\n",
       "    <tr>\n",
       "      <th>2012-03-02_store_43_2012-03-09</th>\n",
       "      <td>636677.67</td>\n",
       "      <td>6.353168e+05</td>\n",
       "    </tr>\n",
       "    <tr>\n",
       "      <th>2012-02-03_store_42_2012-02-10</th>\n",
       "      <td>674919.45</td>\n",
       "      <td>6.385061e+05</td>\n",
       "    </tr>\n",
       "    <tr>\n",
       "      <th>2011-11-25_store_41_2011-12-02</th>\n",
       "      <td>1292436.23</td>\n",
       "      <td>1.378522e+06</td>\n",
       "    </tr>\n",
       "    <tr>\n",
       "      <th>2012-02-17_store_23_2012-02-24</th>\n",
       "      <td>1272948.27</td>\n",
       "      <td>1.269420e+06</td>\n",
       "    </tr>\n",
       "    <tr>\n",
       "      <th>2011-04-08_store_23_2011-04-15</th>\n",
       "      <td>1263680.51</td>\n",
       "      <td>1.296745e+06</td>\n",
       "    </tr>\n",
       "    <tr>\n",
       "      <th>2012-10-05_store_12_2012-10-12</th>\n",
       "      <td>934917.47</td>\n",
       "      <td>9.387308e+05</td>\n",
       "    </tr>\n",
       "    <tr>\n",
       "      <th>2011-02-25_store_21_2011-03-04</th>\n",
       "      <td>796277.72</td>\n",
       "      <td>7.697780e+05</td>\n",
       "    </tr>\n",
       "    <tr>\n",
       "      <th>2011-09-02_store_28_2011-09-09</th>\n",
       "      <td>1310087.00</td>\n",
       "      <td>1.250822e+06</td>\n",
       "    </tr>\n",
       "    <tr>\n",
       "      <th>2012-02-17_store_30_2012-02-24</th>\n",
       "      <td>425215.71</td>\n",
       "      <td>4.335426e+05</td>\n",
       "    </tr>\n",
       "    <tr>\n",
       "      <th>2012-07-06_store_5_2012-07-13</th>\n",
       "      <td>316203.64</td>\n",
       "      <td>3.008291e+05</td>\n",
       "    </tr>\n",
       "    <tr>\n",
       "      <th>2011-05-27_store_29_2011-06-03</th>\n",
       "      <td>598251.57</td>\n",
       "      <td>5.450315e+05</td>\n",
       "    </tr>\n",
       "  </tbody>\n",
       "</table>\n",
       "</div>"
      ],
      "text/plain": [
       "                                    actual   test_polreg\n",
       "id                                                      \n",
       "2011-03-18_store_7_2011-03-25    559061.58  5.651159e+05\n",
       "2012-10-19_store_41_2012-10-26  1316542.59  1.340907e+06\n",
       "2012-02-17_store_36_2012-02-24   313270.45  3.572269e+05\n",
       "2012-03-16_store_26_2012-03-23   874790.68  8.744982e+05\n",
       "2012-03-02_store_43_2012-03-09   636677.67  6.353168e+05\n",
       "2012-02-03_store_42_2012-02-10   674919.45  6.385061e+05\n",
       "2011-11-25_store_41_2011-12-02  1292436.23  1.378522e+06\n",
       "2012-02-17_store_23_2012-02-24  1272948.27  1.269420e+06\n",
       "2011-04-08_store_23_2011-04-15  1263680.51  1.296745e+06\n",
       "2012-10-05_store_12_2012-10-12   934917.47  9.387308e+05\n",
       "2011-02-25_store_21_2011-03-04   796277.72  7.697780e+05\n",
       "2011-09-02_store_28_2011-09-09  1310087.00  1.250822e+06\n",
       "2012-02-17_store_30_2012-02-24   425215.71  4.335426e+05\n",
       "2012-07-06_store_5_2012-07-13    316203.64  3.008291e+05\n",
       "2011-05-27_store_29_2011-06-03   598251.57  5.450315e+05"
      ]
     },
     "execution_count": 58,
     "metadata": {},
     "output_type": "execute_result"
    }
   ],
   "source": [
    "y_test_df.head(15)"
   ]
  },
  {
   "cell_type": "code",
   "execution_count": 59,
   "metadata": {},
   "outputs": [
    {
     "data": {
      "text/html": [
       "<div>\n",
       "<style scoped>\n",
       "    .dataframe tbody tr th:only-of-type {\n",
       "        vertical-align: middle;\n",
       "    }\n",
       "\n",
       "    .dataframe tbody tr th {\n",
       "        vertical-align: top;\n",
       "    }\n",
       "\n",
       "    .dataframe thead th {\n",
       "        text-align: right;\n",
       "    }\n",
       "</style>\n",
       "<table border=\"1\" class=\"dataframe\">\n",
       "  <thead>\n",
       "    <tr style=\"text-align: right;\">\n",
       "      <th></th>\n",
       "      <th>actual</th>\n",
       "      <th>last_year_baseline</th>\n",
       "      <th>modelOLS</th>\n",
       "      <th>modelLasso</th>\n",
       "      <th>modelgml</th>\n",
       "      <th>pol3_skb</th>\n",
       "      <th>pol3_RFE</th>\n",
       "      <th>modelpol</th>\n",
       "    </tr>\n",
       "    <tr>\n",
       "      <th>id</th>\n",
       "      <th></th>\n",
       "      <th></th>\n",
       "      <th></th>\n",
       "      <th></th>\n",
       "      <th></th>\n",
       "      <th></th>\n",
       "      <th></th>\n",
       "      <th></th>\n",
       "    </tr>\n",
       "  </thead>\n",
       "  <tbody>\n",
       "    <tr>\n",
       "      <th>2011-09-16_store_12_2011-09-23</th>\n",
       "      <td>871692.74</td>\n",
       "      <td>851919.34</td>\n",
       "      <td>8.414476e+05</td>\n",
       "      <td>8.280014e+05</td>\n",
       "      <td>8.265554e+05</td>\n",
       "      <td>8.818270e+05</td>\n",
       "      <td>9.082096e+05</td>\n",
       "      <td>8.692667e+05</td>\n",
       "    </tr>\n",
       "    <tr>\n",
       "      <th>2012-08-10_store_4_2012-08-17</th>\n",
       "      <td>2283540.30</td>\n",
       "      <td>2232892.10</td>\n",
       "      <td>2.261697e+06</td>\n",
       "      <td>2.256597e+06</td>\n",
       "      <td>2.252690e+06</td>\n",
       "      <td>2.364183e+06</td>\n",
       "      <td>2.326712e+06</td>\n",
       "      <td>2.272793e+06</td>\n",
       "    </tr>\n",
       "    <tr>\n",
       "      <th>2011-12-09_store_27_2011-12-16</th>\n",
       "      <td>2205919.86</td>\n",
       "      <td>2350098.36</td>\n",
       "      <td>2.249371e+06</td>\n",
       "      <td>2.262273e+06</td>\n",
       "      <td>2.252397e+06</td>\n",
       "      <td>2.190291e+06</td>\n",
       "      <td>2.211375e+06</td>\n",
       "      <td>2.239841e+06</td>\n",
       "    </tr>\n",
       "    <tr>\n",
       "      <th>2011-12-30_store_1_2012-01-06</th>\n",
       "      <td>1550369.92</td>\n",
       "      <td>1444732.28</td>\n",
       "      <td>1.459655e+06</td>\n",
       "      <td>1.447282e+06</td>\n",
       "      <td>1.453858e+06</td>\n",
       "      <td>1.479411e+06</td>\n",
       "      <td>1.500979e+06</td>\n",
       "      <td>1.443146e+06</td>\n",
       "    </tr>\n",
       "    <tr>\n",
       "      <th>2012-08-31_store_43_2012-09-07</th>\n",
       "      <td>663814.18</td>\n",
       "      <td>649128.23</td>\n",
       "      <td>6.338107e+05</td>\n",
       "      <td>6.250764e+05</td>\n",
       "      <td>6.222088e+05</td>\n",
       "      <td>6.228781e+05</td>\n",
       "      <td>5.942555e+05</td>\n",
       "      <td>6.539501e+05</td>\n",
       "    </tr>\n",
       "  </tbody>\n",
       "</table>\n",
       "</div>"
      ],
      "text/plain": [
       "                                    actual  last_year_baseline      modelOLS  \\\n",
       "id                                                                             \n",
       "2011-09-16_store_12_2011-09-23   871692.74           851919.34  8.414476e+05   \n",
       "2012-08-10_store_4_2012-08-17   2283540.30          2232892.10  2.261697e+06   \n",
       "2011-12-09_store_27_2011-12-16  2205919.86          2350098.36  2.249371e+06   \n",
       "2011-12-30_store_1_2012-01-06   1550369.92          1444732.28  1.459655e+06   \n",
       "2012-08-31_store_43_2012-09-07   663814.18           649128.23  6.338107e+05   \n",
       "\n",
       "                                  modelLasso      modelgml      pol3_skb  \\\n",
       "id                                                                         \n",
       "2011-09-16_store_12_2011-09-23  8.280014e+05  8.265554e+05  8.818270e+05   \n",
       "2012-08-10_store_4_2012-08-17   2.256597e+06  2.252690e+06  2.364183e+06   \n",
       "2011-12-09_store_27_2011-12-16  2.262273e+06  2.252397e+06  2.190291e+06   \n",
       "2011-12-30_store_1_2012-01-06   1.447282e+06  1.453858e+06  1.479411e+06   \n",
       "2012-08-31_store_43_2012-09-07  6.250764e+05  6.222088e+05  6.228781e+05   \n",
       "\n",
       "                                    pol3_RFE      modelpol  \n",
       "id                                                          \n",
       "2011-09-16_store_12_2011-09-23  9.082096e+05  8.692667e+05  \n",
       "2012-08-10_store_4_2012-08-17   2.326712e+06  2.272793e+06  \n",
       "2011-12-09_store_27_2011-12-16  2.211375e+06  2.239841e+06  \n",
       "2011-12-30_store_1_2012-01-06   1.500979e+06  1.443146e+06  \n",
       "2012-08-31_store_43_2012-09-07  5.942555e+05  6.539501e+05  "
      ]
     },
     "execution_count": 59,
     "metadata": {},
     "output_type": "execute_result"
    }
   ],
   "source": [
    "y_train_df.head()"
   ]
  },
  {
   "cell_type": "code",
   "execution_count": null,
   "metadata": {},
   "outputs": [],
   "source": []
  }
 ],
 "metadata": {
  "kernelspec": {
   "display_name": "Python 3",
   "language": "python",
   "name": "python3"
  },
  "language_info": {
   "codemirror_mode": {
    "name": "ipython",
    "version": 3
   },
   "file_extension": ".py",
   "mimetype": "text/x-python",
   "name": "python",
   "nbconvert_exporter": "python",
   "pygments_lexer": "ipython3",
   "version": "3.8.5"
  }
 },
 "nbformat": 4,
 "nbformat_minor": 4
}
