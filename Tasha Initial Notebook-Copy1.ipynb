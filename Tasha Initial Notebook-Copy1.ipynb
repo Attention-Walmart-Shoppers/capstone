{
 "cells": [
  {
   "cell_type": "markdown",
   "metadata": {},
   "source": [
    "# Attention Walmart Shoppers\n",
    "### A Walmart retail analysis"
   ]
  },
  {
   "cell_type": "markdown",
   "metadata": {},
   "source": [
    "The data was originally retrieved from:\n",
    " -   https://www.kaggle.com/rutuspatel/retail-analysis-with-walmart-sales-data\n",
    " - https://www.kaggle.com/c/walmart-recruiting-store-sales-forecasting/data"
   ]
  },
  {
   "cell_type": "markdown",
   "metadata": {},
   "source": [
    "### Data Dictionary\n",
    "\n",
    "| Target       |  Data Type       | Description                     |\n",
    "|--------------|------------------|---------------------------------|\n",
    "| Weekly_Sales |   float64        | Sales in USD per week by store  |\n",
    "\n",
    "\n",
    "| Column        |  Data Type       | Description                                      |  \n",
    "|---------------|------------------|--------------------------------------------------|\n",
    "| Store         |     int64        | unique identifier for store  (1-45)              |\n",
    "| Date          |     object       | Date of transaction                              |\n",
    "| Holiday_Flag  |     int64        | indicator of a Holiday week (boolean)            |\n",
    "| Temperature   |     float64      | temperature in Farenheight                       |\n",
    "| Fuel_Price    |     float64      | cost of fuel(in USD) in region                   |\n",
    "| CPI           |     float64      | Prevailing consumer price index, cost of goods   |\n",
    "| Unemployment  |     float64      | Prevailing unemployment rate                     |"
   ]
  },
  {
   "cell_type": "markdown",
   "metadata": {},
   "source": [
    "## Goal:\n",
    "- to predict weekly sales price for a store"
   ]
  },
  {
   "cell_type": "markdown",
   "metadata": {},
   "source": [
    "## Think about...\n",
    "- What is your goal?\n",
    "- what is your TARGET? drivers for that target?\n",
    "- what is one oberservation? what does one row from your dataset represent?"
   ]
  },
  {
   "cell_type": "markdown",
   "metadata": {},
   "source": [
    "## Daily meetings\n",
    "- standup doc\n",
    "- shared knowledge doc\n",
    "\n",
    "### Three important Questions\n",
    "- what did you work on since we last talked?\n",
    "- what are you planning on working on next?\n",
    "- what are your blockers?"
   ]
  },
  {
   "cell_type": "code",
   "execution_count": 1,
   "metadata": {},
   "outputs": [],
   "source": [
    "import pandas as pd\n",
    "import numpy as np\n",
    "\n",
    "#visualization\n",
    "import matplotlib.pyplot as plt\n",
    "import seaborn as sns\n",
    "\n",
    "#math\n",
    "from scipy import stats\n",
    "import math\n",
    "\n",
    "#sklearn\n",
    "from sklearn.model_selection import train_test_split\n",
    "from sklearn.impute import SimpleImputer\n",
    "from sklearn.preprocessing import MinMaxScaler, StandardScaler\n",
    "from sklearn.feature_selection import RFE, SelectKBest, f_regression\n",
    "from sklearn.linear_model import LinearRegression, LassoLars, TweedieRegressor\n",
    "from sklearn.preprocessing import PolynomialFeatures\n",
    "from sklearn.cluster import KMeans\n",
    "from sklearn.metrics import mean_squared_error, explained_variance_score\n",
    "\n",
    "#custom modules\n",
    "import new_wrangle as w\n",
    "\n",
    "#remove warnings\n",
    "import warnings\n",
    "warnings.filterwarnings(\"ignore\")"
   ]
  },
  {
   "cell_type": "markdown",
   "metadata": {},
   "source": [
    "<hr style=\"border:2px solid black\"> </hr>"
   ]
  },
  {
   "cell_type": "markdown",
   "metadata": {},
   "source": [
    "# Acquire"
   ]
  },
  {
   "cell_type": "code",
   "execution_count": 2,
   "metadata": {},
   "outputs": [],
   "source": [
    "#bring in walmart data using new_wrangle.py\n",
    "df= w.acquire_data()"
   ]
  },
  {
   "cell_type": "code",
   "execution_count": 3,
   "metadata": {},
   "outputs": [
    {
     "data": {
      "text/html": [
       "<div>\n",
       "<style scoped>\n",
       "    .dataframe tbody tr th:only-of-type {\n",
       "        vertical-align: middle;\n",
       "    }\n",
       "\n",
       "    .dataframe tbody tr th {\n",
       "        vertical-align: top;\n",
       "    }\n",
       "\n",
       "    .dataframe thead th {\n",
       "        text-align: right;\n",
       "    }\n",
       "</style>\n",
       "<table border=\"1\" class=\"dataframe\">\n",
       "  <thead>\n",
       "    <tr style=\"text-align: right;\">\n",
       "      <th></th>\n",
       "      <th>Store</th>\n",
       "      <th>Date</th>\n",
       "      <th>Weekly_Sales</th>\n",
       "      <th>Holiday_Flag</th>\n",
       "      <th>Temperature</th>\n",
       "      <th>Fuel_Price</th>\n",
       "      <th>CPI</th>\n",
       "      <th>Unemployment</th>\n",
       "      <th>Type</th>\n",
       "      <th>Size</th>\n",
       "    </tr>\n",
       "  </thead>\n",
       "  <tbody>\n",
       "    <tr>\n",
       "      <th>0</th>\n",
       "      <td>1</td>\n",
       "      <td>05-02-2010</td>\n",
       "      <td>1643690.90</td>\n",
       "      <td>0</td>\n",
       "      <td>42.31</td>\n",
       "      <td>2.572</td>\n",
       "      <td>211.096358</td>\n",
       "      <td>8.106</td>\n",
       "      <td>A</td>\n",
       "      <td>151315</td>\n",
       "    </tr>\n",
       "    <tr>\n",
       "      <th>1</th>\n",
       "      <td>1</td>\n",
       "      <td>12-02-2010</td>\n",
       "      <td>1641957.44</td>\n",
       "      <td>1</td>\n",
       "      <td>38.51</td>\n",
       "      <td>2.548</td>\n",
       "      <td>211.242170</td>\n",
       "      <td>8.106</td>\n",
       "      <td>A</td>\n",
       "      <td>151315</td>\n",
       "    </tr>\n",
       "    <tr>\n",
       "      <th>2</th>\n",
       "      <td>1</td>\n",
       "      <td>19-02-2010</td>\n",
       "      <td>1611968.17</td>\n",
       "      <td>0</td>\n",
       "      <td>39.93</td>\n",
       "      <td>2.514</td>\n",
       "      <td>211.289143</td>\n",
       "      <td>8.106</td>\n",
       "      <td>A</td>\n",
       "      <td>151315</td>\n",
       "    </tr>\n",
       "    <tr>\n",
       "      <th>3</th>\n",
       "      <td>1</td>\n",
       "      <td>26-02-2010</td>\n",
       "      <td>1409727.59</td>\n",
       "      <td>0</td>\n",
       "      <td>46.63</td>\n",
       "      <td>2.561</td>\n",
       "      <td>211.319643</td>\n",
       "      <td>8.106</td>\n",
       "      <td>A</td>\n",
       "      <td>151315</td>\n",
       "    </tr>\n",
       "    <tr>\n",
       "      <th>4</th>\n",
       "      <td>1</td>\n",
       "      <td>05-03-2010</td>\n",
       "      <td>1554806.68</td>\n",
       "      <td>0</td>\n",
       "      <td>46.50</td>\n",
       "      <td>2.625</td>\n",
       "      <td>211.350143</td>\n",
       "      <td>8.106</td>\n",
       "      <td>A</td>\n",
       "      <td>151315</td>\n",
       "    </tr>\n",
       "  </tbody>\n",
       "</table>\n",
       "</div>"
      ],
      "text/plain": [
       "   Store        Date  Weekly_Sales  Holiday_Flag  Temperature  Fuel_Price  \\\n",
       "0      1  05-02-2010    1643690.90             0        42.31       2.572   \n",
       "1      1  12-02-2010    1641957.44             1        38.51       2.548   \n",
       "2      1  19-02-2010    1611968.17             0        39.93       2.514   \n",
       "3      1  26-02-2010    1409727.59             0        46.63       2.561   \n",
       "4      1  05-03-2010    1554806.68             0        46.50       2.625   \n",
       "\n",
       "          CPI  Unemployment Type    Size  \n",
       "0  211.096358         8.106    A  151315  \n",
       "1  211.242170         8.106    A  151315  \n",
       "2  211.289143         8.106    A  151315  \n",
       "3  211.319643         8.106    A  151315  \n",
       "4  211.350143         8.106    A  151315  "
      ]
     },
     "execution_count": 3,
     "metadata": {},
     "output_type": "execute_result"
    }
   ],
   "source": [
    "#take a look\n",
    "df.head()"
   ]
  },
  {
   "cell_type": "code",
   "execution_count": 4,
   "metadata": {},
   "outputs": [
    {
     "name": "stdout",
     "output_type": "stream",
     "text": [
      "<class 'pandas.core.frame.DataFrame'>\n",
      "Int64Index: 6435 entries, 0 to 6434\n",
      "Data columns (total 10 columns):\n",
      " #   Column        Non-Null Count  Dtype  \n",
      "---  ------        --------------  -----  \n",
      " 0   Store         6435 non-null   int64  \n",
      " 1   Date          6435 non-null   object \n",
      " 2   Weekly_Sales  6435 non-null   float64\n",
      " 3   Holiday_Flag  6435 non-null   int64  \n",
      " 4   Temperature   6435 non-null   float64\n",
      " 5   Fuel_Price    6435 non-null   float64\n",
      " 6   CPI           6435 non-null   float64\n",
      " 7   Unemployment  6435 non-null   float64\n",
      " 8   Type          6435 non-null   object \n",
      " 9   Size          6435 non-null   int64  \n",
      "dtypes: float64(5), int64(3), object(2)\n",
      "memory usage: 553.0+ KB\n"
     ]
    }
   ],
   "source": [
    "#check for nulls, dtypes\n",
    "df.info()"
   ]
  },
  {
   "cell_type": "markdown",
   "metadata": {},
   "source": [
    "<hr style=\"border:2px solid black\"> </hr>"
   ]
  },
  {
   "cell_type": "markdown",
   "metadata": {},
   "source": [
    "# Prepare"
   ]
  },
  {
   "cell_type": "code",
   "execution_count": 5,
   "metadata": {},
   "outputs": [],
   "source": [
    "#import the cleaned data using new_wrangle.py\n",
    "df= w.wrangle_walmart()"
   ]
  },
  {
   "cell_type": "code",
   "execution_count": 6,
   "metadata": {},
   "outputs": [
    {
     "name": "stdout",
     "output_type": "stream",
     "text": [
      "<class 'pandas.core.frame.DataFrame'>\n",
      "Index: 6435 entries, 2010-02-05_store_1_2010-02-12 to 2012-10-26_store_45_nan\n",
      "Data columns (total 17 columns):\n",
      " #   Column                  Non-Null Count  Dtype         \n",
      "---  ------                  --------------  -----         \n",
      " 0   store_id                6435 non-null   object        \n",
      " 1   this_week_date          6435 non-null   datetime64[ns]\n",
      " 2   this_week_sales         6435 non-null   float64       \n",
      " 3   this_week_holiday_flag  6435 non-null   int64         \n",
      " 4   this_week_unemployment  6435 non-null   float64       \n",
      " 5   store_type              6435 non-null   object        \n",
      " 6   store_size              6435 non-null   int64         \n",
      " 7   next_week_1_year_ago    4140 non-null   float64       \n",
      " 8   next_week_sales_target  6390 non-null   float64       \n",
      " 9   next_week_date          6390 non-null   datetime64[ns]\n",
      " 10  next_week_holiday_flag  6390 non-null   float64       \n",
      " 11  next_week_holiday_name  6435 non-null   object        \n",
      " 12  christmas               6435 non-null   uint8         \n",
      " 13  labor_day               6435 non-null   uint8         \n",
      " 14  pre_christmas           6435 non-null   uint8         \n",
      " 15  super_bowl              6435 non-null   uint8         \n",
      " 16  thanksgiving            6435 non-null   uint8         \n",
      "dtypes: datetime64[ns](2), float64(5), int64(2), object(3), uint8(5)\n",
      "memory usage: 685.0+ KB\n"
     ]
    }
   ],
   "source": [
    "#make sure that all columns are created\n",
    "df.info()"
   ]
  },
  {
   "cell_type": "code",
   "execution_count": 7,
   "metadata": {},
   "outputs": [
    {
     "data": {
      "text/html": [
       "<div>\n",
       "<style scoped>\n",
       "    .dataframe tbody tr th:only-of-type {\n",
       "        vertical-align: middle;\n",
       "    }\n",
       "\n",
       "    .dataframe tbody tr th {\n",
       "        vertical-align: top;\n",
       "    }\n",
       "\n",
       "    .dataframe thead th {\n",
       "        text-align: right;\n",
       "    }\n",
       "</style>\n",
       "<table border=\"1\" class=\"dataframe\">\n",
       "  <thead>\n",
       "    <tr style=\"text-align: right;\">\n",
       "      <th>id</th>\n",
       "      <th>2012-09-28_store_45_2012-10-05</th>\n",
       "      <th>2012-10-05_store_45_2012-10-12</th>\n",
       "      <th>2012-10-12_store_45_2012-10-19</th>\n",
       "      <th>2012-10-19_store_45_2012-10-26</th>\n",
       "      <th>2012-10-26_store_45_nan</th>\n",
       "    </tr>\n",
       "  </thead>\n",
       "  <tbody>\n",
       "    <tr>\n",
       "      <th>store_id</th>\n",
       "      <td>45</td>\n",
       "      <td>45</td>\n",
       "      <td>45</td>\n",
       "      <td>45</td>\n",
       "      <td>45</td>\n",
       "    </tr>\n",
       "    <tr>\n",
       "      <th>this_week_date</th>\n",
       "      <td>2012-09-28 00:00:00</td>\n",
       "      <td>2012-10-05 00:00:00</td>\n",
       "      <td>2012-10-12 00:00:00</td>\n",
       "      <td>2012-10-19 00:00:00</td>\n",
       "      <td>2012-10-26 00:00:00</td>\n",
       "    </tr>\n",
       "    <tr>\n",
       "      <th>this_week_sales</th>\n",
       "      <td>713174</td>\n",
       "      <td>733455</td>\n",
       "      <td>734464</td>\n",
       "      <td>718126</td>\n",
       "      <td>760281</td>\n",
       "    </tr>\n",
       "    <tr>\n",
       "      <th>this_week_holiday_flag</th>\n",
       "      <td>0</td>\n",
       "      <td>0</td>\n",
       "      <td>0</td>\n",
       "      <td>0</td>\n",
       "      <td>0</td>\n",
       "    </tr>\n",
       "    <tr>\n",
       "      <th>this_week_unemployment</th>\n",
       "      <td>8.684</td>\n",
       "      <td>8.667</td>\n",
       "      <td>8.667</td>\n",
       "      <td>8.667</td>\n",
       "      <td>8.667</td>\n",
       "    </tr>\n",
       "    <tr>\n",
       "      <th>store_type</th>\n",
       "      <td>B</td>\n",
       "      <td>B</td>\n",
       "      <td>B</td>\n",
       "      <td>B</td>\n",
       "      <td>B</td>\n",
       "    </tr>\n",
       "    <tr>\n",
       "      <th>store_size</th>\n",
       "      <td>118221</td>\n",
       "      <td>118221</td>\n",
       "      <td>118221</td>\n",
       "      <td>118221</td>\n",
       "      <td>118221</td>\n",
       "    </tr>\n",
       "    <tr>\n",
       "      <th>next_week_1_year_ago</th>\n",
       "      <td>753447</td>\n",
       "      <td>720947</td>\n",
       "      <td>771686</td>\n",
       "      <td>781695</td>\n",
       "      <td>833429</td>\n",
       "    </tr>\n",
       "    <tr>\n",
       "      <th>next_week_sales_target</th>\n",
       "      <td>733455</td>\n",
       "      <td>734464</td>\n",
       "      <td>718126</td>\n",
       "      <td>760281</td>\n",
       "      <td>NaN</td>\n",
       "    </tr>\n",
       "    <tr>\n",
       "      <th>next_week_date</th>\n",
       "      <td>2012-10-05 00:00:00</td>\n",
       "      <td>2012-10-12 00:00:00</td>\n",
       "      <td>2012-10-19 00:00:00</td>\n",
       "      <td>2012-10-26 00:00:00</td>\n",
       "      <td>NaT</td>\n",
       "    </tr>\n",
       "    <tr>\n",
       "      <th>next_week_holiday_flag</th>\n",
       "      <td>0</td>\n",
       "      <td>0</td>\n",
       "      <td>0</td>\n",
       "      <td>0</td>\n",
       "      <td>NaN</td>\n",
       "    </tr>\n",
       "    <tr>\n",
       "      <th>next_week_holiday_name</th>\n",
       "      <td>no_holiday</td>\n",
       "      <td>no_holiday</td>\n",
       "      <td>no_holiday</td>\n",
       "      <td>no_holiday</td>\n",
       "      <td>no_holiday</td>\n",
       "    </tr>\n",
       "    <tr>\n",
       "      <th>christmas</th>\n",
       "      <td>0</td>\n",
       "      <td>0</td>\n",
       "      <td>0</td>\n",
       "      <td>0</td>\n",
       "      <td>0</td>\n",
       "    </tr>\n",
       "    <tr>\n",
       "      <th>labor_day</th>\n",
       "      <td>0</td>\n",
       "      <td>0</td>\n",
       "      <td>0</td>\n",
       "      <td>0</td>\n",
       "      <td>0</td>\n",
       "    </tr>\n",
       "    <tr>\n",
       "      <th>pre_christmas</th>\n",
       "      <td>0</td>\n",
       "      <td>0</td>\n",
       "      <td>0</td>\n",
       "      <td>0</td>\n",
       "      <td>0</td>\n",
       "    </tr>\n",
       "    <tr>\n",
       "      <th>super_bowl</th>\n",
       "      <td>0</td>\n",
       "      <td>0</td>\n",
       "      <td>0</td>\n",
       "      <td>0</td>\n",
       "      <td>0</td>\n",
       "    </tr>\n",
       "    <tr>\n",
       "      <th>thanksgiving</th>\n",
       "      <td>0</td>\n",
       "      <td>0</td>\n",
       "      <td>0</td>\n",
       "      <td>0</td>\n",
       "      <td>0</td>\n",
       "    </tr>\n",
       "  </tbody>\n",
       "</table>\n",
       "</div>"
      ],
      "text/plain": [
       "id                     2012-09-28_store_45_2012-10-05  \\\n",
       "store_id                                           45   \n",
       "this_week_date                    2012-09-28 00:00:00   \n",
       "this_week_sales                                713174   \n",
       "this_week_holiday_flag                              0   \n",
       "this_week_unemployment                          8.684   \n",
       "store_type                                          B   \n",
       "store_size                                     118221   \n",
       "next_week_1_year_ago                           753447   \n",
       "next_week_sales_target                         733455   \n",
       "next_week_date                    2012-10-05 00:00:00   \n",
       "next_week_holiday_flag                              0   \n",
       "next_week_holiday_name                     no_holiday   \n",
       "christmas                                           0   \n",
       "labor_day                                           0   \n",
       "pre_christmas                                       0   \n",
       "super_bowl                                          0   \n",
       "thanksgiving                                        0   \n",
       "\n",
       "id                     2012-10-05_store_45_2012-10-12  \\\n",
       "store_id                                           45   \n",
       "this_week_date                    2012-10-05 00:00:00   \n",
       "this_week_sales                                733455   \n",
       "this_week_holiday_flag                              0   \n",
       "this_week_unemployment                          8.667   \n",
       "store_type                                          B   \n",
       "store_size                                     118221   \n",
       "next_week_1_year_ago                           720947   \n",
       "next_week_sales_target                         734464   \n",
       "next_week_date                    2012-10-12 00:00:00   \n",
       "next_week_holiday_flag                              0   \n",
       "next_week_holiday_name                     no_holiday   \n",
       "christmas                                           0   \n",
       "labor_day                                           0   \n",
       "pre_christmas                                       0   \n",
       "super_bowl                                          0   \n",
       "thanksgiving                                        0   \n",
       "\n",
       "id                     2012-10-12_store_45_2012-10-19  \\\n",
       "store_id                                           45   \n",
       "this_week_date                    2012-10-12 00:00:00   \n",
       "this_week_sales                                734464   \n",
       "this_week_holiday_flag                              0   \n",
       "this_week_unemployment                          8.667   \n",
       "store_type                                          B   \n",
       "store_size                                     118221   \n",
       "next_week_1_year_ago                           771686   \n",
       "next_week_sales_target                         718126   \n",
       "next_week_date                    2012-10-19 00:00:00   \n",
       "next_week_holiday_flag                              0   \n",
       "next_week_holiday_name                     no_holiday   \n",
       "christmas                                           0   \n",
       "labor_day                                           0   \n",
       "pre_christmas                                       0   \n",
       "super_bowl                                          0   \n",
       "thanksgiving                                        0   \n",
       "\n",
       "id                     2012-10-19_store_45_2012-10-26 2012-10-26_store_45_nan  \n",
       "store_id                                           45                      45  \n",
       "this_week_date                    2012-10-19 00:00:00     2012-10-26 00:00:00  \n",
       "this_week_sales                                718126                  760281  \n",
       "this_week_holiday_flag                              0                       0  \n",
       "this_week_unemployment                          8.667                   8.667  \n",
       "store_type                                          B                       B  \n",
       "store_size                                     118221                  118221  \n",
       "next_week_1_year_ago                           781695                  833429  \n",
       "next_week_sales_target                         760281                     NaN  \n",
       "next_week_date                    2012-10-26 00:00:00                     NaT  \n",
       "next_week_holiday_flag                              0                     NaN  \n",
       "next_week_holiday_name                     no_holiday              no_holiday  \n",
       "christmas                                           0                       0  \n",
       "labor_day                                           0                       0  \n",
       "pre_christmas                                       0                       0  \n",
       "super_bowl                                          0                       0  \n",
       "thanksgiving                                        0                       0  "
      ]
     },
     "execution_count": 7,
     "metadata": {},
     "output_type": "execute_result"
    }
   ],
   "source": [
    "#take a look at the data\n",
    "df.tail().T"
   ]
  },
  {
   "cell_type": "code",
   "execution_count": 8,
   "metadata": {},
   "outputs": [
    {
     "data": {
      "text/plain": [
       "store_id                     0\n",
       "this_week_date               0\n",
       "this_week_sales              0\n",
       "this_week_holiday_flag       0\n",
       "this_week_unemployment       0\n",
       "store_type                   0\n",
       "store_size                   0\n",
       "next_week_1_year_ago      2295\n",
       "next_week_sales_target      45\n",
       "next_week_date              45\n",
       "next_week_holiday_flag      45\n",
       "next_week_holiday_name       0\n",
       "christmas                    0\n",
       "labor_day                    0\n",
       "pre_christmas                0\n",
       "super_bowl                   0\n",
       "thanksgiving                 0\n",
       "dtype: int64"
      ]
     },
     "execution_count": 8,
     "metadata": {},
     "output_type": "execute_result"
    }
   ],
   "source": [
    "df.isnull().sum()"
   ]
  },
  {
   "cell_type": "code",
   "execution_count": 9,
   "metadata": {},
   "outputs": [
    {
     "name": "stdout",
     "output_type": "stream",
     "text": [
      "train -> (2866, 17)\n",
      "test -> (1229, 17)\n"
     ]
    }
   ],
   "source": [
    "#train test split\n",
    "train, test = w.split_scale(df,'next_week_sales_target')"
   ]
  },
  {
   "cell_type": "code",
   "execution_count": 10,
   "metadata": {},
   "outputs": [
    {
     "name": "stdout",
     "output_type": "stream",
     "text": [
      "<class 'pandas.core.frame.DataFrame'>\n",
      "Index: 6435 entries, 2010-02-05_store_1_2010-02-12 to 2012-10-26_store_45_nan\n",
      "Data columns (total 17 columns):\n",
      " #   Column                  Non-Null Count  Dtype         \n",
      "---  ------                  --------------  -----         \n",
      " 0   store_id                6435 non-null   object        \n",
      " 1   this_week_date          6435 non-null   datetime64[ns]\n",
      " 2   this_week_sales         6435 non-null   float64       \n",
      " 3   this_week_holiday_flag  6435 non-null   int64         \n",
      " 4   this_week_unemployment  6435 non-null   float64       \n",
      " 5   store_type              6435 non-null   object        \n",
      " 6   store_size              6435 non-null   int64         \n",
      " 7   next_week_1_year_ago    4140 non-null   float64       \n",
      " 8   next_week_sales_target  6390 non-null   float64       \n",
      " 9   next_week_date          6390 non-null   datetime64[ns]\n",
      " 10  next_week_holiday_flag  6390 non-null   float64       \n",
      " 11  next_week_holiday_name  6435 non-null   object        \n",
      " 12  christmas               6435 non-null   uint8         \n",
      " 13  labor_day               6435 non-null   uint8         \n",
      " 14  pre_christmas           6435 non-null   uint8         \n",
      " 15  super_bowl              6435 non-null   uint8         \n",
      " 16  thanksgiving            6435 non-null   uint8         \n",
      "dtypes: datetime64[ns](2), float64(5), int64(2), object(3), uint8(5)\n",
      "memory usage: 685.0+ KB\n"
     ]
    }
   ],
   "source": [
    "#take a look\n",
    "df.info()"
   ]
  },
  {
   "cell_type": "markdown",
   "metadata": {},
   "source": [
    "<hr style=\"border:2px solid black\"> </hr>"
   ]
  },
  {
   "cell_type": "markdown",
   "metadata": {},
   "source": [
    "# Explore"
   ]
  },
  {
   "cell_type": "code",
   "execution_count": 11,
   "metadata": {},
   "outputs": [],
   "source": [
    "#count of season\n",
    "#train.season.value_counts()"
   ]
  },
  {
   "cell_type": "code",
   "execution_count": 12,
   "metadata": {},
   "outputs": [
    {
     "data": {
      "text/plain": [
       "no_holiday       2615\n",
       "labor_day          66\n",
       "super_bowl         63\n",
       "pre_christmas      60\n",
       "christmas          31\n",
       "thanksgiving       31\n",
       "Name: next_week_holiday_name, dtype: int64"
      ]
     },
     "execution_count": 12,
     "metadata": {},
     "output_type": "execute_result"
    }
   ],
   "source": [
    "#counts by holidays\n",
    "train.next_week_holiday_name.value_counts()"
   ]
  },
  {
   "cell_type": "markdown",
   "metadata": {},
   "source": [
    "## bivariate exploration"
   ]
  },
  {
   "cell_type": "code",
   "execution_count": 13,
   "metadata": {},
   "outputs": [
    {
     "data": {
      "image/png": "[encoded data removed]",
      "text/plain": [
       "<Figure size 1440x720 with 1 Axes>"
      ]
     },
     "metadata": {
      "needs_background": "light"
     },
     "output_type": "display_data"
    }
   ],
   "source": [
    "#average weekly sales by store\n",
    "stores = train.groupby(['store_id']).agg({'next_week_sales_target': ['mean']})\n",
    "\n",
    "plt.figure(figsize=(20, 10))\n",
    "plt.bar(stores.index,stores['next_week_sales_target']['mean'])\n",
    "plt.xticks(np.arange(1, 46, step=1))\n",
    "plt.ylabel('Next Week Sales (in USD)', fontsize=16)\n",
    "plt.xlabel('Store', fontsize=16)\n",
    "plt.show()"
   ]
  },
  {
   "cell_type": "code",
   "execution_count": 14,
   "metadata": {},
   "outputs": [
    {
     "data": {
      "text/plain": [
       "<AxesSubplot:xlabel='store_type', ylabel='store_size'>"
      ]
     },
     "execution_count": 14,
     "metadata": {},
     "output_type": "execute_result"
    },
    {
     "data": {
      "image/png": "[encoded data removed]",
      "text/plain": [
       "<Figure size 1008x432 with 1 Axes>"
      ]
     },
     "metadata": {
      "needs_background": "light"
     },
     "output_type": "display_data"
    }
   ],
   "source": [
    "#visualize store_type by store_size\n",
    "plt.figure(figsize=(14, 6))\n",
    "sns.boxplot(x='store_type', y='store_size', data=train)"
   ]
  },
  {
   "cell_type": "markdown",
   "metadata": {},
   "source": [
    "### Takeaways:\n",
    "- Store A: appears to be only larger stores\n",
    "- Store B: appear to be midsized stores\n",
    "- Store C: appears to be only smaller stores\n",
    "\n",
    "- outliers were addressed (store 3, store 5, store 33, store 36 were classified incorrectly)"
   ]
  },
  {
   "cell_type": "code",
   "execution_count": 15,
   "metadata": {},
   "outputs": [
    {
     "data": {
      "text/plain": [
       "<AxesSubplot:xlabel='store_type', ylabel='next_week_sales_target'>"
      ]
     },
     "execution_count": 15,
     "metadata": {},
     "output_type": "execute_result"
    },
    {
     "data": {
      "image/png": "[encoded data removed]",
      "text/plain": [
       "<Figure size 1008x432 with 1 Axes>"
      ]
     },
     "metadata": {
      "needs_background": "light"
     },
     "output_type": "display_data"
    }
   ],
   "source": [
    "#visualize stores and weekly sales\n",
    "plt.figure(figsize=(14,6))\n",
    "sns.boxplot(x='store_type', y='next_week_sales_target', data=train)"
   ]
  },
  {
   "cell_type": "code",
   "execution_count": 16,
   "metadata": {},
   "outputs": [
    {
     "data": {
      "text/plain": [
       "<AxesSubplot:xlabel='store_type', ylabel='this_week_unemployment'>"
      ]
     },
     "execution_count": 16,
     "metadata": {},
     "output_type": "execute_result"
    },
    {
     "data": {
      "image/png": "[encoded data removed]",
      "text/plain": [
       "<Figure size 1008x432 with 1 Axes>"
      ]
     },
     "metadata": {
      "needs_background": "light"
     },
     "output_type": "display_data"
    }
   ],
   "source": [
    "#visualize store type and unemployment rate\n",
    "plt.figure(figsize=(14,6))\n",
    "sns.boxplot(x='store_type', y='this_week_unemployment', data=train)"
   ]
  },
  {
   "cell_type": "code",
   "execution_count": 17,
   "metadata": {
    "scrolled": true
   },
   "outputs": [
    {
     "data": {
      "text/html": [
       "<div>\n",
       "<style scoped>\n",
       "    .dataframe tbody tr th:only-of-type {\n",
       "        vertical-align: middle;\n",
       "    }\n",
       "\n",
       "    .dataframe tbody tr th {\n",
       "        vertical-align: top;\n",
       "    }\n",
       "\n",
       "    .dataframe thead th {\n",
       "        text-align: right;\n",
       "    }\n",
       "</style>\n",
       "<table border=\"1\" class=\"dataframe\">\n",
       "  <thead>\n",
       "    <tr style=\"text-align: right;\">\n",
       "      <th></th>\n",
       "      <th>this_week_sales</th>\n",
       "      <th>this_week_holiday_flag</th>\n",
       "      <th>this_week_unemployment</th>\n",
       "      <th>store_size</th>\n",
       "      <th>next_week_1_year_ago</th>\n",
       "      <th>next_week_sales_target</th>\n",
       "      <th>next_week_holiday_flag</th>\n",
       "      <th>christmas</th>\n",
       "      <th>labor_day</th>\n",
       "      <th>pre_christmas</th>\n",
       "      <th>super_bowl</th>\n",
       "      <th>thanksgiving</th>\n",
       "    </tr>\n",
       "  </thead>\n",
       "  <tbody>\n",
       "    <tr>\n",
       "      <th>this_week_sales</th>\n",
       "      <td>1.000000</td>\n",
       "      <td>0.045091</td>\n",
       "      <td>-0.124278</td>\n",
       "      <td>0.822618</td>\n",
       "      <td>0.946883</td>\n",
       "      <td>0.962765</td>\n",
       "      <td>0.046326</td>\n",
       "      <td>0.140933</td>\n",
       "      <td>-0.013249</td>\n",
       "      <td>0.055363</td>\n",
       "      <td>0.000685</td>\n",
       "      <td>-0.010993</td>\n",
       "    </tr>\n",
       "    <tr>\n",
       "      <th>this_week_holiday_flag</th>\n",
       "      <td>0.045091</td>\n",
       "      <td>1.000000</td>\n",
       "      <td>-0.000009</td>\n",
       "      <td>-0.005686</td>\n",
       "      <td>-0.002272</td>\n",
       "      <td>0.000464</td>\n",
       "      <td>-0.071402</td>\n",
       "      <td>-0.027942</td>\n",
       "      <td>-0.041025</td>\n",
       "      <td>-0.039074</td>\n",
       "      <td>-0.040060</td>\n",
       "      <td>-0.027942</td>\n",
       "    </tr>\n",
       "    <tr>\n",
       "      <th>this_week_unemployment</th>\n",
       "      <td>-0.124278</td>\n",
       "      <td>-0.000009</td>\n",
       "      <td>1.000000</td>\n",
       "      <td>-0.071430</td>\n",
       "      <td>-0.097472</td>\n",
       "      <td>-0.123025</td>\n",
       "      <td>0.005452</td>\n",
       "      <td>-0.007507</td>\n",
       "      <td>-0.009426</td>\n",
       "      <td>0.012790</td>\n",
       "      <td>0.020026</td>\n",
       "      <td>0.005933</td>\n",
       "    </tr>\n",
       "    <tr>\n",
       "      <th>store_size</th>\n",
       "      <td>0.822618</td>\n",
       "      <td>-0.005686</td>\n",
       "      <td>-0.071430</td>\n",
       "      <td>1.000000</td>\n",
       "      <td>0.815440</td>\n",
       "      <td>0.826692</td>\n",
       "      <td>-0.002286</td>\n",
       "      <td>0.001808</td>\n",
       "      <td>-0.010166</td>\n",
       "      <td>-0.007689</td>\n",
       "      <td>0.009634</td>\n",
       "      <td>-0.006232</td>\n",
       "    </tr>\n",
       "    <tr>\n",
       "      <th>next_week_1_year_ago</th>\n",
       "      <td>0.946883</td>\n",
       "      <td>-0.002272</td>\n",
       "      <td>-0.097472</td>\n",
       "      <td>0.815440</td>\n",
       "      <td>1.000000</td>\n",
       "      <td>0.986895</td>\n",
       "      <td>0.022338</td>\n",
       "      <td>-0.018230</td>\n",
       "      <td>-0.007545</td>\n",
       "      <td>0.136609</td>\n",
       "      <td>0.012871</td>\n",
       "      <td>0.064786</td>\n",
       "    </tr>\n",
       "    <tr>\n",
       "      <th>next_week_sales_target</th>\n",
       "      <td>0.962765</td>\n",
       "      <td>0.000464</td>\n",
       "      <td>-0.123025</td>\n",
       "      <td>0.826692</td>\n",
       "      <td>0.986895</td>\n",
       "      <td>1.000000</td>\n",
       "      <td>0.035292</td>\n",
       "      <td>0.003227</td>\n",
       "      <td>-0.002386</td>\n",
       "      <td>0.112758</td>\n",
       "      <td>0.015225</td>\n",
       "      <td>0.063746</td>\n",
       "    </tr>\n",
       "    <tr>\n",
       "      <th>next_week_holiday_flag</th>\n",
       "      <td>0.046326</td>\n",
       "      <td>-0.071402</td>\n",
       "      <td>0.005452</td>\n",
       "      <td>-0.002286</td>\n",
       "      <td>0.022338</td>\n",
       "      <td>0.035292</td>\n",
       "      <td>1.000000</td>\n",
       "      <td>0.391336</td>\n",
       "      <td>0.574564</td>\n",
       "      <td>-0.039074</td>\n",
       "      <td>0.561053</td>\n",
       "      <td>0.391336</td>\n",
       "    </tr>\n",
       "    <tr>\n",
       "      <th>christmas</th>\n",
       "      <td>0.140933</td>\n",
       "      <td>-0.027942</td>\n",
       "      <td>-0.007507</td>\n",
       "      <td>0.001808</td>\n",
       "      <td>-0.018230</td>\n",
       "      <td>0.003227</td>\n",
       "      <td>0.391336</td>\n",
       "      <td>1.000000</td>\n",
       "      <td>-0.016055</td>\n",
       "      <td>-0.015291</td>\n",
       "      <td>-0.015677</td>\n",
       "      <td>-0.010935</td>\n",
       "    </tr>\n",
       "    <tr>\n",
       "      <th>labor_day</th>\n",
       "      <td>-0.013249</td>\n",
       "      <td>-0.041025</td>\n",
       "      <td>-0.009426</td>\n",
       "      <td>-0.010166</td>\n",
       "      <td>-0.007545</td>\n",
       "      <td>-0.002386</td>\n",
       "      <td>0.574564</td>\n",
       "      <td>-0.016055</td>\n",
       "      <td>1.000000</td>\n",
       "      <td>-0.022450</td>\n",
       "      <td>-0.023017</td>\n",
       "      <td>-0.016055</td>\n",
       "    </tr>\n",
       "    <tr>\n",
       "      <th>pre_christmas</th>\n",
       "      <td>0.055363</td>\n",
       "      <td>-0.039074</td>\n",
       "      <td>0.012790</td>\n",
       "      <td>-0.007689</td>\n",
       "      <td>0.136609</td>\n",
       "      <td>0.112758</td>\n",
       "      <td>-0.039074</td>\n",
       "      <td>-0.015291</td>\n",
       "      <td>-0.022450</td>\n",
       "      <td>1.000000</td>\n",
       "      <td>-0.021923</td>\n",
       "      <td>-0.015291</td>\n",
       "    </tr>\n",
       "    <tr>\n",
       "      <th>super_bowl</th>\n",
       "      <td>0.000685</td>\n",
       "      <td>-0.040060</td>\n",
       "      <td>0.020026</td>\n",
       "      <td>0.009634</td>\n",
       "      <td>0.012871</td>\n",
       "      <td>0.015225</td>\n",
       "      <td>0.561053</td>\n",
       "      <td>-0.015677</td>\n",
       "      <td>-0.023017</td>\n",
       "      <td>-0.021923</td>\n",
       "      <td>1.000000</td>\n",
       "      <td>-0.015677</td>\n",
       "    </tr>\n",
       "    <tr>\n",
       "      <th>thanksgiving</th>\n",
       "      <td>-0.010993</td>\n",
       "      <td>-0.027942</td>\n",
       "      <td>0.005933</td>\n",
       "      <td>-0.006232</td>\n",
       "      <td>0.064786</td>\n",
       "      <td>0.063746</td>\n",
       "      <td>0.391336</td>\n",
       "      <td>-0.010935</td>\n",
       "      <td>-0.016055</td>\n",
       "      <td>-0.015291</td>\n",
       "      <td>-0.015677</td>\n",
       "      <td>1.000000</td>\n",
       "    </tr>\n",
       "  </tbody>\n",
       "</table>\n",
       "</div>"
      ],
      "text/plain": [
       "                        this_week_sales  this_week_holiday_flag  \\\n",
       "this_week_sales                1.000000                0.045091   \n",
       "this_week_holiday_flag         0.045091                1.000000   \n",
       "this_week_unemployment        -0.124278               -0.000009   \n",
       "store_size                     0.822618               -0.005686   \n",
       "next_week_1_year_ago           0.946883               -0.002272   \n",
       "next_week_sales_target         0.962765                0.000464   \n",
       "next_week_holiday_flag         0.046326               -0.071402   \n",
       "christmas                      0.140933               -0.027942   \n",
       "labor_day                     -0.013249               -0.041025   \n",
       "pre_christmas                  0.055363               -0.039074   \n",
       "super_bowl                     0.000685               -0.040060   \n",
       "thanksgiving                  -0.010993               -0.027942   \n",
       "\n",
       "                        this_week_unemployment  store_size  \\\n",
       "this_week_sales                      -0.124278    0.822618   \n",
       "this_week_holiday_flag               -0.000009   -0.005686   \n",
       "this_week_unemployment                1.000000   -0.071430   \n",
       "store_size                           -0.071430    1.000000   \n",
       "next_week_1_year_ago                 -0.097472    0.815440   \n",
       "next_week_sales_target               -0.123025    0.826692   \n",
       "next_week_holiday_flag                0.005452   -0.002286   \n",
       "christmas                            -0.007507    0.001808   \n",
       "labor_day                            -0.009426   -0.010166   \n",
       "pre_christmas                         0.012790   -0.007689   \n",
       "super_bowl                            0.020026    0.009634   \n",
       "thanksgiving                          0.005933   -0.006232   \n",
       "\n",
       "                        next_week_1_year_ago  next_week_sales_target  \\\n",
       "this_week_sales                     0.946883                0.962765   \n",
       "this_week_holiday_flag             -0.002272                0.000464   \n",
       "this_week_unemployment             -0.097472               -0.123025   \n",
       "store_size                          0.815440                0.826692   \n",
       "next_week_1_year_ago                1.000000                0.986895   \n",
       "next_week_sales_target              0.986895                1.000000   \n",
       "next_week_holiday_flag              0.022338                0.035292   \n",
       "christmas                          -0.018230                0.003227   \n",
       "labor_day                          -0.007545               -0.002386   \n",
       "pre_christmas                       0.136609                0.112758   \n",
       "super_bowl                          0.012871                0.015225   \n",
       "thanksgiving                        0.064786                0.063746   \n",
       "\n",
       "                        next_week_holiday_flag  christmas  labor_day  \\\n",
       "this_week_sales                       0.046326   0.140933  -0.013249   \n",
       "this_week_holiday_flag               -0.071402  -0.027942  -0.041025   \n",
       "this_week_unemployment                0.005452  -0.007507  -0.009426   \n",
       "store_size                           -0.002286   0.001808  -0.010166   \n",
       "next_week_1_year_ago                  0.022338  -0.018230  -0.007545   \n",
       "next_week_sales_target                0.035292   0.003227  -0.002386   \n",
       "next_week_holiday_flag                1.000000   0.391336   0.574564   \n",
       "christmas                             0.391336   1.000000  -0.016055   \n",
       "labor_day                             0.574564  -0.016055   1.000000   \n",
       "pre_christmas                        -0.039074  -0.015291  -0.022450   \n",
       "super_bowl                            0.561053  -0.015677  -0.023017   \n",
       "thanksgiving                          0.391336  -0.010935  -0.016055   \n",
       "\n",
       "                        pre_christmas  super_bowl  thanksgiving  \n",
       "this_week_sales              0.055363    0.000685     -0.010993  \n",
       "this_week_holiday_flag      -0.039074   -0.040060     -0.027942  \n",
       "this_week_unemployment       0.012790    0.020026      0.005933  \n",
       "store_size                  -0.007689    0.009634     -0.006232  \n",
       "next_week_1_year_ago         0.136609    0.012871      0.064786  \n",
       "next_week_sales_target       0.112758    0.015225      0.063746  \n",
       "next_week_holiday_flag      -0.039074    0.561053      0.391336  \n",
       "christmas                   -0.015291   -0.015677     -0.010935  \n",
       "labor_day                   -0.022450   -0.023017     -0.016055  \n",
       "pre_christmas                1.000000   -0.021923     -0.015291  \n",
       "super_bowl                  -0.021923    1.000000     -0.015677  \n",
       "thanksgiving                -0.015291   -0.015677      1.000000  "
      ]
     },
     "execution_count": 17,
     "metadata": {},
     "output_type": "execute_result"
    }
   ],
   "source": [
    "walmart = train.corr()\n",
    "walmart"
   ]
  },
  {
   "cell_type": "code",
   "execution_count": 18,
   "metadata": {},
   "outputs": [
    {
     "data": {
      "text/plain": [
       "next_week_sales_target    1.000000\n",
       "next_week_1_year_ago      0.986895\n",
       "this_week_sales           0.962765\n",
       "store_size                0.826692\n",
       "pre_christmas             0.112758\n",
       "thanksgiving              0.063746\n",
       "next_week_holiday_flag    0.035292\n",
       "super_bowl                0.015225\n",
       "christmas                 0.003227\n",
       "this_week_holiday_flag    0.000464\n",
       "labor_day                -0.002386\n",
       "this_week_unemployment   -0.123025\n",
       "Name: next_week_sales_target, dtype: float64"
      ]
     },
     "execution_count": 18,
     "metadata": {},
     "output_type": "execute_result"
    }
   ],
   "source": [
    "#this shows correlation with sales\n",
    "wal_corr = walmart['next_week_sales_target'].sort_values(ascending=False)\n",
    "wal_corr"
   ]
  },
  {
   "cell_type": "code",
   "execution_count": 19,
   "metadata": {},
   "outputs": [
    {
     "data": {
      "image/png": "[encoded data removed]",
      "text/plain": [
       "<Figure size 576x864 with 2 Axes>"
      ]
     },
     "metadata": {
      "needs_background": "light"
     },
     "output_type": "display_data"
    }
   ],
   "source": [
    "plt.figure(figsize=(8, 12))\n",
    "heatmap = sns.heatmap(df.corr()[['next_week_sales_target']].sort_values(by='next_week_sales_target', ascending=False), vmin=-1, vmax=1, annot=True, cmap='mako_r')\n",
    "heatmap.set_title('Features Correlating with weekly sales', fontdict={'fontsize':18}, pad=16);"
   ]
  },
  {
   "cell_type": "markdown",
   "metadata": {},
   "source": [
    "<hr style=\"border:2px solid black\"> </hr>"
   ]
  },
  {
   "cell_type": "markdown",
   "metadata": {},
   "source": [
    "## Hypothesis 1: Pearson's (cont vs cont)\n",
    "$H_0$: There is no correlation between next week sales and store_size\n",
    "\n",
    "$H_a$: There is a correlation between next week sales and store_size\n"
   ]
  },
  {
   "cell_type": "code",
   "execution_count": 20,
   "metadata": {},
   "outputs": [],
   "source": [
    "#pearsons correlation on entire train set\n",
    "#number of rows\n",
    "n = train.shape[0] \n",
    "\n",
    "#degrees of freedom- how much the data can vary\n",
    "deg_f = n-2 \n",
    "\n",
    "#confidence interval (!)\n",
    "conf_in = 0.95\n",
    "\n",
    "alpha = 1- conf_in"
   ]
  },
  {
   "cell_type": "code",
   "execution_count": 21,
   "metadata": {},
   "outputs": [],
   "source": [
    "x= train.next_week_sales_target\n",
    "y= train.store_size"
   ]
  },
  {
   "cell_type": "code",
   "execution_count": 22,
   "metadata": {},
   "outputs": [
    {
     "data": {
      "text/plain": [
       "(0.8266920637985677, 0.0)"
      ]
     },
     "execution_count": 22,
     "metadata": {},
     "output_type": "execute_result"
    }
   ],
   "source": [
    "r, p = stats.pearsonr(x,y)\n",
    "r,p"
   ]
  },
  {
   "cell_type": "code",
   "execution_count": 23,
   "metadata": {},
   "outputs": [
    {
     "data": {
      "text/plain": [
       "True"
      ]
     },
     "execution_count": 23,
     "metadata": {},
     "output_type": "execute_result"
    }
   ],
   "source": [
    "p < alpha"
   ]
  },
  {
   "cell_type": "code",
   "execution_count": 24,
   "metadata": {},
   "outputs": [
    {
     "name": "stdout",
     "output_type": "stream",
     "text": [
      "We calculate a pearson r of 0.826692 and a statistical certainty p of 0.000000\n",
      "Because p 0.000000 < α  0.050000, we can reject our null hypothesis\n"
     ]
    }
   ],
   "source": [
    "print(f'We calculate a pearson r of {r:3f} and a statistical certainty p of {p:4f}')\n",
    "print(f'Because p {p:4f} < α  {alpha:4f}, we can reject our null hypothesis')"
   ]
  },
  {
   "cell_type": "markdown",
   "metadata": {},
   "source": [
    "### Takeaways:\n",
    "- We rejected our null hypothesis, thus indicating that there is a correlation between next week sales and store size"
   ]
  },
  {
   "cell_type": "markdown",
   "metadata": {},
   "source": [
    "<hr style=\"border:2px solid black\"> </hr>"
   ]
  },
  {
   "cell_type": "markdown",
   "metadata": {},
   "source": [
    "## Hypothesis 2: Pearson's (cont vs cont)\n",
    "$H_0$: There is no correlation between this week sales and next week sales\n",
    "\n",
    "$H_a$: There is a correlation between this week sales and next week sales"
   ]
  },
  {
   "cell_type": "code",
   "execution_count": 25,
   "metadata": {},
   "outputs": [],
   "source": [
    "#pearsons correlation on entire train set\n",
    "#number of rows\n",
    "n = train.shape[0] \n",
    "\n",
    "#degrees of freedom- how much the data can vary\n",
    "deg_f = n-2 \n",
    "\n",
    "#confidence interval (!)\n",
    "conf_in = 0.95\n",
    "\n",
    "alpha = 1- conf_in\n",
    "\n",
    "x= train.next_week_sales_target\n",
    "y= train.this_week_sales"
   ]
  },
  {
   "cell_type": "code",
   "execution_count": 26,
   "metadata": {},
   "outputs": [
    {
     "data": {
      "text/plain": [
       "(0.9627654091073827, 0.0)"
      ]
     },
     "execution_count": 26,
     "metadata": {},
     "output_type": "execute_result"
    }
   ],
   "source": [
    "r, p = stats.pearsonr(x,y)\n",
    "r,p"
   ]
  },
  {
   "cell_type": "code",
   "execution_count": 27,
   "metadata": {},
   "outputs": [
    {
     "data": {
      "text/plain": [
       "True"
      ]
     },
     "execution_count": 27,
     "metadata": {},
     "output_type": "execute_result"
    }
   ],
   "source": [
    "p < alpha"
   ]
  },
  {
   "cell_type": "code",
   "execution_count": 28,
   "metadata": {},
   "outputs": [
    {
     "name": "stdout",
     "output_type": "stream",
     "text": [
      "We calculate a pearson r of 0.962765 and a statistical certainty p of 0.000000\n",
      "Because p 0.000000 < α  0.050000, we can reject our null hypothesis\n"
     ]
    }
   ],
   "source": [
    "print(f'We calculate a pearson r of {r:3f} and a statistical certainty p of {p:4f}')\n",
    "print(f'Because p {p:4f} < α  {alpha:4f}, we can reject our null hypothesis')"
   ]
  },
  {
   "cell_type": "markdown",
   "metadata": {},
   "source": [
    "### Takeaways:\n",
    "- We rejected our null hypothesis, thus indicating that there is a correlation between this week sales and next week sales."
   ]
  },
  {
   "cell_type": "markdown",
   "metadata": {},
   "source": [
    "<hr style=\"border:2px solid black\"> </hr>"
   ]
  },
  {
   "cell_type": "markdown",
   "metadata": {},
   "source": [
    "# Modeling"
   ]
  },
  {
   "cell_type": "code",
   "execution_count": 32,
   "metadata": {},
   "outputs": [
    {
     "data": {
      "text/plain": [
       "store_id                          object\n",
       "this_week_date            datetime64[ns]\n",
       "this_week_sales                  float64\n",
       "this_week_holiday_flag             int64\n",
       "this_week_unemployment           float64\n",
       "store_type                        object\n",
       "store_size                         int64\n",
       "next_week_1_year_ago             float64\n",
       "next_week_sales_target           float64\n",
       "next_week_date            datetime64[ns]\n",
       "next_week_holiday_flag           float64\n",
       "next_week_holiday_name            object\n",
       "christmas                          uint8\n",
       "labor_day                          uint8\n",
       "pre_christmas                      uint8\n",
       "super_bowl                         uint8\n",
       "thanksgiving                       uint8\n",
       "dtype: object"
      ]
     },
     "execution_count": 32,
     "metadata": {},
     "output_type": "execute_result"
    }
   ],
   "source": [
    "df.dtypes"
   ]
  },
  {
   "cell_type": "code",
   "execution_count": 37,
   "metadata": {},
   "outputs": [
    {
     "name": "stdout",
     "output_type": "stream",
     "text": [
      "train -> (4504, 17)\n",
      "test -> (1931, 17)\n"
     ]
    }
   ],
   "source": [
    "train, test, X_train, y_train, X_test, y_test = w.train_test(df,'next_week_sales_target')"
   ]
  },
  {
   "cell_type": "code",
   "execution_count": 34,
   "metadata": {},
   "outputs": [],
   "source": [
    "#train, test, X_train_scaled, X_test_scaled, y_train, y_test= w.split_scale(df, 'next_week_sales_target', scaler= MinMaxScaler())"
   ]
  },
  {
   "cell_type": "code",
   "execution_count": null,
   "metadata": {},
   "outputs": [],
   "source": [
    "#set features\n",
    "#we do not want to include all columns in this because it could cause overfitting\n",
    "features = ['store_size', 'this_week_unemployment', 'next_week_1_year_ago', 'this_week_sales', 'pre_christmas']"
   ]
  },
  {
   "cell_type": "code",
   "execution_count": null,
   "metadata": {},
   "outputs": [],
   "source": [
    "# We need y_train and y_validate to be dataframes to append the new columns with predicted values. \n",
    "y_train = pd.DataFrame({'actual': y_train})\n",
    "y_test = pd.DataFrame({'actual': y_test})"
   ]
  },
  {
   "cell_type": "markdown",
   "metadata": {},
   "source": [
    "## Baseline"
   ]
  },
  {
   "cell_type": "code",
   "execution_count": null,
   "metadata": {},
   "outputs": [],
   "source": [
    "#create the baseline using mean of all sales\n",
    "baseline= y_train['actual'].mean()"
   ]
  },
  {
   "cell_type": "code",
   "execution_count": null,
   "metadata": {},
   "outputs": [],
   "source": [
    "#create column called baseline to compare\n",
    "y_train['baseline'] = baseline"
   ]
  },
  {
   "cell_type": "code",
   "execution_count": null,
   "metadata": {},
   "outputs": [],
   "source": [
    "#calculate RMSE for baseline model\n",
    "rmse_baseline_train= math.sqrt(mean_squared_error(y_train.actual, y_train.baseline))"
   ]
  },
  {
   "cell_type": "code",
   "execution_count": null,
   "metadata": {},
   "outputs": [],
   "source": [
    "#create a dataframe to make data easier to visualize/understand\n",
    "metric_df = pd.DataFrame(data=[{\n",
    "    'model': \"Baseline (using mean)\",\n",
    "    'rmse_train': round(rmse_baseline_train, 2),\n",
    "    'r^2_validate': round(explained_variance_score(y_train.actual, y_train.baseline),4),\n",
    "\n",
    "}])\n",
    "\n",
    "metric_df"
   ]
  },
  {
   "cell_type": "markdown",
   "metadata": {},
   "source": [
    "## Baseline 2"
   ]
  },
  {
   "cell_type": "code",
   "execution_count": null,
   "metadata": {},
   "outputs": [],
   "source": [
    "#baseline version 2 using last years sales\n",
    "baseline2 = train['last_year_sales']"
   ]
  },
  {
   "cell_type": "code",
   "execution_count": null,
   "metadata": {},
   "outputs": [],
   "source": [
    "#prediction\n",
    "#create column called baseline to compare\n",
    "y_train['last_year_baseline'] = baseline2"
   ]
  },
  {
   "cell_type": "code",
   "execution_count": null,
   "metadata": {},
   "outputs": [],
   "source": [
    "#calculate RMSE for baseline model\n",
    "rmse_baseline2_train= math.sqrt(mean_squared_error(y_train.actual, y_train.last_year_baseline))"
   ]
  },
  {
   "cell_type": "code",
   "execution_count": null,
   "metadata": {},
   "outputs": [],
   "source": [
    "#create a dataframe to make data easier to visualize/understand\n",
    "metric_df = metric_df.append(\n",
    "    {\n",
    "    'model': \"Baseline (using last year's sales)\",\n",
    "    'rmse_train': round(rmse_baseline2_train, 2),\n",
    "    'r^2_validate': round(explained_variance_score(y_train.actual, y_train.last_year_baseline),4),\n",
    "    }, ignore_index=True)\n",
    "\n",
    "metric_df"
   ]
  },
  {
   "cell_type": "markdown",
   "metadata": {},
   "source": [
    "## OLS Model"
   ]
  },
  {
   "cell_type": "code",
   "execution_count": null,
   "metadata": {},
   "outputs": [],
   "source": [
    "#ordinary least squares\n",
    "#create the model \n",
    "model1 = LinearRegression(normalize=True)\n",
    "\n",
    "#fit the model\n",
    "model1.fit(X_train[features], y_train.actual)"
   ]
  },
  {
   "cell_type": "code",
   "execution_count": null,
   "metadata": {},
   "outputs": [],
   "source": [
    "# predict train\n",
    "y_train['sales_pred_lm'] = model1.predict(X_train[features])\n",
    "\n",
    "# evaluate: rmse\n",
    "rmse_train = mean_squared_error(y_train.actual, y_train.sales_pred_lm)**(1/2)"
   ]
  },
  {
   "cell_type": "code",
   "execution_count": null,
   "metadata": {},
   "outputs": [],
   "source": [
    "#create visual to see baseline vs LinearRegression model\n",
    "metric_df = metric_df.append(\n",
    "    {\n",
    "    'model': 'Model 1: OLS',\n",
    "    'rmse_train': round(rmse_train, 2),\n",
    "    'r^2_validate': round(explained_variance_score(y_train.actual, y_train.sales_pred_lm),4),\n",
    "    }, ignore_index=True)\n",
    "\n",
    "metric_df"
   ]
  },
  {
   "cell_type": "markdown",
   "metadata": {},
   "source": [
    "## Lasso Lars"
   ]
  },
  {
   "cell_type": "code",
   "execution_count": null,
   "metadata": {},
   "outputs": [],
   "source": [
    "# create the model object\n",
    "model2 = LassoLars(alpha= 2)\n",
    "\n",
    "# fit the model to our training data. We must specify the column in y_train, \n",
    "# since we have converted it to a dataframe from a series! \n",
    "model2.fit(X_train[features], y_train.actual)\n",
    "\n",
    "# predict train\n",
    "y_train['sales_pred_lars'] = model2.predict(X_train[features])\n",
    "\n",
    "# evaluate: rmse\n",
    "rmse_train = mean_squared_error(y_train.actual, y_train.sales_pred_lars)**(1/2)"
   ]
  },
  {
   "cell_type": "code",
   "execution_count": null,
   "metadata": {},
   "outputs": [],
   "source": [
    "#shows baseline vs LinearRegression vs LassoLars\n",
    "metric_df = metric_df.append(\n",
    "    {\n",
    "    'model': 'Model 2: LassoLars (alpha 2)',\n",
    "    'rmse_train': round(rmse_train,2),\n",
    "    'r^2_validate': round(explained_variance_score(y_train.actual, y_train.sales_pred_lars),4),\n",
    "    }, ignore_index=True)\n",
    "\n",
    "metric_df"
   ]
  },
  {
   "cell_type": "markdown",
   "metadata": {},
   "source": [
    "## Polynomial Regression"
   ]
  },
  {
   "cell_type": "code",
   "execution_count": null,
   "metadata": {},
   "outputs": [],
   "source": [
    "#make the polynomial features to get a new set of features\n",
    "model3 = PolynomialFeatures(degree=2)\n",
    "\n",
    "# fit and transform X_train_scaled features\n",
    "X_train_degree2 = model3.fit_transform(X_train[features])"
   ]
  },
  {
   "cell_type": "code",
   "execution_count": null,
   "metadata": {},
   "outputs": [],
   "source": [
    "#create the model\n",
    "lm2 = LinearRegression(normalize=True)\n",
    "\n",
    "#fit the mode\n",
    "lm2.fit(X_train_degree2, y_train.actual)\n",
    "\n",
    "#use the model\n",
    "y_train['sale_pred_lm2'] = lm2.predict(X_train_degree2)\n",
    "\n",
    "# evaluate: rmse\n",
    "rmse_train_model3 = mean_squared_error(y_train.actual, y_train.sale_pred_lm2) ** (1/2)"
   ]
  },
  {
   "cell_type": "code",
   "execution_count": null,
   "metadata": {},
   "outputs": [],
   "source": [
    "#shows baseline vs LinearRegression vs LassoLars\n",
    "metric_df = metric_df.append(\n",
    "    {\n",
    "    'model': 'Model 3: Polynomial Regression (degree=2)',\n",
    "    'rmse_train': round(rmse_train_model3,2),\n",
    "    'r^2_validate': round(explained_variance_score(y_train.actual, y_train.sale_pred_lm2),4),\n",
    "    }, ignore_index=True)\n",
    "\n",
    "metric_df"
   ]
  },
  {
   "cell_type": "markdown",
   "metadata": {},
   "source": [
    "### Takeaways\n",
    "- 2nd Degree Polynomial Regression model out performed the baseline (using last year's sales) by 26.79% on the train set"
   ]
  },
  {
   "cell_type": "markdown",
   "metadata": {},
   "source": [
    "<hr style=\"border:2px solid black\"> </hr>"
   ]
  },
  {
   "cell_type": "markdown",
   "metadata": {},
   "source": [
    "# Model on Scaled Data"
   ]
  },
  {
   "cell_type": "code",
   "execution_count": null,
   "metadata": {},
   "outputs": [],
   "source": [
    "df_new = new_wrangle.wrangle_walmart()\n",
    "train, test = new_wrangle.split_scale(df, 'weekly_sales')"
   ]
  },
  {
   "cell_type": "code",
   "execution_count": null,
   "metadata": {},
   "outputs": [],
   "source": [
    "train, test, X_train_scaled, X_test_scaled, y_train, y_test = new_wrangle.split_scale(df_new, \"weekly_sales\", scaler= MinMaxScaler())"
   ]
  },
  {
   "cell_type": "code",
   "execution_count": null,
   "metadata": {},
   "outputs": [],
   "source": []
  }
 ],
 "metadata": {
  "kernelspec": {
   "display_name": "Python 3",
   "language": "python",
   "name": "python3"
  },
  "language_info": {
   "codemirror_mode": {
    "name": "ipython",
    "version": 3
   },
   "file_extension": ".py",
   "mimetype": "text/x-python",
   "name": "python",
   "nbconvert_exporter": "python",
   "pygments_lexer": "ipython3",
   "version": "3.8.5"
  }
 },
 "nbformat": 4,
 "nbformat_minor": 4
}
