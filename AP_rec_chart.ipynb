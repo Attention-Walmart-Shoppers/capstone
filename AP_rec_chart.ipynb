{
 "cells": [
  {
   "cell_type": "markdown",
   "metadata": {},
   "source": [
    "# Predictions Chart"
   ]
  },
  {
   "cell_type": "code",
   "execution_count": 105,
   "metadata": {},
   "outputs": [],
   "source": [
    "import numpy as np\n",
    "import pandas as pd\n",
    "import matplotlib.pyplot as plt\n",
    "import seaborn as sns\n",
    "import statsmodels.api as sm\n",
    "import new_wrangle as w"
   ]
  },
  {
   "cell_type": "markdown",
   "metadata": {},
   "source": [
    "### Build train predictions df"
   ]
  },
  {
   "cell_type": "code",
   "execution_count": 52,
   "metadata": {},
   "outputs": [
    {
     "data": {
      "application/javascript": [
       "\n",
       "        if (window._pyforest_update_imports_cell) { window._pyforest_update_imports_cell('import pandas as pd'); }\n",
       "    "
      ],
      "text/plain": [
       "<IPython.core.display.Javascript object>"
      ]
     },
     "metadata": {},
     "output_type": "display_data"
    },
    {
     "data": {
      "text/html": [
       "<div>\n",
       "<style scoped>\n",
       "    .dataframe tbody tr th:only-of-type {\n",
       "        vertical-align: middle;\n",
       "    }\n",
       "\n",
       "    .dataframe tbody tr th {\n",
       "        vertical-align: top;\n",
       "    }\n",
       "\n",
       "    .dataframe thead th {\n",
       "        text-align: right;\n",
       "    }\n",
       "</style>\n",
       "<table border=\"1\" class=\"dataframe\">\n",
       "  <thead>\n",
       "    <tr style=\"text-align: right;\">\n",
       "      <th></th>\n",
       "      <th>id</th>\n",
       "      <th>pol3_RFE</th>\n",
       "    </tr>\n",
       "  </thead>\n",
       "  <tbody>\n",
       "    <tr>\n",
       "      <th>0</th>\n",
       "      <td>2011-09-16_store_12_2011-09-23</td>\n",
       "      <td>8.639851e+05</td>\n",
       "    </tr>\n",
       "    <tr>\n",
       "      <th>1</th>\n",
       "      <td>2012-08-10_store_4_2012-08-17</td>\n",
       "      <td>2.335937e+06</td>\n",
       "    </tr>\n",
       "    <tr>\n",
       "      <th>2</th>\n",
       "      <td>2011-12-09_store_27_2011-12-16</td>\n",
       "      <td>2.250538e+06</td>\n",
       "    </tr>\n",
       "    <tr>\n",
       "      <th>3</th>\n",
       "      <td>2011-12-30_store_1_2012-01-06</td>\n",
       "      <td>1.475400e+06</td>\n",
       "    </tr>\n",
       "    <tr>\n",
       "      <th>4</th>\n",
       "      <td>2012-08-31_store_43_2012-09-07</td>\n",
       "      <td>6.268589e+05</td>\n",
       "    </tr>\n",
       "  </tbody>\n",
       "</table>\n",
       "</div>"
      ],
      "text/plain": [
       "                               id      pol3_RFE\n",
       "0  2011-09-16_store_12_2011-09-23  8.639851e+05\n",
       "1   2012-08-10_store_4_2012-08-17  2.335937e+06\n",
       "2  2011-12-09_store_27_2011-12-16  2.250538e+06\n",
       "3   2011-12-30_store_1_2012-01-06  1.475400e+06\n",
       "4  2012-08-31_store_43_2012-09-07  6.268589e+05"
      ]
     },
     "execution_count": 52,
     "metadata": {},
     "output_type": "execute_result"
    }
   ],
   "source": [
    "# read in train predictions .csv\n",
    "train_pred = pd.read_csv('train_pred.csv')\n",
    "train_pred.head()"
   ]
  },
  {
   "cell_type": "code",
   "execution_count": 53,
   "metadata": {},
   "outputs": [],
   "source": [
    "train_pred['next_week_date'] = train_pred.id.str[-10:]"
   ]
  },
  {
   "cell_type": "code",
   "execution_count": 54,
   "metadata": {},
   "outputs": [],
   "source": [
    "# strip this_week_date and store from train predictions and put into column\n",
    "train_pred['this_week_date'] = train_pred.id.str[0:10]\n",
    "train_pred['store'] = train_pred.id.str[17:19]"
   ]
  },
  {
   "cell_type": "code",
   "execution_count": 55,
   "metadata": {},
   "outputs": [
    {
     "data": {
      "text/html": [
       "<div>\n",
       "<style scoped>\n",
       "    .dataframe tbody tr th:only-of-type {\n",
       "        vertical-align: middle;\n",
       "    }\n",
       "\n",
       "    .dataframe tbody tr th {\n",
       "        vertical-align: top;\n",
       "    }\n",
       "\n",
       "    .dataframe thead th {\n",
       "        text-align: right;\n",
       "    }\n",
       "</style>\n",
       "<table border=\"1\" class=\"dataframe\">\n",
       "  <thead>\n",
       "    <tr style=\"text-align: right;\">\n",
       "      <th></th>\n",
       "      <th>id</th>\n",
       "      <th>pol3_RFE</th>\n",
       "      <th>next_week_date</th>\n",
       "      <th>this_week_date</th>\n",
       "      <th>store</th>\n",
       "    </tr>\n",
       "  </thead>\n",
       "  <tbody>\n",
       "    <tr>\n",
       "      <th>0</th>\n",
       "      <td>2011-09-16_store_12_2011-09-23</td>\n",
       "      <td>8.639851e+05</td>\n",
       "      <td>2011-09-23</td>\n",
       "      <td>2011-09-16</td>\n",
       "      <td>12</td>\n",
       "    </tr>\n",
       "    <tr>\n",
       "      <th>1</th>\n",
       "      <td>2012-08-10_store_4_2012-08-17</td>\n",
       "      <td>2.335937e+06</td>\n",
       "      <td>2012-08-17</td>\n",
       "      <td>2012-08-10</td>\n",
       "      <td>4_</td>\n",
       "    </tr>\n",
       "    <tr>\n",
       "      <th>2</th>\n",
       "      <td>2011-12-09_store_27_2011-12-16</td>\n",
       "      <td>2.250538e+06</td>\n",
       "      <td>2011-12-16</td>\n",
       "      <td>2011-12-09</td>\n",
       "      <td>27</td>\n",
       "    </tr>\n",
       "    <tr>\n",
       "      <th>3</th>\n",
       "      <td>2011-12-30_store_1_2012-01-06</td>\n",
       "      <td>1.475400e+06</td>\n",
       "      <td>2012-01-06</td>\n",
       "      <td>2011-12-30</td>\n",
       "      <td>1_</td>\n",
       "    </tr>\n",
       "    <tr>\n",
       "      <th>4</th>\n",
       "      <td>2012-08-31_store_43_2012-09-07</td>\n",
       "      <td>6.268589e+05</td>\n",
       "      <td>2012-09-07</td>\n",
       "      <td>2012-08-31</td>\n",
       "      <td>43</td>\n",
       "    </tr>\n",
       "  </tbody>\n",
       "</table>\n",
       "</div>"
      ],
      "text/plain": [
       "                               id      pol3_RFE next_week_date this_week_date  \\\n",
       "0  2011-09-16_store_12_2011-09-23  8.639851e+05     2011-09-23     2011-09-16   \n",
       "1   2012-08-10_store_4_2012-08-17  2.335937e+06     2012-08-17     2012-08-10   \n",
       "2  2011-12-09_store_27_2011-12-16  2.250538e+06     2011-12-16     2011-12-09   \n",
       "3   2011-12-30_store_1_2012-01-06  1.475400e+06     2012-01-06     2011-12-30   \n",
       "4  2012-08-31_store_43_2012-09-07  6.268589e+05     2012-09-07     2012-08-31   \n",
       "\n",
       "  store  \n",
       "0    12  \n",
       "1    4_  \n",
       "2    27  \n",
       "3    1_  \n",
       "4    43  "
      ]
     },
     "execution_count": 55,
     "metadata": {},
     "output_type": "execute_result"
    }
   ],
   "source": [
    "train_pred.head()"
   ]
  },
  {
   "cell_type": "code",
   "execution_count": 63,
   "metadata": {},
   "outputs": [
    {
     "data": {
      "text/html": [
       "<div>\n",
       "<style scoped>\n",
       "    .dataframe tbody tr th:only-of-type {\n",
       "        vertical-align: middle;\n",
       "    }\n",
       "\n",
       "    .dataframe tbody tr th {\n",
       "        vertical-align: top;\n",
       "    }\n",
       "\n",
       "    .dataframe thead th {\n",
       "        text-align: right;\n",
       "    }\n",
       "</style>\n",
       "<table border=\"1\" class=\"dataframe\">\n",
       "  <thead>\n",
       "    <tr style=\"text-align: right;\">\n",
       "      <th></th>\n",
       "      <th>id</th>\n",
       "      <th>predictions</th>\n",
       "      <th>next_week_date</th>\n",
       "      <th>this_week_date</th>\n",
       "      <th>store</th>\n",
       "    </tr>\n",
       "  </thead>\n",
       "  <tbody>\n",
       "    <tr>\n",
       "      <th>0</th>\n",
       "      <td>2011-09-16_store_12_2011-09-23</td>\n",
       "      <td>8.639851e+05</td>\n",
       "      <td>2011-09-23</td>\n",
       "      <td>2011-09-16</td>\n",
       "      <td>12</td>\n",
       "    </tr>\n",
       "    <tr>\n",
       "      <th>1</th>\n",
       "      <td>2012-08-10_store_4_2012-08-17</td>\n",
       "      <td>2.335937e+06</td>\n",
       "      <td>2012-08-17</td>\n",
       "      <td>2012-08-10</td>\n",
       "      <td>4_</td>\n",
       "    </tr>\n",
       "    <tr>\n",
       "      <th>2</th>\n",
       "      <td>2011-12-09_store_27_2011-12-16</td>\n",
       "      <td>2.250538e+06</td>\n",
       "      <td>2011-12-16</td>\n",
       "      <td>2011-12-09</td>\n",
       "      <td>27</td>\n",
       "    </tr>\n",
       "    <tr>\n",
       "      <th>3</th>\n",
       "      <td>2011-12-30_store_1_2012-01-06</td>\n",
       "      <td>1.475400e+06</td>\n",
       "      <td>2012-01-06</td>\n",
       "      <td>2011-12-30</td>\n",
       "      <td>1_</td>\n",
       "    </tr>\n",
       "    <tr>\n",
       "      <th>4</th>\n",
       "      <td>2012-08-31_store_43_2012-09-07</td>\n",
       "      <td>6.268589e+05</td>\n",
       "      <td>2012-09-07</td>\n",
       "      <td>2012-08-31</td>\n",
       "      <td>43</td>\n",
       "    </tr>\n",
       "  </tbody>\n",
       "</table>\n",
       "</div>"
      ],
      "text/plain": [
       "                               id   predictions next_week_date this_week_date  \\\n",
       "0  2011-09-16_store_12_2011-09-23  8.639851e+05     2011-09-23     2011-09-16   \n",
       "1   2012-08-10_store_4_2012-08-17  2.335937e+06     2012-08-17     2012-08-10   \n",
       "2  2011-12-09_store_27_2011-12-16  2.250538e+06     2011-12-16     2011-12-09   \n",
       "3   2011-12-30_store_1_2012-01-06  1.475400e+06     2012-01-06     2011-12-30   \n",
       "4  2012-08-31_store_43_2012-09-07  6.268589e+05     2012-09-07     2012-08-31   \n",
       "\n",
       "  store  \n",
       "0    12  \n",
       "1    4_  \n",
       "2    27  \n",
       "3    1_  \n",
       "4    43  "
      ]
     },
     "execution_count": 63,
     "metadata": {},
     "output_type": "execute_result"
    }
   ],
   "source": [
    "train_pred = train_pred.rename(columns={'pol3_RFE':'predictions'})\n",
    "train_pred.head()"
   ]
  },
  {
   "cell_type": "markdown",
   "metadata": {},
   "source": [
    "### Build test predictions df"
   ]
  },
  {
   "cell_type": "code",
   "execution_count": 56,
   "metadata": {},
   "outputs": [
    {
     "data": {
      "application/javascript": [
       "\n",
       "        if (window._pyforest_update_imports_cell) { window._pyforest_update_imports_cell('import pandas as pd'); }\n",
       "    "
      ],
      "text/plain": [
       "<IPython.core.display.Javascript object>"
      ]
     },
     "metadata": {},
     "output_type": "display_data"
    }
   ],
   "source": [
    "# Read in test predictions .csv\n",
    "pred = pd.read_csv('pred_df.csv')"
   ]
  },
  {
   "cell_type": "code",
   "execution_count": 57,
   "metadata": {},
   "outputs": [],
   "source": [
    "# strip store from test predictions and put into column\n",
    "pred['store'] = pred.id.str[17:19]"
   ]
  },
  {
   "cell_type": "code",
   "execution_count": 58,
   "metadata": {},
   "outputs": [
    {
     "data": {
      "text/html": [
       "<div>\n",
       "<style scoped>\n",
       "    .dataframe tbody tr th:only-of-type {\n",
       "        vertical-align: middle;\n",
       "    }\n",
       "\n",
       "    .dataframe tbody tr th {\n",
       "        vertical-align: top;\n",
       "    }\n",
       "\n",
       "    .dataframe thead th {\n",
       "        text-align: right;\n",
       "    }\n",
       "</style>\n",
       "<table border=\"1\" class=\"dataframe\">\n",
       "  <thead>\n",
       "    <tr style=\"text-align: right;\">\n",
       "      <th></th>\n",
       "      <th>id</th>\n",
       "      <th>actual</th>\n",
       "      <th>test_polreg</th>\n",
       "      <th>this_week_date</th>\n",
       "      <th>next_week_date</th>\n",
       "      <th>store</th>\n",
       "    </tr>\n",
       "  </thead>\n",
       "  <tbody>\n",
       "    <tr>\n",
       "      <th>0</th>\n",
       "      <td>2011-03-18_store_7_2011-03-25</td>\n",
       "      <td>559061.58</td>\n",
       "      <td>5.527137e+05</td>\n",
       "      <td>2011-03-18</td>\n",
       "      <td>2011-03-25</td>\n",
       "      <td>7_</td>\n",
       "    </tr>\n",
       "    <tr>\n",
       "      <th>1</th>\n",
       "      <td>2012-10-19_store_41_2012-10-26</td>\n",
       "      <td>1316542.59</td>\n",
       "      <td>1.335390e+06</td>\n",
       "      <td>2012-10-19</td>\n",
       "      <td>2012-10-26</td>\n",
       "      <td>41</td>\n",
       "    </tr>\n",
       "    <tr>\n",
       "      <th>2</th>\n",
       "      <td>2012-02-17_store_36_2012-02-24</td>\n",
       "      <td>313270.45</td>\n",
       "      <td>3.505920e+05</td>\n",
       "      <td>2012-02-17</td>\n",
       "      <td>2012-02-24</td>\n",
       "      <td>36</td>\n",
       "    </tr>\n",
       "    <tr>\n",
       "      <th>3</th>\n",
       "      <td>2012-03-16_store_26_2012-03-23</td>\n",
       "      <td>874790.68</td>\n",
       "      <td>8.858348e+05</td>\n",
       "      <td>2012-03-16</td>\n",
       "      <td>2012-03-23</td>\n",
       "      <td>26</td>\n",
       "    </tr>\n",
       "    <tr>\n",
       "      <th>4</th>\n",
       "      <td>2012-03-02_store_43_2012-03-09</td>\n",
       "      <td>636677.67</td>\n",
       "      <td>6.678347e+05</td>\n",
       "      <td>2012-03-02</td>\n",
       "      <td>2012-03-09</td>\n",
       "      <td>43</td>\n",
       "    </tr>\n",
       "  </tbody>\n",
       "</table>\n",
       "</div>"
      ],
      "text/plain": [
       "                               id      actual   test_polreg this_week_date  \\\n",
       "0   2011-03-18_store_7_2011-03-25   559061.58  5.527137e+05     2011-03-18   \n",
       "1  2012-10-19_store_41_2012-10-26  1316542.59  1.335390e+06     2012-10-19   \n",
       "2  2012-02-17_store_36_2012-02-24   313270.45  3.505920e+05     2012-02-17   \n",
       "3  2012-03-16_store_26_2012-03-23   874790.68  8.858348e+05     2012-03-16   \n",
       "4  2012-03-02_store_43_2012-03-09   636677.67  6.678347e+05     2012-03-02   \n",
       "\n",
       "  next_week_date store  \n",
       "0     2011-03-25    7_  \n",
       "1     2012-10-26    41  \n",
       "2     2012-02-24    36  \n",
       "3     2012-03-23    26  \n",
       "4     2012-03-09    43  "
      ]
     },
     "execution_count": 58,
     "metadata": {},
     "output_type": "execute_result"
    }
   ],
   "source": [
    "pred.head()"
   ]
  },
  {
   "cell_type": "code",
   "execution_count": 65,
   "metadata": {},
   "outputs": [
    {
     "data": {
      "text/html": [
       "<div>\n",
       "<style scoped>\n",
       "    .dataframe tbody tr th:only-of-type {\n",
       "        vertical-align: middle;\n",
       "    }\n",
       "\n",
       "    .dataframe tbody tr th {\n",
       "        vertical-align: top;\n",
       "    }\n",
       "\n",
       "    .dataframe thead th {\n",
       "        text-align: right;\n",
       "    }\n",
       "</style>\n",
       "<table border=\"1\" class=\"dataframe\">\n",
       "  <thead>\n",
       "    <tr style=\"text-align: right;\">\n",
       "      <th></th>\n",
       "      <th>id</th>\n",
       "      <th>actual</th>\n",
       "      <th>predictions</th>\n",
       "      <th>this_week_date</th>\n",
       "      <th>next_week_date</th>\n",
       "      <th>store</th>\n",
       "    </tr>\n",
       "  </thead>\n",
       "  <tbody>\n",
       "    <tr>\n",
       "      <th>0</th>\n",
       "      <td>2011-03-18_store_7_2011-03-25</td>\n",
       "      <td>559061.58</td>\n",
       "      <td>5.527137e+05</td>\n",
       "      <td>2011-03-18</td>\n",
       "      <td>2011-03-25</td>\n",
       "      <td>7_</td>\n",
       "    </tr>\n",
       "    <tr>\n",
       "      <th>1</th>\n",
       "      <td>2012-10-19_store_41_2012-10-26</td>\n",
       "      <td>1316542.59</td>\n",
       "      <td>1.335390e+06</td>\n",
       "      <td>2012-10-19</td>\n",
       "      <td>2012-10-26</td>\n",
       "      <td>41</td>\n",
       "    </tr>\n",
       "    <tr>\n",
       "      <th>2</th>\n",
       "      <td>2012-02-17_store_36_2012-02-24</td>\n",
       "      <td>313270.45</td>\n",
       "      <td>3.505920e+05</td>\n",
       "      <td>2012-02-17</td>\n",
       "      <td>2012-02-24</td>\n",
       "      <td>36</td>\n",
       "    </tr>\n",
       "    <tr>\n",
       "      <th>3</th>\n",
       "      <td>2012-03-16_store_26_2012-03-23</td>\n",
       "      <td>874790.68</td>\n",
       "      <td>8.858348e+05</td>\n",
       "      <td>2012-03-16</td>\n",
       "      <td>2012-03-23</td>\n",
       "      <td>26</td>\n",
       "    </tr>\n",
       "    <tr>\n",
       "      <th>4</th>\n",
       "      <td>2012-03-02_store_43_2012-03-09</td>\n",
       "      <td>636677.67</td>\n",
       "      <td>6.678347e+05</td>\n",
       "      <td>2012-03-02</td>\n",
       "      <td>2012-03-09</td>\n",
       "      <td>43</td>\n",
       "    </tr>\n",
       "  </tbody>\n",
       "</table>\n",
       "</div>"
      ],
      "text/plain": [
       "                               id      actual   predictions this_week_date  \\\n",
       "0   2011-03-18_store_7_2011-03-25   559061.58  5.527137e+05     2011-03-18   \n",
       "1  2012-10-19_store_41_2012-10-26  1316542.59  1.335390e+06     2012-10-19   \n",
       "2  2012-02-17_store_36_2012-02-24   313270.45  3.505920e+05     2012-02-17   \n",
       "3  2012-03-16_store_26_2012-03-23   874790.68  8.858348e+05     2012-03-16   \n",
       "4  2012-03-02_store_43_2012-03-09   636677.67  6.678347e+05     2012-03-02   \n",
       "\n",
       "  next_week_date store  \n",
       "0     2011-03-25    7_  \n",
       "1     2012-10-26    41  \n",
       "2     2012-02-24    36  \n",
       "3     2012-03-23    26  \n",
       "4     2012-03-09    43  "
      ]
     },
     "execution_count": 65,
     "metadata": {},
     "output_type": "execute_result"
    }
   ],
   "source": [
    "pred = pred.rename(columns={'test_polreg':'predictions'})\n",
    "pred.head()"
   ]
  },
  {
   "cell_type": "code",
   "execution_count": 69,
   "metadata": {},
   "outputs": [],
   "source": [
    "test_chart = pred[['id', 'predictions','next_week_date', 'this_week_date', 'store']]"
   ]
  },
  {
   "cell_type": "code",
   "execution_count": 70,
   "metadata": {},
   "outputs": [
    {
     "data": {
      "text/html": [
       "<div>\n",
       "<style scoped>\n",
       "    .dataframe tbody tr th:only-of-type {\n",
       "        vertical-align: middle;\n",
       "    }\n",
       "\n",
       "    .dataframe tbody tr th {\n",
       "        vertical-align: top;\n",
       "    }\n",
       "\n",
       "    .dataframe thead th {\n",
       "        text-align: right;\n",
       "    }\n",
       "</style>\n",
       "<table border=\"1\" class=\"dataframe\">\n",
       "  <thead>\n",
       "    <tr style=\"text-align: right;\">\n",
       "      <th></th>\n",
       "      <th>id</th>\n",
       "      <th>predictions</th>\n",
       "      <th>next_week_date</th>\n",
       "      <th>this_week_date</th>\n",
       "      <th>store</th>\n",
       "    </tr>\n",
       "  </thead>\n",
       "  <tbody>\n",
       "    <tr>\n",
       "      <th>0</th>\n",
       "      <td>2011-03-18_store_7_2011-03-25</td>\n",
       "      <td>5.527137e+05</td>\n",
       "      <td>2011-03-25</td>\n",
       "      <td>2011-03-18</td>\n",
       "      <td>7_</td>\n",
       "    </tr>\n",
       "    <tr>\n",
       "      <th>1</th>\n",
       "      <td>2012-10-19_store_41_2012-10-26</td>\n",
       "      <td>1.335390e+06</td>\n",
       "      <td>2012-10-26</td>\n",
       "      <td>2012-10-19</td>\n",
       "      <td>41</td>\n",
       "    </tr>\n",
       "    <tr>\n",
       "      <th>2</th>\n",
       "      <td>2012-02-17_store_36_2012-02-24</td>\n",
       "      <td>3.505920e+05</td>\n",
       "      <td>2012-02-24</td>\n",
       "      <td>2012-02-17</td>\n",
       "      <td>36</td>\n",
       "    </tr>\n",
       "    <tr>\n",
       "      <th>3</th>\n",
       "      <td>2012-03-16_store_26_2012-03-23</td>\n",
       "      <td>8.858348e+05</td>\n",
       "      <td>2012-03-23</td>\n",
       "      <td>2012-03-16</td>\n",
       "      <td>26</td>\n",
       "    </tr>\n",
       "    <tr>\n",
       "      <th>4</th>\n",
       "      <td>2012-03-02_store_43_2012-03-09</td>\n",
       "      <td>6.678347e+05</td>\n",
       "      <td>2012-03-09</td>\n",
       "      <td>2012-03-02</td>\n",
       "      <td>43</td>\n",
       "    </tr>\n",
       "  </tbody>\n",
       "</table>\n",
       "</div>"
      ],
      "text/plain": [
       "                               id   predictions next_week_date this_week_date  \\\n",
       "0   2011-03-18_store_7_2011-03-25  5.527137e+05     2011-03-25     2011-03-18   \n",
       "1  2012-10-19_store_41_2012-10-26  1.335390e+06     2012-10-26     2012-10-19   \n",
       "2  2012-02-17_store_36_2012-02-24  3.505920e+05     2012-02-24     2012-02-17   \n",
       "3  2012-03-16_store_26_2012-03-23  8.858348e+05     2012-03-23     2012-03-16   \n",
       "4  2012-03-02_store_43_2012-03-09  6.678347e+05     2012-03-09     2012-03-02   \n",
       "\n",
       "  store  \n",
       "0    7_  \n",
       "1    41  \n",
       "2    36  \n",
       "3    26  \n",
       "4    43  "
      ]
     },
     "execution_count": 70,
     "metadata": {},
     "output_type": "execute_result"
    }
   ],
   "source": [
    "test_chart.head()"
   ]
  },
  {
   "cell_type": "markdown",
   "metadata": {},
   "source": [
    "### Separate out store 7 "
   ]
  },
  {
   "cell_type": "code",
   "execution_count": 93,
   "metadata": {},
   "outputs": [
    {
     "data": {
      "text/html": [
       "<div>\n",
       "<style scoped>\n",
       "    .dataframe tbody tr th:only-of-type {\n",
       "        vertical-align: middle;\n",
       "    }\n",
       "\n",
       "    .dataframe tbody tr th {\n",
       "        vertical-align: top;\n",
       "    }\n",
       "\n",
       "    .dataframe thead th {\n",
       "        text-align: right;\n",
       "    }\n",
       "</style>\n",
       "<table border=\"1\" class=\"dataframe\">\n",
       "  <thead>\n",
       "    <tr style=\"text-align: right;\">\n",
       "      <th></th>\n",
       "      <th>id</th>\n",
       "      <th>actual</th>\n",
       "      <th>predictions</th>\n",
       "      <th>this_week_date</th>\n",
       "      <th>next_week_date</th>\n",
       "      <th>store</th>\n",
       "    </tr>\n",
       "  </thead>\n",
       "  <tbody>\n",
       "    <tr>\n",
       "      <th>0</th>\n",
       "      <td>2011-03-18_store_7_2011-03-25</td>\n",
       "      <td>559061.58</td>\n",
       "      <td>552713.661347</td>\n",
       "      <td>2011-03-18</td>\n",
       "      <td>2011-03-25</td>\n",
       "      <td>7_</td>\n",
       "    </tr>\n",
       "    <tr>\n",
       "      <th>72</th>\n",
       "      <td>2012-02-17_store_7_2012-02-24</td>\n",
       "      <td>603041.14</td>\n",
       "      <td>580553.361942</td>\n",
       "      <td>2012-02-17</td>\n",
       "      <td>2012-02-24</td>\n",
       "      <td>7_</td>\n",
       "    </tr>\n",
       "    <tr>\n",
       "      <th>86</th>\n",
       "      <td>2011-07-08_store_7_2011-07-15</td>\n",
       "      <td>642748.21</td>\n",
       "      <td>666256.669885</td>\n",
       "      <td>2011-07-08</td>\n",
       "      <td>2011-07-15</td>\n",
       "      <td>7_</td>\n",
       "    </tr>\n",
       "    <tr>\n",
       "      <th>124</th>\n",
       "      <td>2011-12-30_store_7_2012-01-06</td>\n",
       "      <td>713117.66</td>\n",
       "      <td>707382.042026</td>\n",
       "      <td>2011-12-30</td>\n",
       "      <td>2012-01-06</td>\n",
       "      <td>7_</td>\n",
       "    </tr>\n",
       "    <tr>\n",
       "      <th>129</th>\n",
       "      <td>2011-02-04_store_7_2011-02-11</td>\n",
       "      <td>559903.13</td>\n",
       "      <td>546743.444445</td>\n",
       "      <td>2011-02-04</td>\n",
       "      <td>2011-02-11</td>\n",
       "      <td>7_</td>\n",
       "    </tr>\n",
       "  </tbody>\n",
       "</table>\n",
       "</div>"
      ],
      "text/plain": [
       "                                id     actual    predictions this_week_date  \\\n",
       "0    2011-03-18_store_7_2011-03-25  559061.58  552713.661347     2011-03-18   \n",
       "72   2012-02-17_store_7_2012-02-24  603041.14  580553.361942     2012-02-17   \n",
       "86   2011-07-08_store_7_2011-07-15  642748.21  666256.669885     2011-07-08   \n",
       "124  2011-12-30_store_7_2012-01-06  713117.66  707382.042026     2011-12-30   \n",
       "129  2011-02-04_store_7_2011-02-11  559903.13  546743.444445     2011-02-04   \n",
       "\n",
       "    next_week_date store  \n",
       "0       2011-03-25    7_  \n",
       "72      2012-02-24    7_  \n",
       "86      2011-07-15    7_  \n",
       "124     2012-01-06    7_  \n",
       "129     2011-02-11    7_  "
      ]
     },
     "execution_count": 93,
     "metadata": {},
     "output_type": "execute_result"
    }
   ],
   "source": [
    "pred7 = pred[pred.store=='7_']\n",
    "pred7.head()"
   ]
  },
  {
   "cell_type": "code",
   "execution_count": 94,
   "metadata": {},
   "outputs": [
    {
     "data": {
      "text/html": [
       "<div>\n",
       "<style scoped>\n",
       "    .dataframe tbody tr th:only-of-type {\n",
       "        vertical-align: middle;\n",
       "    }\n",
       "\n",
       "    .dataframe tbody tr th {\n",
       "        vertical-align: top;\n",
       "    }\n",
       "\n",
       "    .dataframe thead th {\n",
       "        text-align: right;\n",
       "    }\n",
       "</style>\n",
       "<table border=\"1\" class=\"dataframe\">\n",
       "  <thead>\n",
       "    <tr style=\"text-align: right;\">\n",
       "      <th></th>\n",
       "      <th>id</th>\n",
       "      <th>predictions</th>\n",
       "      <th>next_week_date</th>\n",
       "      <th>this_week_date</th>\n",
       "      <th>store</th>\n",
       "    </tr>\n",
       "  </thead>\n",
       "  <tbody>\n",
       "    <tr>\n",
       "      <th>1120</th>\n",
       "      <td>2011-02-11_store_7_2011-02-18</td>\n",
       "      <td>532297.451606</td>\n",
       "      <td>2011-02-18</td>\n",
       "      <td>2011-02-11</td>\n",
       "      <td>7_</td>\n",
       "    </tr>\n",
       "    <tr>\n",
       "      <th>2423</th>\n",
       "      <td>2011-02-18_store_7_2011-02-25</td>\n",
       "      <td>529855.803583</td>\n",
       "      <td>2011-02-25</td>\n",
       "      <td>2011-02-18</td>\n",
       "      <td>7_</td>\n",
       "    </tr>\n",
       "    <tr>\n",
       "      <th>1832</th>\n",
       "      <td>2011-03-04_store_7_2011-03-11</td>\n",
       "      <td>513422.821238</td>\n",
       "      <td>2011-03-11</td>\n",
       "      <td>2011-03-04</td>\n",
       "      <td>7_</td>\n",
       "    </tr>\n",
       "    <tr>\n",
       "      <th>2665</th>\n",
       "      <td>2011-03-11_store_7_2011-03-18</td>\n",
       "      <td>574263.894968</td>\n",
       "      <td>2011-03-18</td>\n",
       "      <td>2011-03-11</td>\n",
       "      <td>7_</td>\n",
       "    </tr>\n",
       "    <tr>\n",
       "      <th>2775</th>\n",
       "      <td>2011-04-01_store_7_2011-04-08</td>\n",
       "      <td>497572.231465</td>\n",
       "      <td>2011-04-08</td>\n",
       "      <td>2011-04-01</td>\n",
       "      <td>7_</td>\n",
       "    </tr>\n",
       "  </tbody>\n",
       "</table>\n",
       "</div>"
      ],
      "text/plain": [
       "                                 id    predictions next_week_date  \\\n",
       "1120  2011-02-11_store_7_2011-02-18  532297.451606     2011-02-18   \n",
       "2423  2011-02-18_store_7_2011-02-25  529855.803583     2011-02-25   \n",
       "1832  2011-03-04_store_7_2011-03-11  513422.821238     2011-03-11   \n",
       "2665  2011-03-11_store_7_2011-03-18  574263.894968     2011-03-18   \n",
       "2775  2011-04-01_store_7_2011-04-08  497572.231465     2011-04-08   \n",
       "\n",
       "     this_week_date store  \n",
       "1120     2011-02-11    7_  \n",
       "2423     2011-02-18    7_  \n",
       "1832     2011-03-04    7_  \n",
       "2665     2011-03-11    7_  \n",
       "2775     2011-04-01    7_  "
      ]
     },
     "execution_count": 94,
     "metadata": {},
     "output_type": "execute_result"
    }
   ],
   "source": [
    "train_pred7 = train_pred[train_pred.store=='7_'].sort_values(by='next_week_date') \n",
    "train_pred7.head()"
   ]
  },
  {
   "cell_type": "markdown",
   "metadata": {},
   "source": [
    "### Append both df's into 1"
   ]
  },
  {
   "cell_type": "code",
   "execution_count": 118,
   "metadata": {},
   "outputs": [],
   "source": [
    "pred = pred7.append(train_pred7)"
   ]
  },
  {
   "cell_type": "code",
   "execution_count": 119,
   "metadata": {},
   "outputs": [
    {
     "data": {
      "application/vnd.jupyter.widget-view+json": {
       "model_id": "ce85402cdf984e6188d3072032c2990a",
       "version_major": 2,
       "version_minor": 0
      },
      "text/plain": [
       "Button(description='Toggle Pandas/Lux', layout=Layout(top='5px', width='140px'), style=ButtonStyle())"
      ]
     },
     "metadata": {},
     "output_type": "display_data"
    },
    {
     "data": {
      "application/vnd.jupyter.widget-view+json": {
       "model_id": "8a3533f7673b47d1b4c38fea4c881d7e",
       "version_major": 2,
       "version_minor": 0
      },
      "text/plain": [
       "Output()"
      ]
     },
     "metadata": {},
     "output_type": "display_data"
    }
   ],
   "source": [
    "pred.sort_values(by='next_week_date') "
   ]
  },
  {
   "cell_type": "code",
   "execution_count": 137,
   "metadata": {},
   "outputs": [],
   "source": [
    "predc = pred.sort_values(by='next_week_date')"
   ]
  },
  {
   "cell_type": "code",
   "execution_count": 141,
   "metadata": {},
   "outputs": [],
   "source": [
    "predc['next_week_date'] = pd.to_datetime(predc.next_week_date)"
   ]
  },
  {
   "cell_type": "code",
   "execution_count": 153,
   "metadata": {},
   "outputs": [],
   "source": [
    "pred_2012 = predc[predc.next_week_date.dt.year == 2012]"
   ]
  },
  {
   "cell_type": "markdown",
   "metadata": {},
   "source": [
    "### Acquire actual sales df"
   ]
  },
  {
   "cell_type": "code",
   "execution_count": 106,
   "metadata": {},
   "outputs": [],
   "source": [
    "df = w.acquire_data()"
   ]
  },
  {
   "cell_type": "code",
   "execution_count": 107,
   "metadata": {},
   "outputs": [],
   "source": [
    "df['Date'] = pd.to_datetime(df.Date)"
   ]
  },
  {
   "cell_type": "code",
   "execution_count": 108,
   "metadata": {},
   "outputs": [],
   "source": [
    "df = df.set_index('Date').sort_index()"
   ]
  },
  {
   "cell_type": "code",
   "execution_count": 159,
   "metadata": {},
   "outputs": [
    {
     "data": {
      "application/vnd.jupyter.widget-view+json": {
       "model_id": "59cff006b5fe4e449d6d6803201aa26d",
       "version_major": 2,
       "version_minor": 0
      },
      "text/plain": [
       "Button(description='Toggle Pandas/Lux', layout=Layout(top='5px', width='140px'), style=ButtonStyle())"
      ]
     },
     "metadata": {},
     "output_type": "display_data"
    },
    {
     "data": {
      "application/vnd.jupyter.widget-view+json": {
       "model_id": "891ca29c33814a1a95e4a3cebe3cee5a",
       "version_major": 2,
       "version_minor": 0
      },
      "text/plain": [
       "Output()"
      ]
     },
     "metadata": {},
     "output_type": "display_data"
    }
   ],
   "source": [
    "df[df.Store==7]"
   ]
  },
  {
   "cell_type": "code",
   "execution_count": 156,
   "metadata": {},
   "outputs": [
    {
     "name": "stderr",
     "output_type": "stream",
     "text": [
      "No handles with labels found to put in legend.\n"
     ]
    },
    {
     "data": {
      "text/plain": [
       "Text(0.5, 1.0, 'Recommended Action')"
      ]
     },
     "execution_count": 156,
     "metadata": {},
     "output_type": "execute_result"
    },
    {
     "data": {
      "image/png": "[encoded data removed]",
      "text/plain": [
       "<Figure size 1152x576 with 1 Axes>"
      ]
     },
     "metadata": {
      "needs_background": "light"
     },
     "output_type": "display_data"
    }
   ],
   "source": [
    "plt.figure(figsize=(16,8))\n",
    "sns.lineplot(data=pred_2012, x=\"next_week_date\", y=\"predictions\")\n",
    "plt.legend()\n",
    "plt.xticks(rotation='vertical')\n",
    "plt.xlabel(\"Date\")\n",
    "plt.ylabel(\"Weekly Sales: Store 7\")\n",
    "plt.title(\"Recommended Action\")"
   ]
  },
  {
   "cell_type": "code",
   "execution_count": null,
   "metadata": {},
   "outputs": [],
   "source": []
  }
 ],
 "metadata": {
  "kernelspec": {
   "display_name": "Python 3",
   "language": "python",
   "name": "python3"
  },
  "language_info": {
   "codemirror_mode": {
    "name": "ipython",
    "version": 3
   },
   "file_extension": ".py",
   "mimetype": "text/x-python",
   "name": "python",
   "nbconvert_exporter": "python",
   "pygments_lexer": "ipython3",
   "version": "3.8.5"
  }
 },
 "nbformat": 4,
 "nbformat_minor": 4
}
