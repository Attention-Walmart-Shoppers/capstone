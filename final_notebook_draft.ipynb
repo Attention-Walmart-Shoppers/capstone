{
 "cells": [
  {
   "cell_type": "markdown",
   "metadata": {},
   "source": [
    "## Imports"
   ]
  },
  {
   "cell_type": "code",
   "execution_count": 54,
   "metadata": {},
   "outputs": [],
   "source": [
    "import pandas as pd\n",
    "import numpy as np\n",
    "from scipy import stats\n",
    "import math\n",
    "\n",
    "#visualization\n",
    "import matplotlib.pyplot as plt\n",
    "import seaborn as sns\n",
    "\n",
    "#custom modules\n",
    "import wrangle\n",
    "import new_wrangle\n",
    "import model as m\n",
    "\n",
    "#sklearn preprossing, clustering and modeling libraries\n",
    "from sklearn.preprocessing import MinMaxScaler, RobustScaler, StandardScaler\n",
    "from sklearn.impute import SimpleImputer\n",
    "from sklearn.feature_selection import RFE, SelectKBest, f_regression\n",
    "from sklearn.model_selection import train_test_split\n",
    "from sklearn.cluster import KMeans\n",
    "from sklearn.linear_model import LinearRegression, LassoLars, TweedieRegressor\n",
    "from sklearn.preprocessing import PolynomialFeatures\n",
    "from sklearn.cluster import KMeans\n",
    "from sklearn.metrics import mean_squared_error, explained_variance_score\n",
    "from sklearn.model_selection import cross_val_score\n",
    "\n",
    "#remove warnings\n",
    "import warnings\n",
    "warnings.filterwarnings(\"ignore\")"
   ]
  },
  {
   "cell_type": "markdown",
   "metadata": {},
   "source": [
    "## Color Palette Specs for Visualization"
   ]
  },
  {
   "cell_type": "code",
   "execution_count": 2,
   "metadata": {},
   "outputs": [
    {
     "data": {
      "text/html": [
       "<svg  width=\"385\" height=\"55\"><rect x=\"0\" y=\"0\" width=\"55\" height=\"55\" style=\"fill:#004c91;stroke-width:2;stroke:rgb(255,255,255)\"/><rect x=\"55\" y=\"0\" width=\"55\" height=\"55\" style=\"fill:#ffc220;stroke-width:2;stroke:rgb(255,255,255)\"/><rect x=\"110\" y=\"0\" width=\"55\" height=\"55\" style=\"fill:#f47321;stroke-width:2;stroke:rgb(255,255,255)\"/><rect x=\"165\" y=\"0\" width=\"55\" height=\"55\" style=\"fill:#367c2b;stroke-width:2;stroke:rgb(255,255,255)\"/><rect x=\"220\" y=\"0\" width=\"55\" height=\"55\" style=\"fill:#007dc6;stroke-width:2;stroke:rgb(255,255,255)\"/><rect x=\"275\" y=\"0\" width=\"55\" height=\"55\" style=\"fill:#76c043;stroke-width:2;stroke:rgb(255,255,255)\"/><rect x=\"330\" y=\"0\" width=\"55\" height=\"55\" style=\"fill:#78b9e7;stroke-width:2;stroke:rgb(255,255,255)\"/></svg>"
      ],
      "text/plain": [
       "[(0.0, 0.2980392156862745, 0.5686274509803921),\n",
       " (1.0, 0.7607843137254902, 0.12549019607843137),\n",
       " (0.9568627450980393, 0.45098039215686275, 0.12941176470588237),\n",
       " (0.21176470588235294, 0.48627450980392156, 0.16862745098039217),\n",
       " (0.0, 0.49019607843137253, 0.7764705882352941),\n",
       " (0.4627450980392157, 0.7529411764705882, 0.2627450980392157),\n",
       " (0.47058823529411764, 0.7254901960784313, 0.9058823529411765)]"
      ]
     },
     "execution_count": 2,
     "metadata": {},
     "output_type": "execute_result"
    }
   ],
   "source": [
    "walmart_palette_c = ['#004c91', '#007dc6', '#78b9e7', '#f47321', '#ffc220', '#367c2b', '#76c043']\n",
    "walmart_palette_d = ['#004c91', '#ffc220' , '#f47321', '#367c2b','#007dc6', '#76c043', '#78b9e7']\n",
    "sns.color_palette(walmart_palette_c)\n",
    "sns.set_palette(walmart_palette_d)\n",
    "sns.color_palette(walmart_palette_d)"
   ]
  },
  {
   "cell_type": "markdown",
   "metadata": {},
   "source": [
    "<hr style=\"border:2px solid blue\"> </hr>"
   ]
  },
  {
   "cell_type": "markdown",
   "metadata": {},
   "source": [
    "# Acquire"
   ]
  },
  {
   "cell_type": "markdown",
   "metadata": {},
   "source": [
    "<hr style=\"border:2px solid blue\"> </hr>"
   ]
  },
  {
   "cell_type": "code",
   "execution_count": 11,
   "metadata": {},
   "outputs": [],
   "source": [
    "# Import data\n",
    "df= new_wrangle.acquire_data()"
   ]
  },
  {
   "cell_type": "markdown",
   "metadata": {},
   "source": [
    "**Key Findings and Takeaways**:\n",
    "* Data sets provided in two .csv files that are merged into one dataframe for the project\n"
   ]
  },
  {
   "cell_type": "markdown",
   "metadata": {},
   "source": [
    "<hr style=\"border:2px solid blue\"> </hr>"
   ]
  },
  {
   "cell_type": "markdown",
   "metadata": {},
   "source": [
    "# Prepare"
   ]
  },
  {
   "cell_type": "markdown",
   "metadata": {},
   "source": [
    "<hr style=\"border:2px solid blue\"> </hr>"
   ]
  },
  {
   "cell_type": "code",
   "execution_count": 12,
   "metadata": {},
   "outputs": [],
   "source": [
    "# Execute preparation function\n",
    "data=new_wrangle.wrangle_walmart()"
   ]
  },
  {
   "cell_type": "markdown",
   "metadata": {},
   "source": [
    "**Key Findings and Takeaways**:\n",
    "* basic clean consisted of lowercasing features, renaming columns, converting selected dtypes appropriately, rounding decimals and converting date object into datetime \n",
    "* identified a handful of outliers based on store type and weekly sales data and decided to reclassify store type in accordance with prevailing weekly sales threshold\n",
    "* feature engineering:\n",
    "    * added feature labeling holiday by Date: Super Bowl, Labor Day, Thanksgiving and Christmas\n",
    "        * additional column created with dummy variables for the holidays\n",
    "        * pre_christmas feature was created to capture the Christmas holiday sales buildup two weeks prior\n",
    "    * created additional feature containing the following week's 52 week (1yr) weekly sales lookback by shifting up weekly sales by 51 periods\n",
    "    * created monthly and quarterly rolling window features in each observation for this_week_unemployment, fuel_prices & CPI features\n",
    "        * Additionally, created delta features for all above on a month-over-month and quarter-over-quarter basis\n",
    "            * each observation had the rolling window averages...look backs of 4 and 12 periods with percent change calculation\n",
    "    * created new index concating (current Date) + (store number) + (week+1 Date) features\n",
    "    * **Target**: weekly sales shifted back 1 time period to be regressed on observation features from previous week"
   ]
  },
  {
   "cell_type": "markdown",
   "metadata": {},
   "source": [
    "### Data Split"
   ]
  },
  {
   "cell_type": "code",
   "execution_count": 508,
   "metadata": {},
   "outputs": [
    {
     "name": "stdout",
     "output_type": "stream",
     "text": [
      "train -> (2866, 32)\n",
      "test -> (1229, 32)\n"
     ]
    }
   ],
   "source": [
    "train, test,  X_train_scaled, X_test_scaled, y_train, y_test = new_wrangle.split_scale(data, 'next_week_sales_target', scaler = MinMaxScaler())"
   ]
  },
  {
   "cell_type": "markdown",
   "metadata": {},
   "source": [
    "*** Iterative Feature Elimination due to Auto Correlation findings ***"
   ]
  },
  {
   "cell_type": "code",
   "execution_count": 78,
   "metadata": {},
   "outputs": [],
   "source": [
    "#features to drop before modeling due to autocorrelation:"
   ]
  },
  {
   "cell_type": "code",
   "execution_count": 507,
   "metadata": {},
   "outputs": [],
   "source": [
    "# col = ['this_week_unemployment', 'fuel_price', 'CPI', 'unemp_quarterly_rolling', 'fuel_quarterly_rolling', 'cpi_quarterly_rolling']"
   ]
  },
  {
   "cell_type": "code",
   "execution_count": 80,
   "metadata": {},
   "outputs": [],
   "source": [
    "X_train_scaled = X_train_scaled.drop(columns = col)\n",
    "X_test_scaled = X_test_scaled.drop(columns = col)"
   ]
  },
  {
   "cell_type": "markdown",
   "metadata": {},
   "source": [
    "<hr style=\"border:2px solid blue\"> </hr>"
   ]
  },
  {
   "cell_type": "markdown",
   "metadata": {},
   "source": [
    "# Explore"
   ]
  },
  {
   "cell_type": "markdown",
   "metadata": {},
   "source": [
    "<hr style=\"border:2px solid blue\"> </hr>"
   ]
  },
  {
   "cell_type": "code",
   "execution_count": 19,
   "metadata": {},
   "outputs": [
    {
     "data": {
      "text/plain": [
       "Index(['Store', 'Date', 'Weekly_Sales', 'Holiday_Flag', 'Temperature',\n",
       "       'Fuel_Price', 'CPI', 'Unemployment', 'Type', 'Size'],\n",
       "      dtype='object')"
      ]
     },
     "execution_count": 19,
     "metadata": {},
     "output_type": "execute_result"
    }
   ],
   "source": [
    "df.columns"
   ]
  },
  {
   "cell_type": "markdown",
   "metadata": {},
   "source": [
    "#### Bivariate Exploration"
   ]
  },
  {
   "cell_type": "code",
   "execution_count": 22,
   "metadata": {},
   "outputs": [
    {
     "data": {
      "text/plain": [
       "Text(0.5, 1.0, 'Store Type by Size')"
      ]
     },
     "execution_count": 22,
     "metadata": {},
     "output_type": "execute_result"
    },
    {
     "data": {
      "image/png": "[encoded data removed]",
      "text/plain": [
       "<Figure size 1008x432 with 1 Axes>"
      ]
     },
     "metadata": {
      "needs_background": "light"
     },
     "output_type": "display_data"
    }
   ],
   "source": [
    "#visualize store_type by store_size\n",
    "plt.figure(figsize=(14, 6))\n",
    "sns.boxplot(x='Type', y='Size', data=df)\n",
    "plt.title('Store Type by Size')"
   ]
  },
  {
   "cell_type": "markdown",
   "metadata": {},
   "source": [
    "***\n",
    "**Key Findings and Takeaways**:\n",
    "* Store type directly related to size\n",
    "    * anomalous observations in store types A & B appear more in line with store type C\n",
    "        * these were: store 3, store 5, store 33, store 36 \n",
    "        * instead of dropping, we decided to reclassify these and include them in our type C data\n",
    "***"
   ]
  },
  {
   "cell_type": "code",
   "execution_count": 32,
   "metadata": {},
   "outputs": [
    {
     "data": {
      "image/png": "[encoded data removed]",
      "text/plain": [
       "<Figure size 1008x432 with 1 Axes>"
      ]
     },
     "metadata": {
      "needs_background": "light"
     },
     "output_type": "display_data"
    }
   ],
   "source": [
    "plt.figure(figsize=(14,6))\n",
    "sns.boxplot(x= train['next_week_holiday_name'], y =train['next_week_sales_target'] )\n",
    "plt.title('Sales by Holiday')\n",
    "plt.show()"
   ]
  },
  {
   "cell_type": "markdown",
   "metadata": {},
   "source": [
    "***\n",
    "**Key Findings and Takeaways**:\n",
    "* Our Pre_Christmas & Thanksgiving sales appear to be strong sales drivers.  \n",
    "    * further investigation shows Thanksgiving sales are primarily driven by Black Friday specials\n",
    "    * after noticing a run up in sales leading into the Christmas week, we created an additional feature to capture this period\n",
    "        * the exploration above shows our pre_Christmas period being our strongest sales driver within these observations\n",
    "            * the Christmas tag was applied to the week ending after the Christmas holiday negating the holiday impact; unlike the Thanksgiving holiday where Black Friday occurs in the same week\n",
    "***"
   ]
  },
  {
   "cell_type": "markdown",
   "metadata": {},
   "source": [
    "## Hypothesis Testing"
   ]
  },
  {
   "cell_type": "markdown",
   "metadata": {},
   "source": [
    "### Hypothesis 1: Pearson's (cont vs cont)\n",
    "$H_0$: There is no correlation between this week sales and next week sales\n",
    "\n",
    "$H_a$: There is a correlation between this week sales and next week sales"
   ]
  },
  {
   "cell_type": "code",
   "execution_count": 491,
   "metadata": {},
   "outputs": [],
   "source": [
    "#pearsons correlation on entire train set\n",
    "#number of rows\n",
    "n = train.shape[0] \n",
    "\n",
    "#degrees of freedom- how much the data can vary\n",
    "deg_f = n-2 \n",
    "\n",
    "#confidence interval (!)\n",
    "conf_in = 0.95\n",
    "\n",
    "alpha = 1- conf_in\n",
    "\n",
    "x= train.next_week_sales_target\n",
    "y= train.this_week_sales"
   ]
  },
  {
   "cell_type": "code",
   "execution_count": 493,
   "metadata": {},
   "outputs": [
    {
     "data": {
      "text/plain": [
       "(0.9627654091073827, 0.0)"
      ]
     },
     "execution_count": 493,
     "metadata": {},
     "output_type": "execute_result"
    }
   ],
   "source": [
    "r, p = stats.pearsonr(x,y)\n",
    "r,p"
   ]
  },
  {
   "cell_type": "code",
   "execution_count": 496,
   "metadata": {},
   "outputs": [
    {
     "name": "stdout",
     "output_type": "stream",
     "text": [
      "We calculate a pearson r of 0.962765 and a statistical certainty p of 0.000000\n",
      "Because p 0.000000 < α  0.050000, we can reject our null hypothesis\n"
     ]
    }
   ],
   "source": [
    "print(f'We calculate a pearson r of {r:3f} and a statistical certainty p of {p:4f}')\n",
    "print(f'Because p {p:4f} < α  {alpha:4f}, we can reject our null hypothesis')"
   ]
  },
  {
   "cell_type": "markdown",
   "metadata": {},
   "source": [
    "### Hypothesis 2: Pearson's (cont vs cont)\n",
    "$H_0$: There is no correlation between this week sales and sales from the same period last year\n",
    "\n",
    "$H_a$: There is a correlation between this week sales and sales from the same period last year"
   ]
  },
  {
   "cell_type": "code",
   "execution_count": 29,
   "metadata": {},
   "outputs": [],
   "source": [
    "#pearsons correlation on entire train set\n",
    "#number of rows\n",
    "n = train.shape[0] \n",
    "\n",
    "#degrees of freedom- how much the data can vary\n",
    "deg_f = n-2 \n",
    "\n",
    "#confidence interval (!)\n",
    "conf_in = 0.95\n",
    "\n",
    "alpha = 1- conf_in"
   ]
  },
  {
   "cell_type": "code",
   "execution_count": 30,
   "metadata": {},
   "outputs": [],
   "source": [
    "x= train.next_week_sales_target\n",
    "y= train.next_week_1_year_ago"
   ]
  },
  {
   "cell_type": "code",
   "execution_count": 31,
   "metadata": {},
   "outputs": [
    {
     "data": {
      "text/plain": [
       "(0.9868949181448758, 0.0)"
      ]
     },
     "execution_count": 31,
     "metadata": {},
     "output_type": "execute_result"
    }
   ],
   "source": [
    "r, p = stats.pearsonr(x,y)\n",
    "r,p"
   ]
  },
  {
   "cell_type": "code",
   "execution_count": 495,
   "metadata": {},
   "outputs": [
    {
     "name": "stdout",
     "output_type": "stream",
     "text": [
      "We calculate a pearson r of 0.962765 and a statistical certainty p of 0.000000\n",
      "Because p 0.000000 < α  0.050000, we can reject our null hypothesis\n"
     ]
    }
   ],
   "source": [
    "print(f'We calculate a pearson r of {r:3f} and a statistical certainty p of {p:4f}')\n",
    "print(f'Because p {p:4f} < α  {alpha:4f}, we can reject our null hypothesis')"
   ]
  },
  {
   "cell_type": "markdown",
   "metadata": {},
   "source": [
    "## Hypothesis 3: T-Test (discrete vs cont)\n",
    "$H_0$: There is no relationship between this next_weeks_sales_target and pre_christmas\n",
    "\n",
    "$H_a$: There is a relationship between this next_weeks_sales_target and pre_christmas"
   ]
  },
  {
   "cell_type": "code",
   "execution_count": 498,
   "metadata": {},
   "outputs": [],
   "source": [
    "#pearsons correlation on entire train set\n",
    "#number of rows\n",
    "n = train.shape[0] \n",
    "\n",
    "#degrees of freedom- how much the data can vary\n",
    "deg_f = n-2 \n",
    "\n",
    "#confidence interval (!)\n",
    "conf_in = 0.95\n",
    "\n",
    "alpha = 1- conf_in"
   ]
  },
  {
   "cell_type": "code",
   "execution_count": 499,
   "metadata": {},
   "outputs": [],
   "source": [
    "x= train.next_week_sales_target\n",
    "y= train.next_week_1_year_ago"
   ]
  },
  {
   "cell_type": "code",
   "execution_count": 500,
   "metadata": {},
   "outputs": [
    {
     "data": {
      "text/plain": [
       "(0.9868949181448758, 0.0)"
      ]
     },
     "execution_count": 500,
     "metadata": {},
     "output_type": "execute_result"
    }
   ],
   "source": [
    "r, p = stats.pearsonr(x,y)\n",
    "r,p"
   ]
  },
  {
   "cell_type": "code",
   "execution_count": 501,
   "metadata": {},
   "outputs": [
    {
     "name": "stdout",
     "output_type": "stream",
     "text": [
      "We calculate a pearson r of 0.986895 and a statistical certainty p of 0.000000\n",
      "Because p 0.000000 < α  0.050000, we can reject our null hypothesis\n"
     ]
    }
   ],
   "source": [
    "print(f'We calculate a pearson r of {r:3f} and a statistical certainty p of {p:4f}')\n",
    "print(f'Because p {p:4f} < α  {alpha:4f}, we can reject our null hypothesis')"
   ]
  },
  {
   "cell_type": "markdown",
   "metadata": {},
   "source": [
    "***\n",
    "**Key Findings and Takeaways**:\n",
    "* These were all must haves.  \n",
    "    * If weekly sales observations were independent, there would be no common drivers to explore and build a regression model around that would enable us to forecast weekly sales one week in advance.  \n",
    "    * Additionally, establishing statistical significance in the relationship between our target and our pre_christmas feature enables us to model what our exploration clearly defined as our most significant source of seasonality\n",
    "    \n",
    "Given that the p values were all below 0.05, we have a project!\n",
    "***"
   ]
  },
  {
   "cell_type": "markdown",
   "metadata": {},
   "source": [
    "## Addressing Collinearity in our Engineered Features"
   ]
  },
  {
   "cell_type": "code",
   "execution_count": 505,
   "metadata": {},
   "outputs": [],
   "source": [
    "features = ['avgMoM_perc_unemp', 'avgQoQ_perc_unemp', 'unemp_quarterly_rolling', 'unemp_4wk_rolling']"
   ]
  },
  {
   "cell_type": "markdown",
   "metadata": {},
   "source": [
    "#### Testing for collinearity: engineered unemployment features"
   ]
  },
  {
   "cell_type": "code",
   "execution_count": 526,
   "metadata": {},
   "outputs": [
    {
     "name": "stdout",
     "output_type": "stream",
     "text": [
      "avgMoM_perc_unemp\n",
      "corr = 0.11873153740799805 p = 1.8166717802257522e-10\n",
      "--------------------\n",
      "avgQoQ_perc_unemp\n",
      "corr = 0.2433564341108011 p = 6.579108173578275e-40\n",
      "--------------------\n",
      "unemp_quarterly_rolling\n",
      "corr = 0.9977360709700867 p = 0.0\n",
      "--------------------\n",
      "unemp_4wk_rolling\n",
      "corr = 0.9992227600633485 p = 0.0\n",
      "--------------------\n",
      "avgMoM_perc_unemp\n",
      "corr = 0.10604337958130447 p = 1.2658573351640387e-08\n",
      "--------------------\n",
      "avgQoQ_perc_unemp\n",
      "corr = 0.23373773886646657 p = 7.272994610447444e-37\n",
      "--------------------\n",
      "unemp_quarterly_rolling\n",
      "corr = 0.9989372056608838 p = 0.0\n",
      "--------------------\n",
      "unemp_4wk_rolling\n",
      "corr = 1.0 p = 0.0\n",
      "--------------------\n",
      "avgMoM_perc_unemp  v avgQoQ_perc_unemp\n",
      "corr = 0.42015665946780695 p = 5.6977286731689004e-123\n"
     ]
    }
   ],
   "source": [
    "for i in features:\n",
    "\n",
    "    corr, p = stats.pearsonr(X_train_scaled.this_week_unemployment, X_train_scaled[i])\n",
    "    \n",
    "    print(i)\n",
    "    print(f'corr = {corr}', f'p = {p}')\n",
    "    print('--------------------')\n",
    "    \n",
    "for i in features:\n",
    "\n",
    "    corr, p = stats.pearsonr(X_train_scaled.unemp_4wk_rolling, X_train_scaled[i])\n",
    "    \n",
    "    print(i)\n",
    "    print(f'corr = {corr}', f'p = {p}')\n",
    "    print('--------------------')\n",
    "    \n",
    "corr, p = stats.pearsonr(X_train_scaled.avgMoM_perc_unemp, X_train_scaled.avgQoQ_perc_unemp)\n",
    "print('avgMoM_perc_unemp  v avgQoQ_perc_unemp')\n",
    "print(f'corr = {corr}', f'p = {p}')"
   ]
  },
  {
   "cell_type": "markdown",
   "metadata": {},
   "source": [
    "#### Testing for collinearity: engineered fuel price features"
   ]
  },
  {
   "cell_type": "code",
   "execution_count": 528,
   "metadata": {},
   "outputs": [
    {
     "name": "stdout",
     "output_type": "stream",
     "text": [
      "avgMoM_perc_unemp\n",
      "corr = 0.22536028121337226 p = 2.5256260190185553e-34\n",
      "--------------------\n",
      "avgQoQ_perc_unemp\n",
      "corr = 0.09390810320313459 p = 4.7458432357649683e-07\n",
      "--------------------\n",
      "unemp_quarterly_rolling\n",
      "corr = 0.18597504487007993 p = 1.0214846869681205e-23\n",
      "--------------------\n",
      "unemp_4wk_rolling\n",
      "corr = 0.19629356000602755 p = 2.754434456647883e-26\n",
      "--------------------\n",
      "avgMoM_perc_unemp\n",
      "corr = 0.24675601282713913 p = 5.126169336459605e-41\n",
      "--------------------\n",
      "avgQoQ_perc_unemp\n",
      "corr = 0.1231459052129015 p = 3.717131694914686e-11\n",
      "--------------------\n",
      "unemp_quarterly_rolling\n",
      "corr = 0.18199811813416877 p = 9.129155218510718e-23\n",
      "--------------------\n",
      "unemp_4wk_rolling\n",
      "corr = 0.19396902200089478 p = 1.0755548996707773e-25\n",
      "--------------------\n",
      "avgMoM_perc_fuel  v avgQoQ_perc_fuel\n",
      "corr = 0.20665753628119043 p = 5.139079719979966e-29\n"
     ]
    }
   ],
   "source": [
    "for i in features:\n",
    "\n",
    "    corr, p = stats.pearsonr(X_train_scaled.fuel_price, X_train_scaled[i])\n",
    "    \n",
    "    print(i)\n",
    "    print(f'corr = {corr}', f'p = {p}')\n",
    "    print('--------------------')\n",
    "    \n",
    "for i in features:\n",
    "\n",
    "    corr, p = stats.pearsonr(X_train_scaled.fuel_4wk_rolling, X_train_scaled[i])\n",
    "    \n",
    "    print(i)\n",
    "    print(f'corr = {corr}', f'p = {p}')\n",
    "    print('--------------------')\n",
    "    \n",
    "corr, p = stats.pearsonr(X_train_scaled.avgMoM_perc_fuel, X_train_scaled.avgQoQ_perc_fuel)\n",
    "print('avgMoM_perc_fuel  v avgQoQ_perc_fuel')\n",
    "print(f'corr = {corr}', f'p = {p}')"
   ]
  },
  {
   "cell_type": "markdown",
   "metadata": {},
   "source": [
    "#### Testing for collinearity: engineered CPI features"
   ]
  },
  {
   "cell_type": "code",
   "execution_count": 529,
   "metadata": {},
   "outputs": [
    {
     "name": "stdout",
     "output_type": "stream",
     "text": [
      "avgMoM_perc_unemp\n",
      "corr = -0.01421100374810581 p = 0.44695988982900486\n",
      "--------------------\n",
      "avgQoQ_perc_unemp\n",
      "corr = 0.03108345138763454 p = 0.0961664506928882\n",
      "--------------------\n",
      "unemp_quarterly_rolling\n",
      "corr = -0.26013655889011567 p = 1.5108315192425482e-45\n",
      "--------------------\n",
      "unemp_4wk_rolling\n",
      "corr = -0.25960211522026716 p = 2.3193146075530116e-45\n",
      "--------------------\n",
      "avgMoM_perc_unemp\n",
      "corr = -0.01421100374810581 p = 0.44695988982900486\n",
      "--------------------\n",
      "avgQoQ_perc_unemp\n",
      "corr = 0.03108345138763454 p = 0.0961664506928882\n",
      "--------------------\n",
      "unemp_quarterly_rolling\n",
      "corr = -0.26013655889011567 p = 1.5108315192425482e-45\n",
      "--------------------\n",
      "unemp_4wk_rolling\n",
      "corr = -0.25960211522026716 p = 2.3193146075530116e-45\n",
      "--------------------\n",
      "avgMoM_perc_cpi  v avgQoQ_perc_cpi\n",
      "corr = 0.16972298678073022 p = 5.767077223941276e-20\n"
     ]
    }
   ],
   "source": [
    "for i in features:\n",
    "\n",
    "    corr, p = stats.pearsonr(X_train_scaled.CPI, X_train_scaled[i])\n",
    "    \n",
    "    print(i)\n",
    "    print(f'corr = {corr}', f'p = {p}')\n",
    "    print('--------------------')\n",
    "    \n",
    "for i in features:\n",
    "\n",
    "    corr, p = stats.pearsonr(X_train_scaled.CPI, X_train_scaled[i])\n",
    "    \n",
    "    print(i)\n",
    "    print(f'corr = {corr}', f'p = {p}')\n",
    "    print('--------------------')\n",
    "    \n",
    "corr, p = stats.pearsonr(X_train_scaled.CPI, X_train_scaled.avgQoQ_perc_cpi)\n",
    "print('avgMoM_perc_cpi  v avgQoQ_perc_cpi')\n",
    "print(f'corr = {corr}', f'p = {p}')"
   ]
  },
  {
   "cell_type": "markdown",
   "metadata": {},
   "source": [
    "***\n",
    "Findings & Takeaways: unemployment\n",
    "* this_week_unemployment nearly perfectly correlated with rolling avgs; p value under 0.05, recommend dropping unemployment\n",
    "* rolling averages nearly perfectly correlated with each other; p value under 0.05, recommend dropping quarterlyrolling\n",
    "* deltas correlation co-efficient 0.42. p value under 0.05; is this correlation significant enough to drop?\n",
    "***\n",
    "\n",
    "***\n",
    "Findings & Takeaways: fuel price\n",
    "* fuel_price nearly perfectly correlated with rolling avgs; p value under 0.05, recommend dropping fuel_price\n",
    "* 4wk rolling has a 0.37 corr coefficient vs avgQoQ; p value under 0.05, is this threshold high enough to drop?\n",
    "* rolling averages strongly correlated with each other; p value under 0.05, recommend dropping quarterly rolling as 4wk captures both quarterly rolling and fuel price well\n",
    "* deltas correlation co-efficient 0.2; p value under 0.05, recommend keeping both\n",
    "***\n",
    "\n",
    "***\n",
    "Findings & Takeaways: CPI\n",
    "* CPI nearly perfectly correlated with rolling avgs; p value under 0.05, recommend dropping CPI\n",
    "* rolling averages nearly perfectly correlated with each other; p value under 0.05, recommend dropping quarterly rolling\n",
    "* deltas correlation co-efficient 0.25. p value under 0.05; is this correlation significant enough to drop?\n",
    "***"
   ]
  },
  {
   "cell_type": "markdown",
   "metadata": {},
   "source": [
    "<hr style=\"border:2px solid blue\"> </hr>"
   ]
  },
  {
   "cell_type": "markdown",
   "metadata": {},
   "source": [
    "# Modeling"
   ]
  },
  {
   "cell_type": "markdown",
   "metadata": {},
   "source": [
    "<hr style=\"border:2px solid blue\"> </hr>"
   ]
  },
  {
   "cell_type": "markdown",
   "metadata": {},
   "source": [
    "***\n",
    "**Summary Notes for modeling section**:\n",
    "    \n",
    "* **Scaler utilized** = MinMax()\n",
    "\n",
    "* **Baselines**: 1) weekly sales mean & 2) 52 week look back to previous year weekly sales ('next_week_1_year_ago')\n",
    "\n",
    "* **Algorithms utilized:**\n",
    "    - Linear Regression(OLS)\n",
    "    - Lasso Lars\n",
    "    - TweedieRegressor (GLM)\n",
    "    - Polynomial Regression\n",
    "\n",
    "For each model we used :\n",
    "\n",
    " - **GridSearchCV**: grid search cross-validation (GridSearchCV) for hyperparameter optimization.\n",
    " \n",
    "- **Feature Engineering:**\n",
    "\n",
    "   - **RFE :** (recursive feature elimination)  recursively removes attributes to meet the required number of features and then builds a model on those attributes that remain.\n",
    "   - **Select KBest:** removes all but the highest scoring features.\n",
    "***"
   ]
  },
  {
   "cell_type": "markdown",
   "metadata": {},
   "source": [
    "### Features"
   ]
  },
  {
   "cell_type": "code",
   "execution_count": 242,
   "metadata": {},
   "outputs": [],
   "source": [
    "# set model features\n",
    "features = ['store_size', 'this_week_unemployment', 'next_week_1_year_ago', 'this_week_sales', 'pre_christmas']"
   ]
  },
  {
   "cell_type": "markdown",
   "metadata": {},
   "source": [
    "### Y_train and Y_test"
   ]
  },
  {
   "cell_type": "code",
   "execution_count": 386,
   "metadata": {},
   "outputs": [],
   "source": [
    "# convert y_train y _ validate to df\n",
    "y_train_df = pd.DataFrame( {'actual': y_train})\n",
    "y_test_df = pd.DataFrame( {'actual': y_test})"
   ]
  },
  {
   "cell_type": "markdown",
   "metadata": {},
   "source": [
    "### Baseline 1 - (weekly sales mean)"
   ]
  },
  {
   "cell_type": "code",
   "execution_count": 387,
   "metadata": {},
   "outputs": [],
   "source": [
    "# create the baseline using mean of actual weekly sales\n",
    "baseline= y_train_df['actual'].mean()"
   ]
  },
  {
   "cell_type": "code",
   "execution_count": 388,
   "metadata": {},
   "outputs": [],
   "source": [
    "# create column called baseline to compare\n",
    "y_train_df['baseline'] = baseline"
   ]
  },
  {
   "cell_type": "code",
   "execution_count": 389,
   "metadata": {},
   "outputs": [],
   "source": [
    "# calculate RMSE for baseline model\n",
    "rmse_baseline_train= math.sqrt(mean_squared_error(y_train_df.actual, y_train_df.baseline))"
   ]
  },
  {
   "cell_type": "code",
   "execution_count": 390,
   "metadata": {},
   "outputs": [
    {
     "data": {
      "text/html": [
       "<div>\n",
       "<style scoped>\n",
       "    .dataframe tbody tr th:only-of-type {\n",
       "        vertical-align: middle;\n",
       "    }\n",
       "\n",
       "    .dataframe tbody tr th {\n",
       "        vertical-align: top;\n",
       "    }\n",
       "\n",
       "    .dataframe thead th {\n",
       "        text-align: right;\n",
       "    }\n",
       "</style>\n",
       "<table border=\"1\" class=\"dataframe\">\n",
       "  <thead>\n",
       "    <tr style=\"text-align: right;\">\n",
       "      <th></th>\n",
       "      <th>model</th>\n",
       "      <th>rmse_train</th>\n",
       "      <th>r^2_train</th>\n",
       "    </tr>\n",
       "  </thead>\n",
       "  <tbody>\n",
       "    <tr>\n",
       "      <th>0</th>\n",
       "      <td>Baseline (using mean)</td>\n",
       "      <td>558467.0491</td>\n",
       "      <td>0.0</td>\n",
       "    </tr>\n",
       "  </tbody>\n",
       "</table>\n",
       "</div>"
      ],
      "text/plain": [
       "                   model   rmse_train  r^2_train\n",
       "0  Baseline (using mean)  558467.0491        0.0"
      ]
     },
     "execution_count": 390,
     "metadata": {},
     "output_type": "execute_result"
    }
   ],
   "source": [
    "# create a dataframe to make data easier to visualize/understand\n",
    "metric_df = pd.DataFrame(data=[{\n",
    "    'model': \"Baseline (using mean)\",\n",
    "    'rmse_train': round(rmse_baseline_train, 4),\n",
    "    'r^2_train': round(explained_variance_score(y_train_df.actual, y_train_df.baseline), 4)\n",
    "\n",
    "}])\n",
    "\n",
    "round(metric_df, 4)"
   ]
  },
  {
   "cell_type": "markdown",
   "metadata": {},
   "source": [
    "### Baseline 2 - (prior year's weekly sales)"
   ]
  },
  {
   "cell_type": "code",
   "execution_count": 391,
   "metadata": {},
   "outputs": [],
   "source": [
    "# baseline using last years sales as predictions\n",
    "y_train_df['last_year_baseline'] = train['next_week_1_year_ago']"
   ]
  },
  {
   "cell_type": "code",
   "execution_count": 392,
   "metadata": {},
   "outputs": [],
   "source": [
    "# calculate RMSE for baseline 2 model\n",
    "rmse_baseline2_train= math.sqrt(mean_squared_error(y_train_df.actual, y_train_df.last_year_baseline))"
   ]
  },
  {
   "cell_type": "code",
   "execution_count": 393,
   "metadata": {},
   "outputs": [
    {
     "data": {
      "text/plain": [
       "91145.2822"
      ]
     },
     "execution_count": 393,
     "metadata": {},
     "output_type": "execute_result"
    }
   ],
   "source": [
    "# RMSE Baseline 2\n",
    "round(rmse_baseline2_train, 4)"
   ]
  },
  {
   "cell_type": "code",
   "execution_count": 394,
   "metadata": {},
   "outputs": [
    {
     "data": {
      "text/html": [
       "<div>\n",
       "<style scoped>\n",
       "    .dataframe tbody tr th:only-of-type {\n",
       "        vertical-align: middle;\n",
       "    }\n",
       "\n",
       "    .dataframe tbody tr th {\n",
       "        vertical-align: top;\n",
       "    }\n",
       "\n",
       "    .dataframe thead th {\n",
       "        text-align: right;\n",
       "    }\n",
       "</style>\n",
       "<table border=\"1\" class=\"dataframe\">\n",
       "  <thead>\n",
       "    <tr style=\"text-align: right;\">\n",
       "      <th></th>\n",
       "      <th>model</th>\n",
       "      <th>rmse_train</th>\n",
       "      <th>r^2_train</th>\n",
       "    </tr>\n",
       "  </thead>\n",
       "  <tbody>\n",
       "    <tr>\n",
       "      <th>0</th>\n",
       "      <td>Baseline (using mean)</td>\n",
       "      <td>558467.0491</td>\n",
       "      <td>0.0000</td>\n",
       "    </tr>\n",
       "    <tr>\n",
       "      <th>1</th>\n",
       "      <td>Baseline (using last year's sales)</td>\n",
       "      <td>91145.2800</td>\n",
       "      <td>0.9738</td>\n",
       "    </tr>\n",
       "  </tbody>\n",
       "</table>\n",
       "</div>"
      ],
      "text/plain": [
       "                                model   rmse_train  r^2_train\n",
       "0               Baseline (using mean)  558467.0491     0.0000\n",
       "1  Baseline (using last year's sales)   91145.2800     0.9738"
      ]
     },
     "execution_count": 394,
     "metadata": {},
     "output_type": "execute_result"
    }
   ],
   "source": [
    "# add Baseline 2 to our metric_df\n",
    "metric_df = metric_df.append(\n",
    "    {\n",
    "    'model': \"Baseline (using last year's sales)\",\n",
    "    'rmse_train': round(rmse_baseline2_train, 2),\n",
    "    'r^2_train': round(explained_variance_score(y_train_df.actual, y_train_df.last_year_baseline),4),\n",
    "    }, ignore_index=True)\n",
    "\n",
    "round((metric_df), 4)"
   ]
  },
  {
   "cell_type": "markdown",
   "metadata": {},
   "source": [
    "## MODEL 1: LinearRegression (OLS)"
   ]
  },
  {
   "cell_type": "markdown",
   "metadata": {},
   "source": [
    "###\n",
    "* ### Hyperparameter optimization with Gridsearch"
   ]
  },
  {
   "cell_type": "code",
   "execution_count": 395,
   "metadata": {},
   "outputs": [],
   "source": [
    "# specify the parameters we wish to use as a dictionary, then use that dictionary when we create the class.\n",
    "params = {'normalize': [ True, False],\n",
    "          'fit_intercept': [True, False]}"
   ]
  },
  {
   "cell_type": "code",
   "execution_count": 396,
   "metadata": {},
   "outputs": [
    {
     "data": {
      "text/html": [
       "<div>\n",
       "<style scoped>\n",
       "    .dataframe tbody tr th:only-of-type {\n",
       "        vertical-align: middle;\n",
       "    }\n",
       "\n",
       "    .dataframe tbody tr th {\n",
       "        vertical-align: top;\n",
       "    }\n",
       "\n",
       "    .dataframe thead th {\n",
       "        text-align: right;\n",
       "    }\n",
       "</style>\n",
       "<table border=\"1\" class=\"dataframe\">\n",
       "  <thead>\n",
       "    <tr style=\"text-align: right;\">\n",
       "      <th></th>\n",
       "      <th>fit_intercept</th>\n",
       "      <th>normalize</th>\n",
       "      <th>score</th>\n",
       "    </tr>\n",
       "  </thead>\n",
       "  <tbody>\n",
       "    <tr>\n",
       "      <th>2</th>\n",
       "      <td>False</td>\n",
       "      <td>True</td>\n",
       "      <td>-70244.1431</td>\n",
       "    </tr>\n",
       "    <tr>\n",
       "      <th>3</th>\n",
       "      <td>False</td>\n",
       "      <td>False</td>\n",
       "      <td>-70244.1431</td>\n",
       "    </tr>\n",
       "    <tr>\n",
       "      <th>1</th>\n",
       "      <td>True</td>\n",
       "      <td>False</td>\n",
       "      <td>-23556.5348</td>\n",
       "    </tr>\n",
       "    <tr>\n",
       "      <th>0</th>\n",
       "      <td>True</td>\n",
       "      <td>True</td>\n",
       "      <td>-23544.5912</td>\n",
       "    </tr>\n",
       "  </tbody>\n",
       "</table>\n",
       "</div>"
      ],
      "text/plain": [
       "   fit_intercept  normalize       score\n",
       "2          False       True -70244.1431\n",
       "3          False      False -70244.1431\n",
       "1           True      False -23556.5348\n",
       "0           True       True -23544.5912"
      ]
     },
     "execution_count": 396,
     "metadata": {},
     "output_type": "execute_result"
    }
   ],
   "source": [
    "# deploy gridsearch function using \n",
    "round(m.gridsearch(X_train_scaled, y_train_df, LinearRegression() , params, 'neg_root_mean_squared_error'), 4)"
   ]
  },
  {
   "cell_type": "markdown",
   "metadata": {},
   "source": [
    "###\n",
    "* ### Feature Selection using Select K Best"
   ]
  },
  {
   "cell_type": "code",
   "execution_count": 397,
   "metadata": {},
   "outputs": [
    {
     "data": {
      "text/plain": [
       "Index(['actual', 'baseline', 'last_year_baseline'], dtype='object')"
      ]
     },
     "execution_count": 397,
     "metadata": {},
     "output_type": "execute_result"
    }
   ],
   "source": [
    "y_train_df.columns"
   ]
  },
  {
   "cell_type": "code",
   "execution_count": 398,
   "metadata": {},
   "outputs": [
    {
     "name": "stdout",
     "output_type": "stream",
     "text": [
      "The top 10 selected feautures based on the SelectKBest class are: ['this_week_sales', 'temperature', 'store_size', 'next_week_1_year_ago', 'next_week_holiday_flag', 'pre_christmas', 'thanksgiving', 'cpi_4wk_rolling', 'unemp_4wk_rolling', 'avgQoQ_perc_unemp']\n"
     ]
    }
   ],
   "source": [
    "# using my function for SelectkBest\n",
    "top_sb = m.select_kbest(X_train_scaled, y_train, 10)"
   ]
  },
  {
   "cell_type": "code",
   "execution_count": 399,
   "metadata": {},
   "outputs": [
    {
     "data": {
      "text/plain": [
       "72474.379"
      ]
     },
     "execution_count": 399,
     "metadata": {},
     "output_type": "execute_result"
    }
   ],
   "source": [
    "# create the model and calculate RMSE\n",
    "ols_sb = m.create_model(X_train_scaled[top_sb], y_train_df, 'actual',\\\n",
    "                       LinearRegression(normalize=False,\\\n",
    "                        fit_intercept=True ), 'modelOLS' )\n",
    "round(ols_sb['rmse'], 4)"
   ]
  },
  {
   "cell_type": "markdown",
   "metadata": {},
   "source": [
    "#### cross validation"
   ]
  },
  {
   "cell_type": "code",
   "execution_count": 400,
   "metadata": {},
   "outputs": [
    {
     "data": {
      "text/plain": [
       "array([-72769.62947968, -73703.84102292, -73404.54496025])"
      ]
     },
     "execution_count": 400,
     "metadata": {},
     "output_type": "execute_result"
    }
   ],
   "source": [
    "# create the model\n",
    "clf = LinearRegression(normalize=True, fit_intercept=True )\n",
    "# cv = number of folds\n",
    "cross_val_score(clf, X_train_scaled[top_sb], y_train, cv=3, scoring = 'neg_root_mean_squared_error')"
   ]
  },
  {
   "cell_type": "code",
   "execution_count": 401,
   "metadata": {},
   "outputs": [],
   "source": [
    "# add the ols_sb model metrics to metric_df\n",
    "metric_df = metric_df.append(\n",
    "    {\n",
    "    'model': 'ols_sb',\n",
    "    'rmse_train': ols_sb['rmse'],    \n",
    "    'r^2' : ols_sb['r2']}, ignore_index=True)"
   ]
  },
  {
   "cell_type": "markdown",
   "metadata": {},
   "source": [
    "###\n",
    "* ### Feature Selection using  RFE"
   ]
  },
  {
   "cell_type": "code",
   "execution_count": 402,
   "metadata": {},
   "outputs": [
    {
     "name": "stdout",
     "output_type": "stream",
     "text": [
      "The top 10 selected feautures based on the the RFE class class are: ['this_week_sales', 'this_week_holiday_flag', 'store_size', 'next_week_1_year_ago', 'christmas', 'thanksgiving', 'unemp_4wk_rolling', 'avgMoM_perc_unemp', 'avgQoQ_perc_fuel', 'avgQoQ_perc_unemp']\n",
      "this_week_sales            1\n",
      "avgQoQ_perc_fuel           1\n",
      "avgMoM_perc_unemp          1\n",
      "unemp_4wk_rolling          1\n",
      "thanksgiving               1\n",
      "christmas                  1\n",
      "avgQoQ_perc_unemp          1\n",
      "next_week_1_year_ago       1\n",
      "store_size                 1\n",
      "this_week_holiday_flag     1\n",
      "avgMoM_perc_cpi            2\n",
      "labor_day                  3\n",
      "super_bowl                 4\n",
      "fuel_4wk_rolling           5\n",
      "next_week_holiday_flag     6\n",
      "pre_christmas              7\n",
      "avgMoM_perc_fuel           8\n",
      "avgQoQ_perc_cpi            9\n",
      "temperature               10\n",
      "cpi_4wk_rolling           11\n",
      "dtype: int64\n"
     ]
    }
   ],
   "source": [
    "# use the function to get RFE selected features\n",
    "top_rfe = m.select_rfe(X_train_scaled, y_train, 10,LinearRegression(normalize=True, fit_intercept=True ))"
   ]
  },
  {
   "cell_type": "code",
   "execution_count": 403,
   "metadata": {},
   "outputs": [
    {
     "data": {
      "text/plain": [
       "70339.0705"
      ]
     },
     "execution_count": 403,
     "metadata": {},
     "output_type": "execute_result"
    }
   ],
   "source": [
    "# create the model and calculate RMSE\n",
    "ols_rfe = m.create_model(X_train_scaled[top_rfe], y_train_df, 'actual', LinearRegression(normalize=True, fit_intercept=True ), 'modelOLS' )\n",
    "round(ols_rfe['rmse'], 4)"
   ]
  },
  {
   "cell_type": "markdown",
   "metadata": {},
   "source": [
    "#### cross validation"
   ]
  },
  {
   "cell_type": "code",
   "execution_count": 404,
   "metadata": {},
   "outputs": [
    {
     "data": {
      "text/plain": [
       "array([-70080.50217941, -71528.662538  , -71789.27133027])"
      ]
     },
     "execution_count": 404,
     "metadata": {},
     "output_type": "execute_result"
    }
   ],
   "source": [
    "# create the model\n",
    "clf = LinearRegression(normalize=True, fit_intercept=True )\n",
    "# cv = number of folds\n",
    "cross_val_score(clf, X_train_scaled[top_rfe], y_train, cv=3, scoring = 'neg_root_mean_squared_error')"
   ]
  },
  {
   "cell_type": "code",
   "execution_count": 405,
   "metadata": {},
   "outputs": [],
   "source": [
    "# add the ols_rfe model metrics to metric_df\n",
    "metric_df = metric_df.append(\n",
    "    {\n",
    "    'model': 'ols_rfe',\n",
    "    'rmse_train': ols_rfe['rmse'],    \n",
    "    'r^2' : ols_rfe['r2']}, ignore_index=True)"
   ]
  },
  {
   "cell_type": "markdown",
   "metadata": {},
   "source": [
    "## MODEL 2: LassoLars"
   ]
  },
  {
   "cell_type": "markdown",
   "metadata": {},
   "source": [
    "###\n",
    "* ### Hyperparameter optimization with Gridsearch"
   ]
  },
  {
   "cell_type": "code",
   "execution_count": 406,
   "metadata": {},
   "outputs": [],
   "source": [
    "# specify the parameters we wish to use as a dictionary, then use that dictionary when we create the class.\n",
    "params = {\n",
    "          'normalize': [True, False],\n",
    "          'fit_intercept':[True, False],\n",
    "           'alpha': [1.0, 0]\n",
    "         }"
   ]
  },
  {
   "cell_type": "code",
   "execution_count": 407,
   "metadata": {},
   "outputs": [
    {
     "data": {
      "text/html": [
       "<div>\n",
       "<style scoped>\n",
       "    .dataframe tbody tr th:only-of-type {\n",
       "        vertical-align: middle;\n",
       "    }\n",
       "\n",
       "    .dataframe tbody tr th {\n",
       "        vertical-align: top;\n",
       "    }\n",
       "\n",
       "    .dataframe thead th {\n",
       "        text-align: right;\n",
       "    }\n",
       "</style>\n",
       "<table border=\"1\" class=\"dataframe\">\n",
       "  <thead>\n",
       "    <tr style=\"text-align: right;\">\n",
       "      <th></th>\n",
       "      <th>alpha</th>\n",
       "      <th>fit_intercept</th>\n",
       "      <th>normalize</th>\n",
       "      <th>score</th>\n",
       "    </tr>\n",
       "  </thead>\n",
       "  <tbody>\n",
       "    <tr>\n",
       "      <th>6</th>\n",
       "      <td>0.0</td>\n",
       "      <td>False</td>\n",
       "      <td>True</td>\n",
       "      <td>-78124.1829</td>\n",
       "    </tr>\n",
       "    <tr>\n",
       "      <th>7</th>\n",
       "      <td>0.0</td>\n",
       "      <td>False</td>\n",
       "      <td>False</td>\n",
       "      <td>-78124.1829</td>\n",
       "    </tr>\n",
       "    <tr>\n",
       "      <th>2</th>\n",
       "      <td>1.0</td>\n",
       "      <td>False</td>\n",
       "      <td>True</td>\n",
       "      <td>-78123.7660</td>\n",
       "    </tr>\n",
       "    <tr>\n",
       "      <th>3</th>\n",
       "      <td>1.0</td>\n",
       "      <td>False</td>\n",
       "      <td>False</td>\n",
       "      <td>-78123.7660</td>\n",
       "    </tr>\n",
       "    <tr>\n",
       "      <th>5</th>\n",
       "      <td>0.0</td>\n",
       "      <td>True</td>\n",
       "      <td>False</td>\n",
       "      <td>-70665.2292</td>\n",
       "    </tr>\n",
       "    <tr>\n",
       "      <th>4</th>\n",
       "      <td>0.0</td>\n",
       "      <td>True</td>\n",
       "      <td>True</td>\n",
       "      <td>-70665.2292</td>\n",
       "    </tr>\n",
       "    <tr>\n",
       "      <th>1</th>\n",
       "      <td>1.0</td>\n",
       "      <td>True</td>\n",
       "      <td>False</td>\n",
       "      <td>-70664.4245</td>\n",
       "    </tr>\n",
       "    <tr>\n",
       "      <th>0</th>\n",
       "      <td>1.0</td>\n",
       "      <td>True</td>\n",
       "      <td>True</td>\n",
       "      <td>-70657.4154</td>\n",
       "    </tr>\n",
       "  </tbody>\n",
       "</table>\n",
       "</div>"
      ],
      "text/plain": [
       "   alpha  fit_intercept  normalize       score\n",
       "6    0.0          False       True -78124.1829\n",
       "7    0.0          False      False -78124.1829\n",
       "2    1.0          False       True -78123.7660\n",
       "3    1.0          False      False -78123.7660\n",
       "5    0.0           True      False -70665.2292\n",
       "4    0.0           True       True -70665.2292\n",
       "1    1.0           True      False -70664.4245\n",
       "0    1.0           True       True -70657.4154"
      ]
     },
     "execution_count": 407,
     "metadata": {},
     "output_type": "execute_result"
    }
   ],
   "source": [
    "# use the function to get the combinations of parameters\n",
    "round(m.gridsearch (X_train_scaled, y_train, LassoLars() , params, 'neg_root_mean_squared_error'), 4)"
   ]
  },
  {
   "cell_type": "markdown",
   "metadata": {},
   "source": [
    "###\n",
    "* ### Feature Selection using Select K Best"
   ]
  },
  {
   "cell_type": "code",
   "execution_count": 408,
   "metadata": {},
   "outputs": [
    {
     "name": "stdout",
     "output_type": "stream",
     "text": [
      "The top 9 selected feautures based on the SelectKBest class are: ['this_week_sales', 'temperature', 'store_size', 'next_week_1_year_ago', 'next_week_holiday_flag', 'pre_christmas', 'thanksgiving', 'cpi_4wk_rolling', 'unemp_4wk_rolling']\n"
     ]
    }
   ],
   "source": [
    "# using my function for SelectkBest\n",
    "top_sb =m.select_kbest(X_train_scaled, y_train, 9)"
   ]
  },
  {
   "cell_type": "code",
   "execution_count": 409,
   "metadata": {},
   "outputs": [
    {
     "data": {
      "text/plain": [
       "73370.09"
      ]
     },
     "execution_count": 409,
     "metadata": {},
     "output_type": "execute_result"
    }
   ],
   "source": [
    "# create the model and calculate RMSE\n",
    "lasso_skb = m.create_model(X_train_scaled[top_sb], y_train_df, 'actual', LassoLars(alpha = 1, normalize= True, fit_intercept= True), 'modelLasso' )\n",
    "round(lasso_skb['rmse'], 2)"
   ]
  },
  {
   "cell_type": "markdown",
   "metadata": {},
   "source": [
    "### cross validation"
   ]
  },
  {
   "cell_type": "code",
   "execution_count": 410,
   "metadata": {},
   "outputs": [
    {
     "data": {
      "text/plain": [
       "array([-74045.96153329, -74430.52250561, -74022.31451342])"
      ]
     },
     "execution_count": 410,
     "metadata": {},
     "output_type": "execute_result"
    }
   ],
   "source": [
    "# create the model\n",
    "clf = LassoLars(alpha = 1, normalize= False, fit_intercept= True)\n",
    "# cv = number of folds\n",
    "cross= cross_val_score(clf, X_train_scaled[top_sb], y_train, cv=3, scoring = 'neg_root_mean_squared_error')\n",
    "cross"
   ]
  },
  {
   "cell_type": "code",
   "execution_count": 411,
   "metadata": {},
   "outputs": [],
   "source": [
    "# add the lasso_skb model metrics to metric_df\n",
    "metric_df = metric_df.append(\n",
    "    {\n",
    "    'model': 'lasso_skb',\n",
    "    'rmse_train': lasso_skb['rmse'],    \n",
    "    'r^2' : lasso_skb['r2']}, ignore_index=True)"
   ]
  },
  {
   "cell_type": "markdown",
   "metadata": {},
   "source": [
    "###\n",
    "* ### Feature Selection using  RFE"
   ]
  },
  {
   "cell_type": "code",
   "execution_count": 412,
   "metadata": {},
   "outputs": [
    {
     "name": "stdout",
     "output_type": "stream",
     "text": [
      "The top 8 selected feautures based on the the RFE class class are: ['this_week_sales', 'this_week_holiday_flag', 'store_size', 'next_week_1_year_ago', 'christmas', 'thanksgiving', 'unemp_4wk_rolling', 'avgQoQ_perc_unemp']\n",
      "this_week_sales            1\n",
      "unemp_4wk_rolling          1\n",
      "thanksgiving               1\n",
      "christmas                  1\n",
      "avgQoQ_perc_unemp          1\n",
      "store_size                 1\n",
      "this_week_holiday_flag     1\n",
      "next_week_1_year_ago       1\n",
      "avgQoQ_perc_fuel           2\n",
      "avgMoM_perc_unemp          3\n",
      "avgMoM_perc_cpi            4\n",
      "next_week_holiday_flag     5\n",
      "fuel_4wk_rolling           6\n",
      "avgMoM_perc_fuel           7\n",
      "pre_christmas              8\n",
      "labor_day                  9\n",
      "avgQoQ_perc_cpi           10\n",
      "cpi_4wk_rolling           11\n",
      "temperature               12\n",
      "super_bowl                13\n",
      "dtype: int64\n"
     ]
    }
   ],
   "source": [
    "# get the top 8 features\n",
    "top_rfe = m.select_rfe(X_train_scaled, y_train, 8, LassoLars(alpha = 1, normalize= True, fit_intercept= True) )"
   ]
  },
  {
   "cell_type": "code",
   "execution_count": 413,
   "metadata": {},
   "outputs": [
    {
     "data": {
      "text/html": [
       "<div>\n",
       "<style scoped>\n",
       "    .dataframe tbody tr th:only-of-type {\n",
       "        vertical-align: middle;\n",
       "    }\n",
       "\n",
       "    .dataframe tbody tr th {\n",
       "        vertical-align: top;\n",
       "    }\n",
       "\n",
       "    .dataframe thead th {\n",
       "        text-align: right;\n",
       "    }\n",
       "</style>\n",
       "<table border=\"1\" class=\"dataframe\">\n",
       "  <thead>\n",
       "    <tr style=\"text-align: right;\">\n",
       "      <th></th>\n",
       "      <th>alpha</th>\n",
       "      <th>fit_intercept</th>\n",
       "      <th>normalize</th>\n",
       "      <th>score</th>\n",
       "    </tr>\n",
       "  </thead>\n",
       "  <tbody>\n",
       "    <tr>\n",
       "      <th>6</th>\n",
       "      <td>0.0</td>\n",
       "      <td>False</td>\n",
       "      <td>True</td>\n",
       "      <td>-78124.1829</td>\n",
       "    </tr>\n",
       "    <tr>\n",
       "      <th>7</th>\n",
       "      <td>0.0</td>\n",
       "      <td>False</td>\n",
       "      <td>False</td>\n",
       "      <td>-78124.1829</td>\n",
       "    </tr>\n",
       "    <tr>\n",
       "      <th>2</th>\n",
       "      <td>1.0</td>\n",
       "      <td>False</td>\n",
       "      <td>True</td>\n",
       "      <td>-78123.7660</td>\n",
       "    </tr>\n",
       "    <tr>\n",
       "      <th>3</th>\n",
       "      <td>1.0</td>\n",
       "      <td>False</td>\n",
       "      <td>False</td>\n",
       "      <td>-78123.7660</td>\n",
       "    </tr>\n",
       "    <tr>\n",
       "      <th>5</th>\n",
       "      <td>0.0</td>\n",
       "      <td>True</td>\n",
       "      <td>False</td>\n",
       "      <td>-70665.2292</td>\n",
       "    </tr>\n",
       "    <tr>\n",
       "      <th>4</th>\n",
       "      <td>0.0</td>\n",
       "      <td>True</td>\n",
       "      <td>True</td>\n",
       "      <td>-70665.2292</td>\n",
       "    </tr>\n",
       "    <tr>\n",
       "      <th>1</th>\n",
       "      <td>1.0</td>\n",
       "      <td>True</td>\n",
       "      <td>False</td>\n",
       "      <td>-70664.4245</td>\n",
       "    </tr>\n",
       "    <tr>\n",
       "      <th>0</th>\n",
       "      <td>1.0</td>\n",
       "      <td>True</td>\n",
       "      <td>True</td>\n",
       "      <td>-70657.4154</td>\n",
       "    </tr>\n",
       "  </tbody>\n",
       "</table>\n",
       "</div>"
      ],
      "text/plain": [
       "   alpha  fit_intercept  normalize       score\n",
       "6    0.0          False       True -78124.1829\n",
       "7    0.0          False      False -78124.1829\n",
       "2    1.0          False       True -78123.7660\n",
       "3    1.0          False      False -78123.7660\n",
       "5    0.0           True      False -70665.2292\n",
       "4    0.0           True       True -70665.2292\n",
       "1    1.0           True      False -70664.4245\n",
       "0    1.0           True       True -70657.4154"
      ]
     },
     "execution_count": 413,
     "metadata": {},
     "output_type": "execute_result"
    }
   ],
   "source": [
    "# use the function to get the combinations of parameters\n",
    "round(m.gridsearch (X_train_scaled, y_train, LassoLars() , params, 'neg_root_mean_squared_error'), 4)"
   ]
  },
  {
   "cell_type": "code",
   "execution_count": 414,
   "metadata": {},
   "outputs": [
    {
     "data": {
      "text/plain": [
       "70851.0772"
      ]
     },
     "execution_count": 414,
     "metadata": {},
     "output_type": "execute_result"
    }
   ],
   "source": [
    "# create the model and calculate RMSE\n",
    "lasso_rfe = m.create_model(X_train_scaled[top_rfe], y_train_df, 'actual', LassoLars(alpha = 1, normalize= False, fit_intercept= True), 'modelLasso' )\n",
    "round(lasso_rfe['rmse'], 4)"
   ]
  },
  {
   "cell_type": "markdown",
   "metadata": {},
   "source": [
    "### cross validation"
   ]
  },
  {
   "cell_type": "code",
   "execution_count": 415,
   "metadata": {},
   "outputs": [
    {
     "data": {
      "text/plain": [
       "array([-70841.66158516, -71652.11160402, -72110.87580637])"
      ]
     },
     "execution_count": 415,
     "metadata": {},
     "output_type": "execute_result"
    }
   ],
   "source": [
    "# create the model\n",
    "clf = LassoLars(alpha = 1, normalize= False, fit_intercept= True)\n",
    "# cv = number of folds\n",
    "cross = cross_val_score(clf, X_train_scaled[top_rfe], y_train, cv=3, scoring = 'neg_root_mean_squared_error')\n",
    "cross"
   ]
  },
  {
   "cell_type": "code",
   "execution_count": 416,
   "metadata": {},
   "outputs": [],
   "source": [
    "# add the lasso_rfe model to metric_df\n",
    "metric_df = metric_df.append(\n",
    "    {\n",
    "    'model': 'lasso_rfe',\n",
    "    'rmse_train': lasso_rfe['rmse'],    \n",
    "    'r^2' : lasso_rfe['r2']}, ignore_index=True)"
   ]
  },
  {
   "cell_type": "markdown",
   "metadata": {},
   "source": [
    "## MODEL 3: TweedieRegressor (GLM)"
   ]
  },
  {
   "cell_type": "markdown",
   "metadata": {},
   "source": [
    "###\n",
    "* ### Hyperparameter optimization with Gridsearch"
   ]
  },
  {
   "cell_type": "code",
   "execution_count": 417,
   "metadata": {},
   "outputs": [
    {
     "data": {
      "text/html": [
       "<div>\n",
       "<style scoped>\n",
       "    .dataframe tbody tr th:only-of-type {\n",
       "        vertical-align: middle;\n",
       "    }\n",
       "\n",
       "    .dataframe tbody tr th {\n",
       "        vertical-align: top;\n",
       "    }\n",
       "\n",
       "    .dataframe thead th {\n",
       "        text-align: right;\n",
       "    }\n",
       "</style>\n",
       "<table border=\"1\" class=\"dataframe\">\n",
       "  <thead>\n",
       "    <tr style=\"text-align: right;\">\n",
       "      <th></th>\n",
       "      <th>alpha</th>\n",
       "      <th>fit_intercept</th>\n",
       "      <th>power</th>\n",
       "      <th>warm_start</th>\n",
       "      <th>score</th>\n",
       "    </tr>\n",
       "  </thead>\n",
       "  <tbody>\n",
       "    <tr>\n",
       "      <th>14</th>\n",
       "      <td>0.0</td>\n",
       "      <td>False</td>\n",
       "      <td>1.0</td>\n",
       "      <td>True</td>\n",
       "      <td>-1.383688e+06</td>\n",
       "    </tr>\n",
       "    <tr>\n",
       "      <th>15</th>\n",
       "      <td>0.0</td>\n",
       "      <td>False</td>\n",
       "      <td>1.0</td>\n",
       "      <td>False</td>\n",
       "      <td>-1.383688e+06</td>\n",
       "    </tr>\n",
       "    <tr>\n",
       "      <th>6</th>\n",
       "      <td>1.0</td>\n",
       "      <td>False</td>\n",
       "      <td>1.0</td>\n",
       "      <td>True</td>\n",
       "      <td>-1.383662e+06</td>\n",
       "    </tr>\n",
       "    <tr>\n",
       "      <th>7</th>\n",
       "      <td>1.0</td>\n",
       "      <td>False</td>\n",
       "      <td>1.0</td>\n",
       "      <td>False</td>\n",
       "      <td>-1.383662e+06</td>\n",
       "    </tr>\n",
       "    <tr>\n",
       "      <th>4</th>\n",
       "      <td>1.0</td>\n",
       "      <td>False</td>\n",
       "      <td>0.0</td>\n",
       "      <td>True</td>\n",
       "      <td>-5.291123e+05</td>\n",
       "    </tr>\n",
       "    <tr>\n",
       "      <th>5</th>\n",
       "      <td>1.0</td>\n",
       "      <td>False</td>\n",
       "      <td>0.0</td>\n",
       "      <td>False</td>\n",
       "      <td>-5.291123e+05</td>\n",
       "    </tr>\n",
       "    <tr>\n",
       "      <th>0</th>\n",
       "      <td>1.0</td>\n",
       "      <td>True</td>\n",
       "      <td>0.0</td>\n",
       "      <td>True</td>\n",
       "      <td>-4.964809e+05</td>\n",
       "    </tr>\n",
       "    <tr>\n",
       "      <th>1</th>\n",
       "      <td>1.0</td>\n",
       "      <td>True</td>\n",
       "      <td>0.0</td>\n",
       "      <td>False</td>\n",
       "      <td>-4.964809e+05</td>\n",
       "    </tr>\n",
       "    <tr>\n",
       "      <th>10</th>\n",
       "      <td>0.0</td>\n",
       "      <td>True</td>\n",
       "      <td>1.0</td>\n",
       "      <td>True</td>\n",
       "      <td>-1.441567e+05</td>\n",
       "    </tr>\n",
       "    <tr>\n",
       "      <th>11</th>\n",
       "      <td>0.0</td>\n",
       "      <td>True</td>\n",
       "      <td>1.0</td>\n",
       "      <td>False</td>\n",
       "      <td>-1.441567e+05</td>\n",
       "    </tr>\n",
       "    <tr>\n",
       "      <th>2</th>\n",
       "      <td>1.0</td>\n",
       "      <td>True</td>\n",
       "      <td>1.0</td>\n",
       "      <td>True</td>\n",
       "      <td>-1.441517e+05</td>\n",
       "    </tr>\n",
       "    <tr>\n",
       "      <th>3</th>\n",
       "      <td>1.0</td>\n",
       "      <td>True</td>\n",
       "      <td>1.0</td>\n",
       "      <td>False</td>\n",
       "      <td>-1.441517e+05</td>\n",
       "    </tr>\n",
       "    <tr>\n",
       "      <th>12</th>\n",
       "      <td>0.0</td>\n",
       "      <td>False</td>\n",
       "      <td>0.0</td>\n",
       "      <td>True</td>\n",
       "      <td>-7.812419e+04</td>\n",
       "    </tr>\n",
       "    <tr>\n",
       "      <th>13</th>\n",
       "      <td>0.0</td>\n",
       "      <td>False</td>\n",
       "      <td>0.0</td>\n",
       "      <td>False</td>\n",
       "      <td>-7.812419e+04</td>\n",
       "    </tr>\n",
       "    <tr>\n",
       "      <th>8</th>\n",
       "      <td>0.0</td>\n",
       "      <td>True</td>\n",
       "      <td>0.0</td>\n",
       "      <td>True</td>\n",
       "      <td>-7.066523e+04</td>\n",
       "    </tr>\n",
       "    <tr>\n",
       "      <th>9</th>\n",
       "      <td>0.0</td>\n",
       "      <td>True</td>\n",
       "      <td>0.0</td>\n",
       "      <td>False</td>\n",
       "      <td>-7.066523e+04</td>\n",
       "    </tr>\n",
       "  </tbody>\n",
       "</table>\n",
       "</div>"
      ],
      "text/plain": [
       "    alpha  fit_intercept  power  warm_start         score\n",
       "14    0.0          False    1.0        True -1.383688e+06\n",
       "15    0.0          False    1.0       False -1.383688e+06\n",
       "6     1.0          False    1.0        True -1.383662e+06\n",
       "7     1.0          False    1.0       False -1.383662e+06\n",
       "4     1.0          False    0.0        True -5.291123e+05\n",
       "5     1.0          False    0.0       False -5.291123e+05\n",
       "0     1.0           True    0.0        True -4.964809e+05\n",
       "1     1.0           True    0.0       False -4.964809e+05\n",
       "10    0.0           True    1.0        True -1.441567e+05\n",
       "11    0.0           True    1.0       False -1.441567e+05\n",
       "2     1.0           True    1.0        True -1.441517e+05\n",
       "3     1.0           True    1.0       False -1.441517e+05\n",
       "12    0.0          False    0.0        True -7.812419e+04\n",
       "13    0.0          False    0.0       False -7.812419e+04\n",
       "8     0.0           True    0.0        True -7.066523e+04\n",
       "9     0.0           True    0.0       False -7.066523e+04"
      ]
     },
     "execution_count": 417,
     "metadata": {},
     "output_type": "execute_result"
    }
   ],
   "source": [
    "# specify the parameters we wish to use as a dictionary, then use that dictionary when we create the class.\n",
    "params = {\n",
    "          'power': [0.0, 1],\n",
    "           'fit_intercept' : [True , False],\n",
    "          'warm_start': [True, False], \n",
    "           'alpha': [1.0, 0.0]\n",
    "         }\n",
    "# use the function\n",
    "round(m.gridsearch (X_train_scaled, y_train,TweedieRegressor() , params, 'neg_root_mean_squared_error'), 4)"
   ]
  },
  {
   "cell_type": "markdown",
   "metadata": {},
   "source": [
    "###\n",
    "* ### Feature Selection using Select K Best"
   ]
  },
  {
   "cell_type": "code",
   "execution_count": 418,
   "metadata": {},
   "outputs": [
    {
     "name": "stdout",
     "output_type": "stream",
     "text": [
      "The top 8 selected feautures based on the SelectKBest class are: ['this_week_sales', 'temperature', 'store_size', 'next_week_1_year_ago', 'pre_christmas', 'thanksgiving', 'cpi_4wk_rolling', 'unemp_4wk_rolling']\n"
     ]
    }
   ],
   "source": [
    "# using my function for SelectkBest\n",
    "top_sb =m.select_kbest(X_train_scaled, y_train, 8)"
   ]
  },
  {
   "cell_type": "code",
   "execution_count": 419,
   "metadata": {},
   "outputs": [
    {
     "data": {
      "text/plain": [
       "73370.4558"
      ]
     },
     "execution_count": 419,
     "metadata": {},
     "output_type": "execute_result"
    }
   ],
   "source": [
    "# create the model and calculate RMSE\n",
    "gml_skb = m.create_model(X_train_scaled[top_sb], y_train_df, 'actual',TweedieRegressor(alpha =0 , fit_intercept= True, power=0 ,\\\n",
    "                                                                  warm_start= False), 'modelgml' )\n",
    "round(gml_skb['rmse'], 4)"
   ]
  },
  {
   "cell_type": "markdown",
   "metadata": {},
   "source": [
    "#### cross validation"
   ]
  },
  {
   "cell_type": "code",
   "execution_count": 420,
   "metadata": {},
   "outputs": [
    {
     "data": {
      "text/plain": [
       "array([-73993.90965301, -74432.17669619, -73960.92321156])"
      ]
     },
     "execution_count": 420,
     "metadata": {},
     "output_type": "execute_result"
    }
   ],
   "source": [
    "# create the model\n",
    "clf = TweedieRegressor(alpha =0 , fit_intercept= True, power=0 ,warm_start= False)\n",
    "# cv = number of folds\n",
    "cross = cross_val_score(clf, X_train_scaled[top_sb], y_train, scoring = 'neg_root_mean_squared_error',cv=3)\n",
    "cross"
   ]
  },
  {
   "cell_type": "code",
   "execution_count": 421,
   "metadata": {},
   "outputs": [],
   "source": [
    "# add the gml_skb model to metric_df\n",
    "\n",
    "metric_df = metric_df.append(\n",
    "    {\n",
    "    'model': 'gml_skb',\n",
    "    'rmse_train': gml_skb['rmse'],    \n",
    "    'r^2' : gml_skb['r2']}, ignore_index=True)"
   ]
  },
  {
   "cell_type": "markdown",
   "metadata": {},
   "source": [
    "###\n",
    "* ### Feature Selection using  RFE"
   ]
  },
  {
   "cell_type": "code",
   "execution_count": 422,
   "metadata": {},
   "outputs": [
    {
     "name": "stdout",
     "output_type": "stream",
     "text": [
      "The top 7 selected feautures based on the the RFE class class are: ['this_week_sales', 'store_size', 'next_week_1_year_ago', 'christmas', 'thanksgiving', 'unemp_4wk_rolling', 'avgQoQ_perc_unemp']\n",
      "this_week_sales            1\n",
      "unemp_4wk_rolling          1\n",
      "thanksgiving               1\n",
      "christmas                  1\n",
      "avgQoQ_perc_unemp          1\n",
      "store_size                 1\n",
      "next_week_1_year_ago       1\n",
      "this_week_holiday_flag     2\n",
      "avgQoQ_perc_fuel           3\n",
      "avgMoM_perc_unemp          4\n",
      "avgMoM_perc_cpi            5\n",
      "labor_day                  6\n",
      "super_bowl                 7\n",
      "fuel_4wk_rolling           8\n",
      "pre_christmas              9\n",
      "avgMoM_perc_fuel          10\n",
      "avgQoQ_perc_cpi           11\n",
      "next_week_holiday_flag    12\n",
      "temperature               13\n",
      "cpi_4wk_rolling           14\n",
      "dtype: int64\n"
     ]
    }
   ],
   "source": [
    "# use function to get the top 8 features\n",
    "top_rfe = m.select_rfe(X_train_scaled, y_train, 7, TweedieRegressor(alpha =0 , fit_intercept= True, power=0 ,\\\n",
    "                                                                  warm_start= False) )"
   ]
  },
  {
   "cell_type": "code",
   "execution_count": 423,
   "metadata": {},
   "outputs": [
    {
     "data": {
      "text/plain": [
       "71197.3705"
      ]
     },
     "execution_count": 423,
     "metadata": {},
     "output_type": "execute_result"
    }
   ],
   "source": [
    "# create the model and calculate RMSE\n",
    "gml_rfe = m.create_model(X_train_scaled[top_rfe], y_train_df, 'actual',TweedieRegressor(alpha =0 , fit_intercept= True, power=0 ,\\\n",
    "                                                                  warm_start= False), 'modelgml' )\n",
    "round(gml_rfe['rmse'], 4)"
   ]
  },
  {
   "cell_type": "markdown",
   "metadata": {},
   "source": [
    "### cross validation"
   ]
  },
  {
   "cell_type": "code",
   "execution_count": 424,
   "metadata": {},
   "outputs": [
    {
     "data": {
      "text/plain": [
       "array([-71374.06029112, -72012.42497628, -72054.63146727])"
      ]
     },
     "execution_count": 424,
     "metadata": {},
     "output_type": "execute_result"
    }
   ],
   "source": [
    "# create the model\n",
    "clf = TweedieRegressor(alpha =0 , fit_intercept= True, power=0 ,warm_start= False)\n",
    "# cv = number of folds\n",
    "cross = cross_val_score(clf, X_train_scaled[top_rfe], y_train, scoring = 'neg_root_mean_squared_error', cv=3)\n",
    "cross"
   ]
  },
  {
   "cell_type": "code",
   "execution_count": 425,
   "metadata": {},
   "outputs": [],
   "source": [
    "# add the gml_rfe model to metric_df\n",
    "metric_df = metric_df.append(\n",
    "    {\n",
    "    'model': 'gml_rfe',\n",
    "    'rmse_train': gml_rfe['rmse'],    \n",
    "    'r^2' : gml_rfe['r2']}, ignore_index=True)"
   ]
  },
  {
   "cell_type": "markdown",
   "metadata": {},
   "source": [
    "## MODEL 4: Polynomial Regression"
   ]
  },
  {
   "cell_type": "markdown",
   "metadata": {},
   "source": [
    "###\n",
    "* ### Feature Selection using  Select K Best"
   ]
  },
  {
   "cell_type": "code",
   "execution_count": 426,
   "metadata": {},
   "outputs": [
    {
     "name": "stdout",
     "output_type": "stream",
     "text": [
      "The top 10 selected feautures based on the SelectKBest class are: ['this_week_sales', 'temperature', 'store_size', 'next_week_1_year_ago', 'next_week_holiday_flag', 'pre_christmas', 'thanksgiving', 'cpi_4wk_rolling', 'unemp_4wk_rolling', 'avgQoQ_perc_unemp']\n"
     ]
    }
   ],
   "source": [
    "# use function to get the top 8 features\n",
    "top_sb =m.select_kbest(X_train_scaled, y_train, 10)"
   ]
  },
  {
   "cell_type": "code",
   "execution_count": 427,
   "metadata": {},
   "outputs": [],
   "source": [
    "# make the polynomial features to get a new set of features\n",
    "pf = PolynomialFeatures(degree = 2) \n",
    "\n",
    "# fit and transform X_train_scaled\n",
    "X_train_degree3 = pf.fit_transform(X_train_scaled[top_sb])\n",
    "\n",
    "# transform X_validate_scaled & X_test_scaled\n",
    "X_test_degree3 = pf.transform(X_test_scaled[top_sb])"
   ]
  },
  {
   "cell_type": "markdown",
   "metadata": {},
   "source": [
    "###\n",
    "* ### Hyperparameter optimization with Gridsearch"
   ]
  },
  {
   "cell_type": "code",
   "execution_count": 428,
   "metadata": {},
   "outputs": [
    {
     "data": {
      "text/html": [
       "<div>\n",
       "<style scoped>\n",
       "    .dataframe tbody tr th:only-of-type {\n",
       "        vertical-align: middle;\n",
       "    }\n",
       "\n",
       "    .dataframe tbody tr th {\n",
       "        vertical-align: top;\n",
       "    }\n",
       "\n",
       "    .dataframe thead th {\n",
       "        text-align: right;\n",
       "    }\n",
       "</style>\n",
       "<table border=\"1\" class=\"dataframe\">\n",
       "  <thead>\n",
       "    <tr style=\"text-align: right;\">\n",
       "      <th></th>\n",
       "      <th>fit_intercept</th>\n",
       "      <th>normalize</th>\n",
       "      <th>score</th>\n",
       "    </tr>\n",
       "  </thead>\n",
       "  <tbody>\n",
       "    <tr>\n",
       "      <th>0</th>\n",
       "      <td>True</td>\n",
       "      <td>True</td>\n",
       "      <td>-69841.6321</td>\n",
       "    </tr>\n",
       "    <tr>\n",
       "      <th>1</th>\n",
       "      <td>True</td>\n",
       "      <td>False</td>\n",
       "      <td>-69263.2921</td>\n",
       "    </tr>\n",
       "    <tr>\n",
       "      <th>2</th>\n",
       "      <td>False</td>\n",
       "      <td>True</td>\n",
       "      <td>-67280.1478</td>\n",
       "    </tr>\n",
       "    <tr>\n",
       "      <th>3</th>\n",
       "      <td>False</td>\n",
       "      <td>False</td>\n",
       "      <td>-67280.1478</td>\n",
       "    </tr>\n",
       "  </tbody>\n",
       "</table>\n",
       "</div>"
      ],
      "text/plain": [
       "   fit_intercept  normalize       score\n",
       "0           True       True -69841.6321\n",
       "1           True      False -69263.2921\n",
       "2          False       True -67280.1478\n",
       "3          False      False -67280.1478"
      ]
     },
     "execution_count": 428,
     "metadata": {},
     "output_type": "execute_result"
    }
   ],
   "source": [
    "# specify the parameters we wish to use as a dictionary, then use that dictionary when we create the class.\n",
    "params = {\n",
    "          'normalize': [True, False],\n",
    "          'fit_intercept':[True, False],\n",
    "         }\n",
    "\n",
    "round(m.gridsearch (X_train_degree3, y_train, LinearRegression() , params, 'neg_root_mean_squared_error'), 4)"
   ]
  },
  {
   "cell_type": "code",
   "execution_count": 429,
   "metadata": {},
   "outputs": [
    {
     "data": {
      "text/plain": [
       "64923.9265"
      ]
     },
     "execution_count": 429,
     "metadata": {},
     "output_type": "execute_result"
    }
   ],
   "source": [
    "# create the model and calculate RMSE\n",
    "pol_skb = m.create_model(X_train_degree3, y_train_df, 'actual',LinearRegression( normalize=True, fit_intercept = True ), 'pol2_skb' )\n",
    "round(pol_skb['rmse'], 4)"
   ]
  },
  {
   "cell_type": "markdown",
   "metadata": {},
   "source": [
    "### cross validation"
   ]
  },
  {
   "cell_type": "code",
   "execution_count": 430,
   "metadata": {},
   "outputs": [
    {
     "data": {
      "text/plain": [
       "array([-72123.69796982, -66047.01653599, -69892.29693964, -67469.51444831,\n",
       "       -70783.93448147])"
      ]
     },
     "execution_count": 430,
     "metadata": {},
     "output_type": "execute_result"
    }
   ],
   "source": [
    "# create the model\n",
    "clf = LinearRegression( normalize=False, fit_intercept = True )\n",
    "# cv = number of folds\n",
    "cross = cross_val_score(clf, X_train_degree3, y_train, cv=5, scoring = 'neg_root_mean_squared_error')\n",
    "cross"
   ]
  },
  {
   "cell_type": "code",
   "execution_count": 431,
   "metadata": {},
   "outputs": [],
   "source": [
    "# add the pol_skb model to metric_df\n",
    "metric_df = metric_df.append(\n",
    "    {\n",
    "    'model': 'pol_skb',\n",
    "    'rmse_train': pol_skb['rmse'],    \n",
    "    'r^2' : pol_skb['r2']}, ignore_index=True)"
   ]
  },
  {
   "cell_type": "markdown",
   "metadata": {},
   "source": [
    "###\n",
    "* ### Feature Selection using  RFE"
   ]
  },
  {
   "cell_type": "code",
   "execution_count": 432,
   "metadata": {},
   "outputs": [
    {
     "name": "stdout",
     "output_type": "stream",
     "text": [
      "The top 11 selected feautures based on the the RFE class class are: ['this_week_sales', 'temperature', 'store_size', 'next_week_1_year_ago', 'christmas', 'pre_christmas', 'super_bowl', 'thanksgiving', 'avgMoM_perc_cpi', 'avgMoM_perc_unemp', 'avgQoQ_perc_unemp']\n",
      "this_week_sales            1\n",
      "avgMoM_perc_unemp          1\n",
      "avgMoM_perc_cpi            1\n",
      "thanksgiving               1\n",
      "pre_christmas              1\n",
      "christmas                  1\n",
      "super_bowl                 1\n",
      "next_week_1_year_ago       1\n",
      "store_size                 1\n",
      "temperature                1\n",
      "avgQoQ_perc_unemp          1\n",
      "avgQoQ_perc_fuel           2\n",
      "this_week_holiday_flag     3\n",
      "avgQoQ_perc_cpi            4\n",
      "unemp_4wk_rolling          5\n",
      "avgMoM_perc_fuel           6\n",
      "cpi_4wk_rolling            7\n",
      "next_week_holiday_flag     8\n",
      "labor_day                  9\n",
      "fuel_4wk_rolling          10\n",
      "dtype: int64\n"
     ]
    }
   ],
   "source": [
    "# get the top 8 features by RFE\n",
    "top_rfe_pol = m.select_rfe(X_train_scaled, y_train, 11, LinearRegression(normalize=False, fit_intercept = False) )"
   ]
  },
  {
   "cell_type": "code",
   "execution_count": 433,
   "metadata": {},
   "outputs": [],
   "source": [
    "# make the polynomial features to get a new set of features\n",
    "pf = PolynomialFeatures(degree = 2) \n",
    "\n",
    "# fit and transform X_train_scaled\n",
    "X_train_degree3 = pf.fit_transform(X_train_scaled[top_rfe_pol])\n",
    "\n",
    "# transform X_validate_scaled & X_test_scaled\n",
    "X_test_degree3 = pf.transform(X_test_scaled[top_rfe_pol])"
   ]
  },
  {
   "cell_type": "markdown",
   "metadata": {},
   "source": [
    "###\n",
    "* ### Hyperparameter optimization with Gridsearch"
   ]
  },
  {
   "cell_type": "code",
   "execution_count": 434,
   "metadata": {},
   "outputs": [
    {
     "data": {
      "text/html": [
       "<div>\n",
       "<style scoped>\n",
       "    .dataframe tbody tr th:only-of-type {\n",
       "        vertical-align: middle;\n",
       "    }\n",
       "\n",
       "    .dataframe tbody tr th {\n",
       "        vertical-align: top;\n",
       "    }\n",
       "\n",
       "    .dataframe thead th {\n",
       "        text-align: right;\n",
       "    }\n",
       "</style>\n",
       "<table border=\"1\" class=\"dataframe\">\n",
       "  <thead>\n",
       "    <tr style=\"text-align: right;\">\n",
       "      <th></th>\n",
       "      <th>fit_intercept</th>\n",
       "      <th>normalize</th>\n",
       "      <th>score</th>\n",
       "    </tr>\n",
       "  </thead>\n",
       "  <tbody>\n",
       "    <tr>\n",
       "      <th>0</th>\n",
       "      <td>True</td>\n",
       "      <td>True</td>\n",
       "      <td>-66642.1618</td>\n",
       "    </tr>\n",
       "    <tr>\n",
       "      <th>1</th>\n",
       "      <td>True</td>\n",
       "      <td>False</td>\n",
       "      <td>-66259.6533</td>\n",
       "    </tr>\n",
       "    <tr>\n",
       "      <th>2</th>\n",
       "      <td>False</td>\n",
       "      <td>True</td>\n",
       "      <td>-66187.0843</td>\n",
       "    </tr>\n",
       "    <tr>\n",
       "      <th>3</th>\n",
       "      <td>False</td>\n",
       "      <td>False</td>\n",
       "      <td>-66187.0843</td>\n",
       "    </tr>\n",
       "  </tbody>\n",
       "</table>\n",
       "</div>"
      ],
      "text/plain": [
       "   fit_intercept  normalize       score\n",
       "0           True       True -66642.1618\n",
       "1           True      False -66259.6533\n",
       "2          False       True -66187.0843\n",
       "3          False      False -66187.0843"
      ]
     },
     "execution_count": 434,
     "metadata": {},
     "output_type": "execute_result"
    }
   ],
   "source": [
    "round(m.gridsearch (X_train_degree3, y_train, LinearRegression() , params, 'neg_root_mean_squared_error'), 4)"
   ]
  },
  {
   "cell_type": "code",
   "execution_count": 435,
   "metadata": {},
   "outputs": [
    {
     "data": {
      "text/plain": [
       "63537.8828"
      ]
     },
     "execution_count": 435,
     "metadata": {},
     "output_type": "execute_result"
    }
   ],
   "source": [
    "# create the model and calculate RMSE\n",
    "pol_rfe = m.create_model(X_train_degree3, y_train_df, 'actual',LinearRegression( normalize=False, fit_intercept = False ), 'pol3_RFE' )\n",
    "round(pol_rfe['rmse'], 4)"
   ]
  },
  {
   "cell_type": "markdown",
   "metadata": {},
   "source": [
    "### cross validation"
   ]
  },
  {
   "cell_type": "code",
   "execution_count": 436,
   "metadata": {},
   "outputs": [
    {
     "data": {
      "text/plain": [
       "array([-62337.00446424, -65569.35237058, -68225.96990924, -66758.2633866 ,\n",
       "       -68044.83137326])"
      ]
     },
     "execution_count": 436,
     "metadata": {},
     "output_type": "execute_result"
    }
   ],
   "source": [
    "# create the model\n",
    "clf = LinearRegression( normalize=False, fit_intercept = False )\n",
    "# cv = number of folds\n",
    "cross = cross_val_score(clf, X_train_degree3, y_train, cv=5, scoring = 'neg_root_mean_squared_error')\n",
    "cross"
   ]
  },
  {
   "cell_type": "code",
   "execution_count": 437,
   "metadata": {},
   "outputs": [],
   "source": [
    "# add the pol_rfe model to metric_df\n",
    "metric_df = metric_df.append(\n",
    "    {\n",
    "    'model': 'pol_rfe',\n",
    "    'rmse_train': pol_rfe['rmse'],    \n",
    "    'r^2' : pol_rfe['r2']}, ignore_index=True)"
   ]
  },
  {
   "cell_type": "markdown",
   "metadata": {},
   "source": [
    "## Modeling Results"
   ]
  },
  {
   "cell_type": "code",
   "execution_count": 438,
   "metadata": {},
   "outputs": [
    {
     "data": {
      "text/html": [
       "<div>\n",
       "<style scoped>\n",
       "    .dataframe tbody tr th:only-of-type {\n",
       "        vertical-align: middle;\n",
       "    }\n",
       "\n",
       "    .dataframe tbody tr th {\n",
       "        vertical-align: top;\n",
       "    }\n",
       "\n",
       "    .dataframe thead th {\n",
       "        text-align: right;\n",
       "    }\n",
       "</style>\n",
       "<table border=\"1\" class=\"dataframe\">\n",
       "  <thead>\n",
       "    <tr style=\"text-align: right;\">\n",
       "      <th></th>\n",
       "      <th>model</th>\n",
       "      <th>rmse_train</th>\n",
       "      <th>r^2_train</th>\n",
       "      <th>r^2</th>\n",
       "    </tr>\n",
       "  </thead>\n",
       "  <tbody>\n",
       "    <tr>\n",
       "      <th>9</th>\n",
       "      <td>pol_rfe</td>\n",
       "      <td>63537.8828</td>\n",
       "      <td>NaN</td>\n",
       "      <td>0.9871</td>\n",
       "    </tr>\n",
       "    <tr>\n",
       "      <th>8</th>\n",
       "      <td>pol_skb</td>\n",
       "      <td>64923.9265</td>\n",
       "      <td>NaN</td>\n",
       "      <td>0.9856</td>\n",
       "    </tr>\n",
       "    <tr>\n",
       "      <th>3</th>\n",
       "      <td>ols_rfe</td>\n",
       "      <td>70339.0705</td>\n",
       "      <td>NaN</td>\n",
       "      <td>0.9841</td>\n",
       "    </tr>\n",
       "    <tr>\n",
       "      <th>5</th>\n",
       "      <td>lasso_rfe</td>\n",
       "      <td>70851.0772</td>\n",
       "      <td>NaN</td>\n",
       "      <td>0.9839</td>\n",
       "    </tr>\n",
       "    <tr>\n",
       "      <th>7</th>\n",
       "      <td>gml_rfe</td>\n",
       "      <td>71197.3705</td>\n",
       "      <td>NaN</td>\n",
       "      <td>0.9837</td>\n",
       "    </tr>\n",
       "    <tr>\n",
       "      <th>2</th>\n",
       "      <td>ols_sb</td>\n",
       "      <td>72474.3790</td>\n",
       "      <td>NaN</td>\n",
       "      <td>0.9832</td>\n",
       "    </tr>\n",
       "    <tr>\n",
       "      <th>4</th>\n",
       "      <td>lasso_skb</td>\n",
       "      <td>73370.0934</td>\n",
       "      <td>NaN</td>\n",
       "      <td>0.9825</td>\n",
       "    </tr>\n",
       "    <tr>\n",
       "      <th>6</th>\n",
       "      <td>gml_skb</td>\n",
       "      <td>73370.4558</td>\n",
       "      <td>NaN</td>\n",
       "      <td>0.9827</td>\n",
       "    </tr>\n",
       "    <tr>\n",
       "      <th>1</th>\n",
       "      <td>Baseline (using last year's sales)</td>\n",
       "      <td>91145.2800</td>\n",
       "      <td>0.9738</td>\n",
       "      <td>NaN</td>\n",
       "    </tr>\n",
       "    <tr>\n",
       "      <th>0</th>\n",
       "      <td>Baseline (using mean)</td>\n",
       "      <td>558467.0491</td>\n",
       "      <td>0.0000</td>\n",
       "      <td>NaN</td>\n",
       "    </tr>\n",
       "  </tbody>\n",
       "</table>\n",
       "</div>"
      ],
      "text/plain": [
       "                                model   rmse_train  r^2_train     r^2\n",
       "9                             pol_rfe   63537.8828        NaN  0.9871\n",
       "8                             pol_skb   64923.9265        NaN  0.9856\n",
       "3                             ols_rfe   70339.0705        NaN  0.9841\n",
       "5                           lasso_rfe   70851.0772        NaN  0.9839\n",
       "7                             gml_rfe   71197.3705        NaN  0.9837\n",
       "2                              ols_sb   72474.3790        NaN  0.9832\n",
       "4                           lasso_skb   73370.0934        NaN  0.9825\n",
       "6                             gml_skb   73370.4558        NaN  0.9827\n",
       "1  Baseline (using last year's sales)   91145.2800     0.9738     NaN\n",
       "0               Baseline (using mean)  558467.0491     0.0000     NaN"
      ]
     },
     "execution_count": 438,
     "metadata": {},
     "output_type": "execute_result"
    }
   ],
   "source": [
    "round(metric_df.sort_values('rmse_train'), 4)"
   ]
  },
  {
   "cell_type": "code",
   "execution_count": 439,
   "metadata": {},
   "outputs": [
    {
     "name": "stdout",
     "output_type": "stream",
     "text": [
      "The best model is\n"
     ]
    },
    {
     "data": {
      "text/html": [
       "<div>\n",
       "<style scoped>\n",
       "    .dataframe tbody tr th:only-of-type {\n",
       "        vertical-align: middle;\n",
       "    }\n",
       "\n",
       "    .dataframe tbody tr th {\n",
       "        vertical-align: top;\n",
       "    }\n",
       "\n",
       "    .dataframe thead th {\n",
       "        text-align: right;\n",
       "    }\n",
       "</style>\n",
       "<table border=\"1\" class=\"dataframe\">\n",
       "  <thead>\n",
       "    <tr style=\"text-align: right;\">\n",
       "      <th></th>\n",
       "      <th>model</th>\n",
       "      <th>rmse_train</th>\n",
       "      <th>r^2_train</th>\n",
       "      <th>r^2</th>\n",
       "    </tr>\n",
       "  </thead>\n",
       "  <tbody>\n",
       "    <tr>\n",
       "      <th>9</th>\n",
       "      <td>pol_rfe</td>\n",
       "      <td>63537.8828</td>\n",
       "      <td>NaN</td>\n",
       "      <td>0.9871</td>\n",
       "    </tr>\n",
       "  </tbody>\n",
       "</table>\n",
       "</div>"
      ],
      "text/plain": [
       "     model  rmse_train  r^2_train     r^2\n",
       "9  pol_rfe  63537.8828        NaN  0.9871"
      ]
     },
     "execution_count": 439,
     "metadata": {},
     "output_type": "execute_result"
    }
   ],
   "source": [
    "print('The best model is' )\n",
    "round(metric_df.nsmallest(1, 'rmse_train'), 4)"
   ]
  },
  {
   "cell_type": "markdown",
   "metadata": {},
   "source": [
    "***\n",
    "**Key Findings and Takeaways**\n",
    "\n",
    "* Our top performing model is the Polynomail Regression model utilizing the Recursive Feature Elimnation (RFE) feature selector\n",
    "    * According this this model, the top 11 selected features based on the the RFE class class are: ['this_week_sales', 'temperature', 'store_size', 'next_week_1_year_ago', 'christmas', 'pre_christmas', 'super_bowl', 'thanksgiving', 'avgMoM_perc_cpi', 'avgMoM_perc_unemp', 'avgQoQ_perc_unemp']\n",
    "    * Note: feature numbers varied by model and were chosen via an iterative process that sought out the best performing scenario\n",
    "***"
   ]
  },
  {
   "cell_type": "markdown",
   "metadata": {},
   "source": [
    "## **Test**"
   ]
  },
  {
   "cell_type": "code",
   "execution_count": 441,
   "metadata": {},
   "outputs": [
    {
     "data": {
      "text/plain": [
       "64607.1719"
      ]
     },
     "execution_count": 441,
     "metadata": {},
     "output_type": "execute_result"
    }
   ],
   "source": [
    "#use function to create and calculate the metrics\n",
    "pol_reg_test =  m.create_model(X_test_degree3, \n",
    "                              y_test_df, 'actual',LinearRegression( normalize=False, fit_intercept = True ), 'test_polreg' )\n",
    "\n",
    "round(pol_reg_test['rmse'], 4)"
   ]
  },
  {
   "cell_type": "code",
   "execution_count": 442,
   "metadata": {},
   "outputs": [
    {
     "name": "stdout",
     "output_type": "stream",
     "text": [
      "The Baseline RMSE is $ 91145.2822\n",
      "The Best Model RMSE on unseen data is $ 64607.1719\n"
     ]
    }
   ],
   "source": [
    "print('The Baseline RMSE is $', round(rmse_baseline2_train,4))\n",
    "print('The Best Model RMSE on unseen data is $', round(pol_reg_test['rmse'],4))"
   ]
  },
  {
   "cell_type": "markdown",
   "metadata": {},
   "source": [
    "<div class=\"alert alert-block alert-success\">\n",
    "<b>Key Findings and Takeaways:</b> Our Polynomial Regression model utilizing the RFE selector performed very well on the Test data set and showed no signs of being overfit. The difference in the Train and Test RMSE scores was roughly 1.7%.  Additionally, based on the RMSE scores, our model Test outperformed the Baseline by roughly 29%.    \n",
    "</div>"
   ]
  },
  {
   "cell_type": "markdown",
   "metadata": {},
   "source": [
    "## **Visual Evaluation**"
   ]
  },
  {
   "cell_type": "code",
   "execution_count": 486,
   "metadata": {},
   "outputs": [
    {
     "data": {
      "image/png": "[encoded data removed]",
      "text/plain": [
       "<Figure size 1152x576 with 1 Axes>"
      ]
     },
     "metadata": {
      "needs_background": "light"
     },
     "output_type": "display_data"
    }
   ],
   "source": [
    "plt.figure(figsize=(16,8))\n",
    "plt.scatter(y_train_df.actual, y_train_df.last_year_baseline, alpha=.8, color=\"red\", label='_nolegend_')\n",
    "plt.annotate(\"Baseline: Predict Using Mean\", (16, 9.5))\n",
    "plt.plot(y_train_df.actual, y_train_df.actual, alpha=.5, color=\"blue\", label='_nolegend_')\n",
    "plt.annotate(\"The Ideal Line: Predicted = Actual\", (.5, 3.5), rotation=15.5)\n",
    "\n",
    "plt.scatter(y_train_df.actual, y_train_df.modelgml, \n",
    "            alpha=.5, color=\"green\", s=100, label=\"Model: Tweedie Regressor\")\n",
    "plt.scatter(y_train_df.actual, y_train_df.modelOLS, \n",
    "            alpha=.5, color=\"yellow\", s=100, label=\"Model: OLS\")\n",
    "plt.scatter(y_train_df.actual, y_train_df.pol3_RFE, \n",
    "            alpha=.4, color=\"purple\", s=100, label=\"Model: Polynomial RFE\")\n",
    "\n",
    "\n",
    "plt.legend()\n",
    "plt.xlabel(\"Actual Weekly Sales\")\n",
    "plt.ylabel(\"Predicted Weekly Sales\")\n",
    "plt.title(\"Model Evaluation: Model Predictions vs Actual Sales\")\n",
    "plt.show()"
   ]
  },
  {
   "cell_type": "code",
   "execution_count": null,
   "metadata": {},
   "outputs": [],
   "source": []
  }
 ],
 "metadata": {
  "kernelspec": {
   "display_name": "Python 3",
   "language": "python",
   "name": "python3"
  },
  "language_info": {
   "codemirror_mode": {
    "name": "ipython",
    "version": 3
   },
   "file_extension": ".py",
   "mimetype": "text/x-python",
   "name": "python",
   "nbconvert_exporter": "python",
   "pygments_lexer": "ipython3",
   "version": "3.8.5"
  }
 },
 "nbformat": 4,
 "nbformat_minor": 4
}
