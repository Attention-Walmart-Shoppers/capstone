{
 "cells": [
  {
   "cell_type": "markdown",
   "metadata": {},
   "source": [
    "# Heather's Capstone Notebook"
   ]
  },
  {
   "cell_type": "code",
   "execution_count": 3,
   "metadata": {},
   "outputs": [],
   "source": [
    "import pandas as pd\n",
    "import numpy as np\n",
    "\n",
    "import new_wrangle as w\n",
    "import datetime as dt\n",
    "\n",
    "import matplotlib.pyplot as plt\n",
    "import seaborn as sns\n"
   ]
  },
  {
   "cell_type": "code",
   "execution_count": 4,
   "metadata": {},
   "outputs": [],
   "source": [
    "# acquire dataset\n",
    "\n",
    "df = w.wrangle_walmart()"
   ]
  },
  {
   "cell_type": "code",
   "execution_count": 5,
   "metadata": {},
   "outputs": [
    {
     "data": {
      "text/html": [
       "<div>\n",
       "<style scoped>\n",
       "    .dataframe tbody tr th:only-of-type {\n",
       "        vertical-align: middle;\n",
       "    }\n",
       "\n",
       "    .dataframe tbody tr th {\n",
       "        vertical-align: top;\n",
       "    }\n",
       "\n",
       "    .dataframe thead th {\n",
       "        text-align: right;\n",
       "    }\n",
       "</style>\n",
       "<table border=\"1\" class=\"dataframe\">\n",
       "  <thead>\n",
       "    <tr style=\"text-align: right;\">\n",
       "      <th></th>\n",
       "      <th>store_id</th>\n",
       "      <th>weekly_sales</th>\n",
       "      <th>holiday_flag</th>\n",
       "      <th>temperature</th>\n",
       "      <th>fuel_price</th>\n",
       "      <th>CPI</th>\n",
       "      <th>unemployment</th>\n",
       "      <th>type</th>\n",
       "      <th>store_size</th>\n",
       "      <th>month</th>\n",
       "      <th>year</th>\n",
       "      <th>quarter</th>\n",
       "      <th>deflated_series</th>\n",
       "      <th>sales_delta</th>\n",
       "      <th>season</th>\n",
       "    </tr>\n",
       "    <tr>\n",
       "      <th>Date</th>\n",
       "      <th></th>\n",
       "      <th></th>\n",
       "      <th></th>\n",
       "      <th></th>\n",
       "      <th></th>\n",
       "      <th></th>\n",
       "      <th></th>\n",
       "      <th></th>\n",
       "      <th></th>\n",
       "      <th></th>\n",
       "      <th></th>\n",
       "      <th></th>\n",
       "      <th></th>\n",
       "      <th></th>\n",
       "      <th></th>\n",
       "    </tr>\n",
       "  </thead>\n",
       "  <tbody>\n",
       "    <tr>\n",
       "      <th>2010-01-10</th>\n",
       "      <td>5</td>\n",
       "      <td>283178.12</td>\n",
       "      <td>0</td>\n",
       "      <td>71</td>\n",
       "      <td>2.60</td>\n",
       "      <td>212.227</td>\n",
       "      <td>6.768</td>\n",
       "      <td>B</td>\n",
       "      <td>34875</td>\n",
       "      <td>January</td>\n",
       "      <td>2010</td>\n",
       "      <td>1</td>\n",
       "      <td>1334.32</td>\n",
       "      <td>-9953.46</td>\n",
       "      <td>Winter</td>\n",
       "    </tr>\n",
       "    <tr>\n",
       "      <th>2010-01-10</th>\n",
       "      <td>15</td>\n",
       "      <td>566945.95</td>\n",
       "      <td>0</td>\n",
       "      <td>59</td>\n",
       "      <td>2.84</td>\n",
       "      <td>132.757</td>\n",
       "      <td>8.067</td>\n",
       "      <td>B</td>\n",
       "      <td>123737</td>\n",
       "      <td>January</td>\n",
       "      <td>2010</td>\n",
       "      <td>1</td>\n",
       "      <td>4270.55</td>\n",
       "      <td>18403.48</td>\n",
       "      <td>Winter</td>\n",
       "    </tr>\n",
       "    <tr>\n",
       "      <th>2010-01-10</th>\n",
       "      <td>42</td>\n",
       "      <td>481523.93</td>\n",
       "      <td>0</td>\n",
       "      <td>86</td>\n",
       "      <td>3.00</td>\n",
       "      <td>126.235</td>\n",
       "      <td>9.003</td>\n",
       "      <td>C</td>\n",
       "      <td>39690</td>\n",
       "      <td>January</td>\n",
       "      <td>2010</td>\n",
       "      <td>1</td>\n",
       "      <td>3814.50</td>\n",
       "      <td>-10739.03</td>\n",
       "      <td>Winter</td>\n",
       "    </tr>\n",
       "    <tr>\n",
       "      <th>2010-01-10</th>\n",
       "      <td>33</td>\n",
       "      <td>224294.39</td>\n",
       "      <td>0</td>\n",
       "      <td>91</td>\n",
       "      <td>3.00</td>\n",
       "      <td>126.235</td>\n",
       "      <td>9.265</td>\n",
       "      <td>A</td>\n",
       "      <td>39690</td>\n",
       "      <td>January</td>\n",
       "      <td>2010</td>\n",
       "      <td>1</td>\n",
       "      <td>1776.80</td>\n",
       "      <td>-7682.45</td>\n",
       "      <td>Winter</td>\n",
       "    </tr>\n",
       "    <tr>\n",
       "      <th>2010-01-10</th>\n",
       "      <td>36</td>\n",
       "      <td>422169.47</td>\n",
       "      <td>0</td>\n",
       "      <td>74</td>\n",
       "      <td>2.57</td>\n",
       "      <td>210.440</td>\n",
       "      <td>8.476</td>\n",
       "      <td>A</td>\n",
       "      <td>39910</td>\n",
       "      <td>January</td>\n",
       "      <td>2010</td>\n",
       "      <td>1</td>\n",
       "      <td>2006.13</td>\n",
       "      <td>2820.88</td>\n",
       "      <td>Winter</td>\n",
       "    </tr>\n",
       "  </tbody>\n",
       "</table>\n",
       "</div>"
      ],
      "text/plain": [
       "            store_id  weekly_sales  holiday_flag  temperature  fuel_price  \\\n",
       "Date                                                                        \n",
       "2010-01-10         5     283178.12             0           71        2.60   \n",
       "2010-01-10        15     566945.95             0           59        2.84   \n",
       "2010-01-10        42     481523.93             0           86        3.00   \n",
       "2010-01-10        33     224294.39             0           91        3.00   \n",
       "2010-01-10        36     422169.47             0           74        2.57   \n",
       "\n",
       "                CPI  unemployment type  store_size    month  year  quarter  \\\n",
       "Date                                                                         \n",
       "2010-01-10  212.227         6.768    B       34875  January  2010        1   \n",
       "2010-01-10  132.757         8.067    B      123737  January  2010        1   \n",
       "2010-01-10  126.235         9.003    C       39690  January  2010        1   \n",
       "2010-01-10  126.235         9.265    A       39690  January  2010        1   \n",
       "2010-01-10  210.440         8.476    A       39910  January  2010        1   \n",
       "\n",
       "            deflated_series  sales_delta  season  \n",
       "Date                                              \n",
       "2010-01-10          1334.32     -9953.46  Winter  \n",
       "2010-01-10          4270.55     18403.48  Winter  \n",
       "2010-01-10          3814.50    -10739.03  Winter  \n",
       "2010-01-10          1776.80     -7682.45  Winter  \n",
       "2010-01-10          2006.13      2820.88  Winter  "
      ]
     },
     "execution_count": 5,
     "metadata": {},
     "output_type": "execute_result"
    }
   ],
   "source": [
    "df.head()"
   ]
  },
  {
   "cell_type": "code",
   "execution_count": 6,
   "metadata": {},
   "outputs": [
    {
     "name": "stdout",
     "output_type": "stream",
     "text": [
      "<class 'pandas.core.frame.DataFrame'>\n",
      "DatetimeIndex: 6435 entries, 2010-01-10 to 2012-12-10\n",
      "Data columns (total 15 columns):\n",
      " #   Column           Non-Null Count  Dtype  \n",
      "---  ------           --------------  -----  \n",
      " 0   store_id         6435 non-null   int64  \n",
      " 1   weekly_sales     6435 non-null   float64\n",
      " 2   holiday_flag     6435 non-null   int64  \n",
      " 3   temperature      6435 non-null   int64  \n",
      " 4   fuel_price       6435 non-null   float64\n",
      " 5   CPI              6435 non-null   float64\n",
      " 6   unemployment     6435 non-null   float64\n",
      " 7   type             6435 non-null   object \n",
      " 8   store_size       6435 non-null   int64  \n",
      " 9   month            6435 non-null   object \n",
      " 10  year             6435 non-null   int64  \n",
      " 11  quarter          6435 non-null   int64  \n",
      " 12  deflated_series  6435 non-null   float64\n",
      " 13  sales_delta      6390 non-null   float64\n",
      " 14  season           6435 non-null   object \n",
      "dtypes: float64(6), int64(6), object(3)\n",
      "memory usage: 804.4+ KB\n"
     ]
    }
   ],
   "source": [
    "df.info()"
   ]
  },
  {
   "cell_type": "markdown",
   "metadata": {},
   "source": [
    "## Add Holiday's to column\n",
    "\n",
    "Goal: Create variable called `holiday_week` with the name of the holiday. Later will break out into `is_superbowl`, `is_laborday`, `is_christmas` etc. no holiday\n",
    "\n",
    "### Holiday List\n",
    "\n",
    "Super Bowl: 12-Feb-10, 11-Feb-11, 10-Feb-12, 8-Feb-13\n",
    "\n",
    "Labor Day: 10-Sep-10, 9-Sep-11, 7-Sep-12, 6-Sep-13\n",
    "\n",
    "Thanksgiving: 26-Nov-10, 25-Nov-11, 23-Nov-12, 29-Nov-13\n",
    "\n",
    "Christmas: 31-Dec-10, 30-Dec-11, 28-Dec-12, 27-Dec-13"
   ]
  },
  {
   "cell_type": "code",
   "execution_count": 7,
   "metadata": {},
   "outputs": [
    {
     "data": {
      "text/plain": [
       "0    5985\n",
       "1     450\n",
       "Name: holiday_flag, dtype: int64"
      ]
     },
     "execution_count": 7,
     "metadata": {},
     "output_type": "execute_result"
    }
   ],
   "source": [
    "# get value counts of weeks with holidays and weeks without\n",
    "df.holiday_flag.value_counts()"
   ]
  },
  {
   "cell_type": "markdown",
   "metadata": {},
   "source": [
    "There's already a column called holiday flag. 0 no holiday 1 holiday. Since we already have this information, we need to know which of these weeks belong to what projects. "
   ]
  },
  {
   "cell_type": "code",
   "execution_count": 26,
   "metadata": {},
   "outputs": [],
   "source": [
    "# OOOHHH Those weeks are already there. So Need to filter for those \n",
    "\n",
    "christmases = ['2010-12-31', '2011-12-30', '2012-12-28']\n",
    "\n",
    "super_bowls = ['2010-02-12', '2011-02-11', '2012-02-10']\n",
    "\n",
    "labor_days = ['2010-09-10', '2011-09-09', '2012-09-07']\n",
    "\n",
    "thanksgivings = ['2010-11-26', '2011-11-25', '2012-11-23']\n"
   ]
  },
  {
   "cell_type": "code",
   "execution_count": null,
   "metadata": {},
   "outputs": [],
   "source": [
    "# Create loopy deal\n",
    "\n",
    "def add_which_holiday(df, dates_list):\n",
    "    '''\n",
    "    This function takes in a dataframe\n",
    "    And a string list of dates\n",
    "    Turnes that list of dates into a date time \n",
    "    \n",
    "    '''\n",
    "    dates_list = [dt.datetime.strptime(date, \"%Y-%m-%d\").date() for date in christmases]\n"
   ]
  },
  {
   "cell_type": "code",
   "execution_count": 27,
   "metadata": {},
   "outputs": [],
   "source": [
    "# christmas\n",
    "dates_list = [dt.datetime.strptime(date, \"%Y-%m-%d\").date() for date in christmases]\n",
    "    \n",
    "df.loc[df.index.isin(dates_list) == True, 'holiday_name'] = 'christmas'\n",
    "\n",
    "#super bowl\n",
    "dates_list = [dt.datetime.strptime(date, \"%Y-%m-%d\").date() for date in super_bowls]  \n",
    "df.loc[df.index.isin(dates_list) == True,'holiday_name'] = 'super_bowl'\n",
    "\n",
    "# labor day\n",
    "dates_list = [dt.datetime.strptime(date, \"%Y-%m-%d\").date() for date in labor_days]  \n",
    "df.loc[df.index.isin(dates_list) == True, 'holiday_name'] = 'labor_day'\n",
    "\n",
    "# thanksgiving\n",
    "dates_list = [dt.datetime.strptime(date, \"%Y-%m-%d\").date() for date in thanksgivings]  \n",
    "df.loc[df.index.isin(dates_list) == True, 'holiday_name'] = 'thanksgiving'"
   ]
  },
  {
   "cell_type": "code",
   "execution_count": 28,
   "metadata": {},
   "outputs": [
    {
     "data": {
      "text/plain": [
       "thanksgiving    90\n",
       "christmas       90\n",
       "labor_day       45\n",
       "Name: holiday_name, dtype: int64"
      ]
     },
     "execution_count": 28,
     "metadata": {},
     "output_type": "execute_result"
    }
   ],
   "source": [
    "df.holiday_name.value_counts()"
   ]
  },
  {
   "cell_type": "code",
   "execution_count": 29,
   "metadata": {},
   "outputs": [
    {
     "data": {
      "text/html": [
       "<div>\n",
       "<style scoped>\n",
       "    .dataframe tbody tr th:only-of-type {\n",
       "        vertical-align: middle;\n",
       "    }\n",
       "\n",
       "    .dataframe tbody tr th {\n",
       "        vertical-align: top;\n",
       "    }\n",
       "\n",
       "    .dataframe thead th {\n",
       "        text-align: right;\n",
       "    }\n",
       "</style>\n",
       "<table border=\"1\" class=\"dataframe\">\n",
       "  <thead>\n",
       "    <tr style=\"text-align: right;\">\n",
       "      <th></th>\n",
       "      <th>store_id</th>\n",
       "      <th>weekly_sales</th>\n",
       "      <th>holiday_flag</th>\n",
       "      <th>temperature</th>\n",
       "      <th>fuel_price</th>\n",
       "      <th>CPI</th>\n",
       "      <th>unemployment</th>\n",
       "      <th>type</th>\n",
       "      <th>store_size</th>\n",
       "      <th>month</th>\n",
       "      <th>year</th>\n",
       "      <th>quarter</th>\n",
       "      <th>deflated_series</th>\n",
       "      <th>sales_delta</th>\n",
       "      <th>season</th>\n",
       "      <th>holiday_name</th>\n",
       "    </tr>\n",
       "    <tr>\n",
       "      <th>Date</th>\n",
       "      <th></th>\n",
       "      <th></th>\n",
       "      <th></th>\n",
       "      <th></th>\n",
       "      <th></th>\n",
       "      <th></th>\n",
       "      <th></th>\n",
       "      <th></th>\n",
       "      <th></th>\n",
       "      <th></th>\n",
       "      <th></th>\n",
       "      <th></th>\n",
       "      <th></th>\n",
       "      <th></th>\n",
       "      <th></th>\n",
       "      <th></th>\n",
       "    </tr>\n",
       "  </thead>\n",
       "  <tbody>\n",
       "  </tbody>\n",
       "</table>\n",
       "</div>"
      ],
      "text/plain": [
       "Empty DataFrame\n",
       "Columns: [store_id, weekly_sales, holiday_flag, temperature, fuel_price, CPI, unemployment, type, store_size, month, year, quarter, deflated_series, sales_delta, season, holiday_name]\n",
       "Index: []"
      ]
     },
     "execution_count": 29,
     "metadata": {},
     "output_type": "execute_result"
    }
   ],
   "source": [
    "sb_list = [dt.datetime.strptime(date, \"%Y-%m-%d\").date() for date in super_bowls]\n",
    "\n",
    "df.loc[df.index.isin(sb_list)]"
   ]
  },
  {
   "cell_type": "code",
   "execution_count": null,
   "metadata": {},
   "outputs": [],
   "source": [
    "plt.figure(figsize = (15,7))\n",
    "df[df.store == 1]['weekly_sales'].plot()\n",
    "plt.axhline(df[df.store == 1]['weekly_sales'].mean())\n",
    "plt.show()"
   ]
  },
  {
   "cell_type": "code",
   "execution_count": null,
   "metadata": {},
   "outputs": [],
   "source": [
    "super_bowls = ['2010-02-12', '2011-02-11', '2012-02-10']"
   ]
  },
  {
   "cell_type": "code",
   "execution_count": 46,
   "metadata": {},
   "outputs": [
    {
     "data": {
      "text/plain": [
       "Date\n",
       "2010-01-10    45\n",
       "2010-02-04    45\n",
       "2010-02-07    45\n",
       "2010-02-19    45\n",
       "2010-02-26    45\n",
       "2010-03-09    45\n",
       "2010-03-12    45\n",
       "2010-03-19    45\n",
       "2010-03-26    45\n",
       "2010-04-06    45\n",
       "2010-04-16    45\n",
       "2010-04-23    45\n",
       "2010-04-30    45\n",
       "2010-05-02    45\n",
       "2010-05-03    45\n",
       "2010-05-11    45\n",
       "2010-05-14    45\n",
       "2010-05-21    45\n",
       "2010-05-28    45\n",
       "2010-06-08    45\n",
       "2010-06-18    45\n",
       "2010-06-25    45\n",
       "2010-07-05    45\n",
       "2010-07-16    45\n",
       "2010-07-23    45\n",
       "2010-07-30    45\n",
       "2010-08-10    45\n",
       "2010-08-13    45\n",
       "2010-08-20    45\n",
       "2010-08-27    45\n",
       "2010-09-04    45\n",
       "2010-09-07    45\n",
       "2010-09-17    45\n",
       "2010-09-24    45\n",
       "2010-10-09    45\n",
       "2010-10-12    45\n",
       "2010-10-15    45\n",
       "2010-10-22    45\n",
       "2010-10-29    45\n",
       "2010-11-06    45\n",
       "2010-11-19    45\n",
       "2010-11-26    45\n",
       "2010-12-02    45\n",
       "2010-12-03    45\n",
       "2010-12-11    45\n",
       "2010-12-17    45\n",
       "2010-12-24    45\n",
       "2010-12-31    45\n",
       "2011-01-04    45\n",
       "2011-01-07    45\n",
       "2011-01-14    45\n",
       "2011-01-21    45\n",
       "2011-01-28    45\n",
       "2011-02-09    45\n",
       "2011-02-12    45\n",
       "Name: store_id, dtype: int64"
      ]
     },
     "execution_count": 46,
     "metadata": {},
     "output_type": "execute_result"
    }
   ],
   "source": [
    "df.groupby(df.index).store_id.count().head(55)"
   ]
  },
  {
   "cell_type": "code",
   "execution_count": 48,
   "metadata": {},
   "outputs": [],
   "source": [
    "walmart = pd.read_csv('walmart_sales.csv')"
   ]
  },
  {
   "cell_type": "code",
   "execution_count": 51,
   "metadata": {},
   "outputs": [
    {
     "data": {
      "text/plain": [
       "01-04-2011    45\n",
       "01-06-2012    45\n",
       "01-07-2011    45\n",
       "01-10-2010    45\n",
       "02-03-2012    45\n",
       "02-04-2010    45\n",
       "02-07-2010    45\n",
       "02-09-2011    45\n",
       "02-12-2011    45\n",
       "03-02-2012    45\n",
       "03-06-2011    45\n",
       "03-08-2012    45\n",
       "03-09-2010    45\n",
       "03-12-2010    45\n",
       "04-02-2011    45\n",
       "04-03-2011    45\n",
       "04-05-2012    45\n",
       "04-06-2010    45\n",
       "04-11-2011    45\n",
       "05-02-2010    45\n",
       "Name: Date, dtype: int64"
      ]
     },
     "execution_count": 51,
     "metadata": {},
     "output_type": "execute_result"
    }
   ],
   "source": [
    "walmart.Date.value_counts().sort_index().head(20)"
   ]
  },
  {
   "cell_type": "code",
   "execution_count": 52,
   "metadata": {},
   "outputs": [
    {
     "data": {
      "text/plain": [
       "0      2010-02-05\n",
       "1      2010-02-12\n",
       "2      2010-02-19\n",
       "3      2010-02-26\n",
       "4      2010-03-05\n",
       "          ...    \n",
       "6430   2012-09-28\n",
       "6431   2012-10-05\n",
       "6432   2012-10-12\n",
       "6433   2012-10-19\n",
       "6434   2012-10-26\n",
       "Name: Date, Length: 6435, dtype: datetime64[ns]"
      ]
     },
     "execution_count": 52,
     "metadata": {},
     "output_type": "execute_result"
    }
   ],
   "source": [
    "pd.to_datetime(walmart.Date, dayfirst=True)\n"
   ]
  },
  {
   "cell_type": "code",
   "execution_count": null,
   "metadata": {},
   "outputs": [],
   "source": []
  }
 ],
 "metadata": {
  "kernelspec": {
   "display_name": "Python 3",
   "language": "python",
   "name": "python3"
  },
  "language_info": {
   "codemirror_mode": {
    "name": "ipython",
    "version": 3
   },
   "file_extension": ".py",
   "mimetype": "text/x-python",
   "name": "python",
   "nbconvert_exporter": "python",
   "pygments_lexer": "ipython3",
   "version": "3.8.5"
  }
 },
 "nbformat": 4,
 "nbformat_minor": 4
}
